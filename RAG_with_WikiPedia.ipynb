{
  "nbformat": 4,
  "nbformat_minor": 0,
  "metadata": {
    "colab": {
      "provenance": []
    },
    "kernelspec": {
      "name": "python3",
      "display_name": "Python 3"
    },
    "language_info": {
      "name": "python"
    },
    "widgets": {
      "application/vnd.jupyter.widget-state+json": {
        "ec39df8f8e10494180ebb011909232af": {
          "model_module": "yfiles-jupyter-graphs",
          "model_name": "GraphModel",
          "model_module_version": "^1.6.2",
          "state": {
            "_context_pane_mapping": [
              {
                "id": "Neighborhood",
                "title": "Neighborhood"
              },
              {
                "id": "Data",
                "title": "Data"
              },
              {
                "id": "Search",
                "title": "Search"
              },
              {
                "id": "About",
                "title": "About"
              }
            ],
            "_data_importer": "neo4j",
            "_directed": true,
            "_dom_classes": [],
            "_edges": [
              {
                "id": 1152927002164985900,
                "start": 26,
                "end": 28,
                "properties": {
                  "label": "RESPONSIBLE_FOR"
                },
                "label": "RESPONSIBLE_FOR",
                "color": "#9C27B0",
                "thickness_factor": 1,
                "directed": true
              },
              {
                "id": 1152928101676613600,
                "start": 26,
                "end": 31,
                "properties": {
                  "label": "DIRECTS"
                },
                "label": "DIRECTS",
                "color": "#2196F3",
                "thickness_factor": 1,
                "directed": true
              },
              {
                "id": 1155179901490299000,
                "start": 26,
                "end": 102,
                "properties": {
                  "label": "DIRECTS"
                },
                "label": "DIRECTS",
                "color": "#2196F3",
                "thickness_factor": 1,
                "directed": true
              },
              {
                "id": 1157431701303984000,
                "start": 26,
                "end": 103,
                "properties": {
                  "label": "DIRECTS"
                },
                "label": "DIRECTS",
                "color": "#2196F3",
                "thickness_factor": 1,
                "directed": true
              },
              {
                "id": 1159683501117669400,
                "start": 26,
                "end": 104,
                "properties": {
                  "label": "DIRECTS"
                },
                "label": "DIRECTS",
                "color": "#2196F3",
                "thickness_factor": 1,
                "directed": true
              },
              {
                "id": 1161935300931354600,
                "start": 26,
                "end": 105,
                "properties": {
                  "label": "DIRECTS"
                },
                "label": "DIRECTS",
                "color": "#2196F3",
                "thickness_factor": 1,
                "directed": true
              },
              {
                "id": 1152929201188241400,
                "start": 26,
                "end": 34,
                "properties": {
                  "label": "RESPONDS_TO"
                },
                "label": "RESPONDS_TO",
                "color": "#4CAF50",
                "thickness_factor": 1,
                "directed": true
              },
              {
                "id": 1152930300699869200,
                "start": 26,
                "end": 35,
                "properties": {
                  "label": "ESTABLISHES"
                },
                "label": "ESTABLISHES",
                "color": "#F44336",
                "thickness_factor": 1,
                "directed": true
              },
              {
                "id": 1155182100513554400,
                "start": 26,
                "end": 38,
                "properties": {
                  "label": "ESTABLISHES"
                },
                "label": "ESTABLISHES",
                "color": "#F44336",
                "thickness_factor": 1,
                "directed": true
              },
              {
                "id": 1157433900327239700,
                "start": 26,
                "end": 39,
                "properties": {
                  "label": "ESTABLISHES"
                },
                "label": "ESTABLISHES",
                "color": "#F44336",
                "thickness_factor": 1,
                "directed": true
              },
              {
                "id": 1152931400211497000,
                "start": 26,
                "end": 36,
                "properties": {
                  "label": "MANAGES"
                },
                "label": "MANAGES",
                "color": "#607D8B",
                "thickness_factor": 1,
                "directed": true
              },
              {
                "id": 1155183200025182200,
                "start": 26,
                "end": 37,
                "properties": {
                  "label": "MANAGES"
                },
                "label": "MANAGES",
                "color": "#607D8B",
                "thickness_factor": 1,
                "directed": true
              },
              {
                "id": 1157434999838867500,
                "start": 26,
                "end": 46,
                "properties": {
                  "label": "MANAGES"
                },
                "label": "MANAGES",
                "color": "#607D8B",
                "thickness_factor": 1,
                "directed": true
              },
              {
                "id": 1159686799652552700,
                "start": 26,
                "end": 48,
                "properties": {
                  "label": "MANAGES"
                },
                "label": "MANAGES",
                "color": "#607D8B",
                "thickness_factor": 1,
                "directed": true
              },
              {
                "id": 1161938599466238000,
                "start": 26,
                "end": 49,
                "properties": {
                  "label": "MANAGES"
                },
                "label": "MANAGES",
                "color": "#607D8B",
                "thickness_factor": 1,
                "directed": true
              },
              {
                "id": 1164190399279923200,
                "start": 26,
                "end": 50,
                "properties": {
                  "label": "MANAGES"
                },
                "label": "MANAGES",
                "color": "#607D8B",
                "thickness_factor": 1,
                "directed": true
              },
              {
                "id": 1166442199093608400,
                "start": 26,
                "end": 51,
                "properties": {
                  "label": "MANAGES"
                },
                "label": "MANAGES",
                "color": "#607D8B",
                "thickness_factor": 1,
                "directed": true
              },
              {
                "id": 1168693998907293700,
                "start": 26,
                "end": 52,
                "properties": {
                  "label": "MANAGES"
                },
                "label": "MANAGES",
                "color": "#607D8B",
                "thickness_factor": 1,
                "directed": true
              },
              {
                "id": 1170945798720979000,
                "start": 26,
                "end": 53,
                "properties": {
                  "label": "MANAGES"
                },
                "label": "MANAGES",
                "color": "#607D8B",
                "thickness_factor": 1,
                "directed": true
              },
              {
                "id": 1173197598534664200,
                "start": 26,
                "end": 54,
                "properties": {
                  "label": "MANAGES"
                },
                "label": "MANAGES",
                "color": "#607D8B",
                "thickness_factor": 1,
                "directed": true
              },
              {
                "id": 1175449398348349400,
                "start": 26,
                "end": 55,
                "properties": {
                  "label": "MANAGES"
                },
                "label": "MANAGES",
                "color": "#607D8B",
                "thickness_factor": 1,
                "directed": true
              },
              {
                "id": 1177701198162034700,
                "start": 26,
                "end": 56,
                "properties": {
                  "label": "MANAGES"
                },
                "label": "MANAGES",
                "color": "#607D8B",
                "thickness_factor": 1,
                "directed": true
              },
              {
                "id": 1179952997975720000,
                "start": 26,
                "end": 58,
                "properties": {
                  "label": "MANAGES"
                },
                "label": "MANAGES",
                "color": "#607D8B",
                "thickness_factor": 1,
                "directed": true
              },
              {
                "id": 1182204797789405200,
                "start": 26,
                "end": 99,
                "properties": {
                  "label": "MANAGES"
                },
                "label": "MANAGES",
                "color": "#607D8B",
                "thickness_factor": 1,
                "directed": true
              },
              {
                "id": 1152933599234752500,
                "start": 26,
                "end": 29,
                "properties": {
                  "label": "PROTECTS"
                },
                "label": "PROTECTS",
                "color": "#CDDC39",
                "thickness_factor": 1,
                "directed": true
              },
              {
                "id": 1155185399048437800,
                "start": 26,
                "end": 30,
                "properties": {
                  "label": "PROTECTS"
                },
                "label": "PROTECTS",
                "color": "#CDDC39",
                "thickness_factor": 1,
                "directed": true
              },
              {
                "id": 1157437198862123000,
                "start": 26,
                "end": 40,
                "properties": {
                  "label": "PROTECTS"
                },
                "label": "PROTECTS",
                "color": "#CDDC39",
                "thickness_factor": 1,
                "directed": true
              },
              {
                "id": 1159688998675808300,
                "start": 26,
                "end": 41,
                "properties": {
                  "label": "PROTECTS"
                },
                "label": "PROTECTS",
                "color": "#CDDC39",
                "thickness_factor": 1,
                "directed": true
              },
              {
                "id": 1161940798489493500,
                "start": 26,
                "end": 42,
                "properties": {
                  "label": "PROTECTS"
                },
                "label": "PROTECTS",
                "color": "#CDDC39",
                "thickness_factor": 1,
                "directed": true
              },
              {
                "id": 1164192598303178800,
                "start": 26,
                "end": 43,
                "properties": {
                  "label": "PROTECTS"
                },
                "label": "PROTECTS",
                "color": "#CDDC39",
                "thickness_factor": 1,
                "directed": true
              },
              {
                "id": 1166444398116864000,
                "start": 26,
                "end": 44,
                "properties": {
                  "label": "PROTECTS"
                },
                "label": "PROTECTS",
                "color": "#CDDC39",
                "thickness_factor": 1,
                "directed": true
              },
              {
                "id": 1168696197930549200,
                "start": 26,
                "end": 70,
                "properties": {
                  "label": "PROTECTS"
                },
                "label": "PROTECTS",
                "color": "#CDDC39",
                "thickness_factor": 1,
                "directed": true
              },
              {
                "id": 1152934698746380300,
                "start": 26,
                "end": 45,
                "properties": {
                  "label": "COLLABORATES_WITH"
                },
                "label": "COLLABORATES_WITH",
                "color": "#9E9E9E",
                "thickness_factor": 1,
                "directed": true
              },
              {
                "id": 1152936897769635800,
                "start": 26,
                "end": 65,
                "properties": {
                  "label": "REPORTS_TO"
                },
                "label": "REPORTS_TO",
                "color": "#2196F3",
                "thickness_factor": 1,
                "directed": true
              },
              {
                "id": 1155188697583321000,
                "start": 26,
                "end": 66,
                "properties": {
                  "label": "REPORTS_TO"
                },
                "label": "REPORTS_TO",
                "color": "#2196F3",
                "thickness_factor": 1,
                "directed": true
              },
              {
                "id": 1157440497397006300,
                "start": 26,
                "end": 75,
                "properties": {
                  "label": "REPORTS_TO"
                },
                "label": "REPORTS_TO",
                "color": "#2196F3",
                "thickness_factor": 1,
                "directed": true
              },
              {
                "id": 1159692297210691600,
                "start": 26,
                "end": 76,
                "properties": {
                  "label": "REPORTS_TO"
                },
                "label": "REPORTS_TO",
                "color": "#2196F3",
                "thickness_factor": 1,
                "directed": true
              },
              {
                "id": 1152939096792891400,
                "start": 26,
                "end": 69,
                "properties": {
                  "label": "MANAGES_RISKS_IN"
                },
                "label": "MANAGES_RISKS_IN",
                "color": "#F44336",
                "thickness_factor": 1,
                "directed": true
              },
              {
                "id": 1152940196304519200,
                "start": 26,
                "end": 74,
                "properties": {
                  "label": "NOT_REPORTING_TO"
                },
                "label": "NOT_REPORTING_TO",
                "color": "#607D8B",
                "thickness_factor": 1,
                "directed": true
              },
              {
                "id": 1152942395327774700,
                "start": 26,
                "end": 92,
                "properties": {
                  "label": "HOLDS"
                },
                "label": "HOLDS",
                "color": "#CDDC39",
                "thickness_factor": 1,
                "directed": true
              },
              {
                "id": 1152974281164980200,
                "start": 26,
                "end": 97,
                "properties": {
                  "label": "INCLUDES"
                },
                "label": "INCLUDES",
                "color": "#F44336",
                "thickness_factor": 1,
                "directed": true
              },
              {
                "id": 1152989674327769000,
                "start": 26,
                "end": 79,
                "properties": {
                  "label": "DEPENDS_ON"
                },
                "label": "DEPENDS_ON",
                "color": "#9E9E9E",
                "thickness_factor": 1,
                "directed": true
              },
              {
                "id": 1155241474141454300,
                "start": 26,
                "end": 80,
                "properties": {
                  "label": "DEPENDS_ON"
                },
                "label": "DEPENDS_ON",
                "color": "#9E9E9E",
                "thickness_factor": 1,
                "directed": true
              },
              {
                "id": 1157493273955139600,
                "start": 26,
                "end": 81,
                "properties": {
                  "label": "DEPENDS_ON"
                },
                "label": "DEPENDS_ON",
                "color": "#9E9E9E",
                "thickness_factor": 1,
                "directed": true
              },
              {
                "id": 1159745073768824800,
                "start": 26,
                "end": 82,
                "properties": {
                  "label": "DEPENDS_ON"
                },
                "label": "DEPENDS_ON",
                "color": "#9E9E9E",
                "thickness_factor": 1,
                "directed": true
              },
              {
                "id": 1152994072374280200,
                "start": 26,
                "end": 27,
                "properties": {
                  "label": "INFLUENCES"
                },
                "label": "INFLUENCES",
                "color": "#F44336",
                "thickness_factor": 1,
                "directed": true
              },
              {
                "id": 1153227168839368700,
                "start": 26,
                "end": 90,
                "properties": {
                  "label": "COMPARABLE_TO"
                },
                "label": "COMPARABLE_TO",
                "color": "#607D8B",
                "thickness_factor": 1,
                "directed": true
              },
              {
                "id": 1155478968653054000,
                "start": 26,
                "end": 91,
                "properties": {
                  "label": "COMPARABLE_TO"
                },
                "label": "COMPARABLE_TO",
                "color": "#607D8B",
                "thickness_factor": 1,
                "directed": true
              },
              {
                "id": 1153259054676574200,
                "start": 26,
                "end": 47,
                "properties": {
                  "label": "OVERSEES"
                },
                "label": "OVERSEES",
                "color": "#F44336",
                "thickness_factor": 1,
                "directed": true
              },
              {
                "id": 1155510854490259500,
                "start": 26,
                "end": 59,
                "properties": {
                  "label": "OVERSEES"
                },
                "label": "OVERSEES",
                "color": "#F44336",
                "thickness_factor": 1,
                "directed": true
              },
              {
                "id": 1157762654303944700,
                "start": 26,
                "end": 60,
                "properties": {
                  "label": "OVERSEES"
                },
                "label": "OVERSEES",
                "color": "#F44336",
                "thickness_factor": 1,
                "directed": true
              },
              {
                "id": 1160014454117630000,
                "start": 26,
                "end": 61,
                "properties": {
                  "label": "OVERSEES"
                },
                "label": "OVERSEES",
                "color": "#F44336",
                "thickness_factor": 1,
                "directed": true
              },
              {
                "id": 1153261253699829800,
                "start": 26,
                "end": 101,
                "properties": {
                  "label": "LEADS"
                },
                "label": "LEADS",
                "color": "#673AB7",
                "thickness_factor": 1,
                "directed": true
              },
              {
                "id": 1153284343444013000,
                "start": 26,
                "end": 33,
                "properties": {
                  "label": "REDUCES"
                },
                "label": "REDUCES",
                "color": "#F44336",
                "thickness_factor": 1,
                "directed": true
              },
              {
                "id": 1153398692653301800,
                "start": 26,
                "end": 27,
                "properties": {
                  "label": "WORKS_FOR"
                },
                "label": "WORKS_FOR",
                "color": "#F44336",
                "thickness_factor": 1,
                "directed": true
              },
              {
                "id": 1153400891676557300,
                "start": 26,
                "end": 57,
                "properties": {
                  "label": "ESTABLISHES_FOR"
                },
                "label": "ESTABLISHES_FOR",
                "color": "#607D8B",
                "thickness_factor": 1,
                "directed": true
              },
              {
                "id": 1153401991188185000,
                "start": 26,
                "end": 62,
                "properties": {
                  "label": "STANDARD_IN"
                },
                "label": "STANDARD_IN",
                "color": "#673AB7",
                "thickness_factor": 1,
                "directed": true
              },
              {
                "id": 1155653791001870300,
                "start": 26,
                "end": 63,
                "properties": {
                  "label": "STANDARD_IN"
                },
                "label": "STANDARD_IN",
                "color": "#673AB7",
                "thickness_factor": 1,
                "directed": true
              },
              {
                "id": 1153403090699812900,
                "start": 26,
                "end": 64,
                "properties": {
                  "label": "PARTICIPATES_IN"
                },
                "label": "PARTICIPATES_IN",
                "color": "#CDDC39",
                "thickness_factor": 1,
                "directed": true
              },
              {
                "id": 1155654890513498000,
                "start": 26,
                "end": 67,
                "properties": {
                  "label": "PARTICIPATES_IN"
                },
                "label": "PARTICIPATES_IN",
                "color": "#CDDC39",
                "thickness_factor": 1,
                "directed": true
              },
              {
                "id": 1153404190211440600,
                "start": 26,
                "end": 68,
                "properties": {
                  "label": "BROADENED_TO_INCLUDE"
                },
                "label": "BROADENED_TO_INCLUDE",
                "color": "#9E9E9E",
                "thickness_factor": 1,
                "directed": true
              },
              {
                "id": 1153405289723068400,
                "start": 26,
                "end": 71,
                "properties": {
                  "label": "ADAPTS_TO"
                },
                "label": "ADAPTS_TO",
                "color": "#9C27B0",
                "thickness_factor": 1,
                "directed": true
              },
              {
                "id": 1153406389234696200,
                "start": 26,
                "end": 72,
                "properties": {
                  "label": "NOT_EMBEDDED_IN"
                },
                "label": "NOT_EMBEDDED_IN",
                "color": "#2196F3",
                "thickness_factor": 1,
                "directed": true
              },
              {
                "id": 1153407488746324000,
                "start": 26,
                "end": 77,
                "properties": {
                  "label": "AVOIDS"
                },
                "label": "AVOIDS",
                "color": "#4CAF50",
                "thickness_factor": 1,
                "directed": true
              },
              {
                "id": 1153408588257951700,
                "start": 26,
                "end": 78,
                "properties": {
                  "label": "EXTEND_BEYOND"
                },
                "label": "EXTEND_BEYOND",
                "color": "#F44336",
                "thickness_factor": 1,
                "directed": true
              },
              {
                "id": 1153409687769579500,
                "start": 26,
                "end": 83,
                "properties": {
                  "label": "RAISES"
                },
                "label": "RAISES",
                "color": "#607D8B",
                "thickness_factor": 1,
                "directed": true
              },
              {
                "id": 1153410787281207300,
                "start": 26,
                "end": 63,
                "properties": {
                  "label": "RAISES_TO"
                },
                "label": "RAISES_TO",
                "color": "#673AB7",
                "thickness_factor": 1,
                "directed": true
              },
              {
                "id": 1153411886792835000,
                "start": 26,
                "end": 84,
                "properties": {
                  "label": "ELEVATES_TO"
                },
                "label": "ELEVATES_TO",
                "color": "#CDDC39",
                "thickness_factor": 1,
                "directed": true
              },
              {
                "id": 1153412986304462800,
                "start": 26,
                "end": 85,
                "properties": {
                  "label": "TREND_IN"
                },
                "label": "TREND_IN",
                "color": "#9E9E9E",
                "thickness_factor": 1,
                "directed": true
              },
              {
                "id": 1153414085816090600,
                "start": 26,
                "end": 86,
                "properties": {
                  "label": "MAINTAINS"
                },
                "label": "MAINTAINS",
                "color": "#9C27B0",
                "thickness_factor": 1,
                "directed": true
              },
              {
                "id": 1153415185327718400,
                "start": 26,
                "end": 87,
                "properties": {
                  "label": "POSSESSES"
                },
                "label": "POSSESSES",
                "color": "#2196F3",
                "thickness_factor": 1,
                "directed": true
              },
              {
                "id": 1155666985141403600,
                "start": 26,
                "end": 88,
                "properties": {
                  "label": "POSSESSES"
                },
                "label": "POSSESSES",
                "color": "#2196F3",
                "thickness_factor": 1,
                "directed": true
              },
              {
                "id": 1153416284839346200,
                "start": 26,
                "end": 89,
                "properties": {
                  "label": "HIGH_IN"
                },
                "label": "HIGH_IN",
                "color": "#4CAF50",
                "thickness_factor": 1,
                "directed": true
              },
              {
                "id": 1153417384350974000,
                "start": 26,
                "end": 93,
                "properties": {
                  "label": "TYPICAL_FOR"
                },
                "label": "TYPICAL_FOR",
                "color": "#F44336",
                "thickness_factor": 1,
                "directed": true
              },
              {
                "id": 1155669184164659200,
                "start": 26,
                "end": 94,
                "properties": {
                  "label": "TYPICAL_FOR"
                },
                "label": "TYPICAL_FOR",
                "color": "#F44336",
                "thickness_factor": 1,
                "directed": true
              },
              {
                "id": 1153418483862601700,
                "start": 26,
                "end": 95,
                "properties": {
                  "label": "VARIES_FROM"
                },
                "label": "VARIES_FROM",
                "color": "#607D8B",
                "thickness_factor": 1,
                "directed": true
              },
              {
                "id": 1153419583374229500,
                "start": 26,
                "end": 96,
                "properties": {
                  "label": "EXPANDED_IN"
                },
                "label": "EXPANDED_IN",
                "color": "#673AB7",
                "thickness_factor": 1,
                "directed": true
              },
              {
                "id": 1153420682885857300,
                "start": 26,
                "end": 98,
                "properties": {
                  "label": "TRAINS_IN"
                },
                "label": "TRAINS_IN",
                "color": "#CDDC39",
                "thickness_factor": 1,
                "directed": true
              },
              {
                "id": 1153421782397485000,
                "start": 26,
                "end": 100,
                "properties": {
                  "label": "DEVELOPS_FOR"
                },
                "label": "DEVELOPS_FOR",
                "color": "#9E9E9E",
                "thickness_factor": 1,
                "directed": true
              },
              {
                "id": 1153422881909112800,
                "start": 26,
                "end": 106,
                "properties": {
                  "label": "DEALS_WITH"
                },
                "label": "DEALS_WITH",
                "color": "#9C27B0",
                "thickness_factor": 1,
                "directed": true
              },
              {
                "id": 1153423981420740600,
                "start": 26,
                "end": 107,
                "properties": {
                  "label": "HIGHLY_REQUESTED_FOR"
                },
                "label": "HIGHLY_REQUESTED_FOR",
                "color": "#2196F3",
                "thickness_factor": 1,
                "directed": true
              },
              {
                "id": 1153399792164929500,
                "start": 31,
                "end": 32,
                "properties": {
                  "label": "IMPLEMENTS"
                },
                "label": "IMPLEMENTS",
                "color": "#4CAF50",
                "thickness_factor": 1,
                "directed": true
              },
              {
                "id": 1153285442955640800,
                "start": 33,
                "end": 254,
                "properties": {
                  "label": "PREVENTS_OR_MITIGATES"
                },
                "label": "PREVENTS_OR_MITIGATES",
                "color": "#CDDC39",
                "thickness_factor": 1,
                "directed": true
              },
              {
                "id": 1152965485071958000,
                "start": 74,
                "end": 152,
                "properties": {
                  "label": "REPORTING_RELATIONSHIP"
                },
                "label": "REPORTING_RELATIONSHIP",
                "color": "#4CAF50",
                "thickness_factor": 1,
                "directed": true
              },
              {
                "id": 1153437175560274000,
                "start": 74,
                "end": 148,
                "properties": {
                  "label": "RELATED_JOB_TITLE"
                },
                "label": "RELATED_JOB_TITLE",
                "color": "#F44336",
                "thickness_factor": 1,
                "directed": true
              },
              {
                "id": 1155688975373959200,
                "start": 74,
                "end": 149,
                "properties": {
                  "label": "RELATED_JOB_TITLE"
                },
                "label": "RELATED_JOB_TITLE",
                "color": "#F44336",
                "thickness_factor": 1,
                "directed": true
              },
              {
                "id": 1153438275071901700,
                "start": 74,
                "end": 150,
                "properties": {
                  "label": "DEFINED_ROLE_IN_1981"
                },
                "label": "DEFINED_ROLE_IN_1981",
                "color": "#607D8B",
                "thickness_factor": 1,
                "directed": true
              },
              {
                "id": 1155690074885587000,
                "start": 74,
                "end": 151,
                "properties": {
                  "label": "DEFINED_ROLE_IN_1981"
                },
                "label": "DEFINED_ROLE_IN_1981",
                "color": "#607D8B",
                "thickness_factor": 1,
                "directed": true
              },
              {
                "id": 1153439374583529500,
                "start": 74,
                "end": 153,
                "properties": {
                  "label": "ROLE_IN_IT_GOVERNANCE"
                },
                "label": "ROLE_IN_IT_GOVERNANCE",
                "color": "#673AB7",
                "thickness_factor": 1,
                "directed": true
              },
              {
                "id": 1153380000955629600,
                "start": 76,
                "end": 736,
                "properties": {
                  "label": "PART_OF_CORPORATE_OFFICE"
                },
                "label": "PART_OF_CORPORATE_OFFICE",
                "color": "#9C27B0",
                "thickness_factor": 1,
                "directed": true
              },
              {
                "id": 1153385498513768400,
                "start": 76,
                "end": 744,
                "properties": {
                  "label": "EQUIVALENT_TO_SUPERVISORY_BOARD"
                },
                "label": "EQUIVALENT_TO_SUPERVISORY_BOARD",
                "color": "#CDDC39",
                "thickness_factor": 1,
                "directed": true
              },
              {
                "id": 1153550425257934800,
                "start": 76,
                "end": 323,
                "properties": {
                  "label": "VESTED_IN_BOARD_OF_DIRECTORS"
                },
                "label": "VESTED_IN_BOARD_OF_DIRECTORS",
                "color": "#9E9E9E",
                "thickness_factor": 1,
                "directed": true
              },
              {
                "id": 1153158999118446600,
                "start": 103,
                "end": 559,
                "properties": {
                  "label": "CONSIDERATION"
                },
                "label": "CONSIDERATION",
                "color": "#9C27B0",
                "thickness_factor": 1,
                "directed": true
              },
              {
                "id": 1153161198141702100,
                "start": 103,
                "end": 557,
                "properties": {
                  "label": "ALIGNMENT"
                },
                "label": "ALIGNMENT",
                "color": "#2196F3",
                "thickness_factor": 1,
                "directed": true
              },
              {
                "id": 1155412997955387400,
                "start": 103,
                "end": 558,
                "properties": {
                  "label": "ALIGNMENT"
                },
                "label": "ALIGNMENT",
                "color": "#2196F3",
                "thickness_factor": 1,
                "directed": true
              },
              {
                "id": 1168695098418921500,
                "start": 109,
                "end": 29,
                "properties": {
                  "label": "ENSURES_PROTECTION_OF"
                },
                "label": "ENSURES_PROTECTION_OF",
                "color": "#673AB7",
                "thickness_factor": 1,
                "directed": true
              },
              {
                "id": 1152932499723124700,
                "start": 109,
                "end": 45,
                "properties": {
                  "label": "ENSURES_PROTECTION_OF"
                },
                "label": "ENSURES_PROTECTION_OF",
                "color": "#673AB7",
                "thickness_factor": 1,
                "directed": true
              },
              {
                "id": 1155184299536810000,
                "start": 109,
                "end": 102,
                "properties": {
                  "label": "ENSURES_PROTECTION_OF"
                },
                "label": "ENSURES_PROTECTION_OF",
                "color": "#673AB7",
                "thickness_factor": 1,
                "directed": true
              },
              {
                "id": 1157436099350495200,
                "start": 109,
                "end": 126,
                "properties": {
                  "label": "ENSURES_PROTECTION_OF"
                },
                "label": "ENSURES_PROTECTION_OF",
                "color": "#673AB7",
                "thickness_factor": 1,
                "directed": true
              },
              {
                "id": 1159687899164180500,
                "start": 109,
                "end": 127,
                "properties": {
                  "label": "ENSURES_PROTECTION_OF"
                },
                "label": "ENSURES_PROTECTION_OF",
                "color": "#673AB7",
                "thickness_factor": 1,
                "directed": true
              },
              {
                "id": 1161939698977865700,
                "start": 109,
                "end": 128,
                "properties": {
                  "label": "ENSURES_PROTECTION_OF"
                },
                "label": "ENSURES_PROTECTION_OF",
                "color": "#673AB7",
                "thickness_factor": 1,
                "directed": true
              },
              {
                "id": 1164191498791551000,
                "start": 109,
                "end": 129,
                "properties": {
                  "label": "ENSURES_PROTECTION_OF"
                },
                "label": "ENSURES_PROTECTION_OF",
                "color": "#673AB7",
                "thickness_factor": 1,
                "directed": true
              },
              {
                "id": 1166443298605236200,
                "start": 109,
                "end": 130,
                "properties": {
                  "label": "ENSURES_PROTECTION_OF"
                },
                "label": "ENSURES_PROTECTION_OF",
                "color": "#673AB7",
                "thickness_factor": 1,
                "directed": true
              },
              {
                "id": 1152948992397541400,
                "start": 109,
                "end": 27,
                "properties": {
                  "label": "ACCOUNTABLE_FOR"
                },
                "label": "ACCOUNTABLE_FOR",
                "color": "#2196F3",
                "thickness_factor": 1,
                "directed": true
              },
              {
                "id": 1152953390444052500,
                "start": 109,
                "end": 114,
                "properties": {
                  "label": "RESEARCHES_AND_DEPLOYS"
                },
                "label": "RESEARCHES_AND_DEPLOYS",
                "color": "#673AB7",
                "thickness_factor": 1,
                "directed": true
              },
              {
                "id": 1152955589467308000,
                "start": 109,
                "end": 119,
                "properties": {
                  "label": "DEVELOPS_RELATIONSHIPS_WITH"
                },
                "label": "DEVELOPS_RELATIONSHIPS_WITH",
                "color": "#9E9E9E",
                "thickness_factor": 1,
                "directed": true
              },
              {
                "id": 1152956688978935800,
                "start": 109,
                "end": 124,
                "properties": {
                  "label": "COORDINATES_AND_IMPLEMENTS"
                },
                "label": "COORDINATES_AND_IMPLEMENTS",
                "color": "#9C27B0",
                "thickness_factor": 1,
                "directed": true
              },
              {
                "id": 1155208488792621000,
                "start": 109,
                "end": 125,
                "properties": {
                  "label": "COORDINATES_AND_IMPLEMENTS"
                },
                "label": "COORDINATES_AND_IMPLEMENTS",
                "color": "#9C27B0",
                "thickness_factor": 1,
                "directed": true
              },
              {
                "id": 1153425080932368400,
                "start": 109,
                "end": 66,
                "properties": {
                  "label": "ABBREVIATION"
                },
                "label": "ABBREVIATION",
                "color": "#4CAF50",
                "thickness_factor": 1,
                "directed": true
              },
              {
                "id": 1153426180443996200,
                "start": 109,
                "end": 110,
                "properties": {
                  "label": "DIRECTS_DEVELOPMENT_OF_STRATEGY_WITH"
                },
                "label": "DIRECTS_DEVELOPMENT_OF_STRATEGY_WITH",
                "color": "#F44336",
                "thickness_factor": 1,
                "directed": true
              },
              {
                "id": 1153427279955624000,
                "start": 109,
                "end": 31,
                "properties": {
                  "label": "DIRECTS_IN_IDENTIFYING,_DEVELOPING,_IMPLEMENTING,_AND_MAINTAINING_SECURITY_PROCESSES"
                },
                "label": "DIRECTS_IN_IDENTIFYING,_DEVELOPING,_IMPLEMENTING,_AND_MAINTAINING_SECURITY_PROCESSES",
                "color": "#607D8B",
                "thickness_factor": 1,
                "directed": true
              },
              {
                "id": 1153428379467251700,
                "start": 109,
                "end": 27,
                "properties": {
                  "label": "SAFEGUARD_THE_ORGANIZATION"
                },
                "label": "SAFEGUARD_THE_ORGANIZATION",
                "color": "#673AB7",
                "thickness_factor": 1,
                "directed": true
              },
              {
                "id": 1153429478978879500,
                "start": 109,
                "end": 27,
                "properties": {
                  "label": "ENSURE_COMPLIANCE_WITH_REGULATORY_ENVIRONMENTS"
                },
                "label": "ENSURE_COMPLIANCE_WITH_REGULATORY_ENVIRONMENTS",
                "color": "#CDDC39",
                "thickness_factor": 1,
                "directed": true
              },
              {
                "id": 1153430578490507300,
                "start": 109,
                "end": 115,
                "properties": {
                  "label": "DEPLOYS"
                },
                "label": "DEPLOYS",
                "color": "#9E9E9E",
                "thickness_factor": 1,
                "directed": true
              },
              {
                "id": 1153431678002135000,
                "start": 109,
                "end": 117,
                "properties": {
                  "label": "SAFEGUARD"
                },
                "label": "SAFEGUARD",
                "color": "#9C27B0",
                "thickness_factor": 1,
                "directed": true
              },
              {
                "id": 1155683477815820300,
                "start": 109,
                "end": 118,
                "properties": {
                  "label": "SAFEGUARD"
                },
                "label": "SAFEGUARD",
                "color": "#9C27B0",
                "thickness_factor": 1,
                "directed": true
              },
              {
                "id": 1153432777513762800,
                "start": 109,
                "end": 120,
                "properties": {
                  "label": "COORDINATES_WITH"
                },
                "label": "COORDINATES_WITH",
                "color": "#2196F3",
                "thickness_factor": 1,
                "directed": true
              },
              {
                "id": 1155684577327448000,
                "start": 109,
                "end": 121,
                "properties": {
                  "label": "COORDINATES_WITH"
                },
                "label": "COORDINATES_WITH",
                "color": "#2196F3",
                "thickness_factor": 1,
                "directed": true
              },
              {
                "id": 1157936377141133300,
                "start": 109,
                "end": 122,
                "properties": {
                  "label": "COORDINATES_WITH"
                },
                "label": "COORDINATES_WITH",
                "color": "#2196F3",
                "thickness_factor": 1,
                "directed": true
              },
              {
                "id": 1160188176954818600,
                "start": 109,
                "end": 123,
                "properties": {
                  "label": "COORDINATES_WITH"
                },
                "label": "COORDINATES_WITH",
                "color": "#2196F3",
                "thickness_factor": 1,
                "directed": true
              },
              {
                "id": 1162439976768503800,
                "start": 109,
                "end": 131,
                "properties": {
                  "label": "COORDINATES_WITH"
                },
                "label": "COORDINATES_WITH",
                "color": "#2196F3",
                "thickness_factor": 1,
                "directed": true
              },
              {
                "id": 1164691776582189000,
                "start": 109,
                "end": 132,
                "properties": {
                  "label": "COORDINATES_WITH"
                },
                "label": "COORDINATES_WITH",
                "color": "#2196F3",
                "thickness_factor": 1,
                "directed": true
              },
              {
                "id": 1166943576395874300,
                "start": 109,
                "end": 133,
                "properties": {
                  "label": "COORDINATES_WITH"
                },
                "label": "COORDINATES_WITH",
                "color": "#2196F3",
                "thickness_factor": 1,
                "directed": true
              },
              {
                "id": 1153433877025390600,
                "start": 109,
                "end": 134,
                "properties": {
                  "label": "COOPERATIVE_INVOLVEMENT_WITH"
                },
                "label": "COOPERATIVE_INVOLVEMENT_WITH",
                "color": "#4CAF50",
                "thickness_factor": 1,
                "directed": true
              },
              {
                "id": 1155685676839075800,
                "start": 109,
                "end": 135,
                "properties": {
                  "label": "COOPERATIVE_INVOLVEMENT_WITH"
                },
                "label": "COOPERATIVE_INVOLVEMENT_WITH",
                "color": "#4CAF50",
                "thickness_factor": 1,
                "directed": true
              },
              {
                "id": 1157937476652761000,
                "start": 109,
                "end": 136,
                "properties": {
                  "label": "COOPERATIVE_INVOLVEMENT_WITH"
                },
                "label": "COOPERATIVE_INVOLVEMENT_WITH",
                "color": "#4CAF50",
                "thickness_factor": 1,
                "directed": true
              },
              {
                "id": 1153434976537018400,
                "start": 109,
                "end": 137,
                "properties": {
                  "label": "COMBINED_ELEMENTS_WITH"
                },
                "label": "COMBINED_ELEMENTS_WITH",
                "color": "#F44336",
                "thickness_factor": 1,
                "directed": true
              },
              {
                "id": 1155687875862331600,
                "start": 136,
                "end": 50,
                "properties": {
                  "label": "ADDRESSES_SECURITY-RELATED_RISK_ISSUES"
                },
                "label": "ADDRESSES_SECURITY-RELATED_RISK_ISSUES",
                "color": "#607D8B",
                "thickness_factor": 1,
                "directed": true
              },
              {
                "id": 1153436076048646400,
                "start": 136,
                "end": 140,
                "properties": {
                  "label": "ADDRESSES_SECURITY-RELATED_RISK_ISSUES"
                },
                "label": "ADDRESSES_SECURITY-RELATED_RISK_ISSUES",
                "color": "#607D8B",
                "thickness_factor": 1,
                "directed": true
              },
              {
                "id": 1157939675676017000,
                "start": 136,
                "end": 141,
                "properties": {
                  "label": "ADDRESSES_SECURITY-RELATED_RISK_ISSUES"
                },
                "label": "ADDRESSES_SECURITY-RELATED_RISK_ISSUES",
                "color": "#607D8B",
                "thickness_factor": 1,
                "directed": true
              },
              {
                "id": 1160191475489702100,
                "start": 136,
                "end": 142,
                "properties": {
                  "label": "ADDRESSES_SECURITY-RELATED_RISK_ISSUES"
                },
                "label": "ADDRESSES_SECURITY-RELATED_RISK_ISSUES",
                "color": "#607D8B",
                "thickness_factor": 1,
                "directed": true
              },
              {
                "id": 1162443275303387400,
                "start": 136,
                "end": 143,
                "properties": {
                  "label": "ADDRESSES_SECURITY-RELATED_RISK_ISSUES"
                },
                "label": "ADDRESSES_SECURITY-RELATED_RISK_ISSUES",
                "color": "#607D8B",
                "thickness_factor": 1,
                "directed": true
              },
              {
                "id": 1164695075117072600,
                "start": 136,
                "end": 144,
                "properties": {
                  "label": "ADDRESSES_SECURITY-RELATED_RISK_ISSUES"
                },
                "label": "ADDRESSES_SECURITY-RELATED_RISK_ISSUES",
                "color": "#607D8B",
                "thickness_factor": 1,
                "directed": true
              },
              {
                "id": 1166946874930758000,
                "start": 136,
                "end": 145,
                "properties": {
                  "label": "ADDRESSES_SECURITY-RELATED_RISK_ISSUES"
                },
                "label": "ADDRESSES_SECURITY-RELATED_RISK_ISSUES",
                "color": "#607D8B",
                "thickness_factor": 1,
                "directed": true
              },
              {
                "id": 1169198674744443100,
                "start": 136,
                "end": 146,
                "properties": {
                  "label": "ADDRESSES_SECURITY-RELATED_RISK_ISSUES"
                },
                "label": "ADDRESSES_SECURITY-RELATED_RISK_ISSUES",
                "color": "#607D8B",
                "thickness_factor": 1,
                "directed": true
              },
              {
                "id": 1152936897769636000,
                "start": 155,
                "end": 161,
                "properties": {
                  "label": "REPORTS_TO"
                },
                "label": "REPORTS_TO",
                "color": "#2196F3",
                "thickness_factor": 1,
                "directed": true
              },
              {
                "id": 1152959987513819400,
                "start": 155,
                "end": 156,
                "properties": {
                  "label": "POSITIONED_IN"
                },
                "label": "POSITIONED_IN",
                "color": "#607D8B",
                "thickness_factor": 1,
                "directed": true
              },
              {
                "id": 1155211787327504600,
                "start": 155,
                "end": 163,
                "properties": {
                  "label": "POSITIONED_IN"
                },
                "label": "POSITIONED_IN",
                "color": "#607D8B",
                "thickness_factor": 1,
                "directed": true
              },
              {
                "id": 1152961087025447200,
                "start": 157,
                "end": 155,
                "properties": {
                  "label": "APPOINTED_TO"
                },
                "label": "APPOINTED_TO",
                "color": "#673AB7",
                "thickness_factor": 1,
                "directed": true
              },
              {
                "id": 1152961087025447200,
                "start": 158,
                "end": 160,
                "properties": {
                  "label": "APPOINTED_TO"
                },
                "label": "APPOINTED_TO",
                "color": "#673AB7",
                "thickness_factor": 1,
                "directed": true
              },
              {
                "id": 1152962186537075000,
                "start": 158,
                "end": 155,
                "properties": {
                  "label": "REPLACED"
                },
                "label": "REPLACED",
                "color": "#CDDC39",
                "thickness_factor": 1,
                "directed": true
              },
              {
                "id": 1152961087025447200,
                "start": 159,
                "end": 155,
                "properties": {
                  "label": "APPOINTED_TO"
                },
                "label": "APPOINTED_TO",
                "color": "#673AB7",
                "thickness_factor": 1,
                "directed": true
              },
              {
                "id": 1155212886839132400,
                "start": 159,
                "end": 160,
                "properties": {
                  "label": "APPOINTED_TO"
                },
                "label": "APPOINTED_TO",
                "color": "#673AB7",
                "thickness_factor": 1,
                "directed": true
              },
              {
                "id": 1153027057723113700,
                "start": 159,
                "end": 711,
                "properties": {
                  "label": "MEMBER_OF"
                },
                "label": "MEMBER_OF",
                "color": "#607D8B",
                "thickness_factor": 1,
                "directed": true
              },
              {
                "id": 6919796220617556000,
                "start": 162,
                "end": 155,
                "properties": {
                  "label": "REPORTS_TO"
                },
                "label": "REPORTS_TO",
                "color": "#2196F3",
                "thickness_factor": 1,
                "directed": true
              },
              {
                "id": 1152970982630097200,
                "start": 165,
                "end": 167,
                "properties": {
                  "label": "COINED_AND_DESCRIBED_IN"
                },
                "label": "COINED_AND_DESCRIBED_IN",
                "color": "#CDDC39",
                "thickness_factor": 1,
                "directed": true
              },
              {
                "id": 1153440474095157500,
                "start": 165,
                "end": 74,
                "properties": {
                  "label": "DIFFERENTIATED_FROM"
                },
                "label": "DIFFERENTIATED_FROM",
                "color": "#673AB7",
                "thickness_factor": 1,
                "directed": true
              },
              {
                "id": 1152972082141725000,
                "start": 166,
                "end": 168,
                "properties": {
                  "label": "RELATED_TO"
                },
                "label": "RELATED_TO",
                "color": "#9E9E9E",
                "thickness_factor": 1,
                "directed": true
              },
              {
                "id": 1153440474095157500,
                "start": 166,
                "end": 74,
                "properties": {
                  "label": "DIFFERENTIATED_FROM"
                },
                "label": "DIFFERENTIATED_FROM",
                "color": "#673AB7",
                "thickness_factor": 1,
                "directed": true
              },
              {
                "id": 1152936897769636000,
                "start": 168,
                "end": 75,
                "properties": {
                  "label": "REPORTS_TO"
                },
                "label": "REPORTS_TO",
                "color": "#2196F3",
                "thickness_factor": 1,
                "directed": true
              },
              {
                "id": 1153250258583552300,
                "start": 168,
                "end": 74,
                "properties": {
                  "label": "SIMILAR_TO"
                },
                "label": "SIMILAR_TO",
                "color": "#4CAF50",
                "thickness_factor": 1,
                "directed": true
              },
              {
                "id": 1153264552234713300,
                "start": 168,
                "end": 201,
                "properties": {
                  "label": "INTERACTS_WITH"
                },
                "label": "INTERACTS_WITH",
                "color": "#9C27B0",
                "thickness_factor": 1,
                "directed": true
              },
              {
                "id": 1155516352048398600,
                "start": 168,
                "end": 202,
                "properties": {
                  "label": "INTERACTS_WITH"
                },
                "label": "INTERACTS_WITH",
                "color": "#9C27B0",
                "thickness_factor": 1,
                "directed": true
              },
              {
                "id": 1157768151862083800,
                "start": 168,
                "end": 204,
                "properties": {
                  "label": "INTERACTS_WITH"
                },
                "label": "INTERACTS_WITH",
                "color": "#9C27B0",
                "thickness_factor": 1,
                "directed": true
              },
              {
                "id": 1160019951675769000,
                "start": 168,
                "end": 205,
                "properties": {
                  "label": "INTERACTS_WITH"
                },
                "label": "INTERACTS_WITH",
                "color": "#9C27B0",
                "thickness_factor": 1,
                "directed": true
              },
              {
                "id": 1162271751489454300,
                "start": 168,
                "end": 206,
                "properties": {
                  "label": "INTERACTS_WITH"
                },
                "label": "INTERACTS_WITH",
                "color": "#9C27B0",
                "thickness_factor": 1,
                "directed": true
              },
              {
                "id": 1164523551303139600,
                "start": 168,
                "end": 207,
                "properties": {
                  "label": "INTERACTS_WITH"
                },
                "label": "INTERACTS_WITH",
                "color": "#9C27B0",
                "thickness_factor": 1,
                "directed": true
              },
              {
                "id": 1153453668234690800,
                "start": 168,
                "end": 208,
                "properties": {
                  "label": "NEEDS_TO_BE_FAMILIAR_WITH"
                },
                "label": "NEEDS_TO_BE_FAMILIAR_WITH",
                "color": "#CDDC39",
                "thickness_factor": 1,
                "directed": true
              },
              {
                "id": 1155705468048376000,
                "start": 168,
                "end": 209,
                "properties": {
                  "label": "NEEDS_TO_BE_FAMILIAR_WITH"
                },
                "label": "NEEDS_TO_BE_FAMILIAR_WITH",
                "color": "#CDDC39",
                "thickness_factor": 1,
                "directed": true
              },
              {
                "id": 1152931400211497200,
                "start": 170,
                "end": 27,
                "properties": {
                  "label": "MANAGES"
                },
                "label": "MANAGES",
                "color": "#607D8B",
                "thickness_factor": 1,
                "directed": true
              },
              {
                "id": 1159688998675808500,
                "start": 170,
                "end": 41,
                "properties": {
                  "label": "PROTECTS"
                },
                "label": "PROTECTS",
                "color": "#CDDC39",
                "thickness_factor": 1,
                "directed": true
              },
              {
                "id": 1152933599234752800,
                "start": 170,
                "end": 171,
                "properties": {
                  "label": "PROTECTS"
                },
                "label": "PROTECTS",
                "color": "#CDDC39",
                "thickness_factor": 1,
                "directed": true
              },
              {
                "id": 1155185399048438000,
                "start": 170,
                "end": 172,
                "properties": {
                  "label": "PROTECTS"
                },
                "label": "PROTECTS",
                "color": "#CDDC39",
                "thickness_factor": 1,
                "directed": true
              },
              {
                "id": 1157437198862123300,
                "start": 170,
                "end": 173,
                "properties": {
                  "label": "PROTECTS"
                },
                "label": "PROTECTS",
                "color": "#CDDC39",
                "thickness_factor": 1,
                "directed": true
              },
              {
                "id": 1152974281164980500,
                "start": 170,
                "end": 174,
                "properties": {
                  "label": "INCLUDES"
                },
                "label": "INCLUDES",
                "color": "#F44336",
                "thickness_factor": 1,
                "directed": true
              },
              {
                "id": 1152931400211497200,
                "start": 174,
                "end": 181,
                "properties": {
                  "label": "MANAGES"
                },
                "label": "MANAGES",
                "color": "#607D8B",
                "thickness_factor": 1,
                "directed": true
              },
              {
                "id": 1152941295816147200,
                "start": 174,
                "end": 176,
                "properties": {
                  "label": "REQUIRES"
                },
                "label": "REQUIRES",
                "color": "#673AB7",
                "thickness_factor": 1,
                "directed": true
              },
              {
                "id": 1155193095629832400,
                "start": 174,
                "end": 177,
                "properties": {
                  "label": "REQUIRES"
                },
                "label": "REQUIRES",
                "color": "#673AB7",
                "thickness_factor": 1,
                "directed": true
              },
              {
                "id": 1152975380676608300,
                "start": 174,
                "end": 175,
                "properties": {
                  "label": "INVOLVES"
                },
                "label": "INVOLVES",
                "color": "#F44336",
                "thickness_factor": 1,
                "directed": true
              },
              {
                "id": 1155227180490293500,
                "start": 174,
                "end": 187,
                "properties": {
                  "label": "INVOLVES"
                },
                "label": "INVOLVES",
                "color": "#F44336",
                "thickness_factor": 1,
                "directed": true
              },
              {
                "id": 1152976480188236000,
                "start": 174,
                "end": 128,
                "properties": {
                  "label": "DISSEMINATES_RISKS_TO"
                },
                "label": "DISSEMINATES_RISKS_TO",
                "color": "#607D8B",
                "thickness_factor": 1,
                "directed": true
              },
              {
                "id": 1152978679211491600,
                "start": 174,
                "end": 178,
                "properties": {
                  "label": "INCLUDES_BEST_PRACTICES"
                },
                "label": "INCLUDES_BEST_PRACTICES",
                "color": "#F44336",
                "thickness_factor": 1,
                "directed": true
              },
              {
                "id": 1155230479025176800,
                "start": 174,
                "end": 179,
                "properties": {
                  "label": "INCLUDES_BEST_PRACTICES"
                },
                "label": "INCLUDES_BEST_PRACTICES",
                "color": "#F44336",
                "thickness_factor": 1,
                "directed": true
              },
              {
                "id": 1157482278838862000,
                "start": 174,
                "end": 180,
                "properties": {
                  "label": "INCLUDES_BEST_PRACTICES"
                },
                "label": "INCLUDES_BEST_PRACTICES",
                "color": "#F44336",
                "thickness_factor": 1,
                "directed": true
              },
              {
                "id": 1152979778723119400,
                "start": 174,
                "end": 182,
                "properties": {
                  "label": "ANALYZES"
                },
                "label": "ANALYZES",
                "color": "#673AB7",
                "thickness_factor": 1,
                "directed": true
              },
              {
                "id": 1155231578536804600,
                "start": 174,
                "end": 183,
                "properties": {
                  "label": "ANALYZES"
                },
                "label": "ANALYZES",
                "color": "#673AB7",
                "thickness_factor": 1,
                "directed": true
              },
              {
                "id": 1157483378350489900,
                "start": 174,
                "end": 184,
                "properties": {
                  "label": "ANALYZES"
                },
                "label": "ANALYZES",
                "color": "#673AB7",
                "thickness_factor": 1,
                "directed": true
              },
              {
                "id": 1159735178164175000,
                "start": 174,
                "end": 185,
                "properties": {
                  "label": "ANALYZES"
                },
                "label": "ANALYZES",
                "color": "#673AB7",
                "thickness_factor": 1,
                "directed": true
              },
              {
                "id": 1152989674327769300,
                "start": 174,
                "end": 188,
                "properties": {
                  "label": "DEPENDS_ON"
                },
                "label": "DEPENDS_ON",
                "color": "#9E9E9E",
                "thickness_factor": 1,
                "directed": true
              },
              {
                "id": 1155241474141454600,
                "start": 174,
                "end": 189,
                "properties": {
                  "label": "DEPENDS_ON"
                },
                "label": "DEPENDS_ON",
                "color": "#9E9E9E",
                "thickness_factor": 1,
                "directed": true
              },
              {
                "id": 1153441573606785300,
                "start": 174,
                "end": 186,
                "properties": {
                  "label": "MAY_BE_PART_OF_IMPACT_ASSESSMENT"
                },
                "label": "MAY_BE_PART_OF_IMPACT_ASSESSMENT",
                "color": "#9E9E9E",
                "thickness_factor": 1,
                "directed": true
              },
              {
                "id": 1153442673118413000,
                "start": 174,
                "end": 186,
                "properties": {
                  "label": "MAY_BE_SEPARATE_FROM_IMPACT_ASSESSMENT"
                },
                "label": "MAY_BE_SEPARATE_FROM_IMPACT_ASSESSMENT",
                "color": "#9C27B0",
                "thickness_factor": 1,
                "directed": true
              },
              {
                "id": 1153443772630040800,
                "start": 174,
                "end": 187,
                "properties": {
                  "label": "PROPOSES_METHODS"
                },
                "label": "PROPOSES_METHODS",
                "color": "#2196F3",
                "thickness_factor": 1,
                "directed": true
              },
              {
                "id": 1153444872141668600,
                "start": 174,
                "end": 190,
                "properties": {
                  "label": "REQUIRES_DIFFERENT_MITIGATION_PLAN"
                },
                "label": "REQUIRES_DIFFERENT_MITIGATION_PLAN",
                "color": "#4CAF50",
                "thickness_factor": 1,
                "directed": true
              },
              {
                "id": 1155696671955353900,
                "start": 174,
                "end": 191,
                "properties": {
                  "label": "REQUIRES_DIFFERENT_MITIGATION_PLAN"
                },
                "label": "REQUIRES_DIFFERENT_MITIGATION_PLAN",
                "color": "#4CAF50",
                "thickness_factor": 1,
                "directed": true
              },
              {
                "id": 1153090829397524700,
                "start": 178,
                "end": 284,
                "properties": {
                  "label": "PART_OF"
                },
                "label": "PART_OF",
                "color": "#F44336",
                "thickness_factor": 1,
                "directed": true
              },
              {
                "id": 1153286542467268900,
                "start": 178,
                "end": 288,
                "properties": {
                  "label": "ADOPTED_AS"
                },
                "label": "ADOPTED_AS",
                "color": "#607D8B",
                "thickness_factor": 1,
                "directed": true
              },
              {
                "id": 1153472359932363000,
                "start": 178,
                "end": 285,
                "properties": {
                  "label": "STANDARD"
                },
                "label": "STANDARD",
                "color": "#F44336",
                "thickness_factor": 1,
                "directed": true
              },
              {
                "id": 1153473459443990800,
                "start": 178,
                "end": 286,
                "properties": {
                  "label": "PUBLISHED_BY"
                },
                "label": "PUBLISHED_BY",
                "color": "#607D8B",
                "thickness_factor": 1,
                "directed": true
              },
              {
                "id": 1155725259257676000,
                "start": 178,
                "end": 287,
                "properties": {
                  "label": "PUBLISHED_BY"
                },
                "label": "PUBLISHED_BY",
                "color": "#607D8B",
                "thickness_factor": 1,
                "directed": true
              },
              {
                "id": 1153474558955618600,
                "start": 178,
                "end": 289,
                "properties": {
                  "label": "SPECIFIES"
                },
                "label": "SPECIFIES",
                "color": "#673AB7",
                "thickness_factor": 1,
                "directed": true
              },
              {
                "id": 1153288741490524400,
                "start": 179,
                "end": 291,
                "properties": {
                  "label": "INCORPORATES"
                },
                "label": "INCORPORATES",
                "color": "#CDDC39",
                "thickness_factor": 1,
                "directed": true
              },
              {
                "id": 1153476757978874000,
                "start": 179,
                "end": 293,
                "properties": {
                  "label": "REFERRED_TO_AS"
                },
                "label": "REFERRED_TO_AS",
                "color": "#CDDC39",
                "thickness_factor": 1,
                "directed": true
              },
              {
                "id": 6918084281013109000,
                "start": 179,
                "end": 302,
                "properties": {
                  "label": "REFERRED_TO_AS"
                },
                "label": "REFERRED_TO_AS",
                "color": "#CDDC39",
                "thickness_factor": 1,
                "directed": true
              },
              {
                "id": 1153477857490502000,
                "start": 179,
                "end": 294,
                "properties": {
                  "label": "PROVIDES"
                },
                "label": "PROVIDES",
                "color": "#9E9E9E",
                "thickness_factor": 1,
                "directed": true
              },
              {
                "id": 1155729657304187100,
                "start": 179,
                "end": 298,
                "properties": {
                  "label": "PROVIDES"
                },
                "label": "PROVIDES",
                "color": "#9E9E9E",
                "thickness_factor": 1,
                "directed": true
              },
              {
                "id": 1153478957002129700,
                "start": 179,
                "end": 295,
                "properties": {
                  "label": "FRAMEWORK_FOR"
                },
                "label": "FRAMEWORK_FOR",
                "color": "#9C27B0",
                "thickness_factor": 1,
                "directed": true
              },
              {
                "id": 1153210676164952300,
                "start": 183,
                "end": 410,
                "properties": {
                  "label": "RESULTS_IN"
                },
                "label": "RESULTS_IN",
                "color": "#2196F3",
                "thickness_factor": 1,
                "directed": true
              },
              {
                "id": 1153493250653290800,
                "start": 183,
                "end": 405,
                "properties": {
                  "label": "REFERS_TO"
                },
                "label": "REFERS_TO",
                "color": "#4CAF50",
                "thickness_factor": 1,
                "directed": true
              },
              {
                "id": 1155745050466976000,
                "start": 183,
                "end": 406,
                "properties": {
                  "label": "REFERS_TO"
                },
                "label": "REFERS_TO",
                "color": "#4CAF50",
                "thickness_factor": 1,
                "directed": true
              },
              {
                "id": 1157996850280661200,
                "start": 183,
                "end": 407,
                "properties": {
                  "label": "REFERS_TO"
                },
                "label": "REFERS_TO",
                "color": "#4CAF50",
                "thickness_factor": 1,
                "directed": true
              },
              {
                "id": 1160248650094346500,
                "start": 183,
                "end": 408,
                "properties": {
                  "label": "REFERS_TO"
                },
                "label": "REFERS_TO",
                "color": "#4CAF50",
                "thickness_factor": 1,
                "directed": true
              },
              {
                "id": 1162500449908031700,
                "start": 183,
                "end": 409,
                "properties": {
                  "label": "REFERS_TO"
                },
                "label": "REFERS_TO",
                "color": "#4CAF50",
                "thickness_factor": 1,
                "directed": true
              },
              {
                "id": 1153494350164918500,
                "start": 183,
                "end": 411,
                "properties": {
                  "label": "DOCUMENTED_IN"
                },
                "label": "DOCUMENTED_IN",
                "color": "#F44336",
                "thickness_factor": 1,
                "directed": true
              },
              {
                "id": 1153495449676546300,
                "start": 183,
                "end": 412,
                "properties": {
                  "label": "LEADS_TO"
                },
                "label": "LEADS_TO",
                "color": "#607D8B",
                "thickness_factor": 1,
                "directed": true
              },
              {
                "id": 1153496549188174000,
                "start": 183,
                "end": 413,
                "properties": {
                  "label": "EXISTS_FOR"
                },
                "label": "EXISTS_FOR",
                "color": "#673AB7",
                "thickness_factor": 1,
                "directed": true
              },
              {
                "id": 1155748349001859300,
                "start": 183,
                "end": 414,
                "properties": {
                  "label": "EXISTS_FOR"
                },
                "label": "EXISTS_FOR",
                "color": "#673AB7",
                "thickness_factor": 1,
                "directed": true
              },
              {
                "id": 1153497648699801900,
                "start": 183,
                "end": 415,
                "properties": {
                  "label": "CAN_BE_DONE_THROUGH"
                },
                "label": "CAN_BE_DONE_THROUGH",
                "color": "#CDDC39",
                "thickness_factor": 1,
                "directed": true
              },
              {
                "id": 1155749448513487000,
                "start": 183,
                "end": 416,
                "properties": {
                  "label": "CAN_BE_DONE_THROUGH"
                },
                "label": "CAN_BE_DONE_THROUGH",
                "color": "#CDDC39",
                "thickness_factor": 1,
                "directed": true
              },
              {
                "id": 1158001248327172400,
                "start": 183,
                "end": 417,
                "properties": {
                  "label": "CAN_BE_DONE_THROUGH"
                },
                "label": "CAN_BE_DONE_THROUGH",
                "color": "#CDDC39",
                "thickness_factor": 1,
                "directed": true
              },
              {
                "id": 1160253048140857600,
                "start": 183,
                "end": 418,
                "properties": {
                  "label": "CAN_BE_DONE_THROUGH"
                },
                "label": "CAN_BE_DONE_THROUGH",
                "color": "#CDDC39",
                "thickness_factor": 1,
                "directed": true
              },
              {
                "id": 1162504847954542800,
                "start": 183,
                "end": 419,
                "properties": {
                  "label": "CAN_BE_DONE_THROUGH"
                },
                "label": "CAN_BE_DONE_THROUGH",
                "color": "#CDDC39",
                "thickness_factor": 1,
                "directed": true
              },
              {
                "id": 1162001271629021400,
                "start": 192,
                "end": 32,
                "properties": {
                  "label": "INFLUENCES"
                },
                "label": "INFLUENCES",
                "color": "#F44336",
                "thickness_factor": 1,
                "directed": true
              },
              {
                "id": 1159749471815336200,
                "start": 192,
                "end": 79,
                "properties": {
                  "label": "INFLUENCES"
                },
                "label": "INFLUENCES",
                "color": "#F44336",
                "thickness_factor": 1,
                "directed": true
              },
              {
                "id": 1155245872187965700,
                "start": 192,
                "end": 194,
                "properties": {
                  "label": "INFLUENCES"
                },
                "label": "INFLUENCES",
                "color": "#F44336",
                "thickness_factor": 1,
                "directed": true
              },
              {
                "id": 1152994072374280400,
                "start": 192,
                "end": 195,
                "properties": {
                  "label": "INFLUENCES"
                },
                "label": "INFLUENCES",
                "color": "#F44336",
                "thickness_factor": 1,
                "directed": true
              },
              {
                "id": 1157497672001651000,
                "start": 192,
                "end": 196,
                "properties": {
                  "label": "INFLUENCES"
                },
                "label": "INFLUENCES",
                "color": "#F44336",
                "thickness_factor": 1,
                "directed": true
              },
              {
                "id": 1152995171885908200,
                "start": 192,
                "end": 174,
                "properties": {
                  "label": "INCLUDES_STRATEGIES"
                },
                "label": "INCLUDES_STRATEGIES",
                "color": "#607D8B",
                "thickness_factor": 1,
                "directed": true
              },
              {
                "id": 1153445971653296400,
                "start": 192,
                "end": 27,
                "properties": {
                  "label": "REPRESENTS_COLLATION_OF_ELEMENTS"
                },
                "label": "REPRESENTS_COLLATION_OF_ELEMENTS",
                "color": "#9E9E9E",
                "thickness_factor": 1,
                "directed": true
              },
              {
                "id": 1153447071164924200,
                "start": 192,
                "end": 38,
                "properties": {
                  "label": "ENSURES_CREATION"
                },
                "label": "ENSURES_CREATION",
                "color": "#9C27B0",
                "thickness_factor": 1,
                "directed": true
              },
              {
                "id": 1153448170676552000,
                "start": 192,
                "end": 39,
                "properties": {
                  "label": "ENSURES_IMPLEMENTATION"
                },
                "label": "ENSURES_IMPLEMENTATION",
                "color": "#2196F3",
                "thickness_factor": 1,
                "directed": true
              },
              {
                "id": 1153449270188179700,
                "start": 192,
                "end": 194,
                "properties": {
                  "label": "ENSURES_COMMUNICATION"
                },
                "label": "ENSURES_COMMUNICATION",
                "color": "#4CAF50",
                "thickness_factor": 1,
                "directed": true
              },
              {
                "id": 1153450369699807500,
                "start": 192,
                "end": 194,
                "properties": {
                  "label": "ENSURES_EVALUATION"
                },
                "label": "ENSURES_EVALUATION",
                "color": "#F44336",
                "thickness_factor": 1,
                "directed": true
              },
              {
                "id": 1153451469211435300,
                "start": 192,
                "end": 197,
                "properties": {
                  "label": "MUST_BE_CONSIDERED"
                },
                "label": "MUST_BE_CONSIDERED",
                "color": "#607D8B",
                "thickness_factor": 1,
                "directed": true
              },
              {
                "id": 1153452568723063000,
                "start": 192,
                "end": 197,
                "properties": {
                  "label": "ENSURES_SUCCESS"
                },
                "label": "ENSURES_SUCCESS",
                "color": "#673AB7",
                "thickness_factor": 1,
                "directed": true
              },
              {
                "id": 1153303035141685500,
                "start": 198,
                "end": 199,
                "properties": {
                  "label": "COMPONENT_OF"
                },
                "label": "COMPONENT_OF",
                "color": "#CDDC39",
                "thickness_factor": 1,
                "directed": true
              },
              {
                "id": 1153454767746318600,
                "start": 211,
                "end": 216,
                "properties": {
                  "label": "FIRST_APPOINTED_CPO_AT_ACXIOM_IN_1991"
                },
                "label": "FIRST_APPOINTED_CPO_AT_ACXIOM_IN_1991",
                "color": "#9E9E9E",
                "thickness_factor": 1,
                "directed": true
              },
              {
                "id": 1153455867257946400,
                "start": 211,
                "end": 217,
                "properties": {
                  "label": "FIRST_INTERNET-ERA_CPO_AT_ALLADVANTAGE_IN_AUGUST_1999"
                },
                "label": "FIRST_INTERNET-ERA_CPO_AT_ALLADVANTAGE_IN_AUGUST_1999",
                "color": "#9C27B0",
                "thickness_factor": 1,
                "directed": true
              },
              {
                "id": 1153456966769574100,
                "start": 211,
                "end": 218,
                "properties": {
                  "label": "SOLIDIFIED_CPO_ROLE_AT_IBM_CORPORATION_IN_NOVEMBER_2000"
                },
                "label": "SOLIDIFIED_CPO_ROLE_AT_IBM_CORPORATION_IN_NOVEMBER_2000",
                "color": "#2196F3",
                "thickness_factor": 1,
                "directed": true
              },
              {
                "id": 1153458066281202000,
                "start": 219,
                "end": 228,
                "properties": {
                  "label": "PROMPTED_INCREASE_IN_CPO_TREND_IN_RESPONSE_TO_GDPR_IN_2019"
                },
                "label": "PROMPTED_INCREASE_IN_CPO_TREND_IN_RESPONSE_TO_GDPR_IN_2019",
                "color": "#4CAF50",
                "thickness_factor": 1,
                "directed": true
              },
              {
                "id": 1153459165792829700,
                "start": 220,
                "end": 225,
                "properties": {
                  "label": "REQUIREMENT_FOR_PRIVACY_COMPLIANCE_LEADER_DESIGNATION"
                },
                "label": "REQUIREMENT_FOR_PRIVACY_COMPLIANCE_LEADER_DESIGNATION",
                "color": "#F44336",
                "thickness_factor": 1,
                "directed": true
              },
              {
                "id": 1153000669444047000,
                "start": 230,
                "end": 231,
                "properties": {
                  "label": "DIRECTOR-GENERAL"
                },
                "label": "DIRECTOR-GENERAL",
                "color": "#9C27B0",
                "thickness_factor": 1,
                "directed": true
              },
              {
                "id": 1155252469257732400,
                "start": 230,
                "end": 232,
                "properties": {
                  "label": "DIRECTOR-GENERAL"
                },
                "label": "DIRECTOR-GENERAL",
                "color": "#9C27B0",
                "thickness_factor": 1,
                "directed": true
              },
              {
                "id": 1153001768955675000,
                "start": 230,
                "end": 233,
                "properties": {
                  "label": "BIRTHPLACE"
                },
                "label": "BIRTHPLACE",
                "color": "#2196F3",
                "thickness_factor": 1,
                "directed": true
              },
              {
                "id": 1153003967978930400,
                "start": 230,
                "end": 235,
                "properties": {
                  "label": "EDUCATION"
                },
                "label": "EDUCATION",
                "color": "#F44336",
                "thickness_factor": 1,
                "directed": true
              },
              {
                "id": 1153460265304457500,
                "start": 230,
                "end": 234,
                "properties": {
                  "label": "IMMIGRATION"
                },
                "label": "IMMIGRATION",
                "color": "#607D8B",
                "thickness_factor": 1,
                "directed": true
              },
              {
                "id": 1153461364816085200,
                "start": 230,
                "end": 238,
                "properties": {
                  "label": "APPOINTMENT"
                },
                "label": "APPOINTMENT",
                "color": "#673AB7",
                "thickness_factor": 1,
                "directed": true
              },
              {
                "id": 1155713164629770500,
                "start": 230,
                "end": 239,
                "properties": {
                  "label": "APPOINTMENT"
                },
                "label": "APPOINTMENT",
                "color": "#673AB7",
                "thickness_factor": 1,
                "directed": true
              },
              {
                "id": 1153283243932385500,
                "start": 242,
                "end": 243,
                "properties": {
                  "label": "OUTLINED_IN"
                },
                "label": "OUTLINED_IN",
                "color": "#2196F3",
                "thickness_factor": 1,
                "directed": true
              },
              {
                "id": 1153284343444013300,
                "start": 242,
                "end": 33,
                "properties": {
                  "label": "REDUCES"
                },
                "label": "REDUCES",
                "color": "#F44336",
                "thickness_factor": 1,
                "directed": true
              },
              {
                "id": 1153462464327713000,
                "start": 242,
                "end": 263,
                "properties": {
                  "label": "EXISTED_OVER"
                },
                "label": "EXISTED_OVER",
                "color": "#CDDC39",
                "thickness_factor": 1,
                "directed": true
              },
              {
                "id": 1152933599234752800,
                "start": 243,
                "end": 244,
                "properties": {
                  "label": "PROTECTS"
                },
                "label": "PROTECTS",
                "color": "#CDDC39",
                "thickness_factor": 1,
                "directed": true
              },
              {
                "id": 1175552752441360600,
                "start": 243,
                "end": 30,
                "properties": {
                  "label": "CONSIST_OF"
                },
                "label": "CONSIST_OF",
                "color": "#4CAF50",
                "thickness_factor": 1,
                "directed": true
              },
              {
                "id": 1155286554118193400,
                "start": 243,
                "end": 38,
                "properties": {
                  "label": "CONSIST_OF"
                },
                "label": "CONSIST_OF",
                "color": "#4CAF50",
                "thickness_factor": 1,
                "directed": true
              },
              {
                "id": 1168797353000305000,
                "start": 243,
                "end": 97,
                "properties": {
                  "label": "CONSIST_OF"
                },
                "label": "CONSIST_OF",
                "color": "#4CAF50",
                "thickness_factor": 1,
                "directed": true
              },
              {
                "id": 1153034754304508200,
                "start": 243,
                "end": 255,
                "properties": {
                  "label": "CONSIST_OF"
                },
                "label": "CONSIST_OF",
                "color": "#4CAF50",
                "thickness_factor": 1,
                "directed": true
              },
              {
                "id": 1157538353931878700,
                "start": 243,
                "end": 256,
                "properties": {
                  "label": "CONSIST_OF"
                },
                "label": "CONSIST_OF",
                "color": "#4CAF50",
                "thickness_factor": 1,
                "directed": true
              },
              {
                "id": 1159790153745564000,
                "start": 243,
                "end": 257,
                "properties": {
                  "label": "CONSIST_OF"
                },
                "label": "CONSIST_OF",
                "color": "#4CAF50",
                "thickness_factor": 1,
                "directed": true
              },
              {
                "id": 1162041953559249200,
                "start": 243,
                "end": 258,
                "properties": {
                  "label": "CONSIST_OF"
                },
                "label": "CONSIST_OF",
                "color": "#4CAF50",
                "thickness_factor": 1,
                "directed": true
              },
              {
                "id": 1164293753372934400,
                "start": 243,
                "end": 259,
                "properties": {
                  "label": "CONSIST_OF"
                },
                "label": "CONSIST_OF",
                "color": "#4CAF50",
                "thickness_factor": 1,
                "directed": true
              },
              {
                "id": 1166545553186619600,
                "start": 243,
                "end": 260,
                "properties": {
                  "label": "CONSIST_OF"
                },
                "label": "CONSIST_OF",
                "color": "#4CAF50",
                "thickness_factor": 1,
                "directed": true
              },
              {
                "id": 1171049152813990100,
                "start": 243,
                "end": 261,
                "properties": {
                  "label": "CONSIST_OF"
                },
                "label": "CONSIST_OF",
                "color": "#4CAF50",
                "thickness_factor": 1,
                "directed": true
              },
              {
                "id": 1173300952627675400,
                "start": 243,
                "end": 262,
                "properties": {
                  "label": "CONSIST_OF"
                },
                "label": "CONSIST_OF",
                "color": "#4CAF50",
                "thickness_factor": 1,
                "directed": true
              },
              {
                "id": 1155226080978665700,
                "start": 244,
                "end": 27,
                "properties": {
                  "label": "INCLUDES"
                },
                "label": "INCLUDES",
                "color": "#F44336",
                "thickness_factor": 1,
                "directed": true
              },
              {
                "id": 1164233280233406700,
                "start": 244,
                "end": 32,
                "properties": {
                  "label": "INCLUDES"
                },
                "label": "INCLUDES",
                "color": "#F44336",
                "thickness_factor": 1,
                "directed": true
              },
              {
                "id": 1177744079115518200,
                "start": 244,
                "end": 58,
                "properties": {
                  "label": "INCLUDES"
                },
                "label": "INCLUDES",
                "color": "#F44336",
                "thickness_factor": 1,
                "directed": true
              },
              {
                "id": 1152974281164980500,
                "start": 244,
                "end": 245,
                "properties": {
                  "label": "INCLUDES"
                },
                "label": "INCLUDES",
                "color": "#F44336",
                "thickness_factor": 1,
                "directed": true
              },
              {
                "id": 1157477880792351000,
                "start": 244,
                "end": 246,
                "properties": {
                  "label": "INCLUDES"
                },
                "label": "INCLUDES",
                "color": "#F44336",
                "thickness_factor": 1,
                "directed": true
              },
              {
                "id": 1159729680606036200,
                "start": 244,
                "end": 247,
                "properties": {
                  "label": "INCLUDES"
                },
                "label": "INCLUDES",
                "color": "#F44336",
                "thickness_factor": 1,
                "directed": true
              },
              {
                "id": 1161981480419721500,
                "start": 244,
                "end": 248,
                "properties": {
                  "label": "INCLUDES"
                },
                "label": "INCLUDES",
                "color": "#F44336",
                "thickness_factor": 1,
                "directed": true
              },
              {
                "id": 1166485080047092000,
                "start": 244,
                "end": 249,
                "properties": {
                  "label": "INCLUDES"
                },
                "label": "INCLUDES",
                "color": "#F44336",
                "thickness_factor": 1,
                "directed": true
              },
              {
                "id": 1168736879860777200,
                "start": 244,
                "end": 250,
                "properties": {
                  "label": "INCLUDES"
                },
                "label": "INCLUDES",
                "color": "#F44336",
                "thickness_factor": 1,
                "directed": true
              },
              {
                "id": 1170988679674462500,
                "start": 244,
                "end": 251,
                "properties": {
                  "label": "INCLUDES"
                },
                "label": "INCLUDES",
                "color": "#F44336",
                "thickness_factor": 1,
                "directed": true
              },
              {
                "id": 1173240479488147700,
                "start": 244,
                "end": 252,
                "properties": {
                  "label": "INCLUDES"
                },
                "label": "INCLUDES",
                "color": "#F44336",
                "thickness_factor": 1,
                "directed": true
              },
              {
                "id": 1175492279301833000,
                "start": 244,
                "end": 253,
                "properties": {
                  "label": "INCLUDES"
                },
                "label": "INCLUDES",
                "color": "#F44336",
                "thickness_factor": 1,
                "directed": true
              },
              {
                "id": 1153465762862596400,
                "start": 263,
                "end": 270,
                "properties": {
                  "label": "EMERGED_FROM"
                },
                "label": "EMERGED_FROM",
                "color": "#9E9E9E",
                "thickness_factor": 1,
                "directed": true
              },
              {
                "id": 1153463563839340800,
                "start": 264,
                "end": 265,
                "properties": {
                  "label": "COLLABORATED"
                },
                "label": "COLLABORATED",
                "color": "#9C27B0",
                "thickness_factor": 1,
                "directed": true
              },
              {
                "id": 1153464663350968600,
                "start": 265,
                "end": 268,
                "properties": {
                  "label": "EFFECTED"
                },
                "label": "EFFECTED",
                "color": "#2196F3",
                "thickness_factor": 1,
                "directed": true
              },
              {
                "id": 1153465762862596400,
                "start": 268,
                "end": 269,
                "properties": {
                  "label": "EMERGED_FROM"
                },
                "label": "EMERGED_FROM",
                "color": "#9E9E9E",
                "thickness_factor": 1,
                "directed": true
              },
              {
                "id": 1153466862374224100,
                "start": 271,
                "end": 272,
                "properties": {
                  "label": "REPORTED_AS"
                },
                "label": "REPORTED_AS",
                "color": "#4CAF50",
                "thickness_factor": 1,
                "directed": true
              },
              {
                "id": 6917548818850382000,
                "start": 272,
                "end": 300,
                "properties": {
                  "label": "REQUIRES"
                },
                "label": "REQUIRES",
                "color": "#673AB7",
                "thickness_factor": 1,
                "directed": true
              },
              {
                "id": 1153409687769579800,
                "start": 274,
                "end": 276,
                "properties": {
                  "label": "RAISES"
                },
                "label": "RAISES",
                "color": "#607D8B",
                "thickness_factor": 1,
                "directed": true
              },
              {
                "id": 1153467961885852000,
                "start": 275,
                "end": 274,
                "properties": {
                  "label": "COUNTERS"
                },
                "label": "COUNTERS",
                "color": "#F44336",
                "thickness_factor": 1,
                "directed": true
              },
              {
                "id": 1153045749420786000,
                "start": 276,
                "end": 277,
                "properties": {
                  "label": "ON"
                },
                "label": "ON",
                "color": "#9C27B0",
                "thickness_factor": 1,
                "directed": true
              },
              {
                "id": 6918076584431714000,
                "start": 278,
                "end": 301,
                "properties": {
                  "label": "REMAIN"
                },
                "label": "REMAIN",
                "color": "#607D8B",
                "thickness_factor": 1,
                "directed": true
              },
              {
                "id": 1153050147467297000,
                "start": 279,
                "end": 280,
                "properties": {
                  "label": "PROVIDE"
                },
                "label": "PROVIDE",
                "color": "#607D8B",
                "thickness_factor": 1,
                "directed": true
              },
              {
                "id": 1153470160909107500,
                "start": 280,
                "end": 281,
                "properties": {
                  "label": "CONTINUE_TO"
                },
                "label": "CONTINUE_TO",
                "color": "#673AB7",
                "thickness_factor": 1,
                "directed": true
              },
              {
                "id": 1153050147467297000,
                "start": 281,
                "end": 282,
                "properties": {
                  "label": "PROVIDE"
                },
                "label": "PROVIDE",
                "color": "#607D8B",
                "thickness_factor": 1,
                "directed": true
              },
              {
                "id": 1153471260420735200,
                "start": 283,
                "end": 178,
                "properties": {
                  "label": "DETAILS"
                },
                "label": "DETAILS",
                "color": "#CDDC39",
                "thickness_factor": 1,
                "directed": true
              },
              {
                "id": 1155723060234420500,
                "start": 283,
                "end": 179,
                "properties": {
                  "label": "DETAILS"
                },
                "label": "DETAILS",
                "color": "#CDDC39",
                "thickness_factor": 1,
                "directed": true
              },
              {
                "id": 1153475658467246300,
                "start": 289,
                "end": 290,
                "properties": {
                  "label": "BRINGS_UNDER"
                },
                "label": "BRINGS_UNDER",
                "color": "#9E9E9E",
                "thickness_factor": 1,
                "directed": true
              },
              {
                "id": 1153289841002152200,
                "start": 291,
                "end": 292,
                "properties": {
                  "label": "LATEST_VERSION_OF"
                },
                "label": "LATEST_VERSION_OF",
                "color": "#CDDC39",
                "thickness_factor": 1,
                "directed": true
              },
              {
                "id": 1153042450885902600,
                "start": 298,
                "end": 299,
                "properties": {
                  "label": "FOR"
                },
                "label": "FOR",
                "color": "#673AB7",
                "thickness_factor": 1,
                "directed": true
              },
              {
                "id": 1152936897769636000,
                "start": 304,
                "end": 323,
                "properties": {
                  "label": "REPORTS_TO"
                },
                "label": "REPORTS_TO",
                "color": "#2196F3",
                "thickness_factor": 1,
                "directed": true
              },
              {
                "id": 1152972082141725000,
                "start": 304,
                "end": 324,
                "properties": {
                  "label": "RELATED_TO"
                },
                "label": "RELATED_TO",
                "color": "#9E9E9E",
                "thickness_factor": 1,
                "directed": true
              },
              {
                "id": 1155223881955410200,
                "start": 304,
                "end": 325,
                "properties": {
                  "label": "RELATED_TO"
                },
                "label": "RELATED_TO",
                "color": "#9E9E9E",
                "thickness_factor": 1,
                "directed": true
              },
              {
                "id": 1152975380676608300,
                "start": 304,
                "end": 337,
                "properties": {
                  "label": "INVOLVES"
                },
                "label": "INVOLVES",
                "color": "#F44336",
                "thickness_factor": 1,
                "directed": true
              },
              {
                "id": 1153187586420769000,
                "start": 304,
                "end": 305,
                "properties": {
                  "label": "COMPRISES"
                },
                "label": "COMPRISES",
                "color": "#9C27B0",
                "thickness_factor": 1,
                "directed": true
              },
              {
                "id": 1155439386234454300,
                "start": 304,
                "end": 306,
                "properties": {
                  "label": "COMPRISES"
                },
                "label": "COMPRISES",
                "color": "#9C27B0",
                "thickness_factor": 1,
                "directed": true
              },
              {
                "id": 1153189785444024600,
                "start": 304,
                "end": 310,
                "properties": {
                  "label": "ORIENTED_TOWARDS"
                },
                "label": "ORIENTED_TOWARDS",
                "color": "#2196F3",
                "thickness_factor": 1,
                "directed": true
              },
              {
                "id": 1153200780560302300,
                "start": 304,
                "end": 332,
                "properties": {
                  "label": "RELATES_TO"
                },
                "label": "RELATES_TO",
                "color": "#4CAF50",
                "thickness_factor": 1,
                "directed": true
              },
              {
                "id": 6917808303594537000,
                "start": 304,
                "end": 355,
                "properties": {
                  "label": "RELATES_TO"
                },
                "label": "RELATES_TO",
                "color": "#4CAF50",
                "thickness_factor": 1,
                "directed": true
              },
              {
                "id": 6917808303594537000,
                "start": 304,
                "end": 356,
                "properties": {
                  "label": "RELATES_TO"
                },
                "label": "RELATES_TO",
                "color": "#4CAF50",
                "thickness_factor": 1,
                "directed": true
              },
              {
                "id": 1153204079095185700,
                "start": 304,
                "end": 334,
                "properties": {
                  "label": "CATEGORISED_UNDER"
                },
                "label": "CATEGORISED_UNDER",
                "color": "#F44336",
                "thickness_factor": 1,
                "directed": true
              },
              {
                "id": 1153293139537035500,
                "start": 304,
                "end": 315,
                "properties": {
                  "label": "FORMS"
                },
                "label": "FORMS",
                "color": "#607D8B",
                "thickness_factor": 1,
                "directed": true
              },
              {
                "id": 6917900662571270000,
                "start": 304,
                "end": 352,
                "properties": {
                  "label": "FORMS"
                },
                "label": "FORMS",
                "color": "#607D8B",
                "thickness_factor": 1,
                "directed": true
              },
              {
                "id": 1153294239048663300,
                "start": 304,
                "end": 315,
                "properties": {
                  "label": "CHECKED_AGAINST"
                },
                "label": "CHECKED_AGAINST",
                "color": "#673AB7",
                "thickness_factor": 1,
                "directed": true
              },
              {
                "id": 1155546038862348500,
                "start": 304,
                "end": 316,
                "properties": {
                  "label": "CHECKED_AGAINST"
                },
                "label": "CHECKED_AGAINST",
                "color": "#673AB7",
                "thickness_factor": 1,
                "directed": true
              },
              {
                "id": 1153295338560291000,
                "start": 304,
                "end": 320,
                "properties": {
                  "label": "FALLS_UNDER"
                },
                "label": "FALLS_UNDER",
                "color": "#CDDC39",
                "thickness_factor": 1,
                "directed": true
              },
              {
                "id": 1155547138373976300,
                "start": 304,
                "end": 321,
                "properties": {
                  "label": "FALLS_UNDER"
                },
                "label": "FALLS_UNDER",
                "color": "#CDDC39",
                "thickness_factor": 1,
                "directed": true
              },
              {
                "id": 1157798938187661600,
                "start": 304,
                "end": 322,
                "properties": {
                  "label": "FALLS_UNDER"
                },
                "label": "FALLS_UNDER",
                "color": "#CDDC39",
                "thickness_factor": 1,
                "directed": true
              },
              {
                "id": 1153296438071918800,
                "start": 304,
                "end": 326,
                "properties": {
                  "label": "SUMMARISES"
                },
                "label": "SUMMARISES",
                "color": "#9E9E9E",
                "thickness_factor": 1,
                "directed": true
              },
              {
                "id": 1155548237885604000,
                "start": 304,
                "end": 327,
                "properties": {
                  "label": "SUMMARISES"
                },
                "label": "SUMMARISES",
                "color": "#9E9E9E",
                "thickness_factor": 1,
                "directed": true
              },
              {
                "id": 1153299736606802200,
                "start": 304,
                "end": 333,
                "properties": {
                  "label": "UNITES"
                },
                "label": "UNITES",
                "color": "#9C27B0",
                "thickness_factor": 1,
                "directed": true
              },
              {
                "id": 1155552635932115200,
                "start": 304,
                "end": 334,
                "properties": {
                  "label": "CONTRIBUTES_TO"
                },
                "label": "CONTRIBUTES_TO",
                "color": "#2196F3",
                "thickness_factor": 1,
                "directed": true
              },
              {
                "id": 1153300836118430000,
                "start": 304,
                "end": 336,
                "properties": {
                  "label": "CONTRIBUTES_TO"
                },
                "label": "CONTRIBUTES_TO",
                "color": "#2196F3",
                "thickness_factor": 1,
                "directed": true
              },
              {
                "id": 1153480056513757400,
                "start": 304,
                "end": 307,
                "properties": {
                  "label": "AIMS_TO_DISPLAY"
                },
                "label": "AIMS_TO_DISPLAY",
                "color": "#4CAF50",
                "thickness_factor": 1,
                "directed": true
              },
              {
                "id": 1153481156025385200,
                "start": 304,
                "end": 308,
                "properties": {
                  "label": "AIMS_TO_ACHIEVE"
                },
                "label": "AIMS_TO_ACHIEVE",
                "color": "#F44336",
                "thickness_factor": 1,
                "directed": true
              },
              {
                "id": 1155732955839070500,
                "start": 304,
                "end": 309,
                "properties": {
                  "label": "AIMS_TO_ACHIEVE"
                },
                "label": "AIMS_TO_ACHIEVE",
                "color": "#F44336",
                "thickness_factor": 1,
                "directed": true
              },
              {
                "id": 1153482255537013000,
                "start": 304,
                "end": 312,
                "properties": {
                  "label": "TRANSPOSES_INTO"
                },
                "label": "TRANSPOSES_INTO",
                "color": "#607D8B",
                "thickness_factor": 1,
                "directed": true
              },
              {
                "id": 1155734055350698200,
                "start": 304,
                "end": 313,
                "properties": {
                  "label": "TRANSPOSES_INTO"
                },
                "label": "TRANSPOSES_INTO",
                "color": "#607D8B",
                "thickness_factor": 1,
                "directed": true
              },
              {
                "id": 6918090878082875000,
                "start": 304,
                "end": 353,
                "properties": {
                  "label": "ENABLES"
                },
                "label": "ENABLES",
                "color": "#673AB7",
                "thickness_factor": 1,
                "directed": true
              },
              {
                "id": 6918090878082875000,
                "start": 304,
                "end": 354,
                "properties": {
                  "label": "ENABLES"
                },
                "label": "ENABLES",
                "color": "#673AB7",
                "thickness_factor": 1,
                "directed": true
              },
              {
                "id": 6918091977594503000,
                "start": 304,
                "end": 357,
                "properties": {
                  "label": "ALLOWS_TO_PROVE"
                },
                "label": "ALLOWS_TO_PROVE",
                "color": "#CDDC39",
                "thickness_factor": 1,
                "directed": true
              },
              {
                "id": 6918091977594503000,
                "start": 304,
                "end": 358,
                "properties": {
                  "label": "ALLOWS_TO_PROVE"
                },
                "label": "ALLOWS_TO_PROVE",
                "color": "#CDDC39",
                "thickness_factor": 1,
                "directed": true
              },
              {
                "id": 6918091977594503000,
                "start": 304,
                "end": 359,
                "properties": {
                  "label": "ALLOWS_TO_PROVE"
                },
                "label": "ALLOWS_TO_PROVE",
                "color": "#CDDC39",
                "thickness_factor": 1,
                "directed": true
              },
              {
                "id": 1153381100467257600,
                "start": 323,
                "end": 642,
                "properties": {
                  "label": "PRESIDES_OVER"
                },
                "label": "PRESIDES_OVER",
                "color": "#9E9E9E",
                "thickness_factor": 1,
                "directed": true
              },
              {
                "id": 1153549325746307300,
                "start": 323,
                "end": 745,
                "properties": {
                  "label": "DISTINCTION_BETWEEN_MANAGEMENT_AND_GOVERNANCE"
                },
                "label": "DISTINCTION_BETWEEN_MANAGEMENT_AND_GOVERNANCE",
                "color": "#9C27B0",
                "thickness_factor": 1,
                "directed": true
              },
              {
                "id": 1152941295816147200,
                "start": 338,
                "end": 342,
                "properties": {
                  "label": "REQUIRES"
                },
                "label": "REQUIRES",
                "color": "#673AB7",
                "thickness_factor": 1,
                "directed": true
              },
              {
                "id": 1155193095629832400,
                "start": 338,
                "end": 343,
                "properties": {
                  "label": "REQUIRES"
                },
                "label": "REQUIRES",
                "color": "#673AB7",
                "thickness_factor": 1,
                "directed": true
              },
              {
                "id": 1157444895443517700,
                "start": 338,
                "end": 344,
                "properties": {
                  "label": "REQUIRES"
                },
                "label": "REQUIRES",
                "color": "#673AB7",
                "thickness_factor": 1,
                "directed": true
              },
              {
                "id": 1152975380676608300,
                "start": 338,
                "end": 339,
                "properties": {
                  "label": "INVOLVES"
                },
                "label": "INVOLVES",
                "color": "#F44336",
                "thickness_factor": 1,
                "directed": true
              },
              {
                "id": 1155227180490293500,
                "start": 338,
                "end": 340,
                "properties": {
                  "label": "INVOLVES"
                },
                "label": "INVOLVES",
                "color": "#F44336",
                "thickness_factor": 1,
                "directed": true
              },
              {
                "id": 1153210676164952300,
                "start": 338,
                "end": 345,
                "properties": {
                  "label": "RESULTS_IN"
                },
                "label": "RESULTS_IN",
                "color": "#2196F3",
                "thickness_factor": 1,
                "directed": true
              },
              {
                "id": 1155462475978637600,
                "start": 338,
                "end": 346,
                "properties": {
                  "label": "RESULTS_IN"
                },
                "label": "RESULTS_IN",
                "color": "#2196F3",
                "thickness_factor": 1,
                "directed": true
              },
              {
                "id": 1157714275792322800,
                "start": 338,
                "end": 347,
                "properties": {
                  "label": "RESULTS_IN"
                },
                "label": "RESULTS_IN",
                "color": "#2196F3",
                "thickness_factor": 1,
                "directed": true
              },
              {
                "id": 1159966075606008000,
                "start": 338,
                "end": 348,
                "properties": {
                  "label": "RESULTS_IN"
                },
                "label": "RESULTS_IN",
                "color": "#2196F3",
                "thickness_factor": 1,
                "directed": true
              },
              {
                "id": 1153301935630057700,
                "start": 338,
                "end": 349,
                "properties": {
                  "label": "PROVIDES_INSTRUCTIONS_FOR"
                },
                "label": "PROVIDES_INSTRUCTIONS_FOR",
                "color": "#2196F3",
                "thickness_factor": 1,
                "directed": true
              },
              {
                "id": 1155553735443743000,
                "start": 338,
                "end": 350,
                "properties": {
                  "label": "PROVIDES_INSTRUCTIONS_FOR"
                },
                "label": "PROVIDES_INSTRUCTIONS_FOR",
                "color": "#2196F3",
                "thickness_factor": 1,
                "directed": true
              },
              {
                "id": 1153485554071896300,
                "start": 338,
                "end": 341,
                "properties": {
                  "label": "CONSISTS_OF"
                },
                "label": "CONSISTS_OF",
                "color": "#4CAF50",
                "thickness_factor": 1,
                "directed": true
              },
              {
                "id": 6922086503338213000,
                "start": 351,
                "end": 338,
                "properties": {
                  "label": "INVOLVES"
                },
                "label": "INVOLVES",
                "color": "#F44336",
                "thickness_factor": 1,
                "directed": true
              },
              {
                "id": 1152972082141725000,
                "start": 361,
                "end": 369,
                "properties": {
                  "label": "RELATED_TO"
                },
                "label": "RELATED_TO",
                "color": "#9E9E9E",
                "thickness_factor": 1,
                "directed": true
              },
              {
                "id": 1153090829397524700,
                "start": 361,
                "end": 362,
                "properties": {
                  "label": "PART_OF"
                },
                "label": "PART_OF",
                "color": "#F44336",
                "thickness_factor": 1,
                "directed": true
              },
              {
                "id": 1153091928909152500,
                "start": 361,
                "end": 363,
                "properties": {
                  "label": "HEADQUARTERED_IN"
                },
                "label": "HEADQUARTERED_IN",
                "color": "#F44336",
                "thickness_factor": 1,
                "directed": true
              },
              {
                "id": 1153093028420780300,
                "start": 361,
                "end": 364,
                "properties": {
                  "label": "FUTURE_HEADQUARTERS"
                },
                "label": "FUTURE_HEADQUARTERS",
                "color": "#607D8B",
                "thickness_factor": 1,
                "directed": true
              },
              {
                "id": 1153486653583524000,
                "start": 361,
                "end": 370,
                "properties": {
                  "label": "APPOINTED_DIRECTOR"
                },
                "label": "APPOINTED_DIRECTOR",
                "color": "#673AB7",
                "thickness_factor": 1,
                "directed": true
              },
              {
                "id": 1153090829397524700,
                "start": 365,
                "end": 362,
                "properties": {
                  "label": "PART_OF"
                },
                "label": "PART_OF",
                "color": "#F44336",
                "thickness_factor": 1,
                "directed": true
              },
              {
                "id": 1153094127932408000,
                "start": 365,
                "end": 361,
                "properties": {
                  "label": "PREDECESSOR"
                },
                "label": "PREDECESSOR",
                "color": "#CDDC39",
                "thickness_factor": 1,
                "directed": true
              },
              {
                "id": 1153082033304502500,
                "start": 366,
                "end": 361,
                "properties": {
                  "label": "DIRECTOR"
                },
                "label": "DIRECTOR",
                "color": "#9E9E9E",
                "thickness_factor": 1,
                "directed": true
              },
              {
                "id": 1153095227444035800,
                "start": 367,
                "end": 361,
                "properties": {
                  "label": "DEPUTY_DIRECTOR"
                },
                "label": "DEPUTY_DIRECTOR",
                "color": "#9C27B0",
                "thickness_factor": 1,
                "directed": true
              },
              {
                "id": 1152972082141725000,
                "start": 368,
                "end": 369,
                "properties": {
                  "label": "RELATED_TO"
                },
                "label": "RELATED_TO",
                "color": "#9E9E9E",
                "thickness_factor": 1,
                "directed": true
              },
              {
                "id": 1153487753095151900,
                "start": 371,
                "end": 370,
                "properties": {
                  "label": "DELAYED_VOTE"
                },
                "label": "DELAYED_VOTE",
                "color": "#2196F3",
                "thickness_factor": 1,
                "directed": true
              },
              {
                "id": 1155185399048438000,
                "start": 373,
                "end": 58,
                "properties": {
                  "label": "PROTECTS"
                },
                "label": "PROTECTS",
                "color": "#CDDC39",
                "thickness_factor": 1,
                "directed": true
              },
              {
                "id": 1152933599234752800,
                "start": 373,
                "end": 246,
                "properties": {
                  "label": "PROTECTS"
                },
                "label": "PROTECTS",
                "color": "#CDDC39",
                "thickness_factor": 1,
                "directed": true
              },
              {
                "id": 1152952290932425000,
                "start": 373,
                "end": 384,
                "properties": {
                  "label": "ENSURES"
                },
                "label": "ENSURES",
                "color": "#607D8B",
                "thickness_factor": 1,
                "directed": true
              },
              {
                "id": 1155204090746110200,
                "start": 373,
                "end": 396,
                "properties": {
                  "label": "ENSURES"
                },
                "label": "ENSURES",
                "color": "#607D8B",
                "thickness_factor": 1,
                "directed": true
              },
              {
                "id": 1152975380676608300,
                "start": 373,
                "end": 375,
                "properties": {
                  "label": "INVOLVES"
                },
                "label": "INVOLVES",
                "color": "#F44336",
                "thickness_factor": 1,
                "directed": true
              },
              {
                "id": 1155227180490293500,
                "start": 373,
                "end": 400,
                "properties": {
                  "label": "INVOLVES"
                },
                "label": "INVOLVES",
                "color": "#F44336",
                "thickness_factor": 1,
                "directed": true
              },
              {
                "id": 1157478980303978800,
                "start": 373,
                "end": 403,
                "properties": {
                  "label": "INVOLVES"
                },
                "label": "INVOLVES",
                "color": "#F44336",
                "thickness_factor": 1,
                "directed": true
              },
              {
                "id": 1160000160466469000,
                "start": 373,
                "end": 183,
                "properties": {
                  "label": "ADDRESSES"
                },
                "label": "ADDRESSES",
                "color": "#F44336",
                "thickness_factor": 1,
                "directed": true
              },
              {
                "id": 1162251960280154400,
                "start": 373,
                "end": 383,
                "properties": {
                  "label": "ADDRESSES"
                },
                "label": "ADDRESSES",
                "color": "#F44336",
                "thickness_factor": 1,
                "directed": true
              },
              {
                "id": 1153244761025413400,
                "start": 373,
                "end": 393,
                "properties": {
                  "label": "ADDRESSES"
                },
                "label": "ADDRESSES",
                "color": "#F44336",
                "thickness_factor": 1,
                "directed": true
              },
              {
                "id": 1155496560839098600,
                "start": 373,
                "end": 394,
                "properties": {
                  "label": "ADDRESSES"
                },
                "label": "ADDRESSES",
                "color": "#F44336",
                "thickness_factor": 1,
                "directed": true
              },
              {
                "id": 1157748360652783900,
                "start": 373,
                "end": 395,
                "properties": {
                  "label": "ADDRESSES"
                },
                "label": "ADDRESSES",
                "color": "#F44336",
                "thickness_factor": 1,
                "directed": true
              },
              {
                "id": 1153488852606779600,
                "start": 373,
                "end": 376,
                "properties": {
                  "label": "PROTECTS_FROM"
                },
                "label": "PROTECTS_FROM",
                "color": "#4CAF50",
                "thickness_factor": 1,
                "directed": true
              },
              {
                "id": 1155740652420465000,
                "start": 373,
                "end": 377,
                "properties": {
                  "label": "PROTECTS_FROM"
                },
                "label": "PROTECTS_FROM",
                "color": "#4CAF50",
                "thickness_factor": 1,
                "directed": true
              },
              {
                "id": 1157992452234150100,
                "start": 373,
                "end": 378,
                "properties": {
                  "label": "PROTECTS_FROM"
                },
                "label": "PROTECTS_FROM",
                "color": "#4CAF50",
                "thickness_factor": 1,
                "directed": true
              },
              {
                "id": 1160244252047835400,
                "start": 373,
                "end": 379,
                "properties": {
                  "label": "PROTECTS_FROM"
                },
                "label": "PROTECTS_FROM",
                "color": "#4CAF50",
                "thickness_factor": 1,
                "directed": true
              },
              {
                "id": 1162496051861520600,
                "start": 373,
                "end": 380,
                "properties": {
                  "label": "PROTECTS_FROM"
                },
                "label": "PROTECTS_FROM",
                "color": "#4CAF50",
                "thickness_factor": 1,
                "directed": true
              },
              {
                "id": 1164747851675206000,
                "start": 373,
                "end": 381,
                "properties": {
                  "label": "PROTECTS_FROM"
                },
                "label": "PROTECTS_FROM",
                "color": "#4CAF50",
                "thickness_factor": 1,
                "directed": true
              },
              {
                "id": 1153489952118407400,
                "start": 373,
                "end": 383,
                "properties": {
                  "label": "DEFENDS_AGAINST"
                },
                "label": "DEFENDS_AGAINST",
                "color": "#F44336",
                "thickness_factor": 1,
                "directed": true
              },
              {
                "id": 1153491051630035200,
                "start": 373,
                "end": 385,
                "properties": {
                  "label": "SIGNIFICANT_DUE_TO"
                },
                "label": "SIGNIFICANT_DUE_TO",
                "color": "#607D8B",
                "thickness_factor": 1,
                "directed": true
              },
              {
                "id": 1155742851443720400,
                "start": 373,
                "end": 386,
                "properties": {
                  "label": "SIGNIFICANT_DUE_TO"
                },
                "label": "SIGNIFICANT_DUE_TO",
                "color": "#607D8B",
                "thickness_factor": 1,
                "directed": true
              },
              {
                "id": 1157994651257405700,
                "start": 373,
                "end": 389,
                "properties": {
                  "label": "SIGNIFICANT_DUE_TO"
                },
                "label": "SIGNIFICANT_DUE_TO",
                "color": "#607D8B",
                "thickness_factor": 1,
                "directed": true
              },
              {
                "id": 1153492151141663000,
                "start": 373,
                "end": 397,
                "properties": {
                  "label": "SIGNIFICANT_FOR"
                },
                "label": "SIGNIFICANT_FOR",
                "color": "#673AB7",
                "thickness_factor": 1,
                "directed": true
              },
              {
                "id": 1155743950955348200,
                "start": 373,
                "end": 398,
                "properties": {
                  "label": "SIGNIFICANT_FOR"
                },
                "label": "SIGNIFICANT_FOR",
                "color": "#673AB7",
                "thickness_factor": 1,
                "directed": true
              },
              {
                "id": 1157995750769033500,
                "start": 373,
                "end": 399,
                "properties": {
                  "label": "SIGNIFICANT_FOR"
                },
                "label": "SIGNIFICANT_FOR",
                "color": "#673AB7",
                "thickness_factor": 1,
                "directed": true
              },
              {
                "id": 1153498748211429600,
                "start": 383,
                "end": 183,
                "properties": {
                  "label": "EXPLOITS"
                },
                "label": "EXPLOITS",
                "color": "#CDDC39",
                "thickness_factor": 1,
                "directed": true
              },
              {
                "id": 6918107370757292000,
                "start": 383,
                "end": 462,
                "properties": {
                  "label": "AFFECT"
                },
                "label": "AFFECT",
                "color": "#9E9E9E",
                "thickness_factor": 1,
                "directed": true
              },
              {
                "id": 6918108470268920000,
                "start": 383,
                "end": 463,
                "properties": {
                  "label": "AFFECT_MORE"
                },
                "label": "AFFECT_MORE",
                "color": "#9C27B0",
                "thickness_factor": 1,
                "directed": true
              },
              {
                "id": 1153502046746313200,
                "start": 421,
                "end": 422,
                "properties": {
                  "label": "RELEASED"
                },
                "label": "RELEASED",
                "color": "#2196F3",
                "thickness_factor": 1,
                "directed": true
              },
              {
                "id": 1153503146257941000,
                "start": 421,
                "end": 420,
                "properties": {
                  "label": "REPORTED_ON"
                },
                "label": "REPORTED_ON",
                "color": "#4CAF50",
                "thickness_factor": 1,
                "directed": true
              },
              {
                "id": 1153057844048691700,
                "start": 422,
                "end": 423,
                "properties": {
                  "label": "SURVEYED"
                },
                "label": "SURVEYED",
                "color": "#673AB7",
                "thickness_factor": 1,
                "directed": true
              },
              {
                "id": 1155309643862377000,
                "start": 422,
                "end": 424,
                "properties": {
                  "label": "SURVEYED"
                },
                "label": "SURVEYED",
                "color": "#673AB7",
                "thickness_factor": 1,
                "directed": true
              },
              {
                "id": 1157561443676062200,
                "start": 422,
                "end": 425,
                "properties": {
                  "label": "SURVEYED"
                },
                "label": "SURVEYED",
                "color": "#673AB7",
                "thickness_factor": 1,
                "directed": true
              },
              {
                "id": 1153057844048691700,
                "start": 423,
                "end": 427,
                "properties": {
                  "label": "SURVEYED"
                },
                "label": "SURVEYED",
                "color": "#673AB7",
                "thickness_factor": 1,
                "directed": true
              },
              {
                "id": 1155309643862377000,
                "start": 423,
                "end": 428,
                "properties": {
                  "label": "SURVEYED"
                },
                "label": "SURVEYED",
                "color": "#673AB7",
                "thickness_factor": 1,
                "directed": true
              },
              {
                "id": 1157561443676062200,
                "start": 423,
                "end": 429,
                "properties": {
                  "label": "SURVEYED"
                },
                "label": "SURVEYED",
                "color": "#673AB7",
                "thickness_factor": 1,
                "directed": true
              },
              {
                "id": 1153060043071947300,
                "start": 423,
                "end": 426,
                "properties": {
                  "label": "RECALL"
                },
                "label": "RECALL",
                "color": "#9C27B0",
                "thickness_factor": 1,
                "directed": true
              },
              {
                "id": 1153504245769568800,
                "start": 423,
                "end": 383,
                "properties": {
                  "label": "EXPERIENCED"
                },
                "label": "EXPERIENCED",
                "color": "#F44336",
                "thickness_factor": 1,
                "directed": true
              },
              {
                "id": 1153060043071947300,
                "start": 424,
                "end": 426,
                "properties": {
                  "label": "RECALL"
                },
                "label": "RECALL",
                "color": "#9C27B0",
                "thickness_factor": 1,
                "directed": true
              },
              {
                "id": 1153504245769568800,
                "start": 424,
                "end": 383,
                "properties": {
                  "label": "EXPERIENCED"
                },
                "label": "EXPERIENCED",
                "color": "#F44336",
                "thickness_factor": 1,
                "directed": true
              },
              {
                "id": 1153060043071947300,
                "start": 425,
                "end": 426,
                "properties": {
                  "label": "RECALL"
                },
                "label": "RECALL",
                "color": "#9C27B0",
                "thickness_factor": 1,
                "directed": true
              },
              {
                "id": 1153504245769568800,
                "start": 425,
                "end": 383,
                "properties": {
                  "label": "EXPERIENCED"
                },
                "label": "EXPERIENCED",
                "color": "#F44336",
                "thickness_factor": 1,
                "directed": true
              },
              {
                "id": 6918113967827059000,
                "start": 427,
                "end": 464,
                "properties": {
                  "label": "ARE_OFTEN"
                },
                "label": "ARE_OFTEN",
                "color": "#607D8B",
                "thickness_factor": 1,
                "directed": true
              },
              {
                "id": 6920365767640744000,
                "start": 428,
                "end": 464,
                "properties": {
                  "label": "ARE_OFTEN"
                },
                "label": "ARE_OFTEN",
                "color": "#607D8B",
                "thickness_factor": 1,
                "directed": true
              },
              {
                "id": 6918115067338686000,
                "start": 428,
                "end": 465,
                "properties": {
                  "label": "HAVE_DONE"
                },
                "label": "HAVE_DONE",
                "color": "#673AB7",
                "thickness_factor": 1,
                "directed": true
              },
              {
                "id": 1153505345281196500,
                "start": 429,
                "end": 430,
                "properties": {
                  "label": "HAS"
                },
                "label": "HAS",
                "color": "#CDDC39",
                "thickness_factor": 1,
                "directed": true
              },
              {
                "id": 6918127161966592000,
                "start": 432,
                "end": 469,
                "properties": {
                  "label": "USED_TO_INSTALL"
                },
                "label": "USED_TO_INSTALL",
                "color": "#9E9E9E",
                "thickness_factor": 1,
                "directed": true
              },
              {
                "id": 6918117266361942000,
                "start": 437,
                "end": 468,
                "properties": {
                  "label": "ARE_MOST_LIKELY"
                },
                "label": "ARE_MOST_LIKELY",
                "color": "#9C27B0",
                "thickness_factor": 1,
                "directed": true
              },
              {
                "id": 1153510842839335400,
                "start": 437,
                "end": 438,
                "properties": {
                  "label": "ARE_AFFECTED_BY"
                },
                "label": "ARE_AFFECTED_BY",
                "color": "#2196F3",
                "thickness_factor": 1,
                "directed": true
              },
              {
                "id": 1152975380676608500,
                "start": 444,
                "end": 445,
                "properties": {
                  "label": "INVOLVES"
                },
                "label": "INVOLVES",
                "color": "#F44336",
                "thickness_factor": 1,
                "directed": true
              },
              {
                "id": 1153488852606780000,
                "start": 444,
                "end": 182,
                "properties": {
                  "label": "PROTECTS_FROM"
                },
                "label": "PROTECTS_FROM",
                "color": "#4CAF50",
                "thickness_factor": 1,
                "directed": true
              },
              {
                "id": 1155740652420465200,
                "start": 444,
                "end": 445,
                "properties": {
                  "label": "PROTECTS_FROM"
                },
                "label": "PROTECTS_FROM",
                "color": "#4CAF50",
                "thickness_factor": 1,
                "directed": true
              },
              {
                "id": 1153514141374218800,
                "start": 444,
                "end": 383,
                "properties": {
                  "label": "IMPORTANT_TO_UNDERSTAND"
                },
                "label": "IMPORTANT_TO_UNDERSTAND",
                "color": "#4CAF50",
                "thickness_factor": 1,
                "directed": true
              },
              {
                "id": 1153515240885846500,
                "start": 445,
                "end": 451,
                "properties": {
                  "label": "CONCERNS"
                },
                "label": "CONCERNS",
                "color": "#F44336",
                "thickness_factor": 1,
                "directed": true
              },
              {
                "id": 1155767040699531800,
                "start": 445,
                "end": 452,
                "properties": {
                  "label": "CONCERNS"
                },
                "label": "CONCERNS",
                "color": "#F44336",
                "thickness_factor": 1,
                "directed": true
              },
              {
                "id": 1158018840513217000,
                "start": 445,
                "end": 453,
                "properties": {
                  "label": "CONCERNS"
                },
                "label": "CONCERNS",
                "color": "#F44336",
                "thickness_factor": 1,
                "directed": true
              },
              {
                "id": 1153516340397474300,
                "start": 445,
                "end": 454,
                "properties": {
                  "label": "ADDS"
                },
                "label": "ADDS",
                "color": "#607D8B",
                "thickness_factor": 1,
                "directed": true
              },
              {
                "id": 1155768140211159600,
                "start": 445,
                "end": 456,
                "properties": {
                  "label": "ADDS"
                },
                "label": "ADDS",
                "color": "#607D8B",
                "thickness_factor": 1,
                "directed": true
              },
              {
                "id": 1158019940024844800,
                "start": 445,
                "end": 457,
                "properties": {
                  "label": "ADDS"
                },
                "label": "ADDS",
                "color": "#607D8B",
                "thickness_factor": 1,
                "directed": true
              },
              {
                "id": 1153517439909102000,
                "start": 445,
                "end": 455,
                "properties": {
                  "label": "ALLOWS"
                },
                "label": "ALLOWS",
                "color": "#673AB7",
                "thickness_factor": 1,
                "directed": true
              },
              {
                "id": 1153518539420729900,
                "start": 458,
                "end": 432,
                "properties": {
                  "label": "USE_TO_INSTALL"
                },
                "label": "USE_TO_INSTALL",
                "color": "#CDDC39",
                "thickness_factor": 1,
                "directed": true
              },
              {
                "id": 1153520738443985400,
                "start": 458,
                "end": 459,
                "properties": {
                  "label": "GAIN"
                },
                "label": "GAIN",
                "color": "#9E9E9E",
                "thickness_factor": 1,
                "directed": true
              },
              {
                "id": 1153063341606830600,
                "start": 460,
                "end": 432,
                "properties": {
                  "label": "AFFECTED_BY"
                },
                "label": "AFFECTED_BY",
                "color": "#9C27B0",
                "thickness_factor": 1,
                "directed": true
              },
              {
                "id": 1155315141420515800,
                "start": 460,
                "end": 433,
                "properties": {
                  "label": "AFFECTED_BY"
                },
                "label": "AFFECTED_BY",
                "color": "#9C27B0",
                "thickness_factor": 1,
                "directed": true
              },
              {
                "id": 1157566941234201000,
                "start": 460,
                "end": 434,
                "properties": {
                  "label": "AFFECTED_BY"
                },
                "label": "AFFECTED_BY",
                "color": "#9C27B0",
                "thickness_factor": 1,
                "directed": true
              },
              {
                "id": 1159818741047886300,
                "start": 460,
                "end": 435,
                "properties": {
                  "label": "AFFECTED_BY"
                },
                "label": "AFFECTED_BY",
                "color": "#9C27B0",
                "thickness_factor": 1,
                "directed": true
              },
              {
                "id": 1162070540861571600,
                "start": 460,
                "end": 436,
                "properties": {
                  "label": "AFFECTED_BY"
                },
                "label": "AFFECTED_BY",
                "color": "#9C27B0",
                "thickness_factor": 1,
                "directed": true
              },
              {
                "id": 1153277746374247000,
                "start": 460,
                "end": 255,
                "properties": {
                  "label": "LACK"
                },
                "label": "LACK",
                "color": "#2196F3",
                "thickness_factor": 1,
                "directed": true
              },
              {
                "id": 1155529546187932200,
                "start": 460,
                "end": 467,
                "properties": {
                  "label": "LACK"
                },
                "label": "LACK",
                "color": "#2196F3",
                "thickness_factor": 1,
                "directed": true
              },
              {
                "id": 1153508643816080000,
                "start": 460,
                "end": 466,
                "properties": {
                  "label": "HAVE_BECOME"
                },
                "label": "HAVE_BECOME",
                "color": "#4CAF50",
                "thickness_factor": 1,
                "directed": true
              },
              {
                "id": 1153509743327707600,
                "start": 460,
                "end": 468,
                "properties": {
                  "label": "ARE_MOST_LIKELY"
                },
                "label": "ARE_MOST_LIKELY",
                "color": "#9C27B0",
                "thickness_factor": 1,
                "directed": true
              },
              {
                "id": 1153143605955658200,
                "start": 461,
                "end": 440,
                "properties": {
                  "label": "USE"
                },
                "label": "USE",
                "color": "#F44336",
                "thickness_factor": 1,
                "directed": true
              },
              {
                "id": 1155395405769343500,
                "start": 461,
                "end": 441,
                "properties": {
                  "label": "USE"
                },
                "label": "USE",
                "color": "#F44336",
                "thickness_factor": 1,
                "directed": true
              },
              {
                "id": 1157647205583028700,
                "start": 461,
                "end": 442,
                "properties": {
                  "label": "USE"
                },
                "label": "USE",
                "color": "#F44336",
                "thickness_factor": 1,
                "directed": true
              },
              {
                "id": 1159899005396714000,
                "start": 461,
                "end": 443,
                "properties": {
                  "label": "USE"
                },
                "label": "USE",
                "color": "#F44336",
                "thickness_factor": 1,
                "directed": true
              },
              {
                "id": 1153511942350963200,
                "start": 461,
                "end": 247,
                "properties": {
                  "label": "TARGET"
                },
                "label": "TARGET",
                "color": "#607D8B",
                "thickness_factor": 1,
                "directed": true
              },
              {
                "id": 1155763742164648400,
                "start": 461,
                "end": 253,
                "properties": {
                  "label": "TARGET"
                },
                "label": "TARGET",
                "color": "#607D8B",
                "thickness_factor": 1,
                "directed": true
              },
              {
                "id": 1158015541978333700,
                "start": 461,
                "end": 264,
                "properties": {
                  "label": "TARGET"
                },
                "label": "TARGET",
                "color": "#607D8B",
                "thickness_factor": 1,
                "directed": true
              },
              {
                "id": 1153513041862591000,
                "start": 461,
                "end": 439,
                "properties": {
                  "label": "TAKE_ADVANTAGE_OF"
                },
                "label": "TAKE_ADVANTAGE_OF",
                "color": "#673AB7",
                "thickness_factor": 1,
                "directed": true
              },
              {
                "id": 1153020460653347300,
                "start": 471,
                "end": 472,
                "properties": {
                  "label": "WORKS_AT"
                },
                "label": "WORKS_AT",
                "color": "#9E9E9E",
                "thickness_factor": 1,
                "directed": true
              },
              {
                "id": 1153022659676603000,
                "start": 471,
                "end": 475,
                "properties": {
                  "label": "WORKED_AT"
                },
                "label": "WORKED_AT",
                "color": "#2196F3",
                "thickness_factor": 1,
                "directed": true
              },
              {
                "id": 1155274459490288000,
                "start": 471,
                "end": 476,
                "properties": {
                  "label": "WORKED_AT"
                },
                "label": "WORKED_AT",
                "color": "#2196F3",
                "thickness_factor": 1,
                "directed": true
              },
              {
                "id": 1157526259303973400,
                "start": 471,
                "end": 479,
                "properties": {
                  "label": "WORKED_AT"
                },
                "label": "WORKED_AT",
                "color": "#2196F3",
                "thickness_factor": 1,
                "directed": true
              },
              {
                "id": 1159778059117658600,
                "start": 471,
                "end": 480,
                "properties": {
                  "label": "WORKED_AT"
                },
                "label": "WORKED_AT",
                "color": "#2196F3",
                "thickness_factor": 1,
                "directed": true
              },
              {
                "id": 1153027057723114000,
                "start": 471,
                "end": 477,
                "properties": {
                  "label": "MEMBER_OF"
                },
                "label": "MEMBER_OF",
                "color": "#607D8B",
                "thickness_factor": 1,
                "directed": true
              },
              {
                "id": 1155278857536799200,
                "start": 471,
                "end": 481,
                "properties": {
                  "label": "MEMBER_OF"
                },
                "label": "MEMBER_OF",
                "color": "#607D8B",
                "thickness_factor": 1,
                "directed": true
              },
              {
                "id": 1153319527816102400,
                "start": 471,
                "end": 473,
                "properties": {
                  "label": "EDUCATION_AT"
                },
                "label": "EDUCATION_AT",
                "color": "#CDDC39",
                "thickness_factor": 1,
                "directed": true
              },
              {
                "id": 1155571327629787600,
                "start": 471,
                "end": 474,
                "properties": {
                  "label": "EDUCATION_AT"
                },
                "label": "EDUCATION_AT",
                "color": "#CDDC39",
                "thickness_factor": 1,
                "directed": true
              },
              {
                "id": 1153320627327730200,
                "start": 471,
                "end": 482,
                "properties": {
                  "label": "PART_OF_COMMISSION"
                },
                "label": "PART_OF_COMMISSION",
                "color": "#9E9E9E",
                "thickness_factor": 1,
                "directed": true
              },
              {
                "id": 1153321726839358000,
                "start": 471,
                "end": 483,
                "properties": {
                  "label": "DIRECTOR_AT"
                },
                "label": "DIRECTOR_AT",
                "color": "#9C27B0",
                "thickness_factor": 1,
                "directed": true
              },
              {
                "id": 1155573526653043200,
                "start": 471,
                "end": 484,
                "properties": {
                  "label": "DIRECTOR_AT"
                },
                "label": "DIRECTOR_AT",
                "color": "#9C27B0",
                "thickness_factor": 1,
                "directed": true
              },
              {
                "id": 1157825326466728400,
                "start": 471,
                "end": 485,
                "properties": {
                  "label": "DIRECTOR_AT"
                },
                "label": "DIRECTOR_AT",
                "color": "#9C27B0",
                "thickness_factor": 1,
                "directed": true
              },
              {
                "id": 1153322826350985700,
                "start": 471,
                "end": 486,
                "properties": {
                  "label": "BOARD_MEMBER_AT"
                },
                "label": "BOARD_MEMBER_AT",
                "color": "#2196F3",
                "thickness_factor": 1,
                "directed": true
              },
              {
                "id": 1155574626164671000,
                "start": 471,
                "end": 487,
                "properties": {
                  "label": "BOARD_MEMBER_AT"
                },
                "label": "BOARD_MEMBER_AT",
                "color": "#2196F3",
                "thickness_factor": 1,
                "directed": true
              },
              {
                "id": 1153328323909124600,
                "start": 471,
                "end": 496,
                "properties": {
                  "label": "RECEIVED_AWARDS_AT"
                },
                "label": "RECEIVED_AWARDS_AT",
                "color": "#4CAF50",
                "thickness_factor": 1,
                "directed": true
              },
              {
                "id": 1153521837955613200,
                "start": 471,
                "end": 478,
                "properties": {
                  "label": "ADVISORY_ROLE_AT"
                },
                "label": "ADVISORY_ROLE_AT",
                "color": "#F44336",
                "thickness_factor": 1,
                "directed": true
              },
              {
                "id": 1155773637769298400,
                "start": 471,
                "end": 492,
                "properties": {
                  "label": "ADVISORY_ROLE_AT"
                },
                "label": "ADVISORY_ROLE_AT",
                "color": "#F44336",
                "thickness_factor": 1,
                "directed": true
              },
              {
                "id": 1153522937467241000,
                "start": 471,
                "end": 488,
                "properties": {
                  "label": "CO-CHAIR_OF_BOARD_AT"
                },
                "label": "CO-CHAIR_OF_BOARD_AT",
                "color": "#607D8B",
                "thickness_factor": 1,
                "directed": true
              },
              {
                "id": 1153524036978868700,
                "start": 471,
                "end": 489,
                "properties": {
                  "label": "CO-FOUNDER_AND_BOARD_MEMBER_AT"
                },
                "label": "CO-FOUNDER_AND_BOARD_MEMBER_AT",
                "color": "#673AB7",
                "thickness_factor": 1,
                "directed": true
              },
              {
                "id": 1153525136490496500,
                "start": 471,
                "end": 490,
                "properties": {
                  "label": "MEMBER_OF_ADVISORY_BOARD_AT"
                },
                "label": "MEMBER_OF_ADVISORY_BOARD_AT",
                "color": "#CDDC39",
                "thickness_factor": 1,
                "directed": true
              },
              {
                "id": 1155776936304181800,
                "start": 471,
                "end": 491,
                "properties": {
                  "label": "MEMBER_OF_ADVISORY_BOARD_AT"
                },
                "label": "MEMBER_OF_ADVISORY_BOARD_AT",
                "color": "#CDDC39",
                "thickness_factor": 1,
                "directed": true
              },
              {
                "id": 1153526236002124300,
                "start": 471,
                "end": 493,
                "properties": {
                  "label": "RECEIVED_AWARD"
                },
                "label": "RECEIVED_AWARD",
                "color": "#9E9E9E",
                "thickness_factor": 1,
                "directed": true
              },
              {
                "id": 1155778035815809500,
                "start": 471,
                "end": 494,
                "properties": {
                  "label": "RECEIVED_AWARD"
                },
                "label": "RECEIVED_AWARD",
                "color": "#9E9E9E",
                "thickness_factor": 1,
                "directed": true
              },
              {
                "id": 1158029835629494800,
                "start": 471,
                "end": 495,
                "properties": {
                  "label": "RECEIVED_AWARD"
                },
                "label": "RECEIVED_AWARD",
                "color": "#9E9E9E",
                "thickness_factor": 1,
                "directed": true
              },
              {
                "id": 1160281635443180000,
                "start": 471,
                "end": 497,
                "properties": {
                  "label": "RECEIVED_AWARD"
                },
                "label": "RECEIVED_AWARD",
                "color": "#9E9E9E",
                "thickness_factor": 1,
                "directed": true
              },
              {
                "id": 1162533435256865300,
                "start": 471,
                "end": 498,
                "properties": {
                  "label": "RECEIVED_AWARD"
                },
                "label": "RECEIVED_AWARD",
                "color": "#9E9E9E",
                "thickness_factor": 1,
                "directed": true
              },
              {
                "id": 1164785235070550500,
                "start": 471,
                "end": 499,
                "properties": {
                  "label": "RECEIVED_AWARD"
                },
                "label": "RECEIVED_AWARD",
                "color": "#9E9E9E",
                "thickness_factor": 1,
                "directed": true
              },
              {
                "id": 1153107322071941600,
                "start": 501,
                "end": 502,
                "properties": {
                  "label": "FOUNDER"
                },
                "label": "FOUNDER",
                "color": "#9C27B0",
                "thickness_factor": 1,
                "directed": true
              },
              {
                "id": 1155359121885627000,
                "start": 501,
                "end": 503,
                "properties": {
                  "label": "FOUNDER"
                },
                "label": "FOUNDER",
                "color": "#9C27B0",
                "thickness_factor": 1,
                "directed": true
              },
              {
                "id": 1153108421583569400,
                "start": 502,
                "end": 504,
                "properties": {
                  "label": "PREVIOUS_EMPLOYMENT"
                },
                "label": "PREVIOUS_EMPLOYMENT",
                "color": "#2196F3",
                "thickness_factor": 1,
                "directed": true
              },
              {
                "id": 1153527335513752000,
                "start": 505,
                "end": 501,
                "properties": {
                  "label": "LICENSED_PRODUCT"
                },
                "label": "LICENSED_PRODUCT",
                "color": "#4CAF50",
                "thickness_factor": 1,
                "directed": true
              },
              {
                "id": 1153121615723102700,
                "start": 507,
                "end": 501,
                "properties": {
                  "label": "DESIGNED_LOGO"
                },
                "label": "DESIGNED_LOGO",
                "color": "#F44336",
                "thickness_factor": 1,
                "directed": true
              },
              {
                "id": 1153528435025379800,
                "start": 508,
                "end": 501,
                "properties": {
                  "label": "ATTEMPTED_ACQUISITION"
                },
                "label": "ATTEMPTED_ACQUISITION",
                "color": "#607D8B",
                "thickness_factor": 1,
                "directed": true
              },
              {
                "id": 1153529534537007600,
                "start": 508,
                "end": 501,
                "properties": {
                  "label": "SHAREHOLDER"
                },
                "label": "SHAREHOLDER",
                "color": "#673AB7",
                "thickness_factor": 1,
                "directed": true
              },
              {
                "id": 1153334920978891300,
                "start": 509,
                "end": 501,
                "properties": {
                  "label": "WORKED_ON"
                },
                "label": "WORKED_ON",
                "color": "#CDDC39",
                "thickness_factor": 1,
                "directed": true
              },
              {
                "id": 1153085331839386000,
                "start": 511,
                "end": 526,
                "properties": {
                  "label": "CO-FOUNDER"
                },
                "label": "CO-FOUNDER",
                "color": "#9E9E9E",
                "thickness_factor": 1,
                "directed": true
              },
              {
                "id": 1155337131653071400,
                "start": 511,
                "end": 527,
                "properties": {
                  "label": "CO-FOUNDER"
                },
                "label": "CO-FOUNDER",
                "color": "#9E9E9E",
                "thickness_factor": 1,
                "directed": true
              },
              {
                "id": 1153109521095197200,
                "start": 511,
                "end": 520,
                "properties": {
                  "label": "DEVELOPED"
                },
                "label": "DEVELOPED",
                "color": "#9C27B0",
                "thickness_factor": 1,
                "directed": true
              },
              {
                "id": 1153124914257986000,
                "start": 511,
                "end": 512,
                "properties": {
                  "label": "LOCATION"
                },
                "label": "LOCATION",
                "color": "#2196F3",
                "thickness_factor": 1,
                "directed": true
              },
              {
                "id": 1153126013769613800,
                "start": 511,
                "end": 513,
                "properties": {
                  "label": "RESEARCH"
                },
                "label": "RESEARCH",
                "color": "#4CAF50",
                "thickness_factor": 1,
                "directed": true
              },
              {
                "id": 1153127113281241600,
                "start": 511,
                "end": 514,
                "properties": {
                  "label": "TYPE"
                },
                "label": "TYPE",
                "color": "#F44336",
                "thickness_factor": 1,
                "directed": true
              },
              {
                "id": 1153128212792869400,
                "start": 511,
                "end": 516,
                "properties": {
                  "label": "DEVELOPMENT"
                },
                "label": "DEVELOPMENT",
                "color": "#607D8B",
                "thickness_factor": 1,
                "directed": true
              },
              {
                "id": 1153142506444030500,
                "start": 511,
                "end": 534,
                "properties": {
                  "label": "LAWSUIT"
                },
                "label": "LAWSUIT",
                "color": "#673AB7",
                "thickness_factor": 1,
                "directed": true
              },
              {
                "id": 1153143605955658200,
                "start": 511,
                "end": 535,
                "properties": {
                  "label": "USE"
                },
                "label": "USE",
                "color": "#F44336",
                "thickness_factor": 1,
                "directed": true
              },
              {
                "id": 1153152402048680400,
                "start": 511,
                "end": 548,
                "properties": {
                  "label": "GOAL"
                },
                "label": "GOAL",
                "color": "#CDDC39",
                "thickness_factor": 1,
                "directed": true
              },
              {
                "id": 1153530634048635400,
                "start": 511,
                "end": 515,
                "properties": {
                  "label": "FOUNDED"
                },
                "label": "FOUNDED",
                "color": "#9E9E9E",
                "thickness_factor": 1,
                "directed": true
              },
              {
                "id": 1153532833071891000,
                "start": 511,
                "end": 532,
                "properties": {
                  "label": "LEADER"
                },
                "label": "LEADER",
                "color": "#9C27B0",
                "thickness_factor": 1,
                "directed": true
              },
              {
                "id": 1153537231118402000,
                "start": 511,
                "end": 553,
                "properties": {
                  "label": "INCORPORATED_AS"
                },
                "label": "INCORPORATED_AS",
                "color": "#2196F3",
                "thickness_factor": 1,
                "directed": true
              },
              {
                "id": 1153538330630029800,
                "start": 511,
                "end": 556,
                "properties": {
                  "label": "ENTITY"
                },
                "label": "ENTITY",
                "color": "#4CAF50",
                "thickness_factor": 1,
                "directed": true
              },
              {
                "id": 1153539430141657600,
                "start": 511,
                "end": 571,
                "properties": {
                  "label": "ENGAGE"
                },
                "label": "ENGAGE",
                "color": "#F44336",
                "thickness_factor": 1,
                "directed": true
              },
              {
                "id": 1153129312304497200,
                "start": 516,
                "end": 519,
                "properties": {
                  "label": "DEPLOYMENT"
                },
                "label": "DEPLOYMENT",
                "color": "#607D8B",
                "thickness_factor": 1,
                "directed": true
              },
              {
                "id": 1153531733560263200,
                "start": 516,
                "end": 517,
                "properties": {
                  "label": "STUDY"
                },
                "label": "STUDY",
                "color": "#673AB7",
                "thickness_factor": 1,
                "directed": true
              },
              {
                "id": 1155783533373948400,
                "start": 516,
                "end": 518,
                "properties": {
                  "label": "STUDY"
                },
                "label": "STUDY",
                "color": "#673AB7",
                "thickness_factor": 1,
                "directed": true
              },
              {
                "id": 1153130411816125000,
                "start": 520,
                "end": 521,
                "properties": {
                  "label": "COMPETITOR"
                },
                "label": "COMPETITOR",
                "color": "#CDDC39",
                "thickness_factor": 1,
                "directed": true
              },
              {
                "id": 6917737934850360000,
                "start": 521,
                "end": 587,
                "properties": {
                  "label": "COMPETITOR"
                },
                "label": "COMPETITOR",
                "color": "#CDDC39",
                "thickness_factor": 1,
                "directed": true
              },
              {
                "id": 6917737934850360000,
                "start": 521,
                "end": 588,
                "properties": {
                  "label": "COMPETITOR"
                },
                "label": "COMPETITOR",
                "color": "#CDDC39",
                "thickness_factor": 1,
                "directed": true
              },
              {
                "id": 1153165596188213800,
                "start": 521,
                "end": 575,
                "properties": {
                  "label": "REFERENCE"
                },
                "label": "REFERENCE",
                "color": "#9E9E9E",
                "thickness_factor": 1,
                "directed": true
              },
              {
                "id": 1153167795211469300,
                "start": 521,
                "end": 576,
                "properties": {
                  "label": "CONTRAST"
                },
                "label": "CONTRAST",
                "color": "#9C27B0",
                "thickness_factor": 1,
                "directed": true
              },
              {
                "id": 1155419595025154600,
                "start": 521,
                "end": 577,
                "properties": {
                  "label": "CONTRAST"
                },
                "label": "CONTRAST",
                "color": "#9C27B0",
                "thickness_factor": 1,
                "directed": true
              },
              {
                "id": 1157671394838839800,
                "start": 521,
                "end": 578,
                "properties": {
                  "label": "CONTRAST"
                },
                "label": "CONTRAST",
                "color": "#9C27B0",
                "thickness_factor": 1,
                "directed": true
              },
              {
                "id": 1153168894723097000,
                "start": 521,
                "end": 579,
                "properties": {
                  "label": "RELEASE"
                },
                "label": "RELEASE",
                "color": "#2196F3",
                "thickness_factor": 1,
                "directed": true
              },
              {
                "id": 1153540529653285400,
                "start": 521,
                "end": 572,
                "properties": {
                  "label": "INCORPORATE"
                },
                "label": "INCORPORATE",
                "color": "#4CAF50",
                "thickness_factor": 1,
                "directed": true
              },
              {
                "id": 1153133710351008300,
                "start": 524,
                "end": 511,
                "properties": {
                  "label": "INVESTMENT"
                },
                "label": "INVESTMENT",
                "color": "#F44336",
                "thickness_factor": 1,
                "directed": true
              },
              {
                "id": 1155385510164693500,
                "start": 524,
                "end": 540,
                "properties": {
                  "label": "INVESTMENT"
                },
                "label": "INVESTMENT",
                "color": "#F44336",
                "thickness_factor": 1,
                "directed": true
              },
              {
                "id": 1153135909374263800,
                "start": 524,
                "end": 529,
                "properties": {
                  "label": "AMOUNT"
                },
                "label": "AMOUNT",
                "color": "#607D8B",
                "thickness_factor": 1,
                "directed": true
              },
              {
                "id": 1153139207909147100,
                "start": 524,
                "end": 529,
                "properties": {
                  "label": "COMMITMENT"
                },
                "label": "COMMITMENT",
                "color": "#673AB7",
                "thickness_factor": 1,
                "directed": true
              },
              {
                "id": 1153145804978913800,
                "start": 526,
                "end": 541,
                "properties": {
                  "label": "ROLE"
                },
                "label": "ROLE",
                "color": "#CDDC39",
                "thickness_factor": 1,
                "directed": true
              },
              {
                "id": 6917753328013149000,
                "start": 526,
                "end": 591,
                "properties": {
                  "label": "ROLE"
                },
                "label": "ROLE",
                "color": "#CDDC39",
                "thickness_factor": 1,
                "directed": true
              },
              {
                "id": 1153131511327752700,
                "start": 527,
                "end": 522,
                "properties": {
                  "label": "FORMER_MEMBER"
                },
                "label": "FORMER_MEMBER",
                "color": "#9E9E9E",
                "thickness_factor": 1,
                "directed": true
              },
              {
                "id": 1153145804978913800,
                "start": 527,
                "end": 76,
                "properties": {
                  "label": "ROLE"
                },
                "label": "ROLE",
                "color": "#CDDC39",
                "thickness_factor": 1,
                "directed": true
              },
              {
                "id": 6917753328013149000,
                "start": 527,
                "end": 590,
                "properties": {
                  "label": "ROLE"
                },
                "label": "ROLE",
                "color": "#CDDC39",
                "thickness_factor": 1,
                "directed": true
              },
              {
                "id": 1153344816583541200,
                "start": 527,
                "end": 526,
                "properties": {
                  "label": "SIBLING"
                },
                "label": "SIBLING",
                "color": "#9C27B0",
                "thickness_factor": 1,
                "directed": true
              },
              {
                "id": 1153133710351008300,
                "start": 528,
                "end": 511,
                "properties": {
                  "label": "INVESTMENT"
                },
                "label": "INVESTMENT",
                "color": "#F44336",
                "thickness_factor": 1,
                "directed": true
              },
              {
                "id": 1155385510164693500,
                "start": 528,
                "end": 540,
                "properties": {
                  "label": "INVESTMENT"
                },
                "label": "INVESTMENT",
                "color": "#F44336",
                "thickness_factor": 1,
                "directed": true
              },
              {
                "id": 1153135909374263800,
                "start": 528,
                "end": 529,
                "properties": {
                  "label": "AMOUNT"
                },
                "label": "AMOUNT",
                "color": "#607D8B",
                "thickness_factor": 1,
                "directed": true
              },
              {
                "id": 1153137008885891600,
                "start": 528,
                "end": 536,
                "properties": {
                  "label": "CLOUD_PROVIDER"
                },
                "label": "CLOUD_PROVIDER",
                "color": "#2196F3",
                "thickness_factor": 1,
                "directed": true
              },
              {
                "id": 1153150203025425000,
                "start": 528,
                "end": 529,
                "properties": {
                  "label": "MAXED_OUT"
                },
                "label": "MAXED_OUT",
                "color": "#4CAF50",
                "thickness_factor": 1,
                "directed": true
              },
              {
                "id": 1153151302537052700,
                "start": 528,
                "end": 529,
                "properties": {
                  "label": "ADDITIONAL_INVESTMENT"
                },
                "label": "ADDITIONAL_INVESTMENT",
                "color": "#F44336",
                "thickness_factor": 1,
                "directed": true
              },
              {
                "id": 1153535032095146500,
                "start": 528,
                "end": 511,
                "properties": {
                  "label": "PARTNERSHIP"
                },
                "label": "PARTNERSHIP",
                "color": "#607D8B",
                "thickness_factor": 1,
                "directed": true
              },
              {
                "id": 1153536131606774300,
                "start": 528,
                "end": 539,
                "properties": {
                  "label": "BECOMING"
                },
                "label": "BECOMING",
                "color": "#673AB7",
                "thickness_factor": 1,
                "directed": true
              },
              {
                "id": 1153533932583518700,
                "start": 532,
                "end": 533,
                "properties": {
                  "label": "UNDER_LEADERSHIP"
                },
                "label": "UNDER_LEADERSHIP",
                "color": "#CDDC39",
                "thickness_factor": 1,
                "directed": true
              },
              {
                "id": 1153146904490541600,
                "start": 536,
                "end": 511,
                "properties": {
                  "label": "PRIMARY_PROVIDER"
                },
                "label": "PRIMARY_PROVIDER",
                "color": "#9E9E9E",
                "thickness_factor": 1,
                "directed": true
              },
              {
                "id": 6917755527036405000,
                "start": 536,
                "end": 589,
                "properties": {
                  "label": "AVAILABILITY"
                },
                "label": "AVAILABILITY",
                "color": "#9C27B0",
                "thickness_factor": 1,
                "directed": true
              },
              {
                "id": 1153135909374263800,
                "start": 544,
                "end": 529,
                "properties": {
                  "label": "AMOUNT"
                },
                "label": "AMOUNT",
                "color": "#607D8B",
                "thickness_factor": 1,
                "directed": true
              },
              {
                "id": 1153134809862636000,
                "start": 545,
                "end": 529,
                "properties": {
                  "label": "INVESTOR"
                },
                "label": "INVESTOR",
                "color": "#2196F3",
                "thickness_factor": 1,
                "directed": true
              },
              {
                "id": 1153134809862636000,
                "start": 546,
                "end": 529,
                "properties": {
                  "label": "INVESTOR"
                },
                "label": "INVESTOR",
                "color": "#2196F3",
                "thickness_factor": 1,
                "directed": true
              },
              {
                "id": 1153134809862636000,
                "start": 547,
                "end": 529,
                "properties": {
                  "label": "INVESTOR"
                },
                "label": "INVESTOR",
                "color": "#2196F3",
                "thickness_factor": 1,
                "directed": true
              },
              {
                "id": 1153154601071936000,
                "start": 551,
                "end": 522,
                "properties": {
                  "label": "REASON_FOR_LEAVING"
                },
                "label": "REASON_FOR_LEAVING",
                "color": "#4CAF50",
                "thickness_factor": 1,
                "directed": true
              },
              {
                "id": 1155406400885621200,
                "start": 551,
                "end": 595,
                "properties": {
                  "label": "REASON_FOR_LEAVING"
                },
                "label": "REASON_FOR_LEAVING",
                "color": "#4CAF50",
                "thickness_factor": 1,
                "directed": true
              },
              {
                "id": 1153157899606819300,
                "start": 553,
                "end": 86,
                "properties": {
                  "label": "REQUIREMENT"
                },
                "label": "REQUIREMENT",
                "color": "#2196F3",
                "thickness_factor": 1,
                "directed": true
              },
              {
                "id": 1153158999118447000,
                "start": 553,
                "end": 554,
                "properties": {
                  "label": "CONSIDERATION"
                },
                "label": "CONSIDERATION",
                "color": "#9C27B0",
                "thickness_factor": 1,
                "directed": true
              },
              {
                "id": 1155410798932132400,
                "start": 553,
                "end": 555,
                "properties": {
                  "label": "CONSIDERATION"
                },
                "label": "CONSIDERATION",
                "color": "#9C27B0",
                "thickness_factor": 1,
                "directed": true
              },
              {
                "id": 1153031455769625000,
                "start": 556,
                "end": 560,
                "properties": {
                  "label": "INCLUDE"
                },
                "label": "INCLUDE",
                "color": "#607D8B",
                "thickness_factor": 1,
                "directed": true
              },
              {
                "id": 1153077635257991700,
                "start": 560,
                "end": 561,
                "properties": {
                  "label": "MEMBER"
                },
                "label": "MEMBER",
                "color": "#F44336",
                "thickness_factor": 1,
                "directed": true
              },
              {
                "id": 1155329435071677000,
                "start": 560,
                "end": 563,
                "properties": {
                  "label": "MEMBER"
                },
                "label": "MEMBER",
                "color": "#F44336",
                "thickness_factor": 1,
                "directed": true
              },
              {
                "id": 1157581234885362200,
                "start": 560,
                "end": 565,
                "properties": {
                  "label": "MEMBER"
                },
                "label": "MEMBER",
                "color": "#F44336",
                "thickness_factor": 1,
                "directed": true
              },
              {
                "id": 1159833034699047400,
                "start": 560,
                "end": 567,
                "properties": {
                  "label": "MEMBER"
                },
                "label": "MEMBER",
                "color": "#F44336",
                "thickness_factor": 1,
                "directed": true
              },
              {
                "id": 1162084834512732700,
                "start": 560,
                "end": 569,
                "properties": {
                  "label": "MEMBER"
                },
                "label": "MEMBER",
                "color": "#F44336",
                "thickness_factor": 1,
                "directed": true
              },
              {
                "id": 1153366806816096800,
                "start": 561,
                "end": 562,
                "properties": {
                  "label": "CEO_&_PRESIDENT"
                },
                "label": "CEO_&_PRESIDENT",
                "color": "#607D8B",
                "thickness_factor": 1,
                "directed": true
              },
              {
                "id": 1153366806816096800,
                "start": 563,
                "end": 564,
                "properties": {
                  "label": "CEO_&_PRESIDENT"
                },
                "label": "CEO_&_PRESIDENT",
                "color": "#607D8B",
                "thickness_factor": 1,
                "directed": true
              },
              {
                "id": 1153169994234724900,
                "start": 565,
                "end": 566,
                "properties": {
                  "label": "CEO"
                },
                "label": "CEO",
                "color": "#673AB7",
                "thickness_factor": 1,
                "directed": true
              },
              {
                "id": 1153107322071941600,
                "start": 567,
                "end": 568,
                "properties": {
                  "label": "FOUNDER"
                },
                "label": "FOUNDER",
                "color": "#9C27B0",
                "thickness_factor": 1,
                "directed": true
              },
              {
                "id": 1153169994234724900,
                "start": 569,
                "end": 570,
                "properties": {
                  "label": "CEO"
                },
                "label": "CEO",
                "color": "#673AB7",
                "thickness_factor": 1,
                "directed": true
              },
              {
                "id": 1153540529653285400,
                "start": 571,
                "end": 521,
                "properties": {
                  "label": "INCORPORATE"
                },
                "label": "INCORPORATE",
                "color": "#4CAF50",
                "thickness_factor": 1,
                "directed": true
              },
              {
                "id": 1153541629164913200,
                "start": 572,
                "end": 573,
                "properties": {
                  "label": "SET"
                },
                "label": "SET",
                "color": "#CDDC39",
                "thickness_factor": 1,
                "directed": true
              },
              {
                "id": 1153145804978913800,
                "start": 580,
                "end": 137,
                "properties": {
                  "label": "ROLE"
                },
                "label": "ROLE",
                "color": "#CDDC39",
                "thickness_factor": 1,
                "directed": true
              },
              {
                "id": 1153145804978913800,
                "start": 581,
                "end": 592,
                "properties": {
                  "label": "ROLE"
                },
                "label": "ROLE",
                "color": "#CDDC39",
                "thickness_factor": 1,
                "directed": true
              },
              {
                "id": 1153145804978913800,
                "start": 582,
                "end": 593,
                "properties": {
                  "label": "ROLE"
                },
                "label": "ROLE",
                "color": "#CDDC39",
                "thickness_factor": 1,
                "directed": true
              },
              {
                "id": 1153145804978913800,
                "start": 583,
                "end": 594,
                "properties": {
                  "label": "ROLE"
                },
                "label": "ROLE",
                "color": "#CDDC39",
                "thickness_factor": 1,
                "directed": true
              },
              {
                "id": 1153145804978913800,
                "start": 584,
                "end": 542,
                "properties": {
                  "label": "ROLE"
                },
                "label": "ROLE",
                "color": "#CDDC39",
                "thickness_factor": 1,
                "directed": true
              },
              {
                "id": 1153145804978913800,
                "start": 585,
                "end": 543,
                "properties": {
                  "label": "ROLE"
                },
                "label": "ROLE",
                "color": "#CDDC39",
                "thickness_factor": 1,
                "directed": true
              },
              {
                "id": 1153135909374263800,
                "start": 586,
                "end": 529,
                "properties": {
                  "label": "AMOUNT"
                },
                "label": "AMOUNT",
                "color": "#607D8B",
                "thickness_factor": 1,
                "directed": true
              },
              {
                "id": 6920240423315177000,
                "start": 642,
                "end": 323,
                "properties": {
                  "label": "PRESIDES_OVER"
                },
                "label": "PRESIDES_OVER",
                "color": "#9E9E9E",
                "thickness_factor": 1,
                "directed": true
              },
              {
                "id": 1153008366025442000,
                "start": 711,
                "end": 714,
                "properties": {
                  "label": "ANNOUNCED_BY"
                },
                "label": "ANNOUNCED_BY",
                "color": "#9E9E9E",
                "thickness_factor": 1,
                "directed": true
              },
              {
                "id": 1155260165839127300,
                "start": 711,
                "end": 715,
                "properties": {
                  "label": "ANNOUNCED_BY"
                },
                "label": "ANNOUNCED_BY",
                "color": "#9E9E9E",
                "thickness_factor": 1,
                "directed": true
              },
              {
                "id": 1153174392281236200,
                "start": 711,
                "end": 712,
                "properties": {
                  "label": "ESTABLISHED_BY"
                },
                "label": "ESTABLISHED_BY",
                "color": "#9E9E9E",
                "thickness_factor": 1,
                "directed": true
              },
              {
                "id": 1153175491792864000,
                "start": 711,
                "end": 713,
                "properties": {
                  "label": "MODELED_AFTER"
                },
                "label": "MODELED_AFTER",
                "color": "#9C27B0",
                "thickness_factor": 1,
                "directed": true
              },
              {
                "id": 1153177690816119600,
                "start": 711,
                "end": 718,
                "properties": {
                  "label": "DIRECT_PATH_TO"
                },
                "label": "DIRECT_PATH_TO",
                "color": "#2196F3",
                "thickness_factor": 1,
                "directed": true
              },
              {
                "id": 1153178790327747300,
                "start": 711,
                "end": 716,
                "properties": {
                  "label": "COLLABORATION_WITH"
                },
                "label": "COLLABORATION_WITH",
                "color": "#4CAF50",
                "thickness_factor": 1,
                "directed": true
              },
              {
                "id": 1155430590141432600,
                "start": 711,
                "end": 717,
                "properties": {
                  "label": "COLLABORATION_WITH"
                },
                "label": "COLLABORATION_WITH",
                "color": "#4CAF50",
                "thickness_factor": 1,
                "directed": true
              },
              {
                "id": 1153542728676541200,
                "start": 719,
                "end": 711,
                "properties": {
                  "label": "ACRONYM_FOR"
                },
                "label": "ACRONYM_FOR",
                "color": "#F44336",
                "thickness_factor": 1,
                "directed": true
              },
              {
                "id": 1153027057723114200,
                "start": 720,
                "end": 711,
                "properties": {
                  "label": "MEMBER_OF"
                },
                "label": "MEMBER_OF",
                "color": "#607D8B",
                "thickness_factor": 1,
                "directed": true
              },
              {
                "id": 1153027057723114200,
                "start": 721,
                "end": 711,
                "properties": {
                  "label": "MEMBER_OF"
                },
                "label": "MEMBER_OF",
                "color": "#607D8B",
                "thickness_factor": 1,
                "directed": true
              },
              {
                "id": 1153027057723114200,
                "start": 722,
                "end": 711,
                "properties": {
                  "label": "MEMBER_OF"
                },
                "label": "MEMBER_OF",
                "color": "#607D8B",
                "thickness_factor": 1,
                "directed": true
              },
              {
                "id": 1153027057723114200,
                "start": 723,
                "end": 711,
                "properties": {
                  "label": "MEMBER_OF"
                },
                "label": "MEMBER_OF",
                "color": "#607D8B",
                "thickness_factor": 1,
                "directed": true
              },
              {
                "id": 1153027057723114200,
                "start": 724,
                "end": 711,
                "properties": {
                  "label": "MEMBER_OF"
                },
                "label": "MEMBER_OF",
                "color": "#607D8B",
                "thickness_factor": 1,
                "directed": true
              },
              {
                "id": 1153027057723114200,
                "start": 725,
                "end": 711,
                "properties": {
                  "label": "MEMBER_OF"
                },
                "label": "MEMBER_OF",
                "color": "#607D8B",
                "thickness_factor": 1,
                "directed": true
              },
              {
                "id": 1153027057723114200,
                "start": 726,
                "end": 711,
                "properties": {
                  "label": "MEMBER_OF"
                },
                "label": "MEMBER_OF",
                "color": "#607D8B",
                "thickness_factor": 1,
                "directed": true
              },
              {
                "id": 1153027057723114200,
                "start": 727,
                "end": 711,
                "properties": {
                  "label": "MEMBER_OF"
                },
                "label": "MEMBER_OF",
                "color": "#607D8B",
                "thickness_factor": 1,
                "directed": true
              },
              {
                "id": 1153027057723114200,
                "start": 728,
                "end": 711,
                "properties": {
                  "label": "MEMBER_OF"
                },
                "label": "MEMBER_OF",
                "color": "#607D8B",
                "thickness_factor": 1,
                "directed": true
              },
              {
                "id": 1153027057723114200,
                "start": 729,
                "end": 711,
                "properties": {
                  "label": "MEMBER_OF"
                },
                "label": "MEMBER_OF",
                "color": "#607D8B",
                "thickness_factor": 1,
                "directed": true
              },
              {
                "id": 1153027057723114200,
                "start": 730,
                "end": 711,
                "properties": {
                  "label": "MEMBER_OF"
                },
                "label": "MEMBER_OF",
                "color": "#607D8B",
                "thickness_factor": 1,
                "directed": true
              },
              {
                "id": 1153027057723114200,
                "start": 731,
                "end": 711,
                "properties": {
                  "label": "MEMBER_OF"
                },
                "label": "MEMBER_OF",
                "color": "#607D8B",
                "thickness_factor": 1,
                "directed": true
              },
              {
                "id": 1153027057723114200,
                "start": 732,
                "end": 711,
                "properties": {
                  "label": "MEMBER_OF"
                },
                "label": "MEMBER_OF",
                "color": "#607D8B",
                "thickness_factor": 1,
                "directed": true
              },
              {
                "id": 1153375602909119200,
                "start": 734,
                "end": 85,
                "properties": {
                  "label": "USED_BY"
                },
                "label": "USED_BY",
                "color": "#607D8B",
                "thickness_factor": 1,
                "directed": true
              },
              {
                "id": 1153543828188169000,
                "start": 734,
                "end": 735,
                "properties": {
                  "label": "SHOW_DUTIES_AND_RESPONSIBILITIES"
                },
                "label": "SHOW_DUTIES_AND_RESPONSIBILITIES",
                "color": "#673AB7",
                "thickness_factor": 1,
                "directed": true
              },
              {
                "id": 1155628502234432300,
                "start": 735,
                "end": 75,
                "properties": {
                  "label": "TOP_RANKING_EXECUTIVE"
                },
                "label": "TOP_RANKING_EXECUTIVE",
                "color": "#CDDC39",
                "thickness_factor": 1,
                "directed": true
              },
              {
                "id": 1153376702420747000,
                "start": 735,
                "end": 736,
                "properties": {
                  "label": "TOP_RANKING_EXECUTIVE"
                },
                "label": "TOP_RANKING_EXECUTIVE",
                "color": "#CDDC39",
                "thickness_factor": 1,
                "directed": true
              },
              {
                "id": 1157880302048117500,
                "start": 735,
                "end": 737,
                "properties": {
                  "label": "TOP_RANKING_EXECUTIVE"
                },
                "label": "TOP_RANKING_EXECUTIVE",
                "color": "#CDDC39",
                "thickness_factor": 1,
                "directed": true
              },
              {
                "id": 1160132101861802800,
                "start": 735,
                "end": 738,
                "properties": {
                  "label": "TOP_RANKING_EXECUTIVE"
                },
                "label": "TOP_RANKING_EXECUTIVE",
                "color": "#CDDC39",
                "thickness_factor": 1,
                "directed": true
              },
              {
                "id": 1153378901444002600,
                "start": 735,
                "end": 76,
                "properties": {
                  "label": "NOT_PART_OF_MANAGEMENT"
                },
                "label": "NOT_PART_OF_MANAGEMENT",
                "color": "#9E9E9E",
                "thickness_factor": 1,
                "directed": true
              },
              {
                "id": 1153380000955630300,
                "start": 735,
                "end": 743,
                "properties": {
                  "label": "PART_OF_CORPORATE_OFFICE"
                },
                "label": "PART_OF_CORPORATE_OFFICE",
                "color": "#9C27B0",
                "thickness_factor": 1,
                "directed": true
              },
              {
                "id": 1153385498513769200,
                "start": 735,
                "end": 76,
                "properties": {
                  "label": "EQUIVALENT_TO_SUPERVISORY_BOARD"
                },
                "label": "EQUIVALENT_TO_SUPERVISORY_BOARD",
                "color": "#CDDC39",
                "thickness_factor": 1,
                "directed": true
              },
              {
                "id": 1153544927699796700,
                "start": 735,
                "end": 739,
                "properties": {
                  "label": "HIGHER_THAN_VICE_PRESIDENTS"
                },
                "label": "HIGHER_THAN_VICE_PRESIDENTS",
                "color": "#9C27B0",
                "thickness_factor": 1,
                "directed": true
              },
              {
                "id": 1153546027211424500,
                "start": 735,
                "end": 741,
                "properties": {
                  "label": "TOP_MANAGER"
                },
                "label": "TOP_MANAGER",
                "color": "#2196F3",
                "thickness_factor": 1,
                "directed": true
              },
              {
                "id": 1155797827025109800,
                "start": 735,
                "end": 748,
                "properties": {
                  "label": "TOP_MANAGER"
                },
                "label": "TOP_MANAGER",
                "color": "#2196F3",
                "thickness_factor": 1,
                "directed": true
              },
              {
                "id": 1153547126723052300,
                "start": 735,
                "end": 323,
                "properties": {
                  "label": "SEPARATE_FROM_SUPERVISORY_BOARD"
                },
                "label": "SEPARATE_FROM_SUPERVISORY_BOARD",
                "color": "#4CAF50",
                "thickness_factor": 1,
                "directed": true
              },
              {
                "id": 1153548226234680000,
                "start": 735,
                "end": 744,
                "properties": {
                  "label": "SEPARATE_FROM_EXECUTIVE_BOARD"
                },
                "label": "SEPARATE_FROM_EXECUTIVE_BOARD",
                "color": "#F44336",
                "thickness_factor": 1,
                "directed": true
              },
              {
                "id": 6920408648594227000,
                "start": 735,
                "end": 323,
                "properties": {
                  "label": "DISTINCTION_BETWEEN_MANAGEMENT_AND_GOVERNANCE"
                },
                "label": "DISTINCTION_BETWEEN_MANAGEMENT_AND_GOVERNANCE",
                "color": "#9C27B0",
                "thickness_factor": 1,
                "directed": true
              },
              {
                "id": 1153549325746307800,
                "start": 735,
                "end": 642,
                "properties": {
                  "label": "DISTINCTION_BETWEEN_MANAGEMENT_AND_GOVERNANCE"
                },
                "label": "DISTINCTION_BETWEEN_MANAGEMENT_AND_GOVERNANCE",
                "color": "#9C27B0",
                "thickness_factor": 1,
                "directed": true
              },
              {
                "id": 1155801125559993000,
                "start": 735,
                "end": 736,
                "properties": {
                  "label": "DISTINCTION_BETWEEN_MANAGEMENT_AND_GOVERNANCE"
                },
                "label": "DISTINCTION_BETWEEN_MANAGEMENT_AND_GOVERNANCE",
                "color": "#9C27B0",
                "thickness_factor": 1,
                "directed": true
              },
              {
                "id": 6920408648594228000,
                "start": 735,
                "end": 744,
                "properties": {
                  "label": "DISTINCTION_BETWEEN_MANAGEMENT_AND_GOVERNANCE"
                },
                "label": "DISTINCTION_BETWEEN_MANAGEMENT_AND_GOVERNANCE",
                "color": "#9C27B0",
                "thickness_factor": 1,
                "directed": true
              },
              {
                "id": 6920240423315178000,
                "start": 736,
                "end": 744,
                "properties": {
                  "label": "PRESIDES_OVER"
                },
                "label": "PRESIDES_OVER",
                "color": "#9E9E9E",
                "thickness_factor": 1,
                "directed": true
              },
              {
                "id": 1153377801932374800,
                "start": 739,
                "end": 740,
                "properties": {
                  "label": "HIGHER_THAN"
                },
                "label": "HIGHER_THAN",
                "color": "#607D8B",
                "thickness_factor": 1,
                "directed": true
              },
              {
                "id": 1155629601746060000,
                "start": 739,
                "end": 741,
                "properties": {
                  "label": "HIGHER_THAN"
                },
                "label": "HIGHER_THAN",
                "color": "#607D8B",
                "thickness_factor": 1,
                "directed": true
              },
              {
                "id": 1157881401559745300,
                "start": 739,
                "end": 742,
                "properties": {
                  "label": "HIGHER_THAN"
                },
                "label": "HIGHER_THAN",
                "color": "#607D8B",
                "thickness_factor": 1,
                "directed": true
              },
              {
                "id": 1153381100467258000,
                "start": 744,
                "end": 736,
                "properties": {
                  "label": "PRESIDES_OVER"
                },
                "label": "PRESIDES_OVER",
                "color": "#9E9E9E",
                "thickness_factor": 1,
                "directed": true
              },
              {
                "id": 1153549325746307800,
                "start": 744,
                "end": 745,
                "properties": {
                  "label": "DISTINCTION_BETWEEN_MANAGEMENT_AND_GOVERNANCE"
                },
                "label": "DISTINCTION_BETWEEN_MANAGEMENT_AND_GOVERNANCE",
                "color": "#9C27B0",
                "thickness_factor": 1,
                "directed": true
              },
              {
                "id": 1153107322071942000,
                "start": 750,
                "end": 751,
                "properties": {
                  "label": "FOUNDER"
                },
                "label": "FOUNDER",
                "color": "#9C27B0",
                "thickness_factor": 1,
                "directed": true
              },
              {
                "id": 1153169994234725000,
                "start": 750,
                "end": 752,
                "properties": {
                  "label": "CEO"
                },
                "label": "CEO",
                "color": "#673AB7",
                "thickness_factor": 1,
                "directed": true
              },
              {
                "id": 1155421794048410400,
                "start": 750,
                "end": 753,
                "properties": {
                  "label": "CEO"
                },
                "label": "CEO",
                "color": "#673AB7",
                "thickness_factor": 1,
                "directed": true
              },
              {
                "id": 1153171093746353000,
                "start": 750,
                "end": 754,
                "properties": {
                  "label": "PRESIDENT"
                },
                "label": "PRESIDENT",
                "color": "#673AB7",
                "thickness_factor": 1,
                "directed": true
              },
              {
                "id": 1153172193257980700,
                "start": 750,
                "end": 755,
                "properties": {
                  "label": "CHIEF_STRATEGY_OFFICER"
                },
                "label": "CHIEF_STRATEGY_OFFICER",
                "color": "#CDDC39",
                "thickness_factor": 1,
                "directed": true
              },
              {
                "id": 1153022659676603100,
                "start": 757,
                "end": 760,
                "properties": {
                  "label": "WORKED_AT"
                },
                "label": "WORKED_AT",
                "color": "#2196F3",
                "thickness_factor": 1,
                "directed": true
              },
              {
                "id": 1155274459490288400,
                "start": 757,
                "end": 761,
                "properties": {
                  "label": "WORKED_AT"
                },
                "label": "WORKED_AT",
                "color": "#2196F3",
                "thickness_factor": 1,
                "directed": true
              },
              {
                "id": 1157526259303973600,
                "start": 757,
                "end": 762,
                "properties": {
                  "label": "WORKED_AT"
                },
                "label": "WORKED_AT",
                "color": "#2196F3",
                "thickness_factor": 1,
                "directed": true
              },
              {
                "id": 1159778059117659000,
                "start": 757,
                "end": 763,
                "properties": {
                  "label": "WORKED_AT"
                },
                "label": "WORKED_AT",
                "color": "#2196F3",
                "thickness_factor": 1,
                "directed": true
              },
              {
                "id": 1162029858931344100,
                "start": 757,
                "end": 764,
                "properties": {
                  "label": "WORKED_AT"
                },
                "label": "WORKED_AT",
                "color": "#2196F3",
                "thickness_factor": 1,
                "directed": true
              },
              {
                "id": 1164281658745029400,
                "start": 757,
                "end": 765,
                "properties": {
                  "label": "WORKED_AT"
                },
                "label": "WORKED_AT",
                "color": "#2196F3",
                "thickness_factor": 1,
                "directed": true
              },
              {
                "id": 1166533458558714600,
                "start": 757,
                "end": 766,
                "properties": {
                  "label": "WORKED_AT"
                },
                "label": "WORKED_AT",
                "color": "#2196F3",
                "thickness_factor": 1,
                "directed": true
              },
              {
                "id": 1153073237211480800,
                "start": 757,
                "end": 758,
                "properties": {
                  "label": "ATTENDED"
                },
                "label": "ATTENDED",
                "color": "#9E9E9E",
                "thickness_factor": 1,
                "directed": true
              },
              {
                "id": 1155325037025166000,
                "start": 757,
                "end": 759,
                "properties": {
                  "label": "ATTENDED"
                },
                "label": "ATTENDED",
                "color": "#9E9E9E",
                "thickness_factor": 1,
                "directed": true
              },
              {
                "id": 1153083132816130800,
                "start": 757,
                "end": 770,
                "properties": {
                  "label": "BOARD_MEMBER"
                },
                "label": "BOARD_MEMBER",
                "color": "#9C27B0",
                "thickness_factor": 1,
                "directed": true
              },
              {
                "id": 1153123814746358500,
                "start": 757,
                "end": 767,
                "properties": {
                  "label": "ADVISOR"
                },
                "label": "ADVISOR",
                "color": "#2196F3",
                "thickness_factor": 1,
                "directed": true
              },
              {
                "id": 1155375614560043800,
                "start": 757,
                "end": 768,
                "properties": {
                  "label": "ADVISOR"
                },
                "label": "ADVISOR",
                "color": "#2196F3",
                "thickness_factor": 1,
                "directed": true
              },
              {
                "id": 1157627414373729000,
                "start": 757,
                "end": 769,
                "properties": {
                  "label": "ADVISOR"
                },
                "label": "ADVISOR",
                "color": "#2196F3",
                "thickness_factor": 1,
                "directed": true
              },
              {
                "id": 1153090829397525200,
                "start": 773,
                "end": 774,
                "properties": {
                  "label": "PART_OF"
                },
                "label": "PART_OF",
                "color": "#F44336",
                "thickness_factor": 1,
                "directed": true
              },
              {
                "id": 1153184287885886200,
                "start": 773,
                "end": 772,
                "properties": {
                  "label": "AMENDED_BY"
                },
                "label": "AMENDED_BY",
                "color": "#4CAF50",
                "thickness_factor": 1,
                "directed": true
              }
            ],
            "_graph_layout": {},
            "_highlight": [],
            "_license": {},
            "_model_module": "yfiles-jupyter-graphs",
            "_model_module_version": "^1.6.2",
            "_model_name": "GraphModel",
            "_neighborhood": {},
            "_nodes": [
              {
                "id": 26,
                "properties": {
                  "id": "Ciso",
                  "label": "__Entity__:Role:Abbreviation"
                },
                "color": "#607D8B",
                "styles": {},
                "label": "Ciso",
                "scale_factor": 1,
                "type": "#607D8B",
                "size": [
                  55,
                  55
                ],
                "position": [
                  0,
                  0
                ]
              },
              {
                "id": 28,
                "properties": {
                  "id": "Enterprise",
                  "label": "__Entity__:Organization"
                },
                "color": "#673AB7",
                "styles": {},
                "label": "Enterprise",
                "scale_factor": 1,
                "type": "#673AB7",
                "size": [
                  55,
                  55
                ],
                "position": [
                  0,
                  0
                ]
              },
              {
                "id": 31,
                "properties": {
                  "id": "Staff",
                  "label": "__Entity__:Person:Team"
                },
                "color": "#2196F3",
                "styles": {},
                "label": "Staff",
                "scale_factor": 1,
                "type": "#2196F3",
                "size": [
                  55,
                  55
                ],
                "position": [
                  0,
                  0
                ]
              },
              {
                "id": 102,
                "properties": {
                  "id": "Managers",
                  "label": "__Entity__:Role:Person"
                },
                "color": "#2196F3",
                "styles": {},
                "label": "Managers",
                "scale_factor": 1,
                "type": "#2196F3",
                "size": [
                  55,
                  55
                ],
                "position": [
                  0,
                  0
                ]
              },
              {
                "id": 103,
                "properties": {
                  "id": "Directors",
                  "label": "__Entity__:Role:Concept"
                },
                "color": "#4CAF50",
                "styles": {},
                "label": "Directors",
                "scale_factor": 1,
                "type": "#4CAF50",
                "size": [
                  55,
                  55
                ],
                "position": [
                  0,
                  0
                ]
              },
              {
                "id": 104,
                "properties": {
                  "id": "Engineers",
                  "label": "__Entity__:Role"
                },
                "color": "#607D8B",
                "styles": {},
                "label": "Engineers",
                "scale_factor": 1,
                "type": "#607D8B",
                "size": [
                  55,
                  55
                ],
                "position": [
                  0,
                  0
                ]
              },
              {
                "id": 105,
                "properties": {
                  "id": "Risk Managers",
                  "label": "__Entity__:Role"
                },
                "color": "#607D8B",
                "styles": {},
                "label": "Risk Managers",
                "scale_factor": 1,
                "type": "#607D8B",
                "size": [
                  55,
                  55
                ],
                "position": [
                  0,
                  0
                ]
              },
              {
                "id": 34,
                "properties": {
                  "id": "Incidents",
                  "label": "__Entity__:Event"
                },
                "color": "#9E9E9E",
                "styles": {},
                "label": "Incidents",
                "scale_factor": 1,
                "type": "#9E9E9E",
                "size": [
                  55,
                  55
                ],
                "position": [
                  0,
                  0
                ]
              },
              {
                "id": 35,
                "properties": {
                  "id": "Standards",
                  "label": "__Entity__:Standard"
                },
                "color": "#F44336",
                "styles": {},
                "label": "Standards",
                "scale_factor": 1,
                "type": "#F44336",
                "size": [
                  55,
                  55
                ],
                "position": [
                  0,
                  0
                ]
              },
              {
                "id": 38,
                "properties": {
                  "id": "Policies",
                  "label": "__Entity__:Policy:Concept"
                },
                "color": "#607D8B",
                "styles": {},
                "label": "Policies",
                "scale_factor": 1,
                "type": "#607D8B",
                "size": [
                  55,
                  55
                ],
                "position": [
                  0,
                  0
                ]
              },
              {
                "id": 39,
                "properties": {
                  "id": "Procedures",
                  "label": "__Entity__:Procedure:Concept"
                },
                "color": "#673AB7",
                "styles": {},
                "label": "Procedures",
                "scale_factor": 1,
                "type": "#673AB7",
                "size": [
                  55,
                  55
                ],
                "position": [
                  0,
                  0
                ]
              },
              {
                "id": 36,
                "properties": {
                  "id": "Controls",
                  "label": "__Entity__:Control"
                },
                "color": "#CDDC39",
                "styles": {},
                "label": "Controls",
                "scale_factor": 1,
                "type": "#CDDC39",
                "size": [
                  55,
                  55
                ],
                "position": [
                  0,
                  0
                ]
              },
              {
                "id": 37,
                "properties": {
                  "id": "Security Technologies",
                  "label": "__Entity__:Technology"
                },
                "color": "#4CAF50",
                "styles": {},
                "label": "Security Technologies",
                "scale_factor": 1,
                "type": "#4CAF50",
                "size": [
                  55,
                  55
                ],
                "position": [
                  0,
                  0
                ]
              },
              {
                "id": 46,
                "properties": {
                  "id": "Computer Emergency Response Team",
                  "label": "__Entity__:Team"
                },
                "color": "#607D8B",
                "styles": {},
                "label": "Computer Emergency Response Team",
                "scale_factor": 1,
                "type": "#607D8B",
                "size": [
                  55,
                  55
                ],
                "position": [
                  0,
                  0
                ]
              },
              {
                "id": 48,
                "properties": {
                  "id": "Disaster Recovery",
                  "label": "__Entity__:Process"
                },
                "color": "#9E9E9E",
                "styles": {},
                "label": "Disaster Recovery",
                "scale_factor": 1,
                "type": "#9E9E9E",
                "size": [
                  55,
                  55
                ],
                "position": [
                  0,
                  0
                ]
              },
              {
                "id": 49,
                "properties": {
                  "id": "Business Continuity Management",
                  "label": "__Entity__:Process"
                },
                "color": "#9E9E9E",
                "styles": {},
                "label": "Business Continuity Management",
                "scale_factor": 1,
                "type": "#9E9E9E",
                "size": [
                  55,
                  55
                ],
                "position": [
                  0,
                  0
                ]
              },
              {
                "id": 50,
                "properties": {
                  "id": "Identity And Access Management",
                  "label": "__Entity__:Process:Management"
                },
                "color": "#9C27B0",
                "styles": {},
                "label": "Identity And Access Management",
                "scale_factor": 1,
                "type": "#9C27B0",
                "size": [
                  55,
                  55
                ],
                "position": [
                  0,
                  0
                ]
              },
              {
                "id": 51,
                "properties": {
                  "id": "Information Privacy",
                  "label": "__Entity__:Process"
                },
                "color": "#9E9E9E",
                "styles": {},
                "label": "Information Privacy",
                "scale_factor": 1,
                "type": "#9E9E9E",
                "size": [
                  55,
                  55
                ],
                "position": [
                  0,
                  0
                ]
              },
              {
                "id": 52,
                "properties": {
                  "id": "Information Regulatory Compliance",
                  "label": "__Entity__:Process"
                },
                "color": "#9E9E9E",
                "styles": {},
                "label": "Information Regulatory Compliance",
                "scale_factor": 1,
                "type": "#9E9E9E",
                "size": [
                  55,
                  55
                ],
                "position": [
                  0,
                  0
                ]
              },
              {
                "id": 53,
                "properties": {
                  "id": "Information Risk Management",
                  "label": "__Entity__:Process"
                },
                "color": "#9E9E9E",
                "styles": {},
                "label": "Information Risk Management",
                "scale_factor": 1,
                "type": "#9E9E9E",
                "size": [
                  55,
                  55
                ],
                "position": [
                  0,
                  0
                ]
              },
              {
                "id": 54,
                "properties": {
                  "id": "Information Security",
                  "label": "__Entity__:Process"
                },
                "color": "#9E9E9E",
                "styles": {},
                "label": "Information Security",
                "scale_factor": 1,
                "type": "#9E9E9E",
                "size": [
                  55,
                  55
                ],
                "position": [
                  0,
                  0
                ]
              },
              {
                "id": 55,
                "properties": {
                  "id": "Information Assurance",
                  "label": "__Entity__:Process"
                },
                "color": "#9E9E9E",
                "styles": {},
                "label": "Information Assurance",
                "scale_factor": 1,
                "type": "#9E9E9E",
                "size": [
                  55,
                  55
                ],
                "position": [
                  0,
                  0
                ]
              },
              {
                "id": 56,
                "properties": {
                  "id": "Information Security Operations Center",
                  "label": "__Entity__:Center"
                },
                "color": "#2196F3",
                "styles": {},
                "label": "Information Security Operations Center",
                "scale_factor": 1,
                "type": "#2196F3",
                "size": [
                  55,
                  55
                ],
                "position": [
                  0,
                  0
                ]
              },
              {
                "id": 58,
                "properties": {
                  "id": "Systems",
                  "label": "__Entity__:System:Concept"
                },
                "color": "#4CAF50",
                "styles": {},
                "label": "Systems",
                "scale_factor": 1,
                "type": "#4CAF50",
                "size": [
                  55,
                  55
                ],
                "position": [
                  0,
                  0
                ]
              },
              {
                "id": 99,
                "properties": {
                  "id": "Infosec Budgets",
                  "label": "__Entity__:Budget"
                },
                "color": "#F44336",
                "styles": {},
                "label": "Infosec Budgets",
                "scale_factor": 1,
                "type": "#F44336",
                "size": [
                  55,
                  55
                ],
                "position": [
                  0,
                  0
                ]
              },
              {
                "id": 29,
                "properties": {
                  "id": "Information Assets",
                  "label": "Asset:__Entity__"
                },
                "color": "#607D8B",
                "styles": {},
                "label": "Information Assets",
                "scale_factor": 1,
                "type": "#607D8B",
                "size": [
                  55,
                  55
                ],
                "position": [
                  0,
                  0
                ]
              },
              {
                "id": 30,
                "properties": {
                  "id": "Technologies",
                  "label": "__Entity__:Technology:Concept"
                },
                "color": "#2196F3",
                "styles": {},
                "label": "Technologies",
                "scale_factor": 1,
                "type": "#2196F3",
                "size": [
                  55,
                  55
                ],
                "position": [
                  0,
                  0
                ]
              },
              {
                "id": 40,
                "properties": {
                  "id": "Proprietary Information",
                  "label": "__Entity__:Information"
                },
                "color": "#673AB7",
                "styles": {},
                "label": "Proprietary Information",
                "scale_factor": 1,
                "type": "#673AB7",
                "size": [
                  55,
                  55
                ],
                "position": [
                  0,
                  0
                ]
              },
              {
                "id": 41,
                "properties": {
                  "id": "Assets",
                  "label": "Asset:__Entity__:Concept"
                },
                "color": "#CDDC39",
                "styles": {},
                "label": "Assets",
                "scale_factor": 1,
                "type": "#CDDC39",
                "size": [
                  55,
                  55
                ],
                "position": [
                  0,
                  0
                ]
              },
              {
                "id": 42,
                "properties": {
                  "id": "Company",
                  "label": "__Entity__:Organization"
                },
                "color": "#673AB7",
                "styles": {},
                "label": "Company",
                "scale_factor": 1,
                "type": "#673AB7",
                "size": [
                  55,
                  55
                ],
                "position": [
                  0,
                  0
                ]
              },
              {
                "id": 43,
                "properties": {
                  "id": "Clients",
                  "label": "__Entity__:Person"
                },
                "color": "#9C27B0",
                "styles": {},
                "label": "Clients",
                "scale_factor": 1,
                "type": "#9C27B0",
                "size": [
                  55,
                  55
                ],
                "position": [
                  0,
                  0
                ]
              },
              {
                "id": 44,
                "properties": {
                  "id": "Consumers",
                  "label": "__Entity__:Person"
                },
                "color": "#9C27B0",
                "styles": {},
                "label": "Consumers",
                "scale_factor": 1,
                "type": "#9C27B0",
                "size": [
                  55,
                  55
                ],
                "position": [
                  0,
                  0
                ]
              },
              {
                "id": 70,
                "properties": {
                  "id": "Customer Privacy",
                  "label": "__Entity__:Privacy"
                },
                "color": "#9E9E9E",
                "styles": {},
                "label": "Customer Privacy",
                "scale_factor": 1,
                "type": "#9E9E9E",
                "size": [
                  55,
                  55
                ],
                "position": [
                  0,
                  0
                ]
              },
              {
                "id": 45,
                "properties": {
                  "id": "Executives",
                  "label": "__Entity__:Person"
                },
                "color": "#9C27B0",
                "styles": {},
                "label": "Executives",
                "scale_factor": 1,
                "type": "#9C27B0",
                "size": [
                  55,
                  55
                ],
                "position": [
                  0,
                  0
                ]
              },
              {
                "id": 65,
                "properties": {
                  "id": "Cio",
                  "label": "__Entity__:Role:Abbreviation"
                },
                "color": "#607D8B",
                "styles": {},
                "label": "Cio",
                "scale_factor": 1,
                "type": "#607D8B",
                "size": [
                  55,
                  55
                ],
                "position": [
                  0,
                  0
                ]
              },
              {
                "id": 66,
                "properties": {
                  "id": "Cso",
                  "label": "__Entity__:Acronym:Role:Abbreviation"
                },
                "color": "#9C27B0",
                "styles": {},
                "label": "Cso",
                "scale_factor": 1,
                "type": "#9C27B0",
                "size": [
                  55,
                  55
                ],
                "position": [
                  0,
                  0
                ]
              },
              {
                "id": 75,
                "properties": {
                  "id": "Chief Executive Officer",
                  "label": "__Entity__:Role:Person"
                },
                "color": "#2196F3",
                "styles": {},
                "label": "Chief Executive Officer",
                "scale_factor": 1,
                "type": "#2196F3",
                "size": [
                  55,
                  55
                ],
                "position": [
                  0,
                  0
                ]
              },
              {
                "id": 76,
                "properties": {
                  "id": "Board Of Directors",
                  "label": "__Entity__:Role:Concept"
                },
                "color": "#4CAF50",
                "styles": {},
                "label": "Board Of Directors",
                "scale_factor": 1,
                "type": "#4CAF50",
                "size": [
                  55,
                  55
                ],
                "position": [
                  0,
                  0
                ]
              },
              {
                "id": 69,
                "properties": {
                  "id": "Business Processes",
                  "label": "__Entity__:Process"
                },
                "color": "#9E9E9E",
                "styles": {},
                "label": "Business Processes",
                "scale_factor": 1,
                "type": "#9E9E9E",
                "size": [
                  55,
                  55
                ],
                "position": [
                  0,
                  0
                ]
              },
              {
                "id": 74,
                "properties": {
                  "id": "Chief Information Officer",
                  "label": "__Entity__:Role:Person:Job title"
                },
                "color": "#673AB7",
                "styles": {},
                "label": "Chief Information Officer",
                "scale_factor": 1,
                "type": "#673AB7",
                "size": [
                  55,
                  55
                ],
                "position": [
                  0,
                  0
                ]
              },
              {
                "id": 92,
                "properties": {
                  "id": "Certifications",
                  "label": "__Entity__:Certification"
                },
                "color": "#2196F3",
                "styles": {},
                "label": "Certifications",
                "scale_factor": 1,
                "type": "#2196F3",
                "size": [
                  55,
                  55
                ],
                "position": [
                  0,
                  0
                ]
              },
              {
                "id": 97,
                "properties": {
                  "id": "Training",
                  "label": "__Entity__:Concept:Training"
                },
                "color": "#2196F3",
                "styles": {},
                "label": "Training",
                "scale_factor": 1,
                "type": "#2196F3",
                "size": [
                  55,
                  55
                ],
                "position": [
                  0,
                  0
                ]
              },
              {
                "id": 79,
                "properties": {
                  "id": "Size",
                  "label": "__Entity__:Attribute:Concept"
                },
                "color": "#4CAF50",
                "styles": {},
                "label": "Size",
                "scale_factor": 1,
                "type": "#4CAF50",
                "size": [
                  55,
                  55
                ],
                "position": [
                  0,
                  0
                ]
              },
              {
                "id": 80,
                "properties": {
                  "id": "Industry",
                  "label": "__Entity__:Industry"
                },
                "color": "#607D8B",
                "styles": {},
                "label": "Industry",
                "scale_factor": 1,
                "type": "#607D8B",
                "size": [
                  55,
                  55
                ],
                "position": [
                  0,
                  0
                ]
              },
              {
                "id": 81,
                "properties": {
                  "id": "Regulatory Environment",
                  "label": "__Entity__:Environment"
                },
                "color": "#F44336",
                "styles": {},
                "label": "Regulatory Environment",
                "scale_factor": 1,
                "type": "#F44336",
                "size": [
                  55,
                  55
                ],
                "position": [
                  0,
                  0
                ]
              },
              {
                "id": 82,
                "properties": {
                  "id": "Risk Profile",
                  "label": "__Entity__:Profile"
                },
                "color": "#607D8B",
                "styles": {},
                "label": "Risk Profile",
                "scale_factor": 1,
                "type": "#607D8B",
                "size": [
                  55,
                  55
                ],
                "position": [
                  0,
                  0
                ]
              },
              {
                "id": 27,
                "properties": {
                  "id": "Organization",
                  "label": "__Entity__:Concept:Organization:Entity"
                },
                "color": "#CDDC39",
                "styles": {},
                "label": "Organization",
                "scale_factor": 1,
                "type": "#CDDC39",
                "size": [
                  55,
                  55
                ],
                "position": [
                  0,
                  0
                ]
              },
              {
                "id": 90,
                "properties": {
                  "id": "Compensation",
                  "label": "__Entity__:Factor"
                },
                "color": "#673AB7",
                "styles": {},
                "label": "Compensation",
                "scale_factor": 1,
                "type": "#673AB7",
                "size": [
                  55,
                  55
                ],
                "position": [
                  0,
                  0
                ]
              },
              {
                "id": 91,
                "properties": {
                  "id": "C-Level Positions",
                  "label": "__Entity__:Position"
                },
                "color": "#9E9E9E",
                "styles": {},
                "label": "C-Level Positions",
                "scale_factor": 1,
                "type": "#9E9E9E",
                "size": [
                  55,
                  55
                ],
                "position": [
                  0,
                  0
                ]
              },
              {
                "id": 47,
                "properties": {
                  "id": "Cybersecurity",
                  "label": "__Entity__:Concept:Field"
                },
                "color": "#CDDC39",
                "styles": {},
                "label": "Cybersecurity",
                "scale_factor": 1,
                "type": "#CDDC39",
                "size": [
                  55,
                  55
                ],
                "position": [
                  0,
                  0
                ]
              },
              {
                "id": 59,
                "properties": {
                  "id": "Investigations",
                  "label": "__Entity__:Process"
                },
                "color": "#9E9E9E",
                "styles": {},
                "label": "Investigations",
                "scale_factor": 1,
                "type": "#9E9E9E",
                "size": [
                  55,
                  55
                ],
                "position": [
                  0,
                  0
                ]
              },
              {
                "id": 60,
                "properties": {
                  "id": "Digital Forensics",
                  "label": "__Entity__:Process"
                },
                "color": "#9E9E9E",
                "styles": {},
                "label": "Digital Forensics",
                "scale_factor": 1,
                "type": "#9E9E9E",
                "size": [
                  55,
                  55
                ],
                "position": [
                  0,
                  0
                ]
              },
              {
                "id": 61,
                "properties": {
                  "id": "Ediscovery",
                  "label": "__Entity__:Process"
                },
                "color": "#9E9E9E",
                "styles": {},
                "label": "Ediscovery",
                "scale_factor": 1,
                "type": "#9E9E9E",
                "size": [
                  55,
                  55
                ],
                "position": [
                  0,
                  0
                ]
              },
              {
                "id": 101,
                "properties": {
                  "id": "Teams",
                  "label": "__Entity__:Team"
                },
                "color": "#607D8B",
                "styles": {},
                "label": "Teams",
                "scale_factor": 1,
                "type": "#607D8B",
                "size": [
                  55,
                  55
                ],
                "position": [
                  0,
                  0
                ]
              },
              {
                "id": 33,
                "properties": {
                  "id": "Risks",
                  "label": "__Entity__:Risk:Concept"
                },
                "color": "#9E9E9E",
                "styles": {},
                "label": "Risks",
                "scale_factor": 1,
                "type": "#9E9E9E",
                "size": [
                  55,
                  55
                ],
                "position": [
                  0,
                  0
                ]
              },
              {
                "id": 57,
                "properties": {
                  "id": "It Controls",
                  "label": "__Entity__:Control"
                },
                "color": "#CDDC39",
                "styles": {},
                "label": "It Controls",
                "scale_factor": 1,
                "type": "#CDDC39",
                "size": [
                  55,
                  55
                ],
                "position": [
                  0,
                  0
                ]
              },
              {
                "id": 62,
                "properties": {
                  "id": "Function",
                  "label": "__Entity__:Function"
                },
                "color": "#9C27B0",
                "styles": {},
                "label": "Function",
                "scale_factor": 1,
                "type": "#9C27B0",
                "size": [
                  55,
                  55
                ],
                "position": [
                  0,
                  0
                ]
              },
              {
                "id": 63,
                "properties": {
                  "id": "Businesses",
                  "label": "__Entity__:Organization"
                },
                "color": "#673AB7",
                "styles": {},
                "label": "Businesses",
                "scale_factor": 1,
                "type": "#673AB7",
                "size": [
                  55,
                  55
                ],
                "position": [
                  0,
                  0
                ]
              },
              {
                "id": 64,
                "properties": {
                  "id": "Global State Of Information Security Survey",
                  "label": "__Entity__:Survey"
                },
                "color": "#2196F3",
                "styles": {},
                "label": "Global State Of Information Security Survey",
                "scale_factor": 1,
                "type": "#2196F3",
                "size": [
                  55,
                  55
                ],
                "position": [
                  0,
                  0
                ]
              },
              {
                "id": 67,
                "properties": {
                  "id": "Pwc",
                  "label": "__Entity__:Organization"
                },
                "color": "#673AB7",
                "styles": {},
                "label": "Pwc",
                "scale_factor": 1,
                "type": "#673AB7",
                "size": [
                  55,
                  55
                ],
                "position": [
                  0,
                  0
                ]
              },
              {
                "id": 68,
                "properties": {
                  "id": "Role",
                  "label": "__Entity__:Position"
                },
                "color": "#9E9E9E",
                "styles": {},
                "label": "Role",
                "scale_factor": 1,
                "type": "#9E9E9E",
                "size": [
                  55,
                  55
                ],
                "position": [
                  0,
                  0
                ]
              },
              {
                "id": 71,
                "properties": {
                  "id": "Trend",
                  "label": "__Entity__:Trend"
                },
                "color": "#4CAF50",
                "styles": {},
                "label": "Trend",
                "scale_factor": 1,
                "type": "#4CAF50",
                "size": [
                  55,
                  55
                ],
                "position": [
                  0,
                  0
                ]
              },
              {
                "id": 72,
                "properties": {
                  "id": "It Group",
                  "label": "__Entity__:Group"
                },
                "color": "#607D8B",
                "styles": {},
                "label": "It Group",
                "scale_factor": 1,
                "type": "#607D8B",
                "size": [
                  55,
                  55
                ],
                "position": [
                  0,
                  0
                ]
              },
              {
                "id": 77,
                "properties": {
                  "id": "Conflicts Of Interest",
                  "label": "__Entity__:Issue"
                },
                "color": "#F44336",
                "styles": {},
                "label": "Conflicts Of Interest",
                "scale_factor": 1,
                "type": "#F44336",
                "size": [
                  55,
                  55
                ],
                "position": [
                  0,
                  0
                ]
              },
              {
                "id": 78,
                "properties": {
                  "id": "Responsibilities",
                  "label": "__Entity__:Responsibility"
                },
                "color": "#607D8B",
                "styles": {},
                "label": "Responsibilities",
                "scale_factor": 1,
                "type": "#607D8B",
                "size": [
                  55,
                  55
                ],
                "position": [
                  0,
                  0
                ]
              },
              {
                "id": 83,
                "properties": {
                  "id": "Importance",
                  "label": "__Entity__:Factor"
                },
                "color": "#673AB7",
                "styles": {},
                "label": "Importance",
                "scale_factor": 1,
                "type": "#673AB7",
                "size": [
                  55,
                  55
                ],
                "position": [
                  0,
                  0
                ]
              },
              {
                "id": 84,
                "properties": {
                  "id": "Senior-Level Position",
                  "label": "__Entity__:Position"
                },
                "color": "#9E9E9E",
                "styles": {},
                "label": "Senior-Level Position",
                "scale_factor": 1,
                "type": "#9E9E9E",
                "size": [
                  55,
                  55
                ],
                "position": [
                  0,
                  0
                ]
              },
              {
                "id": 85,
                "properties": {
                  "id": "Corporations",
                  "label": "__Entity__:Organization:Concept"
                },
                "color": "#607D8B",
                "styles": {},
                "label": "Corporations",
                "scale_factor": 1,
                "type": "#607D8B",
                "size": [
                  55,
                  55
                ],
                "position": [
                  0,
                  0
                ]
              },
              {
                "id": 86,
                "properties": {
                  "id": "Balance",
                  "label": "__Entity__:Concept:Factor"
                },
                "color": "#673AB7",
                "styles": {},
                "label": "Balance",
                "scale_factor": 1,
                "type": "#673AB7",
                "size": [
                  55,
                  55
                ],
                "position": [
                  0,
                  0
                ]
              },
              {
                "id": 87,
                "properties": {
                  "id": "Acumen",
                  "label": "__Entity__:Skill"
                },
                "color": "#CDDC39",
                "styles": {},
                "label": "Acumen",
                "scale_factor": 1,
                "type": "#CDDC39",
                "size": [
                  55,
                  55
                ],
                "position": [
                  0,
                  0
                ]
              },
              {
                "id": 88,
                "properties": {
                  "id": "Knowledge",
                  "label": "__Entity__:Skill"
                },
                "color": "#CDDC39",
                "styles": {},
                "label": "Knowledge",
                "scale_factor": 1,
                "type": "#CDDC39",
                "size": [
                  55,
                  55
                ],
                "position": [
                  0,
                  0
                ]
              },
              {
                "id": 89,
                "properties": {
                  "id": "Demand",
                  "label": "__Entity__:Factor"
                },
                "color": "#673AB7",
                "styles": {},
                "label": "Demand",
                "scale_factor": 1,
                "type": "#673AB7",
                "size": [
                  55,
                  55
                ],
                "position": [
                  0,
                  0
                ]
              },
              {
                "id": 93,
                "properties": {
                  "id": "Cissp",
                  "label": "__Entity__:Certification"
                },
                "color": "#2196F3",
                "styles": {},
                "label": "Cissp",
                "scale_factor": 1,
                "type": "#2196F3",
                "size": [
                  55,
                  55
                ],
                "position": [
                  0,
                  0
                ]
              },
              {
                "id": 94,
                "properties": {
                  "id": "Cism",
                  "label": "__Entity__:Certification"
                },
                "color": "#2196F3",
                "styles": {},
                "label": "Cism",
                "scale_factor": 1,
                "type": "#2196F3",
                "size": [
                  55,
                  55
                ],
                "position": [
                  0,
                  0
                ]
              },
              {
                "id": 95,
                "properties": {
                  "id": "Background",
                  "label": "__Entity__:Background"
                },
                "color": "#9E9E9E",
                "styles": {},
                "label": "Background",
                "scale_factor": 1,
                "type": "#9E9E9E",
                "size": [
                  55,
                  55
                ],
                "position": [
                  0,
                  0
                ]
              },
              {
                "id": 96,
                "properties": {
                  "id": "Skillset",
                  "label": "__Entity__:Skill"
                },
                "color": "#CDDC39",
                "styles": {},
                "label": "Skillset",
                "scale_factor": 1,
                "type": "#CDDC39",
                "size": [
                  55,
                  55
                ],
                "position": [
                  0,
                  0
                ]
              },
              {
                "id": 98,
                "properties": {
                  "id": "Project Management",
                  "label": "__Entity__:Management"
                },
                "color": "#9C27B0",
                "styles": {},
                "label": "Project Management",
                "scale_factor": 1,
                "type": "#9C27B0",
                "size": [
                  55,
                  55
                ],
                "position": [
                  0,
                  0
                ]
              },
              {
                "id": 100,
                "properties": {
                  "id": "Soft-Skills",
                  "label": "__Entity__:Skill"
                },
                "color": "#CDDC39",
                "styles": {},
                "label": "Soft-Skills",
                "scale_factor": 1,
                "type": "#CDDC39",
                "size": [
                  55,
                  55
                ],
                "position": [
                  0,
                  0
                ]
              },
              {
                "id": 106,
                "properties": {
                  "id": "Privacy Matters",
                  "label": "__Entity__:Issue"
                },
                "color": "#F44336",
                "styles": {},
                "label": "Privacy Matters",
                "scale_factor": 1,
                "type": "#F44336",
                "size": [
                  55,
                  55
                ],
                "position": [
                  0,
                  0
                ]
              },
              {
                "id": 107,
                "properties": {
                  "id": "Cipp",
                  "label": "__Entity__:Certification"
                },
                "color": "#2196F3",
                "styles": {},
                "label": "Cipp",
                "scale_factor": 1,
                "type": "#2196F3",
                "size": [
                  55,
                  55
                ],
                "position": [
                  0,
                  0
                ]
              },
              {
                "id": 32,
                "properties": {
                  "id": "Processes",
                  "label": "__Entity__:Process:Concept"
                },
                "color": "#2196F3",
                "styles": {},
                "label": "Processes",
                "scale_factor": 1,
                "type": "#2196F3",
                "size": [
                  55,
                  55
                ],
                "position": [
                  0,
                  0
                ]
              },
              {
                "id": 254,
                "properties": {
                  "id": "Cyber-Attacks",
                  "label": "__Entity__:Concept"
                },
                "color": "#F44336",
                "styles": {},
                "label": "Cyber-Attacks",
                "scale_factor": 1,
                "type": "#F44336",
                "size": [
                  55,
                  55
                ],
                "position": [
                  0,
                  0
                ]
              },
              {
                "id": 152,
                "properties": {
                  "id": "Commanding Officer",
                  "label": "__Entity__:Job title"
                },
                "color": "#4CAF50",
                "styles": {},
                "label": "Commanding Officer",
                "scale_factor": 1,
                "type": "#4CAF50",
                "size": [
                  55,
                  55
                ],
                "position": [
                  0,
                  0
                ]
              },
              {
                "id": 148,
                "properties": {
                  "id": "Chief Digital Information Officer",
                  "label": "__Entity__:Job title"
                },
                "color": "#4CAF50",
                "styles": {},
                "label": "Chief Digital Information Officer",
                "scale_factor": 1,
                "type": "#4CAF50",
                "size": [
                  55,
                  55
                ],
                "position": [
                  0,
                  0
                ]
              },
              {
                "id": 149,
                "properties": {
                  "id": "Information Technology Director",
                  "label": "__Entity__:Job title"
                },
                "color": "#4CAF50",
                "styles": {},
                "label": "Information Technology Director",
                "scale_factor": 1,
                "type": "#4CAF50",
                "size": [
                  55,
                  55
                ],
                "position": [
                  0,
                  0
                ]
              },
              {
                "id": 150,
                "properties": {
                  "id": "William R. Synnott",
                  "label": "__Entity__:Person"
                },
                "color": "#9C27B0",
                "styles": {},
                "label": "William R. Synnott",
                "scale_factor": 1,
                "type": "#9C27B0",
                "size": [
                  55,
                  55
                ],
                "position": [
                  0,
                  0
                ]
              },
              {
                "id": 151,
                "properties": {
                  "id": "William H. Gruber",
                  "label": "__Entity__:Person"
                },
                "color": "#9C27B0",
                "styles": {},
                "label": "William H. Gruber",
                "scale_factor": 1,
                "type": "#9C27B0",
                "size": [
                  55,
                  55
                ],
                "position": [
                  0,
                  0
                ]
              },
              {
                "id": 153,
                "properties": {
                  "id": "Paul Burfitt",
                  "label": "__Entity__:Person"
                },
                "color": "#9C27B0",
                "styles": {},
                "label": "Paul Burfitt",
                "scale_factor": 1,
                "type": "#9C27B0",
                "size": [
                  55,
                  55
                ],
                "position": [
                  0,
                  0
                ]
              },
              {
                "id": 736,
                "properties": {
                  "id": "Chairman",
                  "label": "__Entity__:Person"
                },
                "color": "#9C27B0",
                "styles": {},
                "label": "Chairman",
                "scale_factor": 1,
                "type": "#9C27B0",
                "size": [
                  55,
                  55
                ],
                "position": [
                  0,
                  0
                ]
              },
              {
                "id": 744,
                "properties": {
                  "id": "Supervisory Board",
                  "label": "__Entity__:Concept"
                },
                "color": "#F44336",
                "styles": {},
                "label": "Supervisory Board",
                "scale_factor": 1,
                "type": "#F44336",
                "size": [
                  55,
                  55
                ],
                "position": [
                  0,
                  0
                ]
              },
              {
                "id": 323,
                "properties": {
                  "id": "Executive Board",
                  "label": "__Entity__:Concept"
                },
                "color": "#F44336",
                "styles": {},
                "label": "Executive Board",
                "scale_factor": 1,
                "type": "#F44336",
                "size": [
                  55,
                  55
                ],
                "position": [
                  0,
                  0
                ]
              },
              {
                "id": 559,
                "properties": {
                  "id": "Catastrophic Risk",
                  "label": "__Entity__:Concept"
                },
                "color": "#F44336",
                "styles": {},
                "label": "Catastrophic Risk",
                "scale_factor": 1,
                "type": "#F44336",
                "size": [
                  55,
                  55
                ],
                "position": [
                  0,
                  0
                ]
              },
              {
                "id": 557,
                "properties": {
                  "id": "Public Benefit",
                  "label": "__Entity__:Concept"
                },
                "color": "#F44336",
                "styles": {},
                "label": "Public Benefit",
                "scale_factor": 1,
                "type": "#F44336",
                "size": [
                  55,
                  55
                ],
                "position": [
                  0,
                  0
                ]
              },
              {
                "id": 558,
                "properties": {
                  "id": "Profit",
                  "label": "__Entity__:Concept"
                },
                "color": "#F44336",
                "styles": {},
                "label": "Profit",
                "scale_factor": 1,
                "type": "#F44336",
                "size": [
                  55,
                  55
                ],
                "position": [
                  0,
                  0
                ]
              },
              {
                "id": 109,
                "properties": {
                  "id": "Chief Security Officer",
                  "label": "__Entity__:Role"
                },
                "color": "#607D8B",
                "styles": {},
                "label": "Chief Security Officer",
                "scale_factor": 1,
                "type": "#607D8B",
                "size": [
                  55,
                  55
                ],
                "position": [
                  0,
                  0
                ]
              },
              {
                "id": 126,
                "properties": {
                  "id": "Employees",
                  "label": "__Entity__:Person"
                },
                "color": "#9C27B0",
                "styles": {},
                "label": "Employees",
                "scale_factor": 1,
                "type": "#9C27B0",
                "size": [
                  55,
                  55
                ],
                "position": [
                  0,
                  0
                ]
              },
              {
                "id": 127,
                "properties": {
                  "id": "Customers",
                  "label": "__Entity__:Person"
                },
                "color": "#9C27B0",
                "styles": {},
                "label": "Customers",
                "scale_factor": 1,
                "type": "#9C27B0",
                "size": [
                  55,
                  55
                ],
                "position": [
                  0,
                  0
                ]
              },
              {
                "id": 128,
                "properties": {
                  "id": "Stakeholders",
                  "label": "__Entity__:Person:Concept"
                },
                "color": "#F44336",
                "styles": {},
                "label": "Stakeholders",
                "scale_factor": 1,
                "type": "#F44336",
                "size": [
                  55,
                  55
                ],
                "position": [
                  0,
                  0
                ]
              },
              {
                "id": 129,
                "properties": {
                  "id": "Visitors",
                  "label": "__Entity__:Person"
                },
                "color": "#9C27B0",
                "styles": {},
                "label": "Visitors",
                "scale_factor": 1,
                "type": "#9C27B0",
                "size": [
                  55,
                  55
                ],
                "position": [
                  0,
                  0
                ]
              },
              {
                "id": 130,
                "properties": {
                  "id": "Physical Assets",
                  "label": "Asset:__Entity__"
                },
                "color": "#607D8B",
                "styles": {},
                "label": "Physical Assets",
                "scale_factor": 1,
                "type": "#607D8B",
                "size": [
                  55,
                  55
                ],
                "position": [
                  0,
                  0
                ]
              },
              {
                "id": 114,
                "properties": {
                  "id": "Technology Solutions",
                  "label": "__Entity__:Technology"
                },
                "color": "#4CAF50",
                "styles": {},
                "label": "Technology Solutions",
                "scale_factor": 1,
                "type": "#4CAF50",
                "size": [
                  55,
                  55
                ],
                "position": [
                  0,
                  0
                ]
              },
              {
                "id": 119,
                "properties": {
                  "id": "High-Level Officials In Law Enforcement",
                  "label": "__Entity__:Person"
                },
                "color": "#9C27B0",
                "styles": {},
                "label": "High-Level Officials In Law Enforcement",
                "scale_factor": 1,
                "type": "#9C27B0",
                "size": [
                  55,
                  55
                ],
                "position": [
                  0,
                  0
                ]
              },
              {
                "id": 124,
                "properties": {
                  "id": "Site Security",
                  "label": "__Entity__:Security"
                },
                "color": "#607D8B",
                "styles": {},
                "label": "Site Security",
                "scale_factor": 1,
                "type": "#607D8B",
                "size": [
                  55,
                  55
                ],
                "position": [
                  0,
                  0
                ]
              },
              {
                "id": 125,
                "properties": {
                  "id": "Operations",
                  "label": "__Entity__:Activity"
                },
                "color": "#673AB7",
                "styles": {},
                "label": "Operations",
                "scale_factor": 1,
                "type": "#673AB7",
                "size": [
                  55,
                  55
                ],
                "position": [
                  0,
                  0
                ]
              },
              {
                "id": 110,
                "properties": {
                  "id": "Executive Leadership Team",
                  "label": "__Entity__:Team"
                },
                "color": "#607D8B",
                "styles": {},
                "label": "Executive Leadership Team",
                "scale_factor": 1,
                "type": "#607D8B",
                "size": [
                  55,
                  55
                ],
                "position": [
                  0,
                  0
                ]
              },
              {
                "id": 115,
                "properties": {
                  "id": "Innovative Security Management Techniques",
                  "label": "__Entity__:Technique"
                },
                "color": "#CDDC39",
                "styles": {},
                "label": "Innovative Security Management Techniques",
                "scale_factor": 1,
                "type": "#CDDC39",
                "size": [
                  55,
                  55
                ],
                "position": [
                  0,
                  0
                ]
              },
              {
                "id": 117,
                "properties": {
                  "id": "Intellectual Property",
                  "label": "Asset:__Entity__"
                },
                "color": "#607D8B",
                "styles": {},
                "label": "Intellectual Property",
                "scale_factor": 1,
                "type": "#607D8B",
                "size": [
                  55,
                  55
                ],
                "position": [
                  0,
                  0
                ]
              },
              {
                "id": 118,
                "properties": {
                  "id": "Trade Secrets",
                  "label": "Asset:__Entity__"
                },
                "color": "#607D8B",
                "styles": {},
                "label": "Trade Secrets",
                "scale_factor": 1,
                "type": "#607D8B",
                "size": [
                  55,
                  55
                ],
                "position": [
                  0,
                  0
                ]
              },
              {
                "id": 120,
                "properties": {
                  "id": "In-Country Security",
                  "label": "__Entity__:Function"
                },
                "color": "#9C27B0",
                "styles": {},
                "label": "In-Country Security",
                "scale_factor": 1,
                "type": "#9C27B0",
                "size": [
                  55,
                  55
                ],
                "position": [
                  0,
                  0
                ]
              },
              {
                "id": 121,
                "properties": {
                  "id": "International Security Agencies",
                  "label": "__Entity__:Organization"
                },
                "color": "#673AB7",
                "styles": {},
                "label": "International Security Agencies",
                "scale_factor": 1,
                "type": "#673AB7",
                "size": [
                  55,
                  55
                ],
                "position": [
                  0,
                  0
                ]
              },
              {
                "id": 122,
                "properties": {
                  "id": "Governmental Functions",
                  "label": "__Entity__:Function"
                },
                "color": "#9C27B0",
                "styles": {},
                "label": "Governmental Functions",
                "scale_factor": 1,
                "type": "#9C27B0",
                "size": [
                  55,
                  55
                ],
                "position": [
                  0,
                  0
                ]
              },
              {
                "id": 123,
                "properties": {
                  "id": "Law Enforcement",
                  "label": "__Entity__:Organization"
                },
                "color": "#673AB7",
                "styles": {},
                "label": "Law Enforcement",
                "scale_factor": 1,
                "type": "#673AB7",
                "size": [
                  55,
                  55
                ],
                "position": [
                  0,
                  0
                ]
              },
              {
                "id": 131,
                "properties": {
                  "id": "Internal Policy Committees",
                  "label": "__Entity__:Team"
                },
                "color": "#607D8B",
                "styles": {},
                "label": "Internal Policy Committees",
                "scale_factor": 1,
                "type": "#607D8B",
                "size": [
                  55,
                  55
                ],
                "position": [
                  0,
                  0
                ]
              },
              {
                "id": 132,
                "properties": {
                  "id": "Personnel",
                  "label": "__Entity__:Person"
                },
                "color": "#9C27B0",
                "styles": {},
                "label": "Personnel",
                "scale_factor": 1,
                "type": "#9C27B0",
                "size": [
                  55,
                  55
                ],
                "position": [
                  0,
                  0
                ]
              },
              {
                "id": 133,
                "properties": {
                  "id": "External Resources",
                  "label": "__Entity__:Entity"
                },
                "color": "#9C27B0",
                "styles": {},
                "label": "External Resources",
                "scale_factor": 1,
                "type": "#9C27B0",
                "size": [
                  55,
                  55
                ],
                "position": [
                  0,
                  0
                ]
              },
              {
                "id": 134,
                "properties": {
                  "id": "Digital Security",
                  "label": "__Entity__:Security:Concept"
                },
                "color": "#9E9E9E",
                "styles": {},
                "label": "Digital Security",
                "scale_factor": 1,
                "type": "#9E9E9E",
                "size": [
                  55,
                  55
                ],
                "position": [
                  0,
                  0
                ]
              },
              {
                "id": 135,
                "properties": {
                  "id": "Cyber Security",
                  "label": "__Entity__:Security"
                },
                "color": "#607D8B",
                "styles": {},
                "label": "Cyber Security",
                "scale_factor": 1,
                "type": "#607D8B",
                "size": [
                  55,
                  55
                ],
                "position": [
                  0,
                  0
                ]
              },
              {
                "id": 136,
                "properties": {
                  "id": "It Security",
                  "label": "__Entity__:Security"
                },
                "color": "#607D8B",
                "styles": {},
                "label": "It Security",
                "scale_factor": 1,
                "type": "#607D8B",
                "size": [
                  55,
                  55
                ],
                "position": [
                  0,
                  0
                ]
              },
              {
                "id": 137,
                "properties": {
                  "id": "Chief Information Security Officer",
                  "label": "__Entity__:Role"
                },
                "color": "#607D8B",
                "styles": {},
                "label": "Chief Information Security Officer",
                "scale_factor": 1,
                "type": "#607D8B",
                "size": [
                  55,
                  55
                ],
                "position": [
                  0,
                  0
                ]
              },
              {
                "id": 140,
                "properties": {
                  "id": "Emerging Technologies And Market Trends",
                  "label": "__Entity__:Technology"
                },
                "color": "#4CAF50",
                "styles": {},
                "label": "Emerging Technologies And Market Trends",
                "scale_factor": 1,
                "type": "#4CAF50",
                "size": [
                  55,
                  55
                ],
                "position": [
                  0,
                  0
                ]
              },
              {
                "id": 141,
                "properties": {
                  "id": "Incident And Crisis Management",
                  "label": "__Entity__:Management"
                },
                "color": "#9C27B0",
                "styles": {},
                "label": "Incident And Crisis Management",
                "scale_factor": 1,
                "type": "#9C27B0",
                "size": [
                  55,
                  55
                ],
                "position": [
                  0,
                  0
                ]
              },
              {
                "id": 142,
                "properties": {
                  "id": "Information And Privacy Protection",
                  "label": "__Entity__:Protection"
                },
                "color": "#9C27B0",
                "styles": {},
                "label": "Information And Privacy Protection",
                "scale_factor": 1,
                "type": "#9C27B0",
                "size": [
                  55,
                  55
                ],
                "position": [
                  0,
                  0
                ]
              },
              {
                "id": 143,
                "properties": {
                  "id": "Risk And Compliance Management",
                  "label": "__Entity__:Management"
                },
                "color": "#9C27B0",
                "styles": {},
                "label": "Risk And Compliance Management",
                "scale_factor": 1,
                "type": "#9C27B0",
                "size": [
                  55,
                  55
                ],
                "position": [
                  0,
                  0
                ]
              },
              {
                "id": 144,
                "properties": {
                  "id": "Security Architecture",
                  "label": "__Entity__:Architecture"
                },
                "color": "#2196F3",
                "styles": {},
                "label": "Security Architecture",
                "scale_factor": 1,
                "type": "#2196F3",
                "size": [
                  55,
                  55
                ],
                "position": [
                  0,
                  0
                ]
              },
              {
                "id": 145,
                "properties": {
                  "id": "Organizational Resiliency Programs And Assessments",
                  "label": "__Entity__:Program"
                },
                "color": "#4CAF50",
                "styles": {},
                "label": "Organizational Resiliency Programs And Assessments",
                "scale_factor": 1,
                "type": "#4CAF50",
                "size": [
                  55,
                  55
                ],
                "position": [
                  0,
                  0
                ]
              },
              {
                "id": 146,
                "properties": {
                  "id": "Threat, Intelligence And Vulnerability Management",
                  "label": "__Entity__:Management"
                },
                "color": "#9C27B0",
                "styles": {},
                "label": "Threat, Intelligence And Vulnerability Management",
                "scale_factor": 1,
                "type": "#9C27B0",
                "size": [
                  55,
                  55
                ],
                "position": [
                  0,
                  0
                ]
              },
              {
                "id": 155,
                "properties": {
                  "id": "Federal Chief Information Security Officer",
                  "label": "__Entity__:Position"
                },
                "color": "#9E9E9E",
                "styles": {},
                "label": "Federal Chief Information Security Officer",
                "scale_factor": 1,
                "type": "#9E9E9E",
                "size": [
                  55,
                  55
                ],
                "position": [
                  0,
                  0
                ]
              },
              {
                "id": 161,
                "properties": {
                  "id": "U.S. Chief Information Officer",
                  "label": "__Entity__:Position"
                },
                "color": "#9E9E9E",
                "styles": {},
                "label": "U.S. Chief Information Officer",
                "scale_factor": 1,
                "type": "#9E9E9E",
                "size": [
                  55,
                  55
                ],
                "position": [
                  0,
                  0
                ]
              },
              {
                "id": 156,
                "properties": {
                  "id": "United States",
                  "label": "__Entity__:Country"
                },
                "color": "#9C27B0",
                "styles": {},
                "label": "United States",
                "scale_factor": 1,
                "type": "#9C27B0",
                "size": [
                  55,
                  55
                ],
                "position": [
                  0,
                  0
                ]
              },
              {
                "id": 163,
                "properties": {
                  "id": "Office Of Management And Budget",
                  "label": "__Entity__:Organization"
                },
                "color": "#673AB7",
                "styles": {},
                "label": "Office Of Management And Budget",
                "scale_factor": 1,
                "type": "#673AB7",
                "size": [
                  55,
                  55
                ],
                "position": [
                  0,
                  0
                ]
              },
              {
                "id": 157,
                "properties": {
                  "id": "Gregory Touhill",
                  "label": "__Entity__:Person"
                },
                "color": "#9C27B0",
                "styles": {},
                "label": "Gregory Touhill",
                "scale_factor": 1,
                "type": "#9C27B0",
                "size": [
                  55,
                  55
                ],
                "position": [
                  0,
                  0
                ]
              },
              {
                "id": 158,
                "properties": {
                  "id": "Grant Schneider",
                  "label": "__Entity__:Person"
                },
                "color": "#9C27B0",
                "styles": {},
                "label": "Grant Schneider",
                "scale_factor": 1,
                "type": "#9C27B0",
                "size": [
                  55,
                  55
                ],
                "position": [
                  0,
                  0
                ]
              },
              {
                "id": 160,
                "properties": {
                  "id": "Deputy Ciso",
                  "label": "__Entity__:Position"
                },
                "color": "#9E9E9E",
                "styles": {},
                "label": "Deputy Ciso",
                "scale_factor": 1,
                "type": "#9E9E9E",
                "size": [
                  55,
                  55
                ],
                "position": [
                  0,
                  0
                ]
              },
              {
                "id": 159,
                "properties": {
                  "id": "Chris Derusha",
                  "label": "__Entity__:Person"
                },
                "color": "#9C27B0",
                "styles": {},
                "label": "Chris Derusha",
                "scale_factor": 1,
                "type": "#9C27B0",
                "size": [
                  55,
                  55
                ],
                "position": [
                  0,
                  0
                ]
              },
              {
                "id": 711,
                "properties": {
                  "id": "Cyber Safety Review Board",
                  "label": "__Entity__:Organization"
                },
                "color": "#673AB7",
                "styles": {},
                "label": "Cyber Safety Review Board",
                "scale_factor": 1,
                "type": "#673AB7",
                "size": [
                  55,
                  55
                ],
                "position": [
                  0,
                  0
                ]
              },
              {
                "id": 162,
                "properties": {
                  "id": "Acting Deputy",
                  "label": "__Entity__:Position"
                },
                "color": "#9E9E9E",
                "styles": {},
                "label": "Acting Deputy",
                "scale_factor": 1,
                "type": "#9E9E9E",
                "size": [
                  55,
                  55
                ],
                "position": [
                  0,
                  0
                ]
              },
              {
                "id": 165,
                "properties": {
                  "id": "Chief Innovation Officer",
                  "label": "__Entity__:Person"
                },
                "color": "#9C27B0",
                "styles": {},
                "label": "Chief Innovation Officer",
                "scale_factor": 1,
                "type": "#9C27B0",
                "size": [
                  55,
                  55
                ],
                "position": [
                  0,
                  0
                ]
              },
              {
                "id": 167,
                "properties": {
                  "id": "Fourth Generation R&D",
                  "label": "__Entity__:Book"
                },
                "color": "#673AB7",
                "styles": {},
                "label": "Fourth Generation R&D",
                "scale_factor": 1,
                "type": "#673AB7",
                "size": [
                  55,
                  55
                ],
                "position": [
                  0,
                  0
                ]
              },
              {
                "id": 166,
                "properties": {
                  "id": "Chief Technology Innovation Officer",
                  "label": "__Entity__:Person"
                },
                "color": "#9C27B0",
                "styles": {},
                "label": "Chief Technology Innovation Officer",
                "scale_factor": 1,
                "type": "#9C27B0",
                "size": [
                  55,
                  55
                ],
                "position": [
                  0,
                  0
                ]
              },
              {
                "id": 168,
                "properties": {
                  "id": "Chief Technology Officer",
                  "label": "__Entity__:Role:Person"
                },
                "color": "#2196F3",
                "styles": {},
                "label": "Chief Technology Officer",
                "scale_factor": 1,
                "type": "#2196F3",
                "size": [
                  55,
                  55
                ],
                "position": [
                  0,
                  0
                ]
              },
              {
                "id": 201,
                "properties": {
                  "id": "Research Director",
                  "label": "__Entity__:Role"
                },
                "color": "#607D8B",
                "styles": {},
                "label": "Research Director",
                "scale_factor": 1,
                "type": "#607D8B",
                "size": [
                  55,
                  55
                ],
                "position": [
                  0,
                  0
                ]
              },
              {
                "id": 202,
                "properties": {
                  "id": "Technical Director",
                  "label": "__Entity__:Role"
                },
                "color": "#607D8B",
                "styles": {},
                "label": "Technical Director",
                "scale_factor": 1,
                "type": "#607D8B",
                "size": [
                  55,
                  55
                ],
                "position": [
                  0,
                  0
                ]
              },
              {
                "id": 204,
                "properties": {
                  "id": "Director Of R&D",
                  "label": "__Entity__:Role"
                },
                "color": "#607D8B",
                "styles": {},
                "label": "Director Of R&D",
                "scale_factor": 1,
                "type": "#607D8B",
                "size": [
                  55,
                  55
                ],
                "position": [
                  0,
                  0
                ]
              },
              {
                "id": 205,
                "properties": {
                  "id": "Vice President Of Engineering",
                  "label": "__Entity__:Role"
                },
                "color": "#607D8B",
                "styles": {},
                "label": "Vice President Of Engineering",
                "scale_factor": 1,
                "type": "#607D8B",
                "size": [
                  55,
                  55
                ],
                "position": [
                  0,
                  0
                ]
              },
              {
                "id": 206,
                "properties": {
                  "id": "R&D Manager",
                  "label": "__Entity__:Role"
                },
                "color": "#607D8B",
                "styles": {},
                "label": "R&D Manager",
                "scale_factor": 1,
                "type": "#607D8B",
                "size": [
                  55,
                  55
                ],
                "position": [
                  0,
                  0
                ]
              },
              {
                "id": 207,
                "properties": {
                  "id": "Legal Counsel",
                  "label": "__Entity__:Role"
                },
                "color": "#607D8B",
                "styles": {},
                "label": "Legal Counsel",
                "scale_factor": 1,
                "type": "#607D8B",
                "size": [
                  55,
                  55
                ],
                "position": [
                  0,
                  0
                ]
              },
              {
                "id": 208,
                "properties": {
                  "id": "Regulatory Issues",
                  "label": "__Entity__:Concept"
                },
                "color": "#F44336",
                "styles": {},
                "label": "Regulatory Issues",
                "scale_factor": 1,
                "type": "#F44336",
                "size": [
                  55,
                  55
                ],
                "position": [
                  0,
                  0
                ]
              },
              {
                "id": 209,
                "properties": {
                  "id": "Intellectual Property Issues",
                  "label": "__Entity__:Concept"
                },
                "color": "#F44336",
                "styles": {},
                "label": "Intellectual Property Issues",
                "scale_factor": 1,
                "type": "#F44336",
                "size": [
                  55,
                  55
                ],
                "position": [
                  0,
                  0
                ]
              },
              {
                "id": 170,
                "properties": {
                  "id": "Information Security Management",
                  "label": "__Entity__:Concept"
                },
                "color": "#F44336",
                "styles": {},
                "label": "Information Security Management",
                "scale_factor": 1,
                "type": "#F44336",
                "size": [
                  55,
                  55
                ],
                "position": [
                  0,
                  0
                ]
              },
              {
                "id": 171,
                "properties": {
                  "id": "Confidentiality",
                  "label": "__Entity__:Concept"
                },
                "color": "#F44336",
                "styles": {},
                "label": "Confidentiality",
                "scale_factor": 1,
                "type": "#F44336",
                "size": [
                  55,
                  55
                ],
                "position": [
                  0,
                  0
                ]
              },
              {
                "id": 172,
                "properties": {
                  "id": "Availability",
                  "label": "__Entity__:Concept"
                },
                "color": "#F44336",
                "styles": {},
                "label": "Availability",
                "scale_factor": 1,
                "type": "#F44336",
                "size": [
                  55,
                  55
                ],
                "position": [
                  0,
                  0
                ]
              },
              {
                "id": 173,
                "properties": {
                  "id": "Integrity",
                  "label": "__Entity__:Concept"
                },
                "color": "#F44336",
                "styles": {},
                "label": "Integrity",
                "scale_factor": 1,
                "type": "#F44336",
                "size": [
                  55,
                  55
                ],
                "position": [
                  0,
                  0
                ]
              },
              {
                "id": 174,
                "properties": {
                  "id": "Risk Management",
                  "label": "__Entity__:Concept"
                },
                "color": "#F44336",
                "styles": {},
                "label": "Risk Management",
                "scale_factor": 1,
                "type": "#F44336",
                "size": [
                  55,
                  55
                ],
                "position": [
                  0,
                  0
                ]
              },
              {
                "id": 181,
                "properties": {
                  "id": "Risk",
                  "label": "__Entity__:Concept"
                },
                "color": "#F44336",
                "styles": {},
                "label": "Risk",
                "scale_factor": 1,
                "type": "#F44336",
                "size": [
                  55,
                  55
                ],
                "position": [
                  0,
                  0
                ]
              },
              {
                "id": 176,
                "properties": {
                  "id": "Asset Identification",
                  "label": "__Entity__:Concept"
                },
                "color": "#F44336",
                "styles": {},
                "label": "Asset Identification",
                "scale_factor": 1,
                "type": "#F44336",
                "size": [
                  55,
                  55
                ],
                "position": [
                  0,
                  0
                ]
              },
              {
                "id": 177,
                "properties": {
                  "id": "Valuation",
                  "label": "__Entity__:Concept"
                },
                "color": "#F44336",
                "styles": {},
                "label": "Valuation",
                "scale_factor": 1,
                "type": "#F44336",
                "size": [
                  55,
                  55
                ],
                "position": [
                  0,
                  0
                ]
              },
              {
                "id": 175,
                "properties": {
                  "id": "Assessment",
                  "label": "__Entity__:Concept"
                },
                "color": "#F44336",
                "styles": {},
                "label": "Assessment",
                "scale_factor": 1,
                "type": "#F44336",
                "size": [
                  55,
                  55
                ],
                "position": [
                  0,
                  0
                ]
              },
              {
                "id": 187,
                "properties": {
                  "id": "Mitigation",
                  "label": "__Entity__:Concept"
                },
                "color": "#F44336",
                "styles": {},
                "label": "Mitigation",
                "scale_factor": 1,
                "type": "#F44336",
                "size": [
                  55,
                  55
                ],
                "position": [
                  0,
                  0
                ]
              },
              {
                "id": 178,
                "properties": {
                  "id": "Iso/Iec 27001",
                  "label": "__Entity__:Concept"
                },
                "color": "#F44336",
                "styles": {},
                "label": "Iso/Iec 27001",
                "scale_factor": 1,
                "type": "#F44336",
                "size": [
                  55,
                  55
                ],
                "position": [
                  0,
                  0
                ]
              },
              {
                "id": 179,
                "properties": {
                  "id": "Iso/Iec 27002",
                  "label": "__Entity__:Concept"
                },
                "color": "#F44336",
                "styles": {},
                "label": "Iso/Iec 27002",
                "scale_factor": 1,
                "type": "#F44336",
                "size": [
                  55,
                  55
                ],
                "position": [
                  0,
                  0
                ]
              },
              {
                "id": 180,
                "properties": {
                  "id": "Iso/Iec 27035",
                  "label": "__Entity__:Concept"
                },
                "color": "#F44336",
                "styles": {},
                "label": "Iso/Iec 27035",
                "scale_factor": 1,
                "type": "#F44336",
                "size": [
                  55,
                  55
                ],
                "position": [
                  0,
                  0
                ]
              },
              {
                "id": 182,
                "properties": {
                  "id": "Threats",
                  "label": "__Entity__:Concept"
                },
                "color": "#F44336",
                "styles": {},
                "label": "Threats",
                "scale_factor": 1,
                "type": "#F44336",
                "size": [
                  55,
                  55
                ],
                "position": [
                  0,
                  0
                ]
              },
              {
                "id": 183,
                "properties": {
                  "id": "Vulnerabilities",
                  "label": "__Entity__:Concept"
                },
                "color": "#F44336",
                "styles": {},
                "label": "Vulnerabilities",
                "scale_factor": 1,
                "type": "#F44336",
                "size": [
                  55,
                  55
                ],
                "position": [
                  0,
                  0
                ]
              },
              {
                "id": 184,
                "properties": {
                  "id": "Impact",
                  "label": "__Entity__:Concept"
                },
                "color": "#F44336",
                "styles": {},
                "label": "Impact",
                "scale_factor": 1,
                "type": "#F44336",
                "size": [
                  55,
                  55
                ],
                "position": [
                  0,
                  0
                ]
              },
              {
                "id": 185,
                "properties": {
                  "id": "Likelihood",
                  "label": "__Entity__:Concept"
                },
                "color": "#F44336",
                "styles": {},
                "label": "Likelihood",
                "scale_factor": 1,
                "type": "#F44336",
                "size": [
                  55,
                  55
                ],
                "position": [
                  0,
                  0
                ]
              },
              {
                "id": 188,
                "properties": {
                  "id": "Information Technology",
                  "label": "__Entity__:Concept"
                },
                "color": "#F44336",
                "styles": {},
                "label": "Information Technology",
                "scale_factor": 1,
                "type": "#F44336",
                "size": [
                  55,
                  55
                ],
                "position": [
                  0,
                  0
                ]
              },
              {
                "id": 189,
                "properties": {
                  "id": "It Domains",
                  "label": "__Entity__:Concept"
                },
                "color": "#F44336",
                "styles": {},
                "label": "It Domains",
                "scale_factor": 1,
                "type": "#F44336",
                "size": [
                  55,
                  55
                ],
                "position": [
                  0,
                  0
                ]
              },
              {
                "id": 186,
                "properties": {
                  "id": "Cost-Benefit Analysis",
                  "label": "__Entity__:Concept"
                },
                "color": "#F44336",
                "styles": {},
                "label": "Cost-Benefit Analysis",
                "scale_factor": 1,
                "type": "#F44336",
                "size": [
                  55,
                  55
                ],
                "position": [
                  0,
                  0
                ]
              },
              {
                "id": 190,
                "properties": {
                  "id": "User Domain",
                  "label": "__Entity__:Concept"
                },
                "color": "#F44336",
                "styles": {},
                "label": "User Domain",
                "scale_factor": 1,
                "type": "#F44336",
                "size": [
                  55,
                  55
                ],
                "position": [
                  0,
                  0
                ]
              },
              {
                "id": 191,
                "properties": {
                  "id": "Lan-To-Wan Domain",
                  "label": "__Entity__:Concept"
                },
                "color": "#F44336",
                "styles": {},
                "label": "Lan-To-Wan Domain",
                "scale_factor": 1,
                "type": "#F44336",
                "size": [
                  55,
                  55
                ],
                "position": [
                  0,
                  0
                ]
              },
              {
                "id": 284,
                "properties": {
                  "id": "Iso/Iec 27000 Family Of Standards",
                  "label": "__Entity__:Concept"
                },
                "color": "#F44336",
                "styles": {},
                "label": "Iso/Iec 27000 Family Of Standards",
                "scale_factor": 1,
                "type": "#F44336",
                "size": [
                  55,
                  55
                ],
                "position": [
                  0,
                  0
                ]
              },
              {
                "id": 288,
                "properties": {
                  "id": "En Iso/Iec 27001",
                  "label": "__Entity__:Concept"
                },
                "color": "#F44336",
                "styles": {},
                "label": "En Iso/Iec 27001",
                "scale_factor": 1,
                "type": "#F44336",
                "size": [
                  55,
                  55
                ],
                "position": [
                  0,
                  0
                ]
              },
              {
                "id": 285,
                "properties": {
                  "id": "Information Security Management System (Isms)",
                  "label": "__Entity__:Concept"
                },
                "color": "#F44336",
                "styles": {},
                "label": "Information Security Management System (Isms)",
                "scale_factor": 1,
                "type": "#F44336",
                "size": [
                  55,
                  55
                ],
                "position": [
                  0,
                  0
                ]
              },
              {
                "id": 286,
                "properties": {
                  "id": "International Organization For Standardization (Iso)",
                  "label": "__Entity__:Concept"
                },
                "color": "#F44336",
                "styles": {},
                "label": "International Organization For Standardization (Iso)",
                "scale_factor": 1,
                "type": "#F44336",
                "size": [
                  55,
                  55
                ],
                "position": [
                  0,
                  0
                ]
              },
              {
                "id": 287,
                "properties": {
                  "id": "International Electrotechnical Commission (Iec)",
                  "label": "__Entity__:Concept"
                },
                "color": "#F44336",
                "styles": {},
                "label": "International Electrotechnical Commission (Iec)",
                "scale_factor": 1,
                "type": "#F44336",
                "size": [
                  55,
                  55
                ],
                "position": [
                  0,
                  0
                ]
              },
              {
                "id": 289,
                "properties": {
                  "id": "Management System",
                  "label": "__Entity__:Concept"
                },
                "color": "#F44336",
                "styles": {},
                "label": "Management System",
                "scale_factor": 1,
                "type": "#F44336",
                "size": [
                  55,
                  55
                ],
                "position": [
                  0,
                  0
                ]
              },
              {
                "id": 291,
                "properties": {
                  "id": "Bs 7799",
                  "label": "__Entity__:Concept"
                },
                "color": "#F44336",
                "styles": {},
                "label": "Bs 7799",
                "scale_factor": 1,
                "type": "#F44336",
                "size": [
                  55,
                  55
                ],
                "position": [
                  0,
                  0
                ]
              },
              {
                "id": 293,
                "properties": {
                  "id": "Iso 17799",
                  "label": "__Entity__:Concept"
                },
                "color": "#F44336",
                "styles": {},
                "label": "Iso 17799",
                "scale_factor": 1,
                "type": "#F44336",
                "size": [
                  55,
                  55
                ],
                "position": [
                  0,
                  0
                ]
              },
              {
                "id": 302,
                "properties": {
                  "id": "Bs 7799 Part 1",
                  "label": "__Entity__"
                },
                "color": "#CDDC39",
                "styles": {},
                "label": "Bs 7799 Part 1",
                "scale_factor": 1,
                "type": "#CDDC39",
                "size": [
                  55,
                  55
                ],
                "position": [
                  0,
                  0
                ]
              },
              {
                "id": 294,
                "properties": {
                  "id": "Normative",
                  "label": "__Entity__:Concept"
                },
                "color": "#F44336",
                "styles": {},
                "label": "Normative",
                "scale_factor": 1,
                "type": "#F44336",
                "size": [
                  55,
                  55
                ],
                "position": [
                  0,
                  0
                ]
              },
              {
                "id": 298,
                "properties": {
                  "id": "Best Practice Recommendations",
                  "label": "__Entity__:Concept"
                },
                "color": "#F44336",
                "styles": {},
                "label": "Best Practice Recommendations",
                "scale_factor": 1,
                "type": "#F44336",
                "size": [
                  55,
                  55
                ],
                "position": [
                  0,
                  0
                ]
              },
              {
                "id": 295,
                "properties": {
                  "id": "Certification",
                  "label": "__Entity__:Concept"
                },
                "color": "#F44336",
                "styles": {},
                "label": "Certification",
                "scale_factor": 1,
                "type": "#F44336",
                "size": [
                  55,
                  55
                ],
                "position": [
                  0,
                  0
                ]
              },
              {
                "id": 410,
                "properties": {
                  "id": "Security Compromise",
                  "label": "__Entity__:Concept"
                },
                "color": "#F44336",
                "styles": {},
                "label": "Security Compromise",
                "scale_factor": 1,
                "type": "#F44336",
                "size": [
                  55,
                  55
                ],
                "position": [
                  0,
                  0
                ]
              },
              {
                "id": 405,
                "properties": {
                  "id": "Flaw",
                  "label": "__Entity__:Concept"
                },
                "color": "#F44336",
                "styles": {},
                "label": "Flaw",
                "scale_factor": 1,
                "type": "#F44336",
                "size": [
                  55,
                  55
                ],
                "position": [
                  0,
                  0
                ]
              },
              {
                "id": 406,
                "properties": {
                  "id": "Structure",
                  "label": "__Entity__:Concept"
                },
                "color": "#F44336",
                "styles": {},
                "label": "Structure",
                "scale_factor": 1,
                "type": "#F44336",
                "size": [
                  55,
                  55
                ],
                "position": [
                  0,
                  0
                ]
              },
              {
                "id": 407,
                "properties": {
                  "id": "Execution",
                  "label": "__Entity__:Concept"
                },
                "color": "#F44336",
                "styles": {},
                "label": "Execution",
                "scale_factor": 1,
                "type": "#F44336",
                "size": [
                  55,
                  55
                ],
                "position": [
                  0,
                  0
                ]
              },
              {
                "id": 408,
                "properties": {
                  "id": "Functioning",
                  "label": "__Entity__:Concept"
                },
                "color": "#F44336",
                "styles": {},
                "label": "Functioning",
                "scale_factor": 1,
                "type": "#F44336",
                "size": [
                  55,
                  55
                ],
                "position": [
                  0,
                  0
                ]
              },
              {
                "id": 409,
                "properties": {
                  "id": "Internal Oversight",
                  "label": "__Entity__:Concept"
                },
                "color": "#F44336",
                "styles": {},
                "label": "Internal Oversight",
                "scale_factor": 1,
                "type": "#F44336",
                "size": [
                  55,
                  55
                ],
                "position": [
                  0,
                  0
                ]
              },
              {
                "id": 411,
                "properties": {
                  "id": "Common Vulnerabilities And Exposures (Cve) Database",
                  "label": "__Entity__:Concept"
                },
                "color": "#F44336",
                "styles": {},
                "label": "Common Vulnerabilities And Exposures (Cve) Database",
                "scale_factor": 1,
                "type": "#F44336",
                "size": [
                  55,
                  55
                ],
                "position": [
                  0,
                  0
                ]
              },
              {
                "id": 412,
                "properties": {
                  "id": "Exploitable Vulnerability",
                  "label": "__Entity__:Concept"
                },
                "color": "#F44336",
                "styles": {},
                "label": "Exploitable Vulnerability",
                "scale_factor": 1,
                "type": "#F44336",
                "size": [
                  55,
                  55
                ],
                "position": [
                  0,
                  0
                ]
              },
              {
                "id": 413,
                "properties": {
                  "id": "Working Attack",
                  "label": "__Entity__:Concept"
                },
                "color": "#F44336",
                "styles": {},
                "label": "Working Attack",
                "scale_factor": 1,
                "type": "#F44336",
                "size": [
                  55,
                  55
                ],
                "position": [
                  0,
                  0
                ]
              },
              {
                "id": 414,
                "properties": {
                  "id": "Exploit",
                  "label": "__Entity__:Concept"
                },
                "color": "#F44336",
                "styles": {},
                "label": "Exploit",
                "scale_factor": 1,
                "type": "#F44336",
                "size": [
                  55,
                  55
                ],
                "position": [
                  0,
                  0
                ]
              },
              {
                "id": 415,
                "properties": {
                  "id": "Research",
                  "label": "__Entity__:Concept"
                },
                "color": "#F44336",
                "styles": {},
                "label": "Research",
                "scale_factor": 1,
                "type": "#F44336",
                "size": [
                  55,
                  55
                ],
                "position": [
                  0,
                  0
                ]
              },
              {
                "id": 416,
                "properties": {
                  "id": "Reverse-Engineering",
                  "label": "__Entity__:Concept"
                },
                "color": "#F44336",
                "styles": {},
                "label": "Reverse-Engineering",
                "scale_factor": 1,
                "type": "#F44336",
                "size": [
                  55,
                  55
                ],
                "position": [
                  0,
                  0
                ]
              },
              {
                "id": 417,
                "properties": {
                  "id": "Hunting",
                  "label": "__Entity__:Concept"
                },
                "color": "#F44336",
                "styles": {},
                "label": "Hunting",
                "scale_factor": 1,
                "type": "#F44336",
                "size": [
                  55,
                  55
                ],
                "position": [
                  0,
                  0
                ]
              },
              {
                "id": 418,
                "properties": {
                  "id": "Automated Tools",
                  "label": "__Entity__:Concept"
                },
                "color": "#F44336",
                "styles": {},
                "label": "Automated Tools",
                "scale_factor": 1,
                "type": "#F44336",
                "size": [
                  55,
                  55
                ],
                "position": [
                  0,
                  0
                ]
              },
              {
                "id": 419,
                "properties": {
                  "id": "Customized Scripts",
                  "label": "__Entity__:Concept"
                },
                "color": "#F44336",
                "styles": {},
                "label": "Customized Scripts",
                "scale_factor": 1,
                "type": "#F44336",
                "size": [
                  55,
                  55
                ],
                "position": [
                  0,
                  0
                ]
              },
              {
                "id": 192,
                "properties": {
                  "id": "Information Security Management System",
                  "label": "__Entity__:Concept"
                },
                "color": "#F44336",
                "styles": {},
                "label": "Information Security Management System",
                "scale_factor": 1,
                "type": "#F44336",
                "size": [
                  55,
                  55
                ],
                "position": [
                  0,
                  0
                ]
              },
              {
                "id": 194,
                "properties": {
                  "id": "Objectives",
                  "label": "__Entity__:Concept"
                },
                "color": "#F44336",
                "styles": {},
                "label": "Objectives",
                "scale_factor": 1,
                "type": "#F44336",
                "size": [
                  55,
                  55
                ],
                "position": [
                  0,
                  0
                ]
              },
              {
                "id": 195,
                "properties": {
                  "id": "Organization'S Needs",
                  "label": "__Entity__:Concept"
                },
                "color": "#F44336",
                "styles": {},
                "label": "Organization'S Needs",
                "scale_factor": 1,
                "type": "#F44336",
                "size": [
                  55,
                  55
                ],
                "position": [
                  0,
                  0
                ]
              },
              {
                "id": 196,
                "properties": {
                  "id": "Security Requirements",
                  "label": "__Entity__:Concept"
                },
                "color": "#F44336",
                "styles": {},
                "label": "Security Requirements",
                "scale_factor": 1,
                "type": "#F44336",
                "size": [
                  55,
                  55
                ],
                "position": [
                  0,
                  0
                ]
              },
              {
                "id": 197,
                "properties": {
                  "id": "Human Factors",
                  "label": "__Entity__:Concept"
                },
                "color": "#F44336",
                "styles": {},
                "label": "Human Factors",
                "scale_factor": 1,
                "type": "#F44336",
                "size": [
                  55,
                  55
                ],
                "position": [
                  0,
                  0
                ]
              },
              {
                "id": 198,
                "properties": {
                  "id": "Implementation",
                  "label": "__Entity__:Concept"
                },
                "color": "#F44336",
                "styles": {},
                "label": "Implementation",
                "scale_factor": 1,
                "type": "#F44336",
                "size": [
                  55,
                  55
                ],
                "position": [
                  0,
                  0
                ]
              },
              {
                "id": 199,
                "properties": {
                  "id": "Education Strategy Components",
                  "label": "__Entity__:Concept"
                },
                "color": "#F44336",
                "styles": {},
                "label": "Education Strategy Components",
                "scale_factor": 1,
                "type": "#F44336",
                "size": [
                  55,
                  55
                ],
                "position": [
                  0,
                  0
                ]
              },
              {
                "id": 211,
                "properties": {
                  "id": "Chief Privacy Officer",
                  "label": "__Entity__:Role"
                },
                "color": "#607D8B",
                "styles": {},
                "label": "Chief Privacy Officer",
                "scale_factor": 1,
                "type": "#607D8B",
                "size": [
                  55,
                  55
                ],
                "position": [
                  0,
                  0
                ]
              },
              {
                "id": 216,
                "properties": {
                  "id": "Jennifer Barrett",
                  "label": "__Entity__:Person"
                },
                "color": "#9C27B0",
                "styles": {},
                "label": "Jennifer Barrett",
                "scale_factor": 1,
                "type": "#9C27B0",
                "size": [
                  55,
                  55
                ],
                "position": [
                  0,
                  0
                ]
              },
              {
                "id": 217,
                "properties": {
                  "id": "Ray Everett",
                  "label": "__Entity__:Person"
                },
                "color": "#9C27B0",
                "styles": {},
                "label": "Ray Everett",
                "scale_factor": 1,
                "type": "#9C27B0",
                "size": [
                  55,
                  55
                ],
                "position": [
                  0,
                  0
                ]
              },
              {
                "id": 218,
                "properties": {
                  "id": "Harriet Pearson",
                  "label": "__Entity__:Person"
                },
                "color": "#9C27B0",
                "styles": {},
                "label": "Harriet Pearson",
                "scale_factor": 1,
                "type": "#9C27B0",
                "size": [
                  55,
                  55
                ],
                "position": [
                  0,
                  0
                ]
              },
              {
                "id": 219,
                "properties": {
                  "id": "Gdpr",
                  "label": "__Entity__:Regulation"
                },
                "color": "#9C27B0",
                "styles": {},
                "label": "Gdpr",
                "scale_factor": 1,
                "type": "#9C27B0",
                "size": [
                  55,
                  55
                ],
                "position": [
                  0,
                  0
                ]
              },
              {
                "id": 228,
                "properties": {
                  "id": "International Association Of Privacy Professionals (Iapp)",
                  "label": "__Entity__:Organization"
                },
                "color": "#673AB7",
                "styles": {},
                "label": "International Association Of Privacy Professionals (Iapp)",
                "scale_factor": 1,
                "type": "#673AB7",
                "size": [
                  55,
                  55
                ],
                "position": [
                  0,
                  0
                ]
              },
              {
                "id": 220,
                "properties": {
                  "id": "Hipaa Security Rule",
                  "label": "__Entity__:Regulation"
                },
                "color": "#9C27B0",
                "styles": {},
                "label": "Hipaa Security Rule",
                "scale_factor": 1,
                "type": "#9C27B0",
                "size": [
                  55,
                  55
                ],
                "position": [
                  0,
                  0
                ]
              },
              {
                "id": 225,
                "properties": {
                  "id": "Privacy Officers Association",
                  "label": "__Entity__:Organization"
                },
                "color": "#673AB7",
                "styles": {},
                "label": "Privacy Officers Association",
                "scale_factor": 1,
                "type": "#673AB7",
                "size": [
                  55,
                  55
                ],
                "position": [
                  0,
                  0
                ]
              },
              {
                "id": 230,
                "properties": {
                  "id": "Michael P. Burgess",
                  "label": "__Entity__:Person"
                },
                "color": "#9C27B0",
                "styles": {},
                "label": "Michael P. Burgess",
                "scale_factor": 1,
                "type": "#9C27B0",
                "size": [
                  55,
                  55
                ],
                "position": [
                  0,
                  0
                ]
              },
              {
                "id": 231,
                "properties": {
                  "id": "Australian Security Intelligence Organisation",
                  "label": "__Entity__:Organization"
                },
                "color": "#673AB7",
                "styles": {},
                "label": "Australian Security Intelligence Organisation",
                "scale_factor": 1,
                "type": "#673AB7",
                "size": [
                  55,
                  55
                ],
                "position": [
                  0,
                  0
                ]
              },
              {
                "id": 232,
                "properties": {
                  "id": "Australian Signals Directorate",
                  "label": "__Entity__:Organization"
                },
                "color": "#673AB7",
                "styles": {},
                "label": "Australian Signals Directorate",
                "scale_factor": 1,
                "type": "#673AB7",
                "size": [
                  55,
                  55
                ],
                "position": [
                  0,
                  0
                ]
              },
              {
                "id": 233,
                "properties": {
                  "id": "England",
                  "label": "__Entity__:Location"
                },
                "color": "#9E9E9E",
                "styles": {},
                "label": "England",
                "scale_factor": 1,
                "type": "#9E9E9E",
                "size": [
                  55,
                  55
                ],
                "position": [
                  0,
                  0
                ]
              },
              {
                "id": 235,
                "properties": {
                  "id": "South Australian Institute Of Technology",
                  "label": "__Entity__:Organization"
                },
                "color": "#673AB7",
                "styles": {},
                "label": "South Australian Institute Of Technology",
                "scale_factor": 1,
                "type": "#673AB7",
                "size": [
                  55,
                  55
                ],
                "position": [
                  0,
                  0
                ]
              },
              {
                "id": 234,
                "properties": {
                  "id": "Adelaide, South Australia",
                  "label": "__Entity__:Location"
                },
                "color": "#9E9E9E",
                "styles": {},
                "label": "Adelaide, South Australia",
                "scale_factor": 1,
                "type": "#9E9E9E",
                "size": [
                  55,
                  55
                ],
                "position": [
                  0,
                  0
                ]
              },
              {
                "id": 238,
                "properties": {
                  "id": "Scott Morrison",
                  "label": "__Entity__:Person"
                },
                "color": "#9C27B0",
                "styles": {},
                "label": "Scott Morrison",
                "scale_factor": 1,
                "type": "#9C27B0",
                "size": [
                  55,
                  55
                ],
                "position": [
                  0,
                  0
                ]
              },
              {
                "id": 239,
                "properties": {
                  "id": "Peter Dutton",
                  "label": "__Entity__:Person"
                },
                "color": "#9C27B0",
                "styles": {},
                "label": "Peter Dutton",
                "scale_factor": 1,
                "type": "#9C27B0",
                "size": [
                  55,
                  55
                ],
                "position": [
                  0,
                  0
                ]
              },
              {
                "id": 242,
                "properties": {
                  "id": "Cybersecurity Standards",
                  "label": "__Entity__:Concept"
                },
                "color": "#F44336",
                "styles": {},
                "label": "Cybersecurity Standards",
                "scale_factor": 1,
                "type": "#F44336",
                "size": [
                  55,
                  55
                ],
                "position": [
                  0,
                  0
                ]
              },
              {
                "id": 243,
                "properties": {
                  "id": "Published Materials",
                  "label": "__Entity__:Concept"
                },
                "color": "#F44336",
                "styles": {},
                "label": "Published Materials",
                "scale_factor": 1,
                "type": "#F44336",
                "size": [
                  55,
                  55
                ],
                "position": [
                  0,
                  0
                ]
              },
              {
                "id": 263,
                "properties": {
                  "id": "History",
                  "label": "__Entity__:Concept"
                },
                "color": "#F44336",
                "styles": {},
                "label": "History",
                "scale_factor": 1,
                "type": "#F44336",
                "size": [
                  55,
                  55
                ],
                "position": [
                  0,
                  0
                ]
              },
              {
                "id": 244,
                "properties": {
                  "id": "Cyber Environment",
                  "label": "__Entity__:Concept"
                },
                "color": "#F44336",
                "styles": {},
                "label": "Cyber Environment",
                "scale_factor": 1,
                "type": "#F44336",
                "size": [
                  55,
                  55
                ],
                "position": [
                  0,
                  0
                ]
              },
              {
                "id": 255,
                "properties": {
                  "id": "Tools",
                  "label": "__Entity__:Concept"
                },
                "color": "#F44336",
                "styles": {},
                "label": "Tools",
                "scale_factor": 1,
                "type": "#F44336",
                "size": [
                  55,
                  55
                ],
                "position": [
                  0,
                  0
                ]
              },
              {
                "id": 256,
                "properties": {
                  "id": "Security Concepts",
                  "label": "__Entity__:Concept"
                },
                "color": "#F44336",
                "styles": {},
                "label": "Security Concepts",
                "scale_factor": 1,
                "type": "#F44336",
                "size": [
                  55,
                  55
                ],
                "position": [
                  0,
                  0
                ]
              },
              {
                "id": 257,
                "properties": {
                  "id": "Security Safeguards",
                  "label": "__Entity__:Concept"
                },
                "color": "#F44336",
                "styles": {},
                "label": "Security Safeguards",
                "scale_factor": 1,
                "type": "#F44336",
                "size": [
                  55,
                  55
                ],
                "position": [
                  0,
                  0
                ]
              },
              {
                "id": 258,
                "properties": {
                  "id": "Guidelines",
                  "label": "__Entity__:Concept"
                },
                "color": "#F44336",
                "styles": {},
                "label": "Guidelines",
                "scale_factor": 1,
                "type": "#F44336",
                "size": [
                  55,
                  55
                ],
                "position": [
                  0,
                  0
                ]
              },
              {
                "id": 259,
                "properties": {
                  "id": "Risk Management Approaches",
                  "label": "__Entity__:Concept"
                },
                "color": "#F44336",
                "styles": {},
                "label": "Risk Management Approaches",
                "scale_factor": 1,
                "type": "#F44336",
                "size": [
                  55,
                  55
                ],
                "position": [
                  0,
                  0
                ]
              },
              {
                "id": 260,
                "properties": {
                  "id": "Actions",
                  "label": "__Entity__:Concept"
                },
                "color": "#F44336",
                "styles": {},
                "label": "Actions",
                "scale_factor": 1,
                "type": "#F44336",
                "size": [
                  55,
                  55
                ],
                "position": [
                  0,
                  0
                ]
              },
              {
                "id": 261,
                "properties": {
                  "id": "Best Practices",
                  "label": "__Entity__:Concept"
                },
                "color": "#F44336",
                "styles": {},
                "label": "Best Practices",
                "scale_factor": 1,
                "type": "#F44336",
                "size": [
                  55,
                  55
                ],
                "position": [
                  0,
                  0
                ]
              },
              {
                "id": 262,
                "properties": {
                  "id": "Assurance",
                  "label": "__Entity__:Concept"
                },
                "color": "#F44336",
                "styles": {},
                "label": "Assurance",
                "scale_factor": 1,
                "type": "#F44336",
                "size": [
                  55,
                  55
                ],
                "position": [
                  0,
                  0
                ]
              },
              {
                "id": 245,
                "properties": {
                  "id": "User",
                  "label": "__Entity__:Concept"
                },
                "color": "#F44336",
                "styles": {},
                "label": "User",
                "scale_factor": 1,
                "type": "#F44336",
                "size": [
                  55,
                  55
                ],
                "position": [
                  0,
                  0
                ]
              },
              {
                "id": 246,
                "properties": {
                  "id": "Networks",
                  "label": "__Entity__:Concept"
                },
                "color": "#F44336",
                "styles": {},
                "label": "Networks",
                "scale_factor": 1,
                "type": "#F44336",
                "size": [
                  55,
                  55
                ],
                "position": [
                  0,
                  0
                ]
              },
              {
                "id": 247,
                "properties": {
                  "id": "Devices",
                  "label": "__Entity__:Concept"
                },
                "color": "#F44336",
                "styles": {},
                "label": "Devices",
                "scale_factor": 1,
                "type": "#F44336",
                "size": [
                  55,
                  55
                ],
                "position": [
                  0,
                  0
                ]
              },
              {
                "id": 248,
                "properties": {
                  "id": "Software",
                  "label": "__Entity__:Concept"
                },
                "color": "#F44336",
                "styles": {},
                "label": "Software",
                "scale_factor": 1,
                "type": "#F44336",
                "size": [
                  55,
                  55
                ],
                "position": [
                  0,
                  0
                ]
              },
              {
                "id": 249,
                "properties": {
                  "id": "Information",
                  "label": "__Entity__:Concept"
                },
                "color": "#F44336",
                "styles": {},
                "label": "Information",
                "scale_factor": 1,
                "type": "#F44336",
                "size": [
                  55,
                  55
                ],
                "position": [
                  0,
                  0
                ]
              },
              {
                "id": 250,
                "properties": {
                  "id": "Storage",
                  "label": "__Entity__:Concept"
                },
                "color": "#F44336",
                "styles": {},
                "label": "Storage",
                "scale_factor": 1,
                "type": "#F44336",
                "size": [
                  55,
                  55
                ],
                "position": [
                  0,
                  0
                ]
              },
              {
                "id": 251,
                "properties": {
                  "id": "Transit",
                  "label": "__Entity__:Concept"
                },
                "color": "#F44336",
                "styles": {},
                "label": "Transit",
                "scale_factor": 1,
                "type": "#F44336",
                "size": [
                  55,
                  55
                ],
                "position": [
                  0,
                  0
                ]
              },
              {
                "id": 252,
                "properties": {
                  "id": "Applications",
                  "label": "__Entity__:Concept"
                },
                "color": "#F44336",
                "styles": {},
                "label": "Applications",
                "scale_factor": 1,
                "type": "#F44336",
                "size": [
                  55,
                  55
                ],
                "position": [
                  0,
                  0
                ]
              },
              {
                "id": 253,
                "properties": {
                  "id": "Services",
                  "label": "__Entity__:Concept"
                },
                "color": "#F44336",
                "styles": {},
                "label": "Services",
                "scale_factor": 1,
                "type": "#F44336",
                "size": [
                  55,
                  55
                ],
                "position": [
                  0,
                  0
                ]
              },
              {
                "id": 270,
                "properties": {
                  "id": "Stanford Consortium For Research On Information Security And Policy",
                  "label": "__Entity__:Concept"
                },
                "color": "#F44336",
                "styles": {},
                "label": "Stanford Consortium For Research On Information Security And Policy",
                "scale_factor": 1,
                "type": "#F44336",
                "size": [
                  55,
                  55
                ],
                "position": [
                  0,
                  0
                ]
              },
              {
                "id": 264,
                "properties": {
                  "id": "Users",
                  "label": "__Entity__:Concept"
                },
                "color": "#F44336",
                "styles": {},
                "label": "Users",
                "scale_factor": 1,
                "type": "#F44336",
                "size": [
                  55,
                  55
                ],
                "position": [
                  0,
                  0
                ]
              },
              {
                "id": 265,
                "properties": {
                  "id": "Providers",
                  "label": "__Entity__:Concept"
                },
                "color": "#F44336",
                "styles": {},
                "label": "Providers",
                "scale_factor": 1,
                "type": "#F44336",
                "size": [
                  55,
                  55
                ],
                "position": [
                  0,
                  0
                ]
              },
              {
                "id": 268,
                "properties": {
                  "id": "Capabilities",
                  "label": "__Entity__:Concept"
                },
                "color": "#F44336",
                "styles": {},
                "label": "Capabilities",
                "scale_factor": 1,
                "type": "#F44336",
                "size": [
                  55,
                  55
                ],
                "position": [
                  0,
                  0
                ]
              },
              {
                "id": 269,
                "properties": {
                  "id": "Policies And Practices",
                  "label": "__Entity__:Concept"
                },
                "color": "#F44336",
                "styles": {},
                "label": "Policies And Practices",
                "scale_factor": 1,
                "type": "#F44336",
                "size": [
                  55,
                  55
                ],
                "position": [
                  0,
                  0
                ]
              },
              {
                "id": 271,
                "properties": {
                  "id": "Us Security Framework Adoption Study",
                  "label": "__Entity__:Concept"
                },
                "color": "#F44336",
                "styles": {},
                "label": "Us Security Framework Adoption Study",
                "scale_factor": 1,
                "type": "#F44336",
                "size": [
                  55,
                  55
                ],
                "position": [
                  0,
                  0
                ]
              },
              {
                "id": 272,
                "properties": {
                  "id": "Nist Cybersecurity Framework",
                  "label": "__Entity__:Concept"
                },
                "color": "#F44336",
                "styles": {},
                "label": "Nist Cybersecurity Framework",
                "scale_factor": 1,
                "type": "#F44336",
                "size": [
                  55,
                  55
                ],
                "position": [
                  0,
                  0
                ]
              },
              {
                "id": 300,
                "properties": {
                  "id": "Significant Investment",
                  "label": "__Entity__"
                },
                "color": "#CDDC39",
                "styles": {},
                "label": "Significant Investment",
                "scale_factor": 1,
                "type": "#CDDC39",
                "size": [
                  55,
                  55
                ],
                "position": [
                  0,
                  0
                ]
              },
              {
                "id": 274,
                "properties": {
                  "id": "Cross-Border Cyber-Exfiltration Operations",
                  "label": "__Entity__:Concept"
                },
                "color": "#F44336",
                "styles": {},
                "label": "Cross-Border Cyber-Exfiltration Operations",
                "scale_factor": 1,
                "type": "#F44336",
                "size": [
                  55,
                  55
                ],
                "position": [
                  0,
                  0
                ]
              },
              {
                "id": 276,
                "properties": {
                  "id": "International Criminal Activities",
                  "label": "__Entity__:Concept"
                },
                "color": "#F44336",
                "styles": {},
                "label": "International Criminal Activities",
                "scale_factor": 1,
                "type": "#F44336",
                "size": [
                  55,
                  55
                ],
                "position": [
                  0,
                  0
                ]
              },
              {
                "id": 275,
                "properties": {
                  "id": "Law Enforcement Agencies",
                  "label": "__Entity__:Concept"
                },
                "color": "#F44336",
                "styles": {},
                "label": "Law Enforcement Agencies",
                "scale_factor": 1,
                "type": "#F44336",
                "size": [
                  55,
                  55
                ],
                "position": [
                  0,
                  0
                ]
              },
              {
                "id": 277,
                "properties": {
                  "id": "Dark Web",
                  "label": "__Entity__:Concept"
                },
                "color": "#F44336",
                "styles": {},
                "label": "Dark Web",
                "scale_factor": 1,
                "type": "#F44336",
                "size": [
                  55,
                  55
                ],
                "position": [
                  0,
                  0
                ]
              },
              {
                "id": 278,
                "properties": {
                  "id": "Jurisdictional Questions",
                  "label": "__Entity__:Concept"
                },
                "color": "#F44336",
                "styles": {},
                "label": "Jurisdictional Questions",
                "scale_factor": 1,
                "type": "#F44336",
                "size": [
                  55,
                  55
                ],
                "position": [
                  0,
                  0
                ]
              },
              {
                "id": 301,
                "properties": {
                  "id": "Unanswered",
                  "label": "__Entity__"
                },
                "color": "#CDDC39",
                "styles": {},
                "label": "Unanswered",
                "scale_factor": 1,
                "type": "#CDDC39",
                "size": [
                  55,
                  55
                ],
                "position": [
                  0,
                  0
                ]
              },
              {
                "id": 279,
                "properties": {
                  "id": "Tensions",
                  "label": "__Entity__:Concept"
                },
                "color": "#F44336",
                "styles": {},
                "label": "Tensions",
                "scale_factor": 1,
                "type": "#F44336",
                "size": [
                  55,
                  55
                ],
                "position": [
                  0,
                  0
                ]
              },
              {
                "id": 280,
                "properties": {
                  "id": "Domestic Law Enforcement Efforts",
                  "label": "__Entity__:Concept"
                },
                "color": "#F44336",
                "styles": {},
                "label": "Domestic Law Enforcement Efforts",
                "scale_factor": 1,
                "type": "#F44336",
                "size": [
                  55,
                  55
                ],
                "position": [
                  0,
                  0
                ]
              },
              {
                "id": 281,
                "properties": {
                  "id": "International Jurisdiction",
                  "label": "__Entity__:Concept"
                },
                "color": "#F44336",
                "styles": {},
                "label": "International Jurisdiction",
                "scale_factor": 1,
                "type": "#F44336",
                "size": [
                  55,
                  55
                ],
                "position": [
                  0,
                  0
                ]
              },
              {
                "id": 282,
                "properties": {
                  "id": "Improved Cybersecurity Norms",
                  "label": "__Entity__:Concept"
                },
                "color": "#F44336",
                "styles": {},
                "label": "Improved Cybersecurity Norms",
                "scale_factor": 1,
                "type": "#F44336",
                "size": [
                  55,
                  55
                ],
                "position": [
                  0,
                  0
                ]
              },
              {
                "id": 283,
                "properties": {
                  "id": "International Standards",
                  "label": "__Entity__:Concept"
                },
                "color": "#F44336",
                "styles": {},
                "label": "International Standards",
                "scale_factor": 1,
                "type": "#F44336",
                "size": [
                  55,
                  55
                ],
                "position": [
                  0,
                  0
                ]
              },
              {
                "id": 290,
                "properties": {
                  "id": "Explicit Management Control",
                  "label": "__Entity__:Concept"
                },
                "color": "#F44336",
                "styles": {},
                "label": "Explicit Management Control",
                "scale_factor": 1,
                "type": "#F44336",
                "size": [
                  55,
                  55
                ],
                "position": [
                  0,
                  0
                ]
              },
              {
                "id": 292,
                "properties": {
                  "id": "Bs 7799-3",
                  "label": "__Entity__:Concept"
                },
                "color": "#F44336",
                "styles": {},
                "label": "Bs 7799-3",
                "scale_factor": 1,
                "type": "#F44336",
                "size": [
                  55,
                  55
                ],
                "position": [
                  0,
                  0
                ]
              },
              {
                "id": 299,
                "properties": {
                  "id": "Information Security Management Systems (Isms)",
                  "label": "__Entity__:Concept"
                },
                "color": "#F44336",
                "styles": {},
                "label": "Information Security Management Systems (Isms)",
                "scale_factor": 1,
                "type": "#F44336",
                "size": [
                  55,
                  55
                ],
                "position": [
                  0,
                  0
                ]
              },
              {
                "id": 304,
                "properties": {
                  "id": "Security Level Management",
                  "label": "__Entity__:Concept"
                },
                "color": "#F44336",
                "styles": {},
                "label": "Security Level Management",
                "scale_factor": 1,
                "type": "#F44336",
                "size": [
                  55,
                  55
                ],
                "position": [
                  0,
                  0
                ]
              },
              {
                "id": 324,
                "properties": {
                  "id": "Security Information Management (Sim)",
                  "label": "__Entity__:Concept"
                },
                "color": "#F44336",
                "styles": {},
                "label": "Security Information Management (Sim)",
                "scale_factor": 1,
                "type": "#F44336",
                "size": [
                  55,
                  55
                ],
                "position": [
                  0,
                  0
                ]
              },
              {
                "id": 325,
                "properties": {
                  "id": "Security Event Management (Sem)",
                  "label": "__Entity__:Concept"
                },
                "color": "#F44336",
                "styles": {},
                "label": "Security Event Management (Sem)",
                "scale_factor": 1,
                "type": "#F44336",
                "size": [
                  55,
                  55
                ],
                "position": [
                  0,
                  0
                ]
              },
              {
                "id": 337,
                "properties": {
                  "id": "Steps",
                  "label": "__Entity__:Concept"
                },
                "color": "#F44336",
                "styles": {},
                "label": "Steps",
                "scale_factor": 1,
                "type": "#F44336",
                "size": [
                  55,
                  55
                ],
                "position": [
                  0,
                  0
                ]
              },
              {
                "id": 305,
                "properties": {
                  "id": "Quality Assurance System",
                  "label": "__Entity__:Concept"
                },
                "color": "#F44336",
                "styles": {},
                "label": "Quality Assurance System",
                "scale_factor": 1,
                "type": "#F44336",
                "size": [
                  55,
                  55
                ],
                "position": [
                  0,
                  0
                ]
              },
              {
                "id": 306,
                "properties": {
                  "id": "Electronic Information Security",
                  "label": "__Entity__:Concept"
                },
                "color": "#F44336",
                "styles": {},
                "label": "Electronic Information Security",
                "scale_factor": 1,
                "type": "#F44336",
                "size": [
                  55,
                  55
                ],
                "position": [
                  0,
                  0
                ]
              },
              {
                "id": 310,
                "properties": {
                  "id": "Deming Cycle",
                  "label": "__Entity__:Concept"
                },
                "color": "#F44336",
                "styles": {},
                "label": "Deming Cycle",
                "scale_factor": 1,
                "type": "#F44336",
                "size": [
                  55,
                  55
                ],
                "position": [
                  0,
                  0
                ]
              },
              {
                "id": 332,
                "properties": {
                  "id": "Infrastructure",
                  "label": "__Entity__:Concept"
                },
                "color": "#F44336",
                "styles": {},
                "label": "Infrastructure",
                "scale_factor": 1,
                "type": "#F44336",
                "size": [
                  55,
                  55
                ],
                "position": [
                  0,
                  0
                ]
              },
              {
                "id": 355,
                "properties": {
                  "id": "Sim",
                  "label": "__Entity__"
                },
                "color": "#CDDC39",
                "styles": {},
                "label": "Sim",
                "scale_factor": 1,
                "type": "#CDDC39",
                "size": [
                  55,
                  55
                ],
                "position": [
                  0,
                  0
                ]
              },
              {
                "id": 356,
                "properties": {
                  "id": "Sem",
                  "label": "__Entity__"
                },
                "color": "#CDDC39",
                "styles": {},
                "label": "Sem",
                "scale_factor": 1,
                "type": "#CDDC39",
                "size": [
                  55,
                  55
                ],
                "position": [
                  0,
                  0
                ]
              },
              {
                "id": 334,
                "properties": {
                  "id": "It Governance",
                  "label": "__Entity__:Concept"
                },
                "color": "#F44336",
                "styles": {},
                "label": "It Governance",
                "scale_factor": 1,
                "type": "#F44336",
                "size": [
                  55,
                  55
                ],
                "position": [
                  0,
                  0
                ]
              },
              {
                "id": 315,
                "properties": {
                  "id": "Security Level",
                  "label": "__Entity__:Concept"
                },
                "color": "#F44336",
                "styles": {},
                "label": "Security Level",
                "scale_factor": 1,
                "type": "#F44336",
                "size": [
                  55,
                  55
                ],
                "position": [
                  0,
                  0
                ]
              },
              {
                "id": 352,
                "properties": {
                  "id": "Operative Aims",
                  "label": "__Entity__"
                },
                "color": "#CDDC39",
                "styles": {},
                "label": "Operative Aims",
                "scale_factor": 1,
                "type": "#CDDC39",
                "size": [
                  55,
                  55
                ],
                "position": [
                  0,
                  0
                ]
              },
              {
                "id": 316,
                "properties": {
                  "id": "Security Software",
                  "label": "__Entity__:Concept"
                },
                "color": "#F44336",
                "styles": {},
                "label": "Security Software",
                "scale_factor": 1,
                "type": "#F44336",
                "size": [
                  55,
                  55
                ],
                "position": [
                  0,
                  0
                ]
              },
              {
                "id": 320,
                "properties": {
                  "id": "Chief Security Officer (Cso)",
                  "label": "__Entity__:Person"
                },
                "color": "#9C27B0",
                "styles": {},
                "label": "Chief Security Officer (Cso)",
                "scale_factor": 1,
                "type": "#9C27B0",
                "size": [
                  55,
                  55
                ],
                "position": [
                  0,
                  0
                ]
              },
              {
                "id": 321,
                "properties": {
                  "id": "Chief Information Officer (Cio)",
                  "label": "__Entity__:Person"
                },
                "color": "#9C27B0",
                "styles": {},
                "label": "Chief Information Officer (Cio)",
                "scale_factor": 1,
                "type": "#9C27B0",
                "size": [
                  55,
                  55
                ],
                "position": [
                  0,
                  0
                ]
              },
              {
                "id": 322,
                "properties": {
                  "id": "Chief Information Security Officer (Ciso)",
                  "label": "__Entity__:Person"
                },
                "color": "#9C27B0",
                "styles": {},
                "label": "Chief Information Security Officer (Ciso)",
                "scale_factor": 1,
                "type": "#9C27B0",
                "size": [
                  55,
                  55
                ],
                "position": [
                  0,
                  0
                ]
              },
              {
                "id": 326,
                "properties": {
                  "id": "Gartner",
                  "label": "__Entity__:Person"
                },
                "color": "#9C27B0",
                "styles": {},
                "label": "Gartner",
                "scale_factor": 1,
                "type": "#9C27B0",
                "size": [
                  55,
                  55
                ],
                "position": [
                  0,
                  0
                ]
              },
              {
                "id": 327,
                "properties": {
                  "id": "Magic Quadrant For Security Information And Event Management",
                  "label": "__Entity__:Concept"
                },
                "color": "#F44336",
                "styles": {},
                "label": "Magic Quadrant For Security Information And Event Management",
                "scale_factor": 1,
                "type": "#F44336",
                "size": [
                  55,
                  55
                ],
                "position": [
                  0,
                  0
                ]
              },
              {
                "id": 333,
                "properties": {
                  "id": "Strategic Management System",
                  "label": "__Entity__:Concept"
                },
                "color": "#F44336",
                "styles": {},
                "label": "Strategic Management System",
                "scale_factor": 1,
                "type": "#F44336",
                "size": [
                  55,
                  55
                ],
                "position": [
                  0,
                  0
                ]
              },
              {
                "id": 336,
                "properties": {
                  "id": "Electronic Data",
                  "label": "__Entity__:Concept"
                },
                "color": "#F44336",
                "styles": {},
                "label": "Electronic Data",
                "scale_factor": 1,
                "type": "#F44336",
                "size": [
                  55,
                  55
                ],
                "position": [
                  0,
                  0
                ]
              },
              {
                "id": 307,
                "properties": {
                  "id": "It Security Status",
                  "label": "__Entity__:Concept"
                },
                "color": "#F44336",
                "styles": {},
                "label": "It Security Status",
                "scale_factor": 1,
                "type": "#F44336",
                "size": [
                  55,
                  55
                ],
                "position": [
                  0,
                  0
                ]
              },
              {
                "id": 308,
                "properties": {
                  "id": "Transparency",
                  "label": "__Entity__:Concept"
                },
                "color": "#F44336",
                "styles": {},
                "label": "Transparency",
                "scale_factor": 1,
                "type": "#F44336",
                "size": [
                  55,
                  55
                ],
                "position": [
                  0,
                  0
                ]
              },
              {
                "id": 309,
                "properties": {
                  "id": "Measurability",
                  "label": "__Entity__:Concept"
                },
                "color": "#F44336",
                "styles": {},
                "label": "Measurability",
                "scale_factor": 1,
                "type": "#F44336",
                "size": [
                  55,
                  55
                ],
                "position": [
                  0,
                  0
                ]
              },
              {
                "id": 312,
                "properties": {
                  "id": "Security Policies",
                  "label": "__Entity__:Concept"
                },
                "color": "#F44336",
                "styles": {},
                "label": "Security Policies",
                "scale_factor": 1,
                "type": "#F44336",
                "size": [
                  55,
                  55
                ],
                "position": [
                  0,
                  0
                ]
              },
              {
                "id": 313,
                "properties": {
                  "id": "Compliance Guidelines",
                  "label": "__Entity__:Concept"
                },
                "color": "#F44336",
                "styles": {},
                "label": "Compliance Guidelines",
                "scale_factor": 1,
                "type": "#F44336",
                "size": [
                  55,
                  55
                ],
                "position": [
                  0,
                  0
                ]
              },
              {
                "id": 353,
                "properties": {
                  "id": "Deviation Recognition",
                  "label": "__Entity__"
                },
                "color": "#CDDC39",
                "styles": {},
                "label": "Deviation Recognition",
                "scale_factor": 1,
                "type": "#CDDC39",
                "size": [
                  55,
                  55
                ],
                "position": [
                  0,
                  0
                ]
              },
              {
                "id": 354,
                "properties": {
                  "id": "Adjustments To Security Software",
                  "label": "__Entity__"
                },
                "color": "#CDDC39",
                "styles": {},
                "label": "Adjustments To Security Software",
                "scale_factor": 1,
                "type": "#CDDC39",
                "size": [
                  55,
                  55
                ],
                "position": [
                  0,
                  0
                ]
              },
              {
                "id": 357,
                "properties": {
                  "id": "Csos",
                  "label": "__Entity__"
                },
                "color": "#CDDC39",
                "styles": {},
                "label": "Csos",
                "scale_factor": 1,
                "type": "#CDDC39",
                "size": [
                  55,
                  55
                ],
                "position": [
                  0,
                  0
                ]
              },
              {
                "id": 358,
                "properties": {
                  "id": "Cios",
                  "label": "__Entity__"
                },
                "color": "#CDDC39",
                "styles": {},
                "label": "Cios",
                "scale_factor": 1,
                "type": "#CDDC39",
                "size": [
                  55,
                  55
                ],
                "position": [
                  0,
                  0
                ]
              },
              {
                "id": 359,
                "properties": {
                  "id": "Cisos",
                  "label": "__Entity__"
                },
                "color": "#CDDC39",
                "styles": {},
                "label": "Cisos",
                "scale_factor": 1,
                "type": "#CDDC39",
                "size": [
                  55,
                  55
                ],
                "position": [
                  0,
                  0
                ]
              },
              {
                "id": 642,
                "properties": {
                  "id": "Ceo",
                  "label": "__Entity__:Abbreviation"
                },
                "color": "#F44336",
                "styles": {},
                "label": "Ceo",
                "scale_factor": 1,
                "type": "#F44336",
                "size": [
                  55,
                  55
                ],
                "position": [
                  0,
                  0
                ]
              },
              {
                "id": 745,
                "properties": {
                  "id": "Executive Council",
                  "label": "__Entity__:Person"
                },
                "color": "#9C27B0",
                "styles": {},
                "label": "Executive Council",
                "scale_factor": 1,
                "type": "#9C27B0",
                "size": [
                  55,
                  55
                ],
                "position": [
                  0,
                  0
                ]
              },
              {
                "id": 338,
                "properties": {
                  "id": "Defining The Security Level",
                  "label": "__Entity__:Concept"
                },
                "color": "#F44336",
                "styles": {},
                "label": "Defining The Security Level",
                "scale_factor": 1,
                "type": "#F44336",
                "size": [
                  55,
                  55
                ],
                "position": [
                  0,
                  0
                ]
              },
              {
                "id": 342,
                "properties": {
                  "id": "System Classes",
                  "label": "__Entity__:Concept"
                },
                "color": "#F44336",
                "styles": {},
                "label": "System Classes",
                "scale_factor": 1,
                "type": "#F44336",
                "size": [
                  55,
                  55
                ],
                "position": [
                  0,
                  0
                ]
              },
              {
                "id": 343,
                "properties": {
                  "id": "Network",
                  "label": "__Entity__:Concept"
                },
                "color": "#F44336",
                "styles": {},
                "label": "Network",
                "scale_factor": 1,
                "type": "#F44336",
                "size": [
                  55,
                  55
                ],
                "position": [
                  0,
                  0
                ]
              },
              {
                "id": 344,
                "properties": {
                  "id": "Local It Infrastructure",
                  "label": "__Entity__:Concept"
                },
                "color": "#F44336",
                "styles": {},
                "label": "Local It Infrastructure",
                "scale_factor": 1,
                "type": "#F44336",
                "size": [
                  55,
                  55
                ],
                "position": [
                  0,
                  0
                ]
              },
              {
                "id": 339,
                "properties": {
                  "id": "Security Policies Specification",
                  "label": "__Entity__:Concept"
                },
                "color": "#F44336",
                "styles": {},
                "label": "Security Policies Specification",
                "scale_factor": 1,
                "type": "#F44336",
                "size": [
                  55,
                  55
                ],
                "position": [
                  0,
                  0
                ]
              },
              {
                "id": 340,
                "properties": {
                  "id": "Concrete Objectives",
                  "label": "__Entity__:Concept"
                },
                "color": "#F44336",
                "styles": {},
                "label": "Concrete Objectives",
                "scale_factor": 1,
                "type": "#F44336",
                "size": [
                  55,
                  55
                ],
                "position": [
                  0,
                  0
                ]
              },
              {
                "id": 345,
                "properties": {
                  "id": "Operational Objectives",
                  "label": "__Entity__:Concept"
                },
                "color": "#F44336",
                "styles": {},
                "label": "Operational Objectives",
                "scale_factor": 1,
                "type": "#F44336",
                "size": [
                  55,
                  55
                ],
                "position": [
                  0,
                  0
                ]
              },
              {
                "id": 346,
                "properties": {
                  "id": "Software Updates",
                  "label": "__Entity__:Concept"
                },
                "color": "#F44336",
                "styles": {},
                "label": "Software Updates",
                "scale_factor": 1,
                "type": "#F44336",
                "size": [
                  55,
                  55
                ],
                "position": [
                  0,
                  0
                ]
              },
              {
                "id": 347,
                "properties": {
                  "id": "Workstations",
                  "label": "__Entity__:Concept"
                },
                "color": "#F44336",
                "styles": {},
                "label": "Workstations",
                "scale_factor": 1,
                "type": "#F44336",
                "size": [
                  55,
                  55
                ],
                "position": [
                  0,
                  0
                ]
              },
              {
                "id": 348,
                "properties": {
                  "id": "Server And Host Systems",
                  "label": "__Entity__:Concept"
                },
                "color": "#F44336",
                "styles": {},
                "label": "Server And Host Systems",
                "scale_factor": 1,
                "type": "#F44336",
                "size": [
                  55,
                  55
                ],
                "position": [
                  0,
                  0
                ]
              },
              {
                "id": 349,
                "properties": {
                  "id": "It Control Manual",
                  "label": "__Entity__:Concept"
                },
                "color": "#F44336",
                "styles": {},
                "label": "It Control Manual",
                "scale_factor": 1,
                "type": "#F44336",
                "size": [
                  55,
                  55
                ],
                "position": [
                  0,
                  0
                ]
              },
              {
                "id": 350,
                "properties": {
                  "id": "Control Objectives For Information And Related Technologies (Cobit)",
                  "label": "__Entity__:Concept"
                },
                "color": "#F44336",
                "styles": {},
                "label": "Control Objectives For Information And Related Technologies (Cobit)",
                "scale_factor": 1,
                "type": "#F44336",
                "size": [
                  55,
                  55
                ],
                "position": [
                  0,
                  0
                ]
              },
              {
                "id": 341,
                "properties": {
                  "id": "Measurable Limiting And Threshold Values",
                  "label": "__Entity__:Concept"
                },
                "color": "#F44336",
                "styles": {},
                "label": "Measurable Limiting And Threshold Values",
                "scale_factor": 1,
                "type": "#F44336",
                "size": [
                  55,
                  55
                ],
                "position": [
                  0,
                  0
                ]
              },
              {
                "id": 351,
                "properties": {
                  "id": "Data Collection And Analysis",
                  "label": "__Entity__:Concept"
                },
                "color": "#F44336",
                "styles": {},
                "label": "Data Collection And Analysis",
                "scale_factor": 1,
                "type": "#F44336",
                "size": [
                  55,
                  55
                ],
                "position": [
                  0,
                  0
                ]
              },
              {
                "id": 361,
                "properties": {
                  "id": "Cisa",
                  "label": "__Entity__:Abbreviation:Organization"
                },
                "color": "#607D8B",
                "styles": {},
                "label": "Cisa",
                "scale_factor": 1,
                "type": "#607D8B",
                "size": [
                  55,
                  55
                ],
                "position": [
                  0,
                  0
                ]
              },
              {
                "id": 369,
                "properties": {
                  "id": "Fireeye",
                  "label": "__Entity__:Organization"
                },
                "color": "#673AB7",
                "styles": {},
                "label": "Fireeye",
                "scale_factor": 1,
                "type": "#673AB7",
                "size": [
                  55,
                  55
                ],
                "position": [
                  0,
                  0
                ]
              },
              {
                "id": 362,
                "properties": {
                  "id": "Dhs",
                  "label": "__Entity__:Organization"
                },
                "color": "#673AB7",
                "styles": {},
                "label": "Dhs",
                "scale_factor": 1,
                "type": "#673AB7",
                "size": [
                  55,
                  55
                ],
                "position": [
                  0,
                  0
                ]
              },
              {
                "id": 363,
                "properties": {
                  "id": "Arlington, Virginia",
                  "label": "__Entity__:Location"
                },
                "color": "#9E9E9E",
                "styles": {},
                "label": "Arlington, Virginia",
                "scale_factor": 1,
                "type": "#9E9E9E",
                "size": [
                  55,
                  55
                ],
                "position": [
                  0,
                  0
                ]
              },
              {
                "id": 364,
                "properties": {
                  "id": "St. Elizabeths Campus Headquarters",
                  "label": "__Entity__:Location"
                },
                "color": "#9E9E9E",
                "styles": {},
                "label": "St. Elizabeths Campus Headquarters",
                "scale_factor": 1,
                "type": "#9E9E9E",
                "size": [
                  55,
                  55
                ],
                "position": [
                  0,
                  0
                ]
              },
              {
                "id": 370,
                "properties": {
                  "id": "Jen Easterly",
                  "label": "__Entity__:Person"
                },
                "color": "#9C27B0",
                "styles": {},
                "label": "Jen Easterly",
                "scale_factor": 1,
                "type": "#9C27B0",
                "size": [
                  55,
                  55
                ],
                "position": [
                  0,
                  0
                ]
              },
              {
                "id": 365,
                "properties": {
                  "id": "National Protection And Programs Directorate",
                  "label": "__Entity__:Organization"
                },
                "color": "#673AB7",
                "styles": {},
                "label": "National Protection And Programs Directorate",
                "scale_factor": 1,
                "type": "#673AB7",
                "size": [
                  55,
                  55
                ],
                "position": [
                  0,
                  0
                ]
              },
              {
                "id": 366,
                "properties": {
                  "id": "Christopher Krebs",
                  "label": "__Entity__:Person"
                },
                "color": "#9C27B0",
                "styles": {},
                "label": "Christopher Krebs",
                "scale_factor": 1,
                "type": "#9C27B0",
                "size": [
                  55,
                  55
                ],
                "position": [
                  0,
                  0
                ]
              },
              {
                "id": 367,
                "properties": {
                  "id": "Matthew Travis",
                  "label": "__Entity__:Person"
                },
                "color": "#9C27B0",
                "styles": {},
                "label": "Matthew Travis",
                "scale_factor": 1,
                "type": "#9C27B0",
                "size": [
                  55,
                  55
                ],
                "position": [
                  0,
                  0
                ]
              },
              {
                "id": 368,
                "properties": {
                  "id": "Iran",
                  "label": "__Entity__:Country"
                },
                "color": "#9C27B0",
                "styles": {},
                "label": "Iran",
                "scale_factor": 1,
                "type": "#9C27B0",
                "size": [
                  55,
                  55
                ],
                "position": [
                  0,
                  0
                ]
              },
              {
                "id": 371,
                "properties": {
                  "id": "Rick Scott",
                  "label": "__Entity__:Person"
                },
                "color": "#9C27B0",
                "styles": {},
                "label": "Rick Scott",
                "scale_factor": 1,
                "type": "#9C27B0",
                "size": [
                  55,
                  55
                ],
                "position": [
                  0,
                  0
                ]
              },
              {
                "id": 373,
                "properties": {
                  "id": "Computer Security",
                  "label": "__Entity__:Concept"
                },
                "color": "#F44336",
                "styles": {},
                "label": "Computer Security",
                "scale_factor": 1,
                "type": "#F44336",
                "size": [
                  55,
                  55
                ],
                "position": [
                  0,
                  0
                ]
              },
              {
                "id": 384,
                "properties": {
                  "id": "Protection",
                  "label": "__Entity__:Concept"
                },
                "color": "#F44336",
                "styles": {},
                "label": "Protection",
                "scale_factor": 1,
                "type": "#F44336",
                "size": [
                  55,
                  55
                ],
                "position": [
                  0,
                  0
                ]
              },
              {
                "id": 396,
                "properties": {
                  "id": "Security",
                  "label": "__Entity__:Concept"
                },
                "color": "#F44336",
                "styles": {},
                "label": "Security",
                "scale_factor": 1,
                "type": "#F44336",
                "size": [
                  55,
                  55
                ],
                "position": [
                  0,
                  0
                ]
              },
              {
                "id": 375,
                "properties": {
                  "id": "Malicious Actors",
                  "label": "__Entity__:Concept"
                },
                "color": "#F44336",
                "styles": {},
                "label": "Malicious Actors",
                "scale_factor": 1,
                "type": "#F44336",
                "size": [
                  55,
                  55
                ],
                "position": [
                  0,
                  0
                ]
              },
              {
                "id": 400,
                "properties": {
                  "id": "Digital Measures",
                  "label": "__Entity__:Concept"
                },
                "color": "#F44336",
                "styles": {},
                "label": "Digital Measures",
                "scale_factor": 1,
                "type": "#F44336",
                "size": [
                  55,
                  55
                ],
                "position": [
                  0,
                  0
                ]
              },
              {
                "id": 403,
                "properties": {
                  "id": "Physical Security Measures",
                  "label": "__Entity__:Concept"
                },
                "color": "#F44336",
                "styles": {},
                "label": "Physical Security Measures",
                "scale_factor": 1,
                "type": "#F44336",
                "size": [
                  55,
                  55
                ],
                "position": [
                  0,
                  0
                ]
              },
              {
                "id": 383,
                "properties": {
                  "id": "Attacks",
                  "label": "__Entity__:Concept"
                },
                "color": "#F44336",
                "styles": {},
                "label": "Attacks",
                "scale_factor": 1,
                "type": "#F44336",
                "size": [
                  55,
                  55
                ],
                "position": [
                  0,
                  0
                ]
              },
              {
                "id": 393,
                "properties": {
                  "id": "Challenges",
                  "label": "__Entity__:Concept"
                },
                "color": "#F44336",
                "styles": {},
                "label": "Challenges",
                "scale_factor": 1,
                "type": "#F44336",
                "size": [
                  55,
                  55
                ],
                "position": [
                  0,
                  0
                ]
              },
              {
                "id": 394,
                "properties": {
                  "id": "Complexity Of Information Systems",
                  "label": "__Entity__:Concept"
                },
                "color": "#F44336",
                "styles": {},
                "label": "Complexity Of Information Systems",
                "scale_factor": 1,
                "type": "#F44336",
                "size": [
                  55,
                  55
                ],
                "position": [
                  0,
                  0
                ]
              },
              {
                "id": 395,
                "properties": {
                  "id": "Societies",
                  "label": "__Entity__:Concept"
                },
                "color": "#F44336",
                "styles": {},
                "label": "Societies",
                "scale_factor": 1,
                "type": "#F44336",
                "size": [
                  55,
                  55
                ],
                "position": [
                  0,
                  0
                ]
              },
              {
                "id": 376,
                "properties": {
                  "id": "Unauthorized Information Disclosure",
                  "label": "__Entity__:Concept"
                },
                "color": "#F44336",
                "styles": {},
                "label": "Unauthorized Information Disclosure",
                "scale_factor": 1,
                "type": "#F44336",
                "size": [
                  55,
                  55
                ],
                "position": [
                  0,
                  0
                ]
              },
              {
                "id": 377,
                "properties": {
                  "id": "Theft Of Hardware",
                  "label": "__Entity__:Concept"
                },
                "color": "#F44336",
                "styles": {},
                "label": "Theft Of Hardware",
                "scale_factor": 1,
                "type": "#F44336",
                "size": [
                  55,
                  55
                ],
                "position": [
                  0,
                  0
                ]
              },
              {
                "id": 378,
                "properties": {
                  "id": "Theft Of Software",
                  "label": "__Entity__:Concept"
                },
                "color": "#F44336",
                "styles": {},
                "label": "Theft Of Software",
                "scale_factor": 1,
                "type": "#F44336",
                "size": [
                  55,
                  55
                ],
                "position": [
                  0,
                  0
                ]
              },
              {
                "id": 379,
                "properties": {
                  "id": "Theft Of Data",
                  "label": "__Entity__:Concept"
                },
                "color": "#F44336",
                "styles": {},
                "label": "Theft Of Data",
                "scale_factor": 1,
                "type": "#F44336",
                "size": [
                  55,
                  55
                ],
                "position": [
                  0,
                  0
                ]
              },
              {
                "id": 380,
                "properties": {
                  "id": "Disruption Of Services",
                  "label": "__Entity__:Concept"
                },
                "color": "#F44336",
                "styles": {},
                "label": "Disruption Of Services",
                "scale_factor": 1,
                "type": "#F44336",
                "size": [
                  55,
                  55
                ],
                "position": [
                  0,
                  0
                ]
              },
              {
                "id": 381,
                "properties": {
                  "id": "Misdirection Of Services",
                  "label": "__Entity__:Concept"
                },
                "color": "#F44336",
                "styles": {},
                "label": "Misdirection Of Services",
                "scale_factor": 1,
                "type": "#F44336",
                "size": [
                  55,
                  55
                ],
                "position": [
                  0,
                  0
                ]
              },
              {
                "id": 385,
                "properties": {
                  "id": "Internet",
                  "label": "__Entity__:Concept"
                },
                "color": "#F44336",
                "styles": {},
                "label": "Internet",
                "scale_factor": 1,
                "type": "#F44336",
                "size": [
                  55,
                  55
                ],
                "position": [
                  0,
                  0
                ]
              },
              {
                "id": 386,
                "properties": {
                  "id": "Wireless Network Standards",
                  "label": "__Entity__:Concept"
                },
                "color": "#F44336",
                "styles": {},
                "label": "Wireless Network Standards",
                "scale_factor": 1,
                "type": "#F44336",
                "size": [
                  55,
                  55
                ],
                "position": [
                  0,
                  0
                ]
              },
              {
                "id": 389,
                "properties": {
                  "id": "Smart Devices",
                  "label": "__Entity__:Concept"
                },
                "color": "#F44336",
                "styles": {},
                "label": "Smart Devices",
                "scale_factor": 1,
                "type": "#F44336",
                "size": [
                  55,
                  55
                ],
                "position": [
                  0,
                  0
                ]
              },
              {
                "id": 397,
                "properties": {
                  "id": "Power Distribution",
                  "label": "__Entity__:Concept"
                },
                "color": "#F44336",
                "styles": {},
                "label": "Power Distribution",
                "scale_factor": 1,
                "type": "#F44336",
                "size": [
                  55,
                  55
                ],
                "position": [
                  0,
                  0
                ]
              },
              {
                "id": 398,
                "properties": {
                  "id": "Elections",
                  "label": "__Entity__:Concept"
                },
                "color": "#F44336",
                "styles": {},
                "label": "Elections",
                "scale_factor": 1,
                "type": "#F44336",
                "size": [
                  55,
                  55
                ],
                "position": [
                  0,
                  0
                ]
              },
              {
                "id": 399,
                "properties": {
                  "id": "Finance",
                  "label": "__Entity__:Concept"
                },
                "color": "#F44336",
                "styles": {},
                "label": "Finance",
                "scale_factor": 1,
                "type": "#F44336",
                "size": [
                  55,
                  55
                ],
                "position": [
                  0,
                  0
                ]
              },
              {
                "id": 462,
                "properties": {
                  "id": "People",
                  "label": "__Entity__"
                },
                "color": "#CDDC39",
                "styles": {},
                "label": "People",
                "scale_factor": 1,
                "type": "#CDDC39",
                "size": [
                  55,
                  55
                ],
                "position": [
                  0,
                  0
                ]
              },
              {
                "id": 463,
                "properties": {
                  "id": "Groups",
                  "label": "__Entity__"
                },
                "color": "#CDDC39",
                "styles": {},
                "label": "Groups",
                "scale_factor": 1,
                "type": "#CDDC39",
                "size": [
                  55,
                  55
                ],
                "position": [
                  0,
                  0
                ]
              },
              {
                "id": 421,
                "properties": {
                  "id": "United Kingdom Department For Science, Innovation & Technology",
                  "label": "__Entity__:Concept"
                },
                "color": "#F44336",
                "styles": {},
                "label": "United Kingdom Department For Science, Innovation & Technology",
                "scale_factor": 1,
                "type": "#F44336",
                "size": [
                  55,
                  55
                ],
                "position": [
                  0,
                  0
                ]
              },
              {
                "id": 422,
                "properties": {
                  "id": "Report",
                  "label": "__Entity__:Concept"
                },
                "color": "#F44336",
                "styles": {},
                "label": "Report",
                "scale_factor": 1,
                "type": "#F44336",
                "size": [
                  55,
                  55
                ],
                "position": [
                  0,
                  0
                ]
              },
              {
                "id": 420,
                "properties": {
                  "id": "Cyber Attacks",
                  "label": "__Entity__:Concept"
                },
                "color": "#F44336",
                "styles": {},
                "label": "Cyber Attacks",
                "scale_factor": 1,
                "type": "#F44336",
                "size": [
                  55,
                  55
                ],
                "position": [
                  0,
                  0
                ]
              },
              {
                "id": 423,
                "properties": {
                  "id": "Uk Businesses",
                  "label": "__Entity__:Concept"
                },
                "color": "#F44336",
                "styles": {},
                "label": "Uk Businesses",
                "scale_factor": 1,
                "type": "#F44336",
                "size": [
                  55,
                  55
                ],
                "position": [
                  0,
                  0
                ]
              },
              {
                "id": 424,
                "properties": {
                  "id": "Uk Registered Charities",
                  "label": "__Entity__:Concept"
                },
                "color": "#F44336",
                "styles": {},
                "label": "Uk Registered Charities",
                "scale_factor": 1,
                "type": "#F44336",
                "size": [
                  55,
                  55
                ],
                "position": [
                  0,
                  0
                ]
              },
              {
                "id": 425,
                "properties": {
                  "id": "Education Institutions",
                  "label": "__Entity__:Concept"
                },
                "color": "#F44336",
                "styles": {},
                "label": "Education Institutions",
                "scale_factor": 1,
                "type": "#F44336",
                "size": [
                  55,
                  55
                ],
                "position": [
                  0,
                  0
                ]
              },
              {
                "id": 427,
                "properties": {
                  "id": "Medium Businesses",
                  "label": "__Entity__:Concept"
                },
                "color": "#F44336",
                "styles": {},
                "label": "Medium Businesses",
                "scale_factor": 1,
                "type": "#F44336",
                "size": [
                  55,
                  55
                ],
                "position": [
                  0,
                  0
                ]
              },
              {
                "id": 428,
                "properties": {
                  "id": "Large Businesses",
                  "label": "__Entity__:Concept"
                },
                "color": "#F44336",
                "styles": {},
                "label": "Large Businesses",
                "scale_factor": 1,
                "type": "#F44336",
                "size": [
                  55,
                  55
                ],
                "position": [
                  0,
                  0
                ]
              },
              {
                "id": 429,
                "properties": {
                  "id": "High-Income Charities",
                  "label": "__Entity__:Concept"
                },
                "color": "#F44336",
                "styles": {},
                "label": "High-Income Charities",
                "scale_factor": 1,
                "type": "#F44336",
                "size": [
                  55,
                  55
                ],
                "position": [
                  0,
                  0
                ]
              },
              {
                "id": 426,
                "properties": {
                  "id": "Breaches",
                  "label": "__Entity__:Concept"
                },
                "color": "#F44336",
                "styles": {},
                "label": "Breaches",
                "scale_factor": 1,
                "type": "#F44336",
                "size": [
                  55,
                  55
                ],
                "position": [
                  0,
                  0
                ]
              },
              {
                "id": 464,
                "properties": {
                  "id": "Victims",
                  "label": "__Entity__"
                },
                "color": "#CDDC39",
                "styles": {},
                "label": "Victims",
                "scale_factor": 1,
                "type": "#CDDC39",
                "size": [
                  55,
                  55
                ],
                "position": [
                  0,
                  0
                ]
              },
              {
                "id": 465,
                "properties": {
                  "id": "Security Improvement",
                  "label": "__Entity__"
                },
                "color": "#CDDC39",
                "styles": {},
                "label": "Security Improvement",
                "scale_factor": 1,
                "type": "#CDDC39",
                "size": [
                  55,
                  55
                ],
                "position": [
                  0,
                  0
                ]
              },
              {
                "id": 430,
                "properties": {
                  "id": "Annual Income",
                  "label": "__Entity__:Concept"
                },
                "color": "#F44336",
                "styles": {},
                "label": "Annual Income",
                "scale_factor": 1,
                "type": "#F44336",
                "size": [
                  55,
                  55
                ],
                "position": [
                  0,
                  0
                ]
              },
              {
                "id": 432,
                "properties": {
                  "id": "Malware",
                  "label": "__Entity__:Concept"
                },
                "color": "#F44336",
                "styles": {},
                "label": "Malware",
                "scale_factor": 1,
                "type": "#F44336",
                "size": [
                  55,
                  55
                ],
                "position": [
                  0,
                  0
                ]
              },
              {
                "id": 469,
                "properties": {
                  "id": "Backdoors",
                  "label": "__Entity__"
                },
                "color": "#CDDC39",
                "styles": {},
                "label": "Backdoors",
                "scale_factor": 1,
                "type": "#CDDC39",
                "size": [
                  55,
                  55
                ],
                "position": [
                  0,
                  0
                ]
              },
              {
                "id": 437,
                "properties": {
                  "id": "Normal Internet Users",
                  "label": "__Entity__:Concept"
                },
                "color": "#F44336",
                "styles": {},
                "label": "Normal Internet Users",
                "scale_factor": 1,
                "type": "#F44336",
                "size": [
                  55,
                  55
                ],
                "position": [
                  0,
                  0
                ]
              },
              {
                "id": 468,
                "properties": {
                  "id": "Affected By",
                  "label": "__Entity__"
                },
                "color": "#CDDC39",
                "styles": {},
                "label": "Affected By",
                "scale_factor": 1,
                "type": "#CDDC39",
                "size": [
                  55,
                  55
                ],
                "position": [
                  0,
                  0
                ]
              },
              {
                "id": 438,
                "properties": {
                  "id": "Untargeted Cyber Attacks",
                  "label": "__Entity__:Concept"
                },
                "color": "#F44336",
                "styles": {},
                "label": "Untargeted Cyber Attacks",
                "scale_factor": 1,
                "type": "#F44336",
                "size": [
                  55,
                  55
                ],
                "position": [
                  0,
                  0
                ]
              },
              {
                "id": 444,
                "properties": {
                  "id": "Computer System Security",
                  "label": "__Entity__:Concept"
                },
                "color": "#F44336",
                "styles": {},
                "label": "Computer System Security",
                "scale_factor": 1,
                "type": "#F44336",
                "size": [
                  55,
                  55
                ],
                "position": [
                  0,
                  0
                ]
              },
              {
                "id": 445,
                "properties": {
                  "id": "Backdoor",
                  "label": "__Entity__:Concept"
                },
                "color": "#F44336",
                "styles": {},
                "label": "Backdoor",
                "scale_factor": 1,
                "type": "#F44336",
                "size": [
                  55,
                  55
                ],
                "position": [
                  0,
                  0
                ]
              },
              {
                "id": 451,
                "properties": {
                  "id": "Companies",
                  "label": "__Entity__:Concept"
                },
                "color": "#F44336",
                "styles": {},
                "label": "Companies",
                "scale_factor": 1,
                "type": "#F44336",
                "size": [
                  55,
                  55
                ],
                "position": [
                  0,
                  0
                ]
              },
              {
                "id": 452,
                "properties": {
                  "id": "Databases",
                  "label": "__Entity__:Concept"
                },
                "color": "#F44336",
                "styles": {},
                "label": "Databases",
                "scale_factor": 1,
                "type": "#F44336",
                "size": [
                  55,
                  55
                ],
                "position": [
                  0,
                  0
                ]
              },
              {
                "id": 453,
                "properties": {
                  "id": "Individuals",
                  "label": "__Entity__:Concept"
                },
                "color": "#F44336",
                "styles": {},
                "label": "Individuals",
                "scale_factor": 1,
                "type": "#F44336",
                "size": [
                  55,
                  55
                ],
                "position": [
                  0,
                  0
                ]
              },
              {
                "id": 454,
                "properties": {
                  "id": "Authorized Party",
                  "label": "__Entity__:Concept"
                },
                "color": "#F44336",
                "styles": {},
                "label": "Authorized Party",
                "scale_factor": 1,
                "type": "#F44336",
                "size": [
                  55,
                  55
                ],
                "position": [
                  0,
                  0
                ]
              },
              {
                "id": 456,
                "properties": {
                  "id": "Attacker",
                  "label": "__Entity__:Concept"
                },
                "color": "#F44336",
                "styles": {},
                "label": "Attacker",
                "scale_factor": 1,
                "type": "#F44336",
                "size": [
                  55,
                  55
                ],
                "position": [
                  0,
                  0
                ]
              },
              {
                "id": 457,
                "properties": {
                  "id": "Malicious Reasons",
                  "label": "__Entity__:Concept"
                },
                "color": "#F44336",
                "styles": {},
                "label": "Malicious Reasons",
                "scale_factor": 1,
                "type": "#F44336",
                "size": [
                  55,
                  55
                ],
                "position": [
                  0,
                  0
                ]
              },
              {
                "id": 455,
                "properties": {
                  "id": "Legitimate Access",
                  "label": "__Entity__:Concept"
                },
                "color": "#F44336",
                "styles": {},
                "label": "Legitimate Access",
                "scale_factor": 1,
                "type": "#F44336",
                "size": [
                  55,
                  55
                ],
                "position": [
                  0,
                  0
                ]
              },
              {
                "id": 458,
                "properties": {
                  "id": "Criminals",
                  "label": "__Entity__:Concept"
                },
                "color": "#F44336",
                "styles": {},
                "label": "Criminals",
                "scale_factor": 1,
                "type": "#F44336",
                "size": [
                  55,
                  55
                ],
                "position": [
                  0,
                  0
                ]
              },
              {
                "id": 459,
                "properties": {
                  "id": "Remote Administrative Access",
                  "label": "__Entity__:Concept"
                },
                "color": "#F44336",
                "styles": {},
                "label": "Remote Administrative Access",
                "scale_factor": 1,
                "type": "#F44336",
                "size": [
                  55,
                  55
                ],
                "position": [
                  0,
                  0
                ]
              },
              {
                "id": 460,
                "properties": {
                  "id": "Small And Midsize Businesses (Smbs)",
                  "label": "__Entity__"
                },
                "color": "#CDDC39",
                "styles": {},
                "label": "Small And Midsize Businesses (Smbs)",
                "scale_factor": 1,
                "type": "#CDDC39",
                "size": [
                  55,
                  55
                ],
                "position": [
                  0,
                  0
                ]
              },
              {
                "id": 433,
                "properties": {
                  "id": "Ransomware",
                  "label": "__Entity__:Concept"
                },
                "color": "#F44336",
                "styles": {},
                "label": "Ransomware",
                "scale_factor": 1,
                "type": "#F44336",
                "size": [
                  55,
                  55
                ],
                "position": [
                  0,
                  0
                ]
              },
              {
                "id": 434,
                "properties": {
                  "id": "Phishing",
                  "label": "__Entity__:Concept"
                },
                "color": "#F44336",
                "styles": {},
                "label": "Phishing",
                "scale_factor": 1,
                "type": "#F44336",
                "size": [
                  55,
                  55
                ],
                "position": [
                  0,
                  0
                ]
              },
              {
                "id": 435,
                "properties": {
                  "id": "Man-In-The-Middle Attacks",
                  "label": "__Entity__:Concept"
                },
                "color": "#F44336",
                "styles": {},
                "label": "Man-In-The-Middle Attacks",
                "scale_factor": 1,
                "type": "#F44336",
                "size": [
                  55,
                  55
                ],
                "position": [
                  0,
                  0
                ]
              },
              {
                "id": 436,
                "properties": {
                  "id": "Denial-Of-Service (Dos) Attacks",
                  "label": "__Entity__:Concept"
                },
                "color": "#F44336",
                "styles": {},
                "label": "Denial-Of-Service (Dos) Attacks",
                "scale_factor": 1,
                "type": "#F44336",
                "size": [
                  55,
                  55
                ],
                "position": [
                  0,
                  0
                ]
              },
              {
                "id": 467,
                "properties": {
                  "id": "Defense",
                  "label": "__Entity__"
                },
                "color": "#CDDC39",
                "styles": {},
                "label": "Defense",
                "scale_factor": 1,
                "type": "#CDDC39",
                "size": [
                  55,
                  55
                ],
                "position": [
                  0,
                  0
                ]
              },
              {
                "id": 466,
                "properties": {
                  "id": "Vulnerability",
                  "label": "__Entity__"
                },
                "color": "#CDDC39",
                "styles": {},
                "label": "Vulnerability",
                "scale_factor": 1,
                "type": "#CDDC39",
                "size": [
                  55,
                  55
                ],
                "position": [
                  0,
                  0
                ]
              },
              {
                "id": 461,
                "properties": {
                  "id": "Attackers",
                  "label": "__Entity__"
                },
                "color": "#CDDC39",
                "styles": {},
                "label": "Attackers",
                "scale_factor": 1,
                "type": "#CDDC39",
                "size": [
                  55,
                  55
                ],
                "position": [
                  0,
                  0
                ]
              },
              {
                "id": 440,
                "properties": {
                  "id": "Phishing Techniques",
                  "label": "__Entity__:Concept"
                },
                "color": "#F44336",
                "styles": {},
                "label": "Phishing Techniques",
                "scale_factor": 1,
                "type": "#F44336",
                "size": [
                  55,
                  55
                ],
                "position": [
                  0,
                  0
                ]
              },
              {
                "id": 441,
                "properties": {
                  "id": "Ransomware Techniques",
                  "label": "__Entity__:Concept"
                },
                "color": "#F44336",
                "styles": {},
                "label": "Ransomware Techniques",
                "scale_factor": 1,
                "type": "#F44336",
                "size": [
                  55,
                  55
                ],
                "position": [
                  0,
                  0
                ]
              },
              {
                "id": 442,
                "properties": {
                  "id": "Water Holing Techniques",
                  "label": "__Entity__:Concept"
                },
                "color": "#F44336",
                "styles": {},
                "label": "Water Holing Techniques",
                "scale_factor": 1,
                "type": "#F44336",
                "size": [
                  55,
                  55
                ],
                "position": [
                  0,
                  0
                ]
              },
              {
                "id": 443,
                "properties": {
                  "id": "Scanning Techniques",
                  "label": "__Entity__:Concept"
                },
                "color": "#F44336",
                "styles": {},
                "label": "Scanning Techniques",
                "scale_factor": 1,
                "type": "#F44336",
                "size": [
                  55,
                  55
                ],
                "position": [
                  0,
                  0
                ]
              },
              {
                "id": 439,
                "properties": {
                  "id": "Internet Openness",
                  "label": "__Entity__:Concept"
                },
                "color": "#F44336",
                "styles": {},
                "label": "Internet Openness",
                "scale_factor": 1,
                "type": "#F44336",
                "size": [
                  55,
                  55
                ],
                "position": [
                  0,
                  0
                ]
              },
              {
                "id": 471,
                "properties": {
                  "id": "Phil Venables",
                  "label": "__Entity__:Person"
                },
                "color": "#9C27B0",
                "styles": {},
                "label": "Phil Venables",
                "scale_factor": 1,
                "type": "#9C27B0",
                "size": [
                  55,
                  55
                ],
                "position": [
                  0,
                  0
                ]
              },
              {
                "id": 472,
                "properties": {
                  "id": "Google Cloud",
                  "label": "__Entity__:Company"
                },
                "color": "#4CAF50",
                "styles": {},
                "label": "Google Cloud",
                "scale_factor": 1,
                "type": "#4CAF50",
                "size": [
                  55,
                  55
                ],
                "position": [
                  0,
                  0
                ]
              },
              {
                "id": 475,
                "properties": {
                  "id": "Barclays Bank",
                  "label": "__Entity__:Company"
                },
                "color": "#4CAF50",
                "styles": {},
                "label": "Barclays Bank",
                "scale_factor": 1,
                "type": "#4CAF50",
                "size": [
                  55,
                  55
                ],
                "position": [
                  0,
                  0
                ]
              },
              {
                "id": 476,
                "properties": {
                  "id": "Standard Chartered Bank",
                  "label": "__Entity__:Company"
                },
                "color": "#4CAF50",
                "styles": {},
                "label": "Standard Chartered Bank",
                "scale_factor": 1,
                "type": "#4CAF50",
                "size": [
                  55,
                  55
                ],
                "position": [
                  0,
                  0
                ]
              },
              {
                "id": 479,
                "properties": {
                  "id": "Deutsche Bank",
                  "label": "__Entity__:Company"
                },
                "color": "#4CAF50",
                "styles": {},
                "label": "Deutsche Bank",
                "scale_factor": 1,
                "type": "#4CAF50",
                "size": [
                  55,
                  55
                ],
                "position": [
                  0,
                  0
                ]
              },
              {
                "id": 480,
                "properties": {
                  "id": "Goldman Sachs",
                  "label": "__Entity__:Company"
                },
                "color": "#4CAF50",
                "styles": {},
                "label": "Goldman Sachs",
                "scale_factor": 1,
                "type": "#4CAF50",
                "size": [
                  55,
                  55
                ],
                "position": [
                  0,
                  0
                ]
              },
              {
                "id": 477,
                "properties": {
                  "id": "Highlands Group",
                  "label": "__Entity__:Advisory firm"
                },
                "color": "#673AB7",
                "styles": {},
                "label": "Highlands Group",
                "scale_factor": 1,
                "type": "#673AB7",
                "size": [
                  55,
                  55
                ],
                "position": [
                  0,
                  0
                ]
              },
              {
                "id": 481,
                "properties": {
                  "id": "Council On Foreign Relations (Cfr)",
                  "label": "__Entity__:Organization"
                },
                "color": "#673AB7",
                "styles": {},
                "label": "Council On Foreign Relations (Cfr)",
                "scale_factor": 1,
                "type": "#673AB7",
                "size": [
                  55,
                  55
                ],
                "position": [
                  0,
                  0
                ]
              },
              {
                "id": 473,
                "properties": {
                  "id": "University Of York",
                  "label": "__Entity__:University"
                },
                "color": "#CDDC39",
                "styles": {},
                "label": "University Of York",
                "scale_factor": 1,
                "type": "#CDDC39",
                "size": [
                  55,
                  55
                ],
                "position": [
                  0,
                  0
                ]
              },
              {
                "id": 474,
                "properties": {
                  "id": "Oxford",
                  "label": "__Entity__:University"
                },
                "color": "#CDDC39",
                "styles": {},
                "label": "Oxford",
                "scale_factor": 1,
                "type": "#CDDC39",
                "size": [
                  55,
                  55
                ],
                "position": [
                  0,
                  0
                ]
              },
              {
                "id": 482,
                "properties": {
                  "id": "Barack Obama",
                  "label": "__Entity__:Person"
                },
                "color": "#9C27B0",
                "styles": {},
                "label": "Barack Obama",
                "scale_factor": 1,
                "type": "#9C27B0",
                "size": [
                  55,
                  55
                ],
                "position": [
                  0,
                  0
                ]
              },
              {
                "id": 483,
                "properties": {
                  "id": "Hackerone",
                  "label": "__Entity__:Company"
                },
                "color": "#4CAF50",
                "styles": {},
                "label": "Hackerone",
                "scale_factor": 1,
                "type": "#4CAF50",
                "size": [
                  55,
                  55
                ],
                "position": [
                  0,
                  0
                ]
              },
              {
                "id": 484,
                "properties": {
                  "id": "Interos",
                  "label": "__Entity__:Company"
                },
                "color": "#4CAF50",
                "styles": {},
                "label": "Interos",
                "scale_factor": 1,
                "type": "#4CAF50",
                "size": [
                  55,
                  55
                ],
                "position": [
                  0,
                  0
                ]
              },
              {
                "id": 485,
                "properties": {
                  "id": "Nist'S Information Security And Privacy Advisory Board",
                  "label": "__Entity__:Organization"
                },
                "color": "#673AB7",
                "styles": {},
                "label": "Nist'S Information Security And Privacy Advisory Board",
                "scale_factor": 1,
                "type": "#673AB7",
                "size": [
                  55,
                  55
                ],
                "position": [
                  0,
                  0
                ]
              },
              {
                "id": 486,
                "properties": {
                  "id": "New York University Tandon School Of Engineering",
                  "label": "__Entity__:University"
                },
                "color": "#CDDC39",
                "styles": {},
                "label": "New York University Tandon School Of Engineering",
                "scale_factor": 1,
                "type": "#CDDC39",
                "size": [
                  55,
                  55
                ],
                "position": [
                  0,
                  0
                ]
              },
              {
                "id": 487,
                "properties": {
                  "id": "New York University Stern School Of Business",
                  "label": "__Entity__:University"
                },
                "color": "#CDDC39",
                "styles": {},
                "label": "New York University Stern School Of Business",
                "scale_factor": 1,
                "type": "#CDDC39",
                "size": [
                  55,
                  55
                ],
                "position": [
                  0,
                  0
                ]
              },
              {
                "id": 496,
                "properties": {
                  "id": "Rsa Conference",
                  "label": "__Entity__:Event"
                },
                "color": "#9E9E9E",
                "styles": {},
                "label": "Rsa Conference",
                "scale_factor": 1,
                "type": "#9E9E9E",
                "size": [
                  55,
                  55
                ],
                "position": [
                  0,
                  0
                ]
              },
              {
                "id": 478,
                "properties": {
                  "id": "Department Of Defense",
                  "label": "__Entity__:Government agency"
                },
                "color": "#9E9E9E",
                "styles": {},
                "label": "Department Of Defense",
                "scale_factor": 1,
                "type": "#9E9E9E",
                "size": [
                  55,
                  55
                ],
                "position": [
                  0,
                  0
                ]
              },
              {
                "id": 492,
                "properties": {
                  "id": "President Biden",
                  "label": "__Entity__:Person"
                },
                "color": "#9C27B0",
                "styles": {},
                "label": "President Biden",
                "scale_factor": 1,
                "type": "#9C27B0",
                "size": [
                  55,
                  55
                ],
                "position": [
                  0,
                  0
                ]
              },
              {
                "id": 488,
                "properties": {
                  "id": "Sheltered Harbor",
                  "label": "__Entity__:Organization"
                },
                "color": "#673AB7",
                "styles": {},
                "label": "Sheltered Harbor",
                "scale_factor": 1,
                "type": "#673AB7",
                "size": [
                  55,
                  55
                ],
                "position": [
                  0,
                  0
                ]
              },
              {
                "id": 489,
                "properties": {
                  "id": "Center For Internet Security (Cis)",
                  "label": "__Entity__:Organization"
                },
                "color": "#673AB7",
                "styles": {},
                "label": "Center For Internet Security (Cis)",
                "scale_factor": 1,
                "type": "#673AB7",
                "size": [
                  55,
                  55
                ],
                "position": [
                  0,
                  0
                ]
              },
              {
                "id": 490,
                "properties": {
                  "id": "Ballisticx",
                  "label": "__Entity__:Organization"
                },
                "color": "#673AB7",
                "styles": {},
                "label": "Ballisticx",
                "scale_factor": 1,
                "type": "#673AB7",
                "size": [
                  55,
                  55
                ],
                "position": [
                  0,
                  0
                ]
              },
              {
                "id": 491,
                "properties": {
                  "id": "Ballistic Ventures",
                  "label": "__Entity__:Company"
                },
                "color": "#4CAF50",
                "styles": {},
                "label": "Ballistic Ventures",
                "scale_factor": 1,
                "type": "#4CAF50",
                "size": [
                  55,
                  55
                ],
                "position": [
                  0,
                  0
                ]
              },
              {
                "id": 493,
                "properties": {
                  "id": "Chartered Engineer",
                  "label": "__Entity__:Award"
                },
                "color": "#9C27B0",
                "styles": {},
                "label": "Chartered Engineer",
                "scale_factor": 1,
                "type": "#9C27B0",
                "size": [
                  55,
                  55
                ],
                "position": [
                  0,
                  0
                ]
              },
              {
                "id": 494,
                "properties": {
                  "id": "Chartered Scientist",
                  "label": "__Entity__:Award"
                },
                "color": "#9C27B0",
                "styles": {},
                "label": "Chartered Scientist",
                "scale_factor": 1,
                "type": "#9C27B0",
                "size": [
                  55,
                  55
                ],
                "position": [
                  0,
                  0
                ]
              },
              {
                "id": 495,
                "properties": {
                  "id": "Fellow Of The British Computer Society",
                  "label": "__Entity__:Award"
                },
                "color": "#9C27B0",
                "styles": {},
                "label": "Fellow Of The British Computer Society",
                "scale_factor": 1,
                "type": "#9C27B0",
                "size": [
                  55,
                  55
                ],
                "position": [
                  0,
                  0
                ]
              },
              {
                "id": 497,
                "properties": {
                  "id": "Fs-Isac Critical Infrastructure Award",
                  "label": "__Entity__:Award"
                },
                "color": "#9C27B0",
                "styles": {},
                "label": "Fs-Isac Critical Infrastructure Award",
                "scale_factor": 1,
                "type": "#9C27B0",
                "size": [
                  55,
                  55
                ],
                "position": [
                  0,
                  0
                ]
              },
              {
                "id": 498,
                "properties": {
                  "id": "Isaca Wasserman Award",
                  "label": "__Entity__:Award"
                },
                "color": "#9C27B0",
                "styles": {},
                "label": "Isaca Wasserman Award",
                "scale_factor": 1,
                "type": "#9C27B0",
                "size": [
                  55,
                  55
                ],
                "position": [
                  0,
                  0
                ]
              },
              {
                "id": 499,
                "properties": {
                  "id": "Sinet Innovation Award",
                  "label": "__Entity__:Award"
                },
                "color": "#9C27B0",
                "styles": {},
                "label": "Sinet Innovation Award",
                "scale_factor": 1,
                "type": "#9C27B0",
                "size": [
                  55,
                  55
                ],
                "position": [
                  0,
                  0
                ]
              },
              {
                "id": 501,
                "properties": {
                  "id": "Adobe Inc.",
                  "label": "__Entity__:Company"
                },
                "color": "#4CAF50",
                "styles": {},
                "label": "Adobe Inc.",
                "scale_factor": 1,
                "type": "#4CAF50",
                "size": [
                  55,
                  55
                ],
                "position": [
                  0,
                  0
                ]
              },
              {
                "id": 502,
                "properties": {
                  "id": "John Warnock",
                  "label": "__Entity__:Person"
                },
                "color": "#9C27B0",
                "styles": {},
                "label": "John Warnock",
                "scale_factor": 1,
                "type": "#9C27B0",
                "size": [
                  55,
                  55
                ],
                "position": [
                  0,
                  0
                ]
              },
              {
                "id": 503,
                "properties": {
                  "id": "Charles Geschke",
                  "label": "__Entity__:Person"
                },
                "color": "#9C27B0",
                "styles": {},
                "label": "Charles Geschke",
                "scale_factor": 1,
                "type": "#9C27B0",
                "size": [
                  55,
                  55
                ],
                "position": [
                  0,
                  0
                ]
              },
              {
                "id": 504,
                "properties": {
                  "id": "Xerox Parc",
                  "label": "__Entity__:Company"
                },
                "color": "#4CAF50",
                "styles": {},
                "label": "Xerox Parc",
                "scale_factor": 1,
                "type": "#4CAF50",
                "size": [
                  55,
                  55
                ],
                "position": [
                  0,
                  0
                ]
              },
              {
                "id": 505,
                "properties": {
                  "id": "Apple Computer",
                  "label": "__Entity__:Company"
                },
                "color": "#4CAF50",
                "styles": {},
                "label": "Apple Computer",
                "scale_factor": 1,
                "type": "#4CAF50",
                "size": [
                  55,
                  55
                ],
                "position": [
                  0,
                  0
                ]
              },
              {
                "id": 507,
                "properties": {
                  "id": "Marva Warnock",
                  "label": "__Entity__:Person"
                },
                "color": "#9C27B0",
                "styles": {},
                "label": "Marva Warnock",
                "scale_factor": 1,
                "type": "#9C27B0",
                "size": [
                  55,
                  55
                ],
                "position": [
                  0,
                  0
                ]
              },
              {
                "id": 508,
                "properties": {
                  "id": "Steve Jobs",
                  "label": "__Entity__:Person"
                },
                "color": "#9C27B0",
                "styles": {},
                "label": "Steve Jobs",
                "scale_factor": 1,
                "type": "#9C27B0",
                "size": [
                  55,
                  55
                ],
                "position": [
                  0,
                  0
                ]
              },
              {
                "id": 509,
                "properties": {
                  "id": "Bill Paxton",
                  "label": "__Entity__:Person"
                },
                "color": "#9C27B0",
                "styles": {},
                "label": "Bill Paxton",
                "scale_factor": 1,
                "type": "#9C27B0",
                "size": [
                  55,
                  55
                ],
                "position": [
                  0,
                  0
                ]
              },
              {
                "id": 511,
                "properties": {
                  "id": "Anthropic Pbc",
                  "label": "__Entity__:Company"
                },
                "color": "#4CAF50",
                "styles": {},
                "label": "Anthropic Pbc",
                "scale_factor": 1,
                "type": "#4CAF50",
                "size": [
                  55,
                  55
                ],
                "position": [
                  0,
                  0
                ]
              },
              {
                "id": 526,
                "properties": {
                  "id": "Daniela Amodei",
                  "label": "__Entity__:Person"
                },
                "color": "#9C27B0",
                "styles": {},
                "label": "Daniela Amodei",
                "scale_factor": 1,
                "type": "#9C27B0",
                "size": [
                  55,
                  55
                ],
                "position": [
                  0,
                  0
                ]
              },
              {
                "id": 527,
                "properties": {
                  "id": "Dario Amodei",
                  "label": "__Entity__:Person"
                },
                "color": "#9C27B0",
                "styles": {},
                "label": "Dario Amodei",
                "scale_factor": 1,
                "type": "#9C27B0",
                "size": [
                  55,
                  55
                ],
                "position": [
                  0,
                  0
                ]
              },
              {
                "id": 520,
                "properties": {
                  "id": "Large Language Models (Llms)",
                  "label": "__Entity__:Technology"
                },
                "color": "#4CAF50",
                "styles": {},
                "label": "Large Language Models (Llms)",
                "scale_factor": 1,
                "type": "#4CAF50",
                "size": [
                  55,
                  55
                ],
                "position": [
                  0,
                  0
                ]
              },
              {
                "id": 512,
                "properties": {
                  "id": "U.S.",
                  "label": "__Entity__:Country"
                },
                "color": "#9C27B0",
                "styles": {},
                "label": "U.S.",
                "scale_factor": 1,
                "type": "#9C27B0",
                "size": [
                  55,
                  55
                ],
                "position": [
                  0,
                  0
                ]
              },
              {
                "id": 513,
                "properties": {
                  "id": "Artificial Intelligence",
                  "label": "__Entity__:Technology"
                },
                "color": "#4CAF50",
                "styles": {},
                "label": "Artificial Intelligence",
                "scale_factor": 1,
                "type": "#4CAF50",
                "size": [
                  55,
                  55
                ],
                "position": [
                  0,
                  0
                ]
              },
              {
                "id": 514,
                "properties": {
                  "id": "Startup Company",
                  "label": "__Entity__:Company"
                },
                "color": "#4CAF50",
                "styles": {},
                "label": "Startup Company",
                "scale_factor": 1,
                "type": "#4CAF50",
                "size": [
                  55,
                  55
                ],
                "position": [
                  0,
                  0
                ]
              },
              {
                "id": 516,
                "properties": {
                  "id": "Ai Systems",
                  "label": "__Entity__:Technology"
                },
                "color": "#4CAF50",
                "styles": {},
                "label": "Ai Systems",
                "scale_factor": 1,
                "type": "#4CAF50",
                "size": [
                  55,
                  55
                ],
                "position": [
                  0,
                  0
                ]
              },
              {
                "id": 534,
                "properties": {
                  "id": "Anthrop Llc",
                  "label": "__Entity__:Company"
                },
                "color": "#4CAF50",
                "styles": {},
                "label": "Anthrop Llc",
                "scale_factor": 1,
                "type": "#4CAF50",
                "size": [
                  55,
                  55
                ],
                "position": [
                  0,
                  0
                ]
              },
              {
                "id": 535,
                "properties": {
                  "id": "Trademark",
                  "label": "__Entity__:Concept"
                },
                "color": "#F44336",
                "styles": {},
                "label": "Trademark",
                "scale_factor": 1,
                "type": "#F44336",
                "size": [
                  55,
                  55
                ],
                "position": [
                  0,
                  0
                ]
              },
              {
                "id": 548,
                "properties": {
                  "id": "Motives",
                  "label": "__Entity__:Concept"
                },
                "color": "#F44336",
                "styles": {},
                "label": "Motives",
                "scale_factor": 1,
                "type": "#F44336",
                "size": [
                  55,
                  55
                ],
                "position": [
                  0,
                  0
                ]
              },
              {
                "id": 515,
                "properties": {
                  "id": "2021",
                  "label": "__Entity__:Year"
                },
                "color": "#2196F3",
                "styles": {},
                "label": "2021",
                "scale_factor": 1,
                "type": "#2196F3",
                "size": [
                  55,
                  55
                ],
                "position": [
                  0,
                  0
                ]
              },
              {
                "id": 532,
                "properties": {
                  "id": "Sam Bankman-Fried",
                  "label": "__Entity__:Person"
                },
                "color": "#9C27B0",
                "styles": {},
                "label": "Sam Bankman-Fried",
                "scale_factor": 1,
                "type": "#9C27B0",
                "size": [
                  55,
                  55
                ],
                "position": [
                  0,
                  0
                ]
              },
              {
                "id": 553,
                "properties": {
                  "id": "Delaware Public-Benefit Corporation (Pbc)",
                  "label": "__Entity__:Company"
                },
                "color": "#4CAF50",
                "styles": {},
                "label": "Delaware Public-Benefit Corporation (Pbc)",
                "scale_factor": 1,
                "type": "#4CAF50",
                "size": [
                  55,
                  55
                ],
                "position": [
                  0,
                  0
                ]
              },
              {
                "id": 556,
                "properties": {
                  "id": "Long-Term Benefit Trust",
                  "label": "__Entity__:Concept"
                },
                "color": "#F44336",
                "styles": {},
                "label": "Long-Term Benefit Trust",
                "scale_factor": 1,
                "type": "#F44336",
                "size": [
                  55,
                  55
                ],
                "position": [
                  0,
                  0
                ]
              },
              {
                "id": 571,
                "properties": {
                  "id": "Projects",
                  "label": "__Entity__:Concept"
                },
                "color": "#F44336",
                "styles": {},
                "label": "Projects",
                "scale_factor": 1,
                "type": "#F44336",
                "size": [
                  55,
                  55
                ],
                "position": [
                  0,
                  0
                ]
              },
              {
                "id": 519,
                "properties": {
                  "id": "Safe Models",
                  "label": "__Entity__:Concept"
                },
                "color": "#F44336",
                "styles": {},
                "label": "Safe Models",
                "scale_factor": 1,
                "type": "#F44336",
                "size": [
                  55,
                  55
                ],
                "position": [
                  0,
                  0
                ]
              },
              {
                "id": 517,
                "properties": {
                  "id": "Safety Properties",
                  "label": "__Entity__:Concept"
                },
                "color": "#F44336",
                "styles": {},
                "label": "Safety Properties",
                "scale_factor": 1,
                "type": "#F44336",
                "size": [
                  55,
                  55
                ],
                "position": [
                  0,
                  0
                ]
              },
              {
                "id": 518,
                "properties": {
                  "id": "Technological Frontier",
                  "label": "__Entity__:Concept"
                },
                "color": "#F44336",
                "styles": {},
                "label": "Technological Frontier",
                "scale_factor": 1,
                "type": "#F44336",
                "size": [
                  55,
                  55
                ],
                "position": [
                  0,
                  0
                ]
              },
              {
                "id": 521,
                "properties": {
                  "id": "Claude",
                  "label": "__Entity__:Technology"
                },
                "color": "#4CAF50",
                "styles": {},
                "label": "Claude",
                "scale_factor": 1,
                "type": "#4CAF50",
                "size": [
                  55,
                  55
                ],
                "position": [
                  0,
                  0
                ]
              },
              {
                "id": 587,
                "properties": {
                  "id": "Openai'S Chatgpt",
                  "label": "__Entity__"
                },
                "color": "#CDDC39",
                "styles": {},
                "label": "Openai'S Chatgpt",
                "scale_factor": 1,
                "type": "#CDDC39",
                "size": [
                  55,
                  55
                ],
                "position": [
                  0,
                  0
                ]
              },
              {
                "id": 588,
                "properties": {
                  "id": "Google'S Gemini",
                  "label": "__Entity__"
                },
                "color": "#CDDC39",
                "styles": {},
                "label": "Google'S Gemini",
                "scale_factor": 1,
                "type": "#CDDC39",
                "size": [
                  55,
                  55
                ],
                "position": [
                  0,
                  0
                ]
              },
              {
                "id": 575,
                "properties": {
                  "id": "Claude Shannon",
                  "label": "__Entity__:Person"
                },
                "color": "#9C27B0",
                "styles": {},
                "label": "Claude Shannon",
                "scale_factor": 1,
                "type": "#9C27B0",
                "size": [
                  55,
                  55
                ],
                "position": [
                  0,
                  0
                ]
              },
              {
                "id": 576,
                "properties": {
                  "id": "Alexa",
                  "label": "__Entity__:Technology"
                },
                "color": "#4CAF50",
                "styles": {},
                "label": "Alexa",
                "scale_factor": 1,
                "type": "#4CAF50",
                "size": [
                  55,
                  55
                ],
                "position": [
                  0,
                  0
                ]
              },
              {
                "id": 577,
                "properties": {
                  "id": "Siri",
                  "label": "__Entity__:Technology"
                },
                "color": "#4CAF50",
                "styles": {},
                "label": "Siri",
                "scale_factor": 1,
                "type": "#4CAF50",
                "size": [
                  55,
                  55
                ],
                "position": [
                  0,
                  0
                ]
              },
              {
                "id": 578,
                "properties": {
                  "id": "Cortana",
                  "label": "__Entity__:Technology"
                },
                "color": "#4CAF50",
                "styles": {},
                "label": "Cortana",
                "scale_factor": 1,
                "type": "#4CAF50",
                "size": [
                  55,
                  55
                ],
                "position": [
                  0,
                  0
                ]
              },
              {
                "id": 579,
                "properties": {
                  "id": "Claude In",
                  "label": "__Entity__:Technology"
                },
                "color": "#4CAF50",
                "styles": {},
                "label": "Claude In",
                "scale_factor": 1,
                "type": "#4CAF50",
                "size": [
                  55,
                  55
                ],
                "position": [
                  0,
                  0
                ]
              },
              {
                "id": 572,
                "properties": {
                  "id": "Constitutional Ai",
                  "label": "__Entity__:Technology"
                },
                "color": "#4CAF50",
                "styles": {},
                "label": "Constitutional Ai",
                "scale_factor": 1,
                "type": "#4CAF50",
                "size": [
                  55,
                  55
                ],
                "position": [
                  0,
                  0
                ]
              },
              {
                "id": 524,
                "properties": {
                  "id": "Google",
                  "label": "__Entity__:Company"
                },
                "color": "#4CAF50",
                "styles": {},
                "label": "Google",
                "scale_factor": 1,
                "type": "#4CAF50",
                "size": [
                  55,
                  55
                ],
                "position": [
                  0,
                  0
                ]
              },
              {
                "id": 540,
                "properties": {
                  "id": "Investors",
                  "label": "__Entity__:Concept"
                },
                "color": "#F44336",
                "styles": {},
                "label": "Investors",
                "scale_factor": 1,
                "type": "#F44336",
                "size": [
                  55,
                  55
                ],
                "position": [
                  0,
                  0
                ]
              },
              {
                "id": 529,
                "properties": {
                  "id": "Investment",
                  "label": "__Entity__:Concept"
                },
                "color": "#F44336",
                "styles": {},
                "label": "Investment",
                "scale_factor": 1,
                "type": "#F44336",
                "size": [
                  55,
                  55
                ],
                "position": [
                  0,
                  0
                ]
              },
              {
                "id": 541,
                "properties": {
                  "id": "Common Shareholders",
                  "label": "__Entity__:Concept"
                },
                "color": "#F44336",
                "styles": {},
                "label": "Common Shareholders",
                "scale_factor": 1,
                "type": "#F44336",
                "size": [
                  55,
                  55
                ],
                "position": [
                  0,
                  0
                ]
              },
              {
                "id": 591,
                "properties": {
                  "id": "Co-Founder & President",
                  "label": "__Entity__"
                },
                "color": "#CDDC39",
                "styles": {},
                "label": "Co-Founder & President",
                "scale_factor": 1,
                "type": "#CDDC39",
                "size": [
                  55,
                  55
                ],
                "position": [
                  0,
                  0
                ]
              },
              {
                "id": 522,
                "properties": {
                  "id": "Openai",
                  "label": "__Entity__:Company"
                },
                "color": "#4CAF50",
                "styles": {},
                "label": "Openai",
                "scale_factor": 1,
                "type": "#4CAF50",
                "size": [
                  55,
                  55
                ],
                "position": [
                  0,
                  0
                ]
              },
              {
                "id": 590,
                "properties": {
                  "id": "Co-Founder & Chief Executive Officer",
                  "label": "__Entity__"
                },
                "color": "#CDDC39",
                "styles": {},
                "label": "Co-Founder & Chief Executive Officer",
                "scale_factor": 1,
                "type": "#CDDC39",
                "size": [
                  55,
                  55
                ],
                "position": [
                  0,
                  0
                ]
              },
              {
                "id": 528,
                "properties": {
                  "id": "Amazon",
                  "label": "__Entity__:Company"
                },
                "color": "#4CAF50",
                "styles": {},
                "label": "Amazon",
                "scale_factor": 1,
                "type": "#4CAF50",
                "size": [
                  55,
                  55
                ],
                "position": [
                  0,
                  0
                ]
              },
              {
                "id": 536,
                "properties": {
                  "id": "Amazon Web Services (Aws)",
                  "label": "__Entity__:Technology"
                },
                "color": "#4CAF50",
                "styles": {},
                "label": "Amazon Web Services (Aws)",
                "scale_factor": 1,
                "type": "#4CAF50",
                "size": [
                  55,
                  55
                ],
                "position": [
                  0,
                  0
                ]
              },
              {
                "id": 539,
                "properties": {
                  "id": "Minority Stakeholder",
                  "label": "__Entity__:Concept"
                },
                "color": "#F44336",
                "styles": {},
                "label": "Minority Stakeholder",
                "scale_factor": 1,
                "type": "#F44336",
                "size": [
                  55,
                  55
                ],
                "position": [
                  0,
                  0
                ]
              },
              {
                "id": 533,
                "properties": {
                  "id": "Ftx",
                  "label": "__Entity__:Company"
                },
                "color": "#4CAF50",
                "styles": {},
                "label": "Ftx",
                "scale_factor": 1,
                "type": "#4CAF50",
                "size": [
                  55,
                  55
                ],
                "position": [
                  0,
                  0
                ]
              },
              {
                "id": 589,
                "properties": {
                  "id": "Aws Customers",
                  "label": "__Entity__"
                },
                "color": "#CDDC39",
                "styles": {},
                "label": "Aws Customers",
                "scale_factor": 1,
                "type": "#CDDC39",
                "size": [
                  55,
                  55
                ],
                "position": [
                  0,
                  0
                ]
              },
              {
                "id": 544,
                "properties": {
                  "id": "Menlo Ventures",
                  "label": "__Entity__:Company"
                },
                "color": "#4CAF50",
                "styles": {},
                "label": "Menlo Ventures",
                "scale_factor": 1,
                "type": "#4CAF50",
                "size": [
                  55,
                  55
                ],
                "position": [
                  0,
                  0
                ]
              },
              {
                "id": 545,
                "properties": {
                  "id": "Wisdom Ventures",
                  "label": "__Entity__:Company"
                },
                "color": "#4CAF50",
                "styles": {},
                "label": "Wisdom Ventures",
                "scale_factor": 1,
                "type": "#4CAF50",
                "size": [
                  55,
                  55
                ],
                "position": [
                  0,
                  0
                ]
              },
              {
                "id": 546,
                "properties": {
                  "id": "Ripple Impact Investments",
                  "label": "__Entity__:Company"
                },
                "color": "#4CAF50",
                "styles": {},
                "label": "Ripple Impact Investments",
                "scale_factor": 1,
                "type": "#4CAF50",
                "size": [
                  55,
                  55
                ],
                "position": [
                  0,
                  0
                ]
              },
              {
                "id": 547,
                "properties": {
                  "id": "Factorial Funds",
                  "label": "__Entity__:Company"
                },
                "color": "#4CAF50",
                "styles": {},
                "label": "Factorial Funds",
                "scale_factor": 1,
                "type": "#4CAF50",
                "size": [
                  55,
                  55
                ],
                "position": [
                  0,
                  0
                ]
              },
              {
                "id": 551,
                "properties": {
                  "id": "Amodei Siblings",
                  "label": "__Entity__:Concept"
                },
                "color": "#F44336",
                "styles": {},
                "label": "Amodei Siblings",
                "scale_factor": 1,
                "type": "#F44336",
                "size": [
                  55,
                  55
                ],
                "position": [
                  0,
                  0
                ]
              },
              {
                "id": 595,
                "properties": {
                  "id": "Directional Differences",
                  "label": "__Entity__"
                },
                "color": "#CDDC39",
                "styles": {},
                "label": "Directional Differences",
                "scale_factor": 1,
                "type": "#CDDC39",
                "size": [
                  55,
                  55
                ],
                "position": [
                  0,
                  0
                ]
              },
              {
                "id": 554,
                "properties": {
                  "id": "Private Interests",
                  "label": "__Entity__:Concept"
                },
                "color": "#F44336",
                "styles": {},
                "label": "Private Interests",
                "scale_factor": 1,
                "type": "#F44336",
                "size": [
                  55,
                  55
                ],
                "position": [
                  0,
                  0
                ]
              },
              {
                "id": 555,
                "properties": {
                  "id": "Public Interests",
                  "label": "__Entity__:Concept"
                },
                "color": "#F44336",
                "styles": {},
                "label": "Public Interests",
                "scale_factor": 1,
                "type": "#F44336",
                "size": [
                  55,
                  55
                ],
                "position": [
                  0,
                  0
                ]
              },
              {
                "id": 560,
                "properties": {
                  "id": "Trust Members",
                  "label": "__Entity__:Concept"
                },
                "color": "#F44336",
                "styles": {},
                "label": "Trust Members",
                "scale_factor": 1,
                "type": "#F44336",
                "size": [
                  55,
                  55
                ],
                "position": [
                  0,
                  0
                ]
              },
              {
                "id": 561,
                "properties": {
                  "id": "Jason Matheny",
                  "label": "__Entity__:Person"
                },
                "color": "#9C27B0",
                "styles": {},
                "label": "Jason Matheny",
                "scale_factor": 1,
                "type": "#9C27B0",
                "size": [
                  55,
                  55
                ],
                "position": [
                  0,
                  0
                ]
              },
              {
                "id": 563,
                "properties": {
                  "id": "Kanika Bahl",
                  "label": "__Entity__:Person"
                },
                "color": "#9C27B0",
                "styles": {},
                "label": "Kanika Bahl",
                "scale_factor": 1,
                "type": "#9C27B0",
                "size": [
                  55,
                  55
                ],
                "position": [
                  0,
                  0
                ]
              },
              {
                "id": 565,
                "properties": {
                  "id": "Neil Buddy Shah",
                  "label": "__Entity__:Person"
                },
                "color": "#9C27B0",
                "styles": {},
                "label": "Neil Buddy Shah",
                "scale_factor": 1,
                "type": "#9C27B0",
                "size": [
                  55,
                  55
                ],
                "position": [
                  0,
                  0
                ]
              },
              {
                "id": 567,
                "properties": {
                  "id": "Paul Christiano",
                  "label": "__Entity__:Person"
                },
                "color": "#9C27B0",
                "styles": {},
                "label": "Paul Christiano",
                "scale_factor": 1,
                "type": "#9C27B0",
                "size": [
                  55,
                  55
                ],
                "position": [
                  0,
                  0
                ]
              },
              {
                "id": 569,
                "properties": {
                  "id": "Zach Robinson",
                  "label": "__Entity__:Person"
                },
                "color": "#9C27B0",
                "styles": {},
                "label": "Zach Robinson",
                "scale_factor": 1,
                "type": "#9C27B0",
                "size": [
                  55,
                  55
                ],
                "position": [
                  0,
                  0
                ]
              },
              {
                "id": 562,
                "properties": {
                  "id": "Rand Corporation",
                  "label": "__Entity__:Company"
                },
                "color": "#4CAF50",
                "styles": {},
                "label": "Rand Corporation",
                "scale_factor": 1,
                "type": "#4CAF50",
                "size": [
                  55,
                  55
                ],
                "position": [
                  0,
                  0
                ]
              },
              {
                "id": 564,
                "properties": {
                  "id": "Evidence Action",
                  "label": "__Entity__:Company"
                },
                "color": "#4CAF50",
                "styles": {},
                "label": "Evidence Action",
                "scale_factor": 1,
                "type": "#4CAF50",
                "size": [
                  55,
                  55
                ],
                "position": [
                  0,
                  0
                ]
              },
              {
                "id": 566,
                "properties": {
                  "id": "Clinton Health Access Initiative",
                  "label": "__Entity__:Company"
                },
                "color": "#4CAF50",
                "styles": {},
                "label": "Clinton Health Access Initiative",
                "scale_factor": 1,
                "type": "#4CAF50",
                "size": [
                  55,
                  55
                ],
                "position": [
                  0,
                  0
                ]
              },
              {
                "id": 568,
                "properties": {
                  "id": "Alignment Research Center",
                  "label": "__Entity__:Company"
                },
                "color": "#4CAF50",
                "styles": {},
                "label": "Alignment Research Center",
                "scale_factor": 1,
                "type": "#4CAF50",
                "size": [
                  55,
                  55
                ],
                "position": [
                  0,
                  0
                ]
              },
              {
                "id": 570,
                "properties": {
                  "id": "Effective Ventures Us",
                  "label": "__Entity__:Company"
                },
                "color": "#4CAF50",
                "styles": {},
                "label": "Effective Ventures Us",
                "scale_factor": 1,
                "type": "#4CAF50",
                "size": [
                  55,
                  55
                ],
                "position": [
                  0,
                  0
                ]
              },
              {
                "id": 573,
                "properties": {
                  "id": "Safety Guidelines",
                  "label": "__Entity__:Concept"
                },
                "color": "#F44336",
                "styles": {},
                "label": "Safety Guidelines",
                "scale_factor": 1,
                "type": "#F44336",
                "size": [
                  55,
                  55
                ],
                "position": [
                  0,
                  0
                ]
              },
              {
                "id": 580,
                "properties": {
                  "id": "Jason Clinton",
                  "label": "__Entity__"
                },
                "color": "#CDDC39",
                "styles": {},
                "label": "Jason Clinton",
                "scale_factor": 1,
                "type": "#CDDC39",
                "size": [
                  55,
                  55
                ],
                "position": [
                  0,
                  0
                ]
              },
              {
                "id": 581,
                "properties": {
                  "id": "Jared Kaplan",
                  "label": "__Entity__"
                },
                "color": "#CDDC39",
                "styles": {},
                "label": "Jared Kaplan",
                "scale_factor": 1,
                "type": "#CDDC39",
                "size": [
                  55,
                  55
                ],
                "position": [
                  0,
                  0
                ]
              },
              {
                "id": 592,
                "properties": {
                  "id": "Co-Founder & Chief Science Officer",
                  "label": "__Entity__"
                },
                "color": "#CDDC39",
                "styles": {},
                "label": "Co-Founder & Chief Science Officer",
                "scale_factor": 1,
                "type": "#CDDC39",
                "size": [
                  55,
                  55
                ],
                "position": [
                  0,
                  0
                ]
              },
              {
                "id": 582,
                "properties": {
                  "id": "Ben Mann",
                  "label": "__Entity__"
                },
                "color": "#CDDC39",
                "styles": {},
                "label": "Ben Mann",
                "scale_factor": 1,
                "type": "#CDDC39",
                "size": [
                  55,
                  55
                ],
                "position": [
                  0,
                  0
                ]
              },
              {
                "id": 593,
                "properties": {
                  "id": "Co-Founder & Member Of Technical Staff",
                  "label": "__Entity__"
                },
                "color": "#CDDC39",
                "styles": {},
                "label": "Co-Founder & Member Of Technical Staff",
                "scale_factor": 1,
                "type": "#CDDC39",
                "size": [
                  55,
                  55
                ],
                "position": [
                  0,
                  0
                ]
              },
              {
                "id": 583,
                "properties": {
                  "id": "Jack Clark",
                  "label": "__Entity__"
                },
                "color": "#CDDC39",
                "styles": {},
                "label": "Jack Clark",
                "scale_factor": 1,
                "type": "#CDDC39",
                "size": [
                  55,
                  55
                ],
                "position": [
                  0,
                  0
                ]
              },
              {
                "id": 594,
                "properties": {
                  "id": "Co-Founder & Head Of Policy",
                  "label": "__Entity__"
                },
                "color": "#CDDC39",
                "styles": {},
                "label": "Co-Founder & Head Of Policy",
                "scale_factor": 1,
                "type": "#CDDC39",
                "size": [
                  55,
                  55
                ],
                "position": [
                  0,
                  0
                ]
              },
              {
                "id": 584,
                "properties": {
                  "id": "Luke Muehlhauser",
                  "label": "__Entity__"
                },
                "color": "#CDDC39",
                "styles": {},
                "label": "Luke Muehlhauser",
                "scale_factor": 1,
                "type": "#CDDC39",
                "size": [
                  55,
                  55
                ],
                "position": [
                  0,
                  0
                ]
              },
              {
                "id": 542,
                "properties": {
                  "id": "Series A Shareholders",
                  "label": "__Entity__:Concept"
                },
                "color": "#F44336",
                "styles": {},
                "label": "Series A Shareholders",
                "scale_factor": 1,
                "type": "#F44336",
                "size": [
                  55,
                  55
                ],
                "position": [
                  0,
                  0
                ]
              },
              {
                "id": 585,
                "properties": {
                  "id": "Yasmin Razavi",
                  "label": "__Entity__"
                },
                "color": "#CDDC39",
                "styles": {},
                "label": "Yasmin Razavi",
                "scale_factor": 1,
                "type": "#CDDC39",
                "size": [
                  55,
                  55
                ],
                "position": [
                  0,
                  0
                ]
              },
              {
                "id": 543,
                "properties": {
                  "id": "Series C Shareholders",
                  "label": "__Entity__:Concept"
                },
                "color": "#F44336",
                "styles": {},
                "label": "Series C Shareholders",
                "scale_factor": 1,
                "type": "#F44336",
                "size": [
                  55,
                  55
                ],
                "position": [
                  0,
                  0
                ]
              },
              {
                "id": 586,
                "properties": {
                  "id": "Amazon.Com",
                  "label": "__Entity__"
                },
                "color": "#CDDC39",
                "styles": {},
                "label": "Amazon.Com",
                "scale_factor": 1,
                "type": "#CDDC39",
                "size": [
                  55,
                  55
                ],
                "position": [
                  0,
                  0
                ]
              },
              {
                "id": 714,
                "properties": {
                  "id": "President Joe Biden",
                  "label": "__Entity__:Person"
                },
                "color": "#9C27B0",
                "styles": {},
                "label": "President Joe Biden",
                "scale_factor": 1,
                "type": "#9C27B0",
                "size": [
                  55,
                  55
                ],
                "position": [
                  0,
                  0
                ]
              },
              {
                "id": 715,
                "properties": {
                  "id": "Executive Order 14028",
                  "label": "__Entity__:Legal document"
                },
                "color": "#4CAF50",
                "styles": {},
                "label": "Executive Order 14028",
                "scale_factor": 1,
                "type": "#4CAF50",
                "size": [
                  55,
                  55
                ],
                "position": [
                  0,
                  0
                ]
              },
              {
                "id": 712,
                "properties": {
                  "id": "United States Secretary Of Homeland Security",
                  "label": "__Entity__:Government agency"
                },
                "color": "#9E9E9E",
                "styles": {},
                "label": "United States Secretary Of Homeland Security",
                "scale_factor": 1,
                "type": "#9E9E9E",
                "size": [
                  55,
                  55
                ],
                "position": [
                  0,
                  0
                ]
              },
              {
                "id": 713,
                "properties": {
                  "id": "National Transportation Safety Board",
                  "label": "__Entity__:Organization"
                },
                "color": "#673AB7",
                "styles": {},
                "label": "National Transportation Safety Board",
                "scale_factor": 1,
                "type": "#673AB7",
                "size": [
                  55,
                  55
                ],
                "position": [
                  0,
                  0
                ]
              },
              {
                "id": 718,
                "properties": {
                  "id": "Secretary Of Homeland Security",
                  "label": "__Entity__:Government official"
                },
                "color": "#F44336",
                "styles": {},
                "label": "Secretary Of Homeland Security",
                "scale_factor": 1,
                "type": "#F44336",
                "size": [
                  55,
                  55
                ],
                "position": [
                  0,
                  0
                ]
              },
              {
                "id": 716,
                "properties": {
                  "id": "Private Sector",
                  "label": "__Entity__:Business sector"
                },
                "color": "#607D8B",
                "styles": {},
                "label": "Private Sector",
                "scale_factor": 1,
                "type": "#607D8B",
                "size": [
                  55,
                  55
                ],
                "position": [
                  0,
                  0
                ]
              },
              {
                "id": 717,
                "properties": {
                  "id": "Public Sector",
                  "label": "__Entity__:Government sector"
                },
                "color": "#673AB7",
                "styles": {},
                "label": "Public Sector",
                "scale_factor": 1,
                "type": "#673AB7",
                "size": [
                  55,
                  55
                ],
                "position": [
                  0,
                  0
                ]
              },
              {
                "id": 719,
                "properties": {
                  "id": "Csrb",
                  "label": "__Entity__:Acronym"
                },
                "color": "#CDDC39",
                "styles": {},
                "label": "Csrb",
                "scale_factor": 1,
                "type": "#CDDC39",
                "size": [
                  55,
                  55
                ],
                "position": [
                  0,
                  0
                ]
              },
              {
                "id": 720,
                "properties": {
                  "id": "Robert Silvers",
                  "label": "__Entity__:Person"
                },
                "color": "#9C27B0",
                "styles": {},
                "label": "Robert Silvers",
                "scale_factor": 1,
                "type": "#9C27B0",
                "size": [
                  55,
                  55
                ],
                "position": [
                  0,
                  0
                ]
              },
              {
                "id": 721,
                "properties": {
                  "id": "Heather Adkins",
                  "label": "__Entity__:Person"
                },
                "color": "#9C27B0",
                "styles": {},
                "label": "Heather Adkins",
                "scale_factor": 1,
                "type": "#9C27B0",
                "size": [
                  55,
                  55
                ],
                "position": [
                  0,
                  0
                ]
              },
              {
                "id": 722,
                "properties": {
                  "id": "Dmitri Alperovitch",
                  "label": "__Entity__:Person"
                },
                "color": "#9C27B0",
                "styles": {},
                "label": "Dmitri Alperovitch",
                "scale_factor": 1,
                "type": "#9C27B0",
                "size": [
                  55,
                  55
                ],
                "position": [
                  0,
                  0
                ]
              },
              {
                "id": 723,
                "properties": {
                  "id": "Chris Inglis",
                  "label": "__Entity__:Person"
                },
                "color": "#9C27B0",
                "styles": {},
                "label": "Chris Inglis",
                "scale_factor": 1,
                "type": "#9C27B0",
                "size": [
                  55,
                  55
                ],
                "position": [
                  0,
                  0
                ]
              },
              {
                "id": 724,
                "properties": {
                  "id": "Rob Joyce",
                  "label": "__Entity__:Person"
                },
                "color": "#9C27B0",
                "styles": {},
                "label": "Rob Joyce",
                "scale_factor": 1,
                "type": "#9C27B0",
                "size": [
                  55,
                  55
                ],
                "position": [
                  0,
                  0
                ]
              },
              {
                "id": 725,
                "properties": {
                  "id": "Katie Moussouris",
                  "label": "__Entity__:Person"
                },
                "color": "#9C27B0",
                "styles": {},
                "label": "Katie Moussouris",
                "scale_factor": 1,
                "type": "#9C27B0",
                "size": [
                  55,
                  55
                ],
                "position": [
                  0,
                  0
                ]
              },
              {
                "id": 726,
                "properties": {
                  "id": "David Mussington",
                  "label": "__Entity__:Person"
                },
                "color": "#9C27B0",
                "styles": {},
                "label": "David Mussington",
                "scale_factor": 1,
                "type": "#9C27B0",
                "size": [
                  55,
                  55
                ],
                "position": [
                  0,
                  0
                ]
              },
              {
                "id": 727,
                "properties": {
                  "id": "Chris Novak",
                  "label": "__Entity__:Person"
                },
                "color": "#9C27B0",
                "styles": {},
                "label": "Chris Novak",
                "scale_factor": 1,
                "type": "#9C27B0",
                "size": [
                  55,
                  55
                ],
                "position": [
                  0,
                  0
                ]
              },
              {
                "id": 728,
                "properties": {
                  "id": "Tony Sager",
                  "label": "__Entity__:Person"
                },
                "color": "#9C27B0",
                "styles": {},
                "label": "Tony Sager",
                "scale_factor": 1,
                "type": "#9C27B0",
                "size": [
                  55,
                  55
                ],
                "position": [
                  0,
                  0
                ]
              },
              {
                "id": 729,
                "properties": {
                  "id": "John Sherman",
                  "label": "__Entity__:Person"
                },
                "color": "#9C27B0",
                "styles": {},
                "label": "John Sherman",
                "scale_factor": 1,
                "type": "#9C27B0",
                "size": [
                  55,
                  55
                ],
                "position": [
                  0,
                  0
                ]
              },
              {
                "id": 730,
                "properties": {
                  "id": "Bryan Vorndran",
                  "label": "__Entity__:Person"
                },
                "color": "#9C27B0",
                "styles": {},
                "label": "Bryan Vorndran",
                "scale_factor": 1,
                "type": "#9C27B0",
                "size": [
                  55,
                  55
                ],
                "position": [
                  0,
                  0
                ]
              },
              {
                "id": 731,
                "properties": {
                  "id": "Kemba Walden",
                  "label": "__Entity__:Person"
                },
                "color": "#9C27B0",
                "styles": {},
                "label": "Kemba Walden",
                "scale_factor": 1,
                "type": "#9C27B0",
                "size": [
                  55,
                  55
                ],
                "position": [
                  0,
                  0
                ]
              },
              {
                "id": 732,
                "properties": {
                  "id": "Wendi Whitmore",
                  "label": "__Entity__:Person"
                },
                "color": "#9C27B0",
                "styles": {},
                "label": "Wendi Whitmore",
                "scale_factor": 1,
                "type": "#9C27B0",
                "size": [
                  55,
                  55
                ],
                "position": [
                  0,
                  0
                ]
              },
              {
                "id": 734,
                "properties": {
                  "id": "Corporate Titles",
                  "label": "__Entity__:Concept"
                },
                "color": "#F44336",
                "styles": {},
                "label": "Corporate Titles",
                "scale_factor": 1,
                "type": "#F44336",
                "size": [
                  55,
                  55
                ],
                "position": [
                  0,
                  0
                ]
              },
              {
                "id": 735,
                "properties": {
                  "id": "Corporate Officers",
                  "label": "__Entity__:Concept"
                },
                "color": "#F44336",
                "styles": {},
                "label": "Corporate Officers",
                "scale_factor": 1,
                "type": "#F44336",
                "size": [
                  55,
                  55
                ],
                "position": [
                  0,
                  0
                ]
              },
              {
                "id": 737,
                "properties": {
                  "id": "President",
                  "label": "__Entity__:Person"
                },
                "color": "#9C27B0",
                "styles": {},
                "label": "President",
                "scale_factor": 1,
                "type": "#9C27B0",
                "size": [
                  55,
                  55
                ],
                "position": [
                  0,
                  0
                ]
              },
              {
                "id": 738,
                "properties": {
                  "id": "Chief Operating Officer",
                  "label": "__Entity__:Person"
                },
                "color": "#9C27B0",
                "styles": {},
                "label": "Chief Operating Officer",
                "scale_factor": 1,
                "type": "#9C27B0",
                "size": [
                  55,
                  55
                ],
                "position": [
                  0,
                  0
                ]
              },
              {
                "id": 743,
                "properties": {
                  "id": "Executive Chairman",
                  "label": "__Entity__:Person"
                },
                "color": "#9C27B0",
                "styles": {},
                "label": "Executive Chairman",
                "scale_factor": 1,
                "type": "#9C27B0",
                "size": [
                  55,
                  55
                ],
                "position": [
                  0,
                  0
                ]
              },
              {
                "id": 739,
                "properties": {
                  "id": "Senior Managers",
                  "label": "__Entity__:Person"
                },
                "color": "#9C27B0",
                "styles": {},
                "label": "Senior Managers",
                "scale_factor": 1,
                "type": "#9C27B0",
                "size": [
                  55,
                  55
                ],
                "position": [
                  0,
                  0
                ]
              },
              {
                "id": 741,
                "properties": {
                  "id": "Executive Vice President",
                  "label": "__Entity__:Person"
                },
                "color": "#9C27B0",
                "styles": {},
                "label": "Executive Vice President",
                "scale_factor": 1,
                "type": "#9C27B0",
                "size": [
                  55,
                  55
                ],
                "position": [
                  0,
                  0
                ]
              },
              {
                "id": 748,
                "properties": {
                  "id": "Chairman And Ceo",
                  "label": "__Entity__"
                },
                "color": "#CDDC39",
                "styles": {},
                "label": "Chairman And Ceo",
                "scale_factor": 1,
                "type": "#CDDC39",
                "size": [
                  55,
                  55
                ],
                "position": [
                  0,
                  0
                ]
              },
              {
                "id": 740,
                "properties": {
                  "id": "Vice Presidents",
                  "label": "__Entity__:Person"
                },
                "color": "#9C27B0",
                "styles": {},
                "label": "Vice Presidents",
                "scale_factor": 1,
                "type": "#9C27B0",
                "size": [
                  55,
                  55
                ],
                "position": [
                  0,
                  0
                ]
              },
              {
                "id": 742,
                "properties": {
                  "id": "Chief Financial Officer",
                  "label": "__Entity__:Person"
                },
                "color": "#9C27B0",
                "styles": {},
                "label": "Chief Financial Officer",
                "scale_factor": 1,
                "type": "#9C27B0",
                "size": [
                  55,
                  55
                ],
                "position": [
                  0,
                  0
                ]
              },
              {
                "id": 750,
                "properties": {
                  "id": "Ashley Madison",
                  "label": "__Entity__:Organization"
                },
                "color": "#673AB7",
                "styles": {},
                "label": "Ashley Madison",
                "scale_factor": 1,
                "type": "#673AB7",
                "size": [
                  55,
                  55
                ],
                "position": [
                  0,
                  0
                ]
              },
              {
                "id": 751,
                "properties": {
                  "id": "Darren J. Morgenstern",
                  "label": "__Entity__:Person"
                },
                "color": "#9C27B0",
                "styles": {},
                "label": "Darren J. Morgenstern",
                "scale_factor": 1,
                "type": "#9C27B0",
                "size": [
                  55,
                  55
                ],
                "position": [
                  0,
                  0
                ]
              },
              {
                "id": 752,
                "properties": {
                  "id": "Noel Biderman",
                  "label": "__Entity__:Person"
                },
                "color": "#9C27B0",
                "styles": {},
                "label": "Noel Biderman",
                "scale_factor": 1,
                "type": "#9C27B0",
                "size": [
                  55,
                  55
                ],
                "position": [
                  0,
                  0
                ]
              },
              {
                "id": 753,
                "properties": {
                  "id": "Rob Segal",
                  "label": "__Entity__:Person"
                },
                "color": "#9C27B0",
                "styles": {},
                "label": "Rob Segal",
                "scale_factor": 1,
                "type": "#9C27B0",
                "size": [
                  55,
                  55
                ],
                "position": [
                  0,
                  0
                ]
              },
              {
                "id": 754,
                "properties": {
                  "id": "James Millership",
                  "label": "__Entity__:Person"
                },
                "color": "#9C27B0",
                "styles": {},
                "label": "James Millership",
                "scale_factor": 1,
                "type": "#9C27B0",
                "size": [
                  55,
                  55
                ],
                "position": [
                  0,
                  0
                ]
              },
              {
                "id": 755,
                "properties": {
                  "id": "Paul Keable",
                  "label": "__Entity__:Person"
                },
                "color": "#9C27B0",
                "styles": {},
                "label": "Paul Keable",
                "scale_factor": 1,
                "type": "#9C27B0",
                "size": [
                  55,
                  55
                ],
                "position": [
                  0,
                  0
                ]
              },
              {
                "id": 757,
                "properties": {
                  "id": "Rinki Sethi",
                  "label": "__Entity__:Person"
                },
                "color": "#9C27B0",
                "styles": {},
                "label": "Rinki Sethi",
                "scale_factor": 1,
                "type": "#9C27B0",
                "size": [
                  55,
                  55
                ],
                "position": [
                  0,
                  0
                ]
              },
              {
                "id": 760,
                "properties": {
                  "id": "Intuit",
                  "label": "__Entity__:Company"
                },
                "color": "#4CAF50",
                "styles": {},
                "label": "Intuit",
                "scale_factor": 1,
                "type": "#4CAF50",
                "size": [
                  55,
                  55
                ],
                "position": [
                  0,
                  0
                ]
              },
              {
                "id": 761,
                "properties": {
                  "id": "Palo Alto Networks",
                  "label": "__Entity__:Company"
                },
                "color": "#4CAF50",
                "styles": {},
                "label": "Palo Alto Networks",
                "scale_factor": 1,
                "type": "#4CAF50",
                "size": [
                  55,
                  55
                ],
                "position": [
                  0,
                  0
                ]
              },
              {
                "id": 762,
                "properties": {
                  "id": "Ibm",
                  "label": "__Entity__:Company"
                },
                "color": "#4CAF50",
                "styles": {},
                "label": "Ibm",
                "scale_factor": 1,
                "type": "#4CAF50",
                "size": [
                  55,
                  55
                ],
                "position": [
                  0,
                  0
                ]
              },
              {
                "id": 763,
                "properties": {
                  "id": "Rubrik",
                  "label": "__Entity__:Company"
                },
                "color": "#4CAF50",
                "styles": {},
                "label": "Rubrik",
                "scale_factor": 1,
                "type": "#4CAF50",
                "size": [
                  55,
                  55
                ],
                "position": [
                  0,
                  0
                ]
              },
              {
                "id": 764,
                "properties": {
                  "id": "Twitter Inc.",
                  "label": "__Entity__:Company"
                },
                "color": "#4CAF50",
                "styles": {},
                "label": "Twitter Inc.",
                "scale_factor": 1,
                "type": "#4CAF50",
                "size": [
                  55,
                  55
                ],
                "position": [
                  0,
                  0
                ]
              },
              {
                "id": 765,
                "properties": {
                  "id": "Walmart",
                  "label": "__Entity__:Company"
                },
                "color": "#4CAF50",
                "styles": {},
                "label": "Walmart",
                "scale_factor": 1,
                "type": "#4CAF50",
                "size": [
                  55,
                  55
                ],
                "position": [
                  0,
                  0
                ]
              },
              {
                "id": 766,
                "properties": {
                  "id": "Ebay",
                  "label": "__Entity__:Company"
                },
                "color": "#4CAF50",
                "styles": {},
                "label": "Ebay",
                "scale_factor": 1,
                "type": "#4CAF50",
                "size": [
                  55,
                  55
                ],
                "position": [
                  0,
                  0
                ]
              },
              {
                "id": 758,
                "properties": {
                  "id": "Capella University",
                  "label": "__Entity__:Education institution"
                },
                "color": "#9E9E9E",
                "styles": {},
                "label": "Capella University",
                "scale_factor": 1,
                "type": "#9E9E9E",
                "size": [
                  55,
                  55
                ],
                "position": [
                  0,
                  0
                ]
              },
              {
                "id": 759,
                "properties": {
                  "id": "Uc Davis",
                  "label": "__Entity__:Education institution"
                },
                "color": "#9E9E9E",
                "styles": {},
                "label": "Uc Davis",
                "scale_factor": 1,
                "type": "#9E9E9E",
                "size": [
                  55,
                  55
                ],
                "position": [
                  0,
                  0
                ]
              },
              {
                "id": 770,
                "properties": {
                  "id": "Forge Rock",
                  "label": "__Entity__:Company"
                },
                "color": "#4CAF50",
                "styles": {},
                "label": "Forge Rock",
                "scale_factor": 1,
                "type": "#4CAF50",
                "size": [
                  55,
                  55
                ],
                "position": [
                  0,
                  0
                ]
              },
              {
                "id": 767,
                "properties": {
                  "id": "Levelops",
                  "label": "__Entity__:Startup"
                },
                "color": "#9C27B0",
                "styles": {},
                "label": "Levelops",
                "scale_factor": 1,
                "type": "#9C27B0",
                "size": [
                  55,
                  55
                ],
                "position": [
                  0,
                  0
                ]
              },
              {
                "id": 768,
                "properties": {
                  "id": "Authomize",
                  "label": "__Entity__:Startup"
                },
                "color": "#9C27B0",
                "styles": {},
                "label": "Authomize",
                "scale_factor": 1,
                "type": "#9C27B0",
                "size": [
                  55,
                  55
                ],
                "position": [
                  0,
                  0
                ]
              },
              {
                "id": 769,
                "properties": {
                  "id": "Women In Cybersecurity",
                  "label": "__Entity__:Cybersecurity organization"
                },
                "color": "#2196F3",
                "styles": {},
                "label": "Women In Cybersecurity",
                "scale_factor": 1,
                "type": "#2196F3",
                "size": [
                  55,
                  55
                ],
                "position": [
                  0,
                  0
                ]
              },
              {
                "id": 773,
                "properties": {
                  "id": "Federal Information Security Management Act Of 2002",
                  "label": "__Entity__:Law"
                },
                "color": "#4CAF50",
                "styles": {},
                "label": "Federal Information Security Management Act Of 2002",
                "scale_factor": 1,
                "type": "#4CAF50",
                "size": [
                  55,
                  55
                ],
                "position": [
                  0,
                  0
                ]
              },
              {
                "id": 774,
                "properties": {
                  "id": "Title Iii Of The E-Government Act Of 2002",
                  "label": "__Entity__:Law"
                },
                "color": "#4CAF50",
                "styles": {},
                "label": "Title Iii Of The E-Government Act Of 2002",
                "scale_factor": 1,
                "type": "#4CAF50",
                "size": [
                  55,
                  55
                ],
                "position": [
                  0,
                  0
                ]
              },
              {
                "id": 772,
                "properties": {
                  "id": "Fisma",
                  "label": "__Entity__:Law"
                },
                "color": "#4CAF50",
                "styles": {},
                "label": "Fisma",
                "scale_factor": 1,
                "type": "#4CAF50",
                "size": [
                  55,
                  55
                ],
                "position": [
                  0,
                  0
                ]
              }
            ],
            "_overview": {
              "enabled": null,
              "overview_set": false
            },
            "_selected_graph": [
              [],
              []
            ],
            "_sidebar": {
              "enabled": true,
              "start_with": ""
            },
            "_view_count": null,
            "_view_module": "yfiles-jupyter-graphs",
            "_view_module_version": "^1.6.2",
            "_view_name": "GraphView",
            "layout": "IPY_MODEL_f7e0fbbb88af4ceca5c40b39e0ab519a"
          }
        },
        "f7e0fbbb88af4ceca5c40b39e0ab519a": {
          "model_module": "@jupyter-widgets/base",
          "model_name": "LayoutModel",
          "model_module_version": "1.2.0",
          "state": {
            "_model_module": "@jupyter-widgets/base",
            "_model_module_version": "1.2.0",
            "_model_name": "LayoutModel",
            "_view_count": null,
            "_view_module": "@jupyter-widgets/base",
            "_view_module_version": "1.2.0",
            "_view_name": "LayoutView",
            "align_content": null,
            "align_items": null,
            "align_self": null,
            "border": null,
            "bottom": null,
            "display": null,
            "flex": null,
            "flex_flow": null,
            "grid_area": null,
            "grid_auto_columns": null,
            "grid_auto_flow": null,
            "grid_auto_rows": null,
            "grid_column": null,
            "grid_gap": null,
            "grid_row": null,
            "grid_template_areas": null,
            "grid_template_columns": null,
            "grid_template_rows": null,
            "height": "800px",
            "justify_content": null,
            "justify_items": null,
            "left": null,
            "margin": null,
            "max_height": null,
            "max_width": null,
            "min_height": null,
            "min_width": null,
            "object_fit": null,
            "object_position": null,
            "order": null,
            "overflow": null,
            "overflow_x": null,
            "overflow_y": null,
            "padding": null,
            "right": null,
            "top": null,
            "visibility": null,
            "width": "100%"
          }
        }
      }
    }
  },
  "cells": [
    {
      "cell_type": "code",
      "source": [
        "%pip install --upgrade --quiet  langchain langchain-community langchain-openai langchain-experimental neo4j wikipedia tiktoken yfiles_jupyter_graphs"
      ],
      "metadata": {
        "id": "uHzdu80-UhQG"
      },
      "execution_count": 50,
      "outputs": []
    },
    {
      "cell_type": "markdown",
      "source": [
        "# Environment Setup\n",
        "You need to set up a Neo4j instance. The easiest way is to start a free instance on Neo4j Aura, which offers cloud instances of Neo4j database. Alternatively, you can also set up a local instance of the Neo4j database by downloading the Neo4j Desktop application and creating a local database instance.\n",
        "\n",
        "Also you would need the OPENAI API Key\n"
      ],
      "metadata": {
        "id": "oiV0z80tTZFI"
      }
    },
    {
      "cell_type": "code",
      "execution_count": 51,
      "metadata": {
        "id": "L0nXP1aYtHNW"
      },
      "outputs": [],
      "source": [
        "import os\n",
        "import openai\n",
        "from langchain_community.graphs import Neo4jGraph\n",
        "from google.colab import userdata\n",
        "userdata.get('open_key')\n",
        "os.environ[\"OPENAI_API_KEY\"] = userdata.get('open_key')\n",
        "openai.api_key = os.getenv('OPENAI_API_KEY')\n",
        "os.environ[\"NEO4J_URI\"] = userdata.get('NEO4J_URI')\n",
        "os.environ[\"NEO4J_USERNAME\"] =  userdata.get('NEO4J_USERNAME')\n",
        "os.environ[\"NEO4J_PASSWORD\"] = userdata.get('NEO4J_PASSWORD')"
      ]
    },
    {
      "cell_type": "markdown",
      "source": [
        "# Step 1a : Reading & Chunking Wikipedia article\n",
        "\n",
        "Process for reading and chunking a Wikipedia article is pretty simple, as LangChain has integrated the Wikipedia document loader as well as the text chunking modules. Refer to documentation for adjusting the default parameters for loader such as language, or to downloaded fields other than published, title, summary etc.\n",
        "\n",
        "The tiktoken text chunking module, uses a tokenizer made by OpenAI, to split the article into chunks with 1000 tokens. (Refer Split by tokens for details)\n"
      ],
      "metadata": {
        "id": "JKTRLRDIPrn2"
      }
    },
    {
      "cell_type": "code",
      "source": [
        "from langchain_core.runnables import (\n",
        "    RunnableBranch,\n",
        "    RunnableLambda,\n",
        "    RunnableParallel,\n",
        "    RunnablePassthrough,\n",
        ")\n",
        "from langchain_core.prompts import ChatPromptTemplate\n",
        "from langchain_core.prompts.prompt import PromptTemplate\n",
        "from langchain_core.pydantic_v1 import BaseModel, Field\n",
        "from typing import Tuple, List, Optional\n",
        "from langchain_core.messages import AIMessage, HumanMessage\n",
        "from langchain_core.output_parsers import StrOutputParser\n",
        "import os\n",
        "from langchain_community.graphs import Neo4jGraph\n",
        "from langchain.document_loaders import WikipediaLoader\n",
        "from langchain.text_splitter import CharacterTextSplitter\n",
        "from langchain.text_splitter import TokenTextSplitter\n",
        "from langchain_openai import ChatOpenAI\n",
        "from langchain_experimental.graph_transformers import LLMGraphTransformer\n",
        "from neo4j import GraphDatabase\n",
        "from yfiles_jupyter_graphs import GraphWidget\n",
        "from langchain_community.vectorstores import Neo4jVector\n",
        "from langchain_openai import OpenAIEmbeddings\n",
        "from langchain_community.vectorstores.neo4j_vector import remove_lucene_chars\n",
        "from langchain_core.runnables import ConfigurableField, RunnableParallel, RunnablePassthrough\n",
        "\n",
        "try:\n",
        "  import google.colab\n",
        "  from google.colab import output\n",
        "  output.enable_custom_widget_manager()\n",
        "except:\n",
        "  pass"
      ],
      "metadata": {
        "id": "gASnVi9PUCek"
      },
      "execution_count": 52,
      "outputs": []
    },
    {
      "cell_type": "markdown",
      "source": [
        "##Data Ingestion"
      ],
      "metadata": {
        "id": "Yd8VRtGNVEPL"
      }
    },
    {
      "cell_type": "code",
      "execution_count": 53,
      "metadata": {
        "id": "za7ytWIRPiTG",
        "colab": {
          "base_uri": "https://localhost:8080/"
        },
        "outputId": "4e9b8c0d-f29f-431f-a7b0-12c6fb8cff19"
      },
      "outputs": [
        {
          "output_type": "stream",
          "name": "stderr",
          "text": [
            "/usr/local/lib/python3.10/dist-packages/wikipedia/wikipedia.py:389: GuessedAtParserWarning: No parser was explicitly specified, so I'm using the best available HTML parser for this system (\"lxml\"). This usually isn't a problem, but if you run this code on another system, or in a different virtual environment, it may use a different parser and behave differently.\n",
            "\n",
            "The code that caused this warning is on line 389 of the file /usr/local/lib/python3.10/dist-packages/wikipedia/wikipedia.py. To get rid of this warning, pass the additional argument 'features=\"lxml\"' to the BeautifulSoup constructor.\n",
            "\n",
            "  lis = BeautifulSoup(html).find_all('li')\n"
          ]
        }
      ],
      "source": [
        "# Read the wikipedia article\n",
        "raw_documents = WikipediaLoader(query=\"Chief Information Security Officer \").load()\n",
        "# Define chunking strategy\n",
        "text_splitter = CharacterTextSplitter.from_tiktoken_encoder( chunk_size=1000, chunk_overlap=20 )\n",
        "# Chunk the document\n",
        "documents = text_splitter.split_documents(raw_documents)"
      ]
    },
    {
      "cell_type": "markdown",
      "source": [
        "# Step 2 : Create & Store Vector Index of Text\n",
        "LangChain makes it easy to import the documents into Neo4j and index them using the newly added vector index. Neo4j vector index is wrapped as a LangChain vector store and, therefore, follows the syntax used to interact with other vector databases\n",
        "\n",
        "The from_documents method connects to a Neo4j database, imports and embeds the documents, and creates a vector index. The data will be represented as the Chunk nodes by default. We have used OpenAI embeddings"
      ],
      "metadata": {
        "id": "oGVQeF3x9NGx"
      }
    },
    {
      "cell_type": "code",
      "source": [
        "from langchain_community.vectorstores.neo4j_vector import Neo4jVector\n",
        "from langchain_openai import OpenAIEmbeddings\n",
        "\n",
        "neo4j_vector = Neo4jVector.from_documents(\n",
        "    documents,\n",
        "    OpenAIEmbeddings()\n",
        "\n",
        ")\n"
      ],
      "metadata": {
        "id": "VbrNSUOpy9xv"
      },
      "execution_count": 54,
      "outputs": []
    },
    {
      "cell_type": "markdown",
      "source": [
        "# Step 3 : Vector Similarity Search\n",
        "\n",
        "The LangChain module used the specified embedding function (OpenAI in this example) to embed the question and then find the most similar documents by comparing the cosine similarity between the user question and indexed documents from the database.\n",
        "\n",
        "Neo4j vector index also supports the Euclidean similarity metric along with the cosine similarity.\n"
      ],
      "metadata": {
        "id": "JEoX98Xs92Jh"
      }
    },
    {
      "cell_type": "code",
      "source": [
        "query = \"What does a CISO do?\"\n",
        "\n",
        "results = neo4j_vector.similarity_search(query, k=1)\n",
        "print(results[0].page_content)\n"
      ],
      "metadata": {
        "id": "aRXeeV9czPOo",
        "colab": {
          "base_uri": "https://localhost:8080/"
        },
        "outputId": "4079d8fd-d98e-4c46-ef6d-62d30be0025d"
      },
      "execution_count": 55,
      "outputs": [
        {
          "output_type": "stream",
          "name": "stdout",
          "text": [
            "A chief information security officer (CISO) is a senior-level executive within an organization responsible for establishing and maintaining the enterprise vision, strategy, and program to ensure information assets and technologies are adequately protected. The CISO directs staff in identifying, developing, implementing, and maintaining processes across the enterprise to reduce information and information technology (IT) risks. They respond to incidents, establish appropriate standards and controls, manage security technologies, and direct the establishment and implementation of policies and procedures. The CISO is also usually responsible for information-related compliance (e.g. supervises the implementation to achieve ISO/IEC 27001 certification for an entity or a part of it). The CISO is also responsible for protecting proprietary information and assets of the company, including the data of clients and consumers. CISO works with other executives to make sure the company is growing in a responsible and ethical manner.  \n",
            "Typically, the CISO's influence reaches the entire organization. Responsibilities may include, but not be limited to:\n",
            "\n",
            "Computer emergency response team/computer security incident response team\n",
            "Cybersecurity\n",
            "Disaster recovery and business continuity management\n",
            "Identity and access management\n",
            "Information privacy\n",
            "Information regulatory compliance (e.g., US PCI DSS, FISMA, GLBA, HIPAA; UK Data Protection Act 1998; Canada PIPEDA, Europe GDPR)\n",
            "Information risk management\n",
            "Information security and information assurance\n",
            "Information security operations center (ISOC)\n",
            "Information technology controls for financial and other systems\n",
            "IT investigations, digital forensics, eDiscovery\n",
            "Having a CISO or an equivalent function in organizations has become standard practice in business, government, and non-profits organizations. By 2009, approximately 85% of large organizations had a security executive, up from 56% in 2008, and 43% in 2006 . In 2018, The Global State of Information Security Survey 2018 (GSISS), a joint survey conducted by CIO, CSO, and PwC, concluded that 85% of businesses have a CISO or equivalent. The role of CISO has broadened to encompass risks found in business processes, information security, customer privacy, and more. As a result, there is a trend now to no longer embed the CISO function within the IT group. In 2019, only 24% of CISOs report to a chief information officer (CIO), while 40% report directly to a chief executive officer (CEO), and 27% bypass the CEO and report to the board of directors. Embedding the CISO function under the reporting structure of the CIO is considered suboptimal, because there is a potential for conflicts of interest and because the responsibilities of the role extend beyond the nature of responsibilities of the IT group. The reporting structure for the CISO can vary depending on the organization’s size, industry, regulatory environment, and risk profile. However, the importance of information security in today’s businesses has raised the CISO’s role to become a senior-level position.\n",
            "In corporations, the trend is for CISOs to have a strong balance of business acumen and technology knowledge. CISOs are often in high demand and compensation is comparable to other C-level positions that also hold a similar corporate title.\n",
            "A typical CISO holds non-technical certifications (like CISSP and CISM), although a CISO coming from a technical background will have an expanded technical skillset. Other typical training includes project management to manage the information security program, financial management (e.g. holding an accredited MBA) to manage infosec budgets, and soft-skills to direct heterogeneous teams of information security managers, directors of information security, security analysts, security engineers and technology risk managers. Recently, given the involvement of CISO with Privacy matters, certifications like CIPP are highly requested.\n",
            "A recent development in this area is\n"
          ]
        }
      ]
    },
    {
      "cell_type": "markdown",
      "source": [
        "# Q&A with LangChain and ChatOpenAI\n",
        "\n",
        "LangChain supports question-answering workflows using only a line or two of code. For example, to create a question-answering workflow that generates answers based on the provided context but also provides which documents it used as the context, use the RetrievalQAWithSourcesChain\n"
      ],
      "metadata": {
        "id": "wkwFZuBS-JQU"
      }
    },
    {
      "cell_type": "code",
      "source": [
        "from langchain_openai import ChatOpenAI\n",
        "from langchain.chains import RetrievalQAWithSourcesChain\n",
        "\n",
        "chain = RetrievalQAWithSourcesChain.from_chain_type(\n",
        "    ChatOpenAI(temperature=0),\n",
        "    chain_type=\"stuff\",\n",
        "    retriever=neo4j_vector.as_retriever()\n",
        ")\n",
        "\n",
        "query = \"What is a CISO?\"\n",
        "\n",
        "chain.invoke(\n",
        "    {\"question\": query},\n",
        "    return_only_outputs=True,\n",
        ")\n"
      ],
      "metadata": {
        "id": "JGJ7xHN8-f7W",
        "colab": {
          "base_uri": "https://localhost:8080/"
        },
        "outputId": "469987b6-5775-4e82-d86e-147f9f5c6bda"
      },
      "execution_count": 56,
      "outputs": [
        {
          "output_type": "execute_result",
          "data": {
            "text/plain": [
              "{'answer': 'A chief information security officer (CISO) is a senior-level executive within an organization responsible for establishing and maintaining the enterprise vision, strategy, and program to ensure information assets and technologies are adequately protected. The CISO directs staff in identifying, developing, implementing, and maintaining processes across the enterprise to reduce information and information technology (IT) risks. They respond to incidents, establish appropriate standards and controls, manage security technologies, and direct the establishment and implementation of policies and procedures. The CISO is also usually responsible for information-related compliance. The office of the Federal Chief Information Security Officer of the United States (CISO) was created on September 8, 2016, to guide cybersecurity policy, planning, and implementation in the U.S. Federal Government.\\n',\n",
              " 'sources': 'https://en.wikipedia.org/wiki/Chief_information_security_officer, https://en.wikipedia.org/wiki/Federal_Chief_Information_Security_Officer'}"
            ]
          },
          "metadata": {},
          "execution_count": 56
        }
      ]
    },
    {
      "cell_type": "markdown",
      "source": [
        "# Construct Graph using LLM Graph Transformer\n",
        "LangChain makes it easy to construct and store knowledge graph based on the retrieved documents. It provides LLM Graph Transformer which hides away all the complexity.\n",
        "\n",
        "The LLMGraphTransformer converts text documents into structured graph documents by leveraging a LLM to parse and categorize entities and their relationships.\n",
        "\n",
        "The generated graph documents can be stored to a graph database using the add_graph_documents method. The baseEntityLabel parameter assigns an additional __Entity__ label to each node, enhancing indexing and query performance. The include_source parameter links nodes to their originating documents, facilitating data traceability and context understanding.\n"
      ],
      "metadata": {
        "id": "23pdTr5OSVx1"
      }
    },
    {
      "cell_type": "code",
      "execution_count": 57,
      "metadata": {
        "id": "pXf7OTGHtHNW"
      },
      "outputs": [],
      "source": [
        "from langchain_experimental.graph_transformers import LLMGraphTransformer\n",
        "#from langchain.graphs import graph\n",
        "#from langchain_experimental import LLMGraphTransformer\n",
        "from langchain_community.graphs import Neo4jGraph\n",
        "from langchain_openai import ChatOpenAI\n",
        "\n",
        "llm=ChatOpenAI(temperature=0, model_name=\"gpt-3.5-turbo-0125\") # gpt-4-0125-preview occasionally has issues\n",
        "llm_transformer = LLMGraphTransformer(llm=llm)\n",
        "\n",
        "#graph_documents = llm_transformer.convert_to_graph_documents(documents)\n",
        "#graph.add_graph_documents(\n",
        " #   graph_documents,\n",
        "#    baseEntityLabel=True,\n",
        "#    include_source=True\n",
        "#)\n",
        "\n",
        "#llm = ChatOpenAI(temperature=0, model_name=\"gpt-3.5-turbo-0125\")\n",
        "#llm_transformer = LLMGraphTransformer(llm)\n",
        "\n",
        "#documents = [\"This is a sample document.\", \"This is another sample document.\"]\n",
        "graph_documents = llm_transformer.convert_to_graph_documents(documents)\n",
        "\n",
        "graph = Neo4jGraph()\n",
        "graph.add_graph_documents(\n",
        "    graph_documents,\n",
        "    baseEntityLabel=True,\n",
        "    include_source=True\n",
        ")"
      ]
    },
    {
      "cell_type": "markdown",
      "source": [
        "# Visualize the graph\n",
        "You can inspect the generated graph with yfiles visualization. yFiles Graphs for Jupyter is a free diagram visualization extension for JupyterLab and Jupyter Notebook."
      ],
      "metadata": {
        "id": "Mkt84EVLfxV9"
      }
    },
    {
      "cell_type": "code",
      "source": [
        "from google.colab import output\n",
        "output.enable_custom_widget_manager()"
      ],
      "metadata": {
        "id": "t1dqAMZMgDcl"
      },
      "execution_count": 58,
      "outputs": []
    },
    {
      "cell_type": "code",
      "source": [
        "from neo4j import GraphDatabase\n",
        "from yfiles_jupyter_graphs import GraphWidget\n",
        "\n",
        "# directly show the graph resulting from the given Cypher query\n",
        "default_cypher = \"MATCH (s)-[r:!MENTIONS]->(t) RETURN s,r,t LIMIT 600\"\n",
        "\n",
        "def showGraph(cypher: str = default_cypher):\n",
        "    # create a neo4j session to run queries\n",
        "    driver = GraphDatabase.driver(\n",
        "        uri = os.environ[\"NEO4J_URI\"],\n",
        "        auth = (os.environ[\"NEO4J_USERNAME\"],\n",
        "                os.environ[\"NEO4J_PASSWORD\"]))\n",
        "    session = driver.session()\n",
        "    widget = GraphWidget(graph = session.run(cypher).graph())\n",
        "    widget.node_label_mapping = 'id'\n",
        "    #display(widget)\n",
        "    return widget\n",
        "\n",
        "showGraph()\n"
      ],
      "metadata": {
        "id": "598Q5bPObKRF",
        "colab": {
          "base_uri": "https://localhost:8080/",
          "height": 817,
          "referenced_widgets": [
            "ec39df8f8e10494180ebb011909232af",
            "f7e0fbbb88af4ceca5c40b39e0ab519a"
          ]
        },
        "outputId": "9e1ad262-423c-4fb0-bfb2-b966c5857c74"
      },
      "execution_count": 59,
      "outputs": [
        {
          "output_type": "display_data",
          "data": {
            "text/plain": [
              "GraphWidget(layout=Layout(height='800px', width='100%'))"
            ],
            "application/vnd.jupyter.widget-view+json": {
              "version_major": 2,
              "version_minor": 0,
              "model_id": "ec39df8f8e10494180ebb011909232af"
            }
          },
          "metadata": {
            "application/vnd.jupyter.widget-view+json": {
              "colab": {
                "custom_widget_manager": {
                  "url": "https://ssl.gstatic.com/colaboratory-static/widgets/colab-cdn-widget-manager/2b70e893a8ba7c0f/manager.min.js"
                }
              }
            }
          }
        }
      ]
    },
    {
      "cell_type": "markdown",
      "source": [
        "# Graph Similiary Search\n",
        "The LangChain module also supports similarity search from graph.\n"
      ],
      "metadata": {
        "id": "aFS_fdPTA2fc"
      }
    },
    {
      "cell_type": "code",
      "source": [
        "from langchain_community.vectorstores.neo4j_vector import Neo4jVector\n",
        "from langchain_openai import OpenAIEmbeddings\n",
        "\n",
        "existing_graph = Neo4jVector.from_existing_graph(\n",
        "    embedding=OpenAIEmbeddings(),\n",
        "    index_name=\"New Index\",\n",
        "    node_label=\"Person\",\n",
        "    text_node_properties=[\"id\"],\n",
        "    embedding_node_property=\"embedding\",\n",
        ")\n",
        "result = existing_graph.similarity_search(\"Who does the CISO report to?\", k=1)"
      ],
      "metadata": {
        "id": "CjOsENpBuLZB"
      },
      "execution_count": 60,
      "outputs": []
    },
    {
      "cell_type": "code",
      "source": [
        "print(result[0].page_content)"
      ],
      "metadata": {
        "id": "yeZxS0oOuXhm",
        "colab": {
          "base_uri": "https://localhost:8080/"
        },
        "outputId": "d2a4e0fc-a554-473e-84de-0607cfc37fdf"
      },
      "execution_count": 61,
      "outputs": [
        {
          "output_type": "stream",
          "name": "stdout",
          "text": [
            "\n",
            "id: Chief Information Security Officer (Ciso)\n"
          ]
        }
      ]
    },
    {
      "cell_type": "markdown",
      "source": [
        "#New Code from here"
      ],
      "metadata": {
        "id": "RmU9m9EXWj5n"
      }
    },
    {
      "cell_type": "code",
      "source": [
        "vector_index = Neo4jVector.from_existing_graph(\n",
        "    OpenAIEmbeddings(),\n",
        "    search_type=\"hybrid\",\n",
        "    node_label=\"Document\",\n",
        "    text_node_properties=[\"text\"],\n",
        "    embedding_node_property=\"embedding\"\n",
        ")"
      ],
      "metadata": {
        "id": "MRdmRPcrVlZB"
      },
      "execution_count": 62,
      "outputs": []
    },
    {
      "cell_type": "code",
      "source": [
        "# Retriever\n",
        "\n",
        "graph.query(\n",
        "    \"CREATE FULLTEXT INDEX entity IF NOT EXISTS FOR (e:__Entity__) ON EACH [e.id]\")\n",
        "\n",
        "# Extract entities from text\n",
        "class Entities(BaseModel):\n",
        "    \"\"\"Identifying information about entities.\"\"\"\n",
        "\n",
        "    names: List[str] = Field(\n",
        "        ...,\n",
        "        description=\"All the person, organization, or business entities that \"\n",
        "        \"appear in the text\",\n",
        "    )\n",
        "\n",
        "prompt = ChatPromptTemplate.from_messages(\n",
        "    [\n",
        "        (\n",
        "            \"system\",\n",
        "            \"You are extracting organization and person entities from the text.\",\n",
        "        ),\n",
        "        (\n",
        "            \"human\",\n",
        "            \"Use the given format to extract information from the following \"\n",
        "            \"input: {question}\",\n",
        "        ),\n",
        "    ]\n",
        ")\n",
        "\n",
        "entity_chain = prompt | llm.with_structured_output(Entities)"
      ],
      "metadata": {
        "id": "5hgK5gZ9VrPK"
      },
      "execution_count": 63,
      "outputs": []
    },
    {
      "cell_type": "code",
      "source": [
        "entity_chain.invoke({\"question\": \"Who has been the CISO?\"}).names"
      ],
      "metadata": {
        "id": "aPwb4goLVvk-",
        "colab": {
          "base_uri": "https://localhost:8080/"
        },
        "outputId": "ff42bf68-b1c7-4190-8635-3b93ce1c5386"
      },
      "execution_count": 64,
      "outputs": [
        {
          "output_type": "execute_result",
          "data": {
            "text/plain": [
              "['CISO']"
            ]
          },
          "metadata": {},
          "execution_count": 64
        }
      ]
    },
    {
      "cell_type": "code",
      "source": [
        "def generate_full_text_query(input: str) -> str:\n",
        "    \"\"\"\n",
        "    Generate a full-text search query for a given input string.\n",
        "\n",
        "    This function constructs a query string suitable for a full-text search.\n",
        "    It processes the input string by splitting it into words and appending a\n",
        "    similarity threshold (~2 changed characters) to each word, then combines\n",
        "    them using the AND operator. Useful for mapping entities from user questions\n",
        "    to database values, and allows for some misspelings.\n",
        "    \"\"\"\n",
        "    full_text_query = \"\"\n",
        "    words = [el for el in remove_lucene_chars(input).split() if el]\n",
        "    for word in words[:-1]:\n",
        "        full_text_query += f\" {word}~2 AND\"\n",
        "    full_text_query += f\" {words[-1]}~2\"\n",
        "    return full_text_query.strip()\n",
        "def structured_retriever(question: str) -> str:\n",
        "    result = \"\"\n",
        "    entities = entity_chain.invoke({\"question\": question})\n",
        "    for entity in entities.names:\n",
        "        response = graph.query(\n",
        "            \"\"\"CALL db.index.fulltext.queryNodes('entity', $query, {limit:2})\n",
        "            YIELD node, score\n",
        "            CALL {\n",
        "              MATCH (node)-[r]->(neighbor)\n",
        "              RETURN node.id + ' - ' + type(r) + ' -> ' + neighbor.id AS output\n",
        "              UNION\n",
        "              MATCH (node)<-[r]-(neighbor)\n",
        "              RETURN neighbor.id + ' - ' + type(r) + ' -> ' + node.id AS output\n",
        "            }\n",
        "            RETURN output LIMIT 50\n",
        "            \"\"\",\n",
        "            {\"query\": generate_full_text_query(entity)},\n",
        "        )\n",
        "        # Filter out None values and then join the results\n",
        "        filtered_outputs = [el['output'] for el in response if el['output'] is not None]\n",
        "        result += \"\\n\".join(filtered_outputs)\n",
        "    return result"
      ],
      "metadata": {
        "id": "MGHeUvTDV5PU"
      },
      "execution_count": 65,
      "outputs": []
    },
    {
      "cell_type": "code",
      "source": [
        "print(structured_retriever(\"Who has been a Chief Information Security Officer?\"))"
      ],
      "metadata": {
        "id": "LzCKtO1oV9IC",
        "colab": {
          "base_uri": "https://localhost:8080/"
        },
        "outputId": "f74ce51e-b05c-45f7-ff4b-f5b8a1f60ae4"
      },
      "execution_count": 66,
      "outputs": [
        {
          "output_type": "stream",
          "name": "stdout",
          "text": [
            "35dcc310af9f3ff74c85362890be65dc - MENTIONS -> Ciso\n",
            "35dcc310af9f3ff74c85362890be65dc - MENTIONS -> Organization\n",
            "35dcc310af9f3ff74c85362890be65dc - MENTIONS -> Enterprise\n",
            "35dcc310af9f3ff74c85362890be65dc - MENTIONS -> Information Assets\n",
            "35dcc310af9f3ff74c85362890be65dc - MENTIONS -> Technologies\n",
            "35dcc310af9f3ff74c85362890be65dc - MENTIONS -> Staff\n",
            "35dcc310af9f3ff74c85362890be65dc - MENTIONS -> Processes\n",
            "35dcc310af9f3ff74c85362890be65dc - MENTIONS -> Risks\n",
            "35dcc310af9f3ff74c85362890be65dc - MENTIONS -> Incidents\n",
            "35dcc310af9f3ff74c85362890be65dc - MENTIONS -> Standards\n",
            "35dcc310af9f3ff74c85362890be65dc - MENTIONS -> Controls\n",
            "35dcc310af9f3ff74c85362890be65dc - MENTIONS -> Security Technologies\n",
            "35dcc310af9f3ff74c85362890be65dc - MENTIONS -> Policies\n",
            "35dcc310af9f3ff74c85362890be65dc - MENTIONS -> Procedures\n",
            "35dcc310af9f3ff74c85362890be65dc - MENTIONS -> Proprietary Information\n",
            "35dcc310af9f3ff74c85362890be65dc - MENTIONS -> Assets\n",
            "35dcc310af9f3ff74c85362890be65dc - MENTIONS -> Company\n",
            "35dcc310af9f3ff74c85362890be65dc - MENTIONS -> Clients\n",
            "35dcc310af9f3ff74c85362890be65dc - MENTIONS -> Consumers\n",
            "35dcc310af9f3ff74c85362890be65dc - MENTIONS -> Executives\n",
            "35dcc310af9f3ff74c85362890be65dc - MENTIONS -> Computer Emergency Response Team\n",
            "35dcc310af9f3ff74c85362890be65dc - MENTIONS -> Cybersecurity\n",
            "35dcc310af9f3ff74c85362890be65dc - MENTIONS -> Disaster Recovery\n",
            "35dcc310af9f3ff74c85362890be65dc - MENTIONS -> Business Continuity Management\n",
            "35dcc310af9f3ff74c85362890be65dc - MENTIONS -> Identity And Access Management\n",
            "35dcc310af9f3ff74c85362890be65dc - MENTIONS -> Information Privacy\n",
            "35dcc310af9f3ff74c85362890be65dc - MENTIONS -> Information Regulatory Compliance\n",
            "35dcc310af9f3ff74c85362890be65dc - MENTIONS -> Information Risk Management\n",
            "35dcc310af9f3ff74c85362890be65dc - MENTIONS -> Information Security\n",
            "35dcc310af9f3ff74c85362890be65dc - MENTIONS -> Information Assurance\n",
            "35dcc310af9f3ff74c85362890be65dc - MENTIONS -> Information Security Operations Center\n",
            "35dcc310af9f3ff74c85362890be65dc - MENTIONS -> It Controls\n",
            "35dcc310af9f3ff74c85362890be65dc - MENTIONS -> Systems\n",
            "35dcc310af9f3ff74c85362890be65dc - MENTIONS -> Investigations\n",
            "35dcc310af9f3ff74c85362890be65dc - MENTIONS -> Digital Forensics\n",
            "35dcc310af9f3ff74c85362890be65dc - MENTIONS -> Ediscovery\n",
            "35dcc310af9f3ff74c85362890be65dc - MENTIONS -> Function\n",
            "35dcc310af9f3ff74c85362890be65dc - MENTIONS -> Businesses\n",
            "35dcc310af9f3ff74c85362890be65dc - MENTIONS -> Global State Of Information Security Survey\n",
            "35dcc310af9f3ff74c85362890be65dc - MENTIONS -> Cio\n",
            "35dcc310af9f3ff74c85362890be65dc - MENTIONS -> Cso\n",
            "35dcc310af9f3ff74c85362890be65dc - MENTIONS -> Pwc\n",
            "35dcc310af9f3ff74c85362890be65dc - MENTIONS -> Role\n",
            "35dcc310af9f3ff74c85362890be65dc - MENTIONS -> Business Processes\n",
            "35dcc310af9f3ff74c85362890be65dc - MENTIONS -> Customer Privacy\n",
            "35dcc310af9f3ff74c85362890be65dc - MENTIONS -> Trend\n",
            "35dcc310af9f3ff74c85362890be65dc - MENTIONS -> It Group\n",
            "35dcc310af9f3ff74c85362890be65dc - MENTIONS -> Reporting Structure\n",
            "35dcc310af9f3ff74c85362890be65dc - MENTIONS -> Chief Information Officer\n",
            "35dcc310af9f3ff74c85362890be65dc - MENTIONS -> Chief Executive Officer\n"
          ]
        }
      ]
    },
    {
      "cell_type": "code",
      "source": [
        "def retriever(question: str):\n",
        "    print(f\"Search query: {question}\")\n",
        "    structured_data = structured_retriever(question)\n",
        "    unstructured_data = [el.page_content for el in vector_index.similarity_search(question)]\n",
        "    final_data = f\"\"\"Structured data:\n",
        "{structured_data}\n",
        "Unstructured data:\n",
        "{\"#Document \". join(unstructured_data)}\n",
        "    \"\"\"\n",
        "    return final_data"
      ],
      "metadata": {
        "id": "m_Zg-9aoWIO7"
      },
      "execution_count": 67,
      "outputs": []
    },
    {
      "cell_type": "code",
      "source": [
        "# Condense a chat history and follow-up question into a standalone question\n",
        "_template = \"\"\"Given the following conversation and a follow up question, rephrase the follow up question to be a standalone question,\n",
        "in its original language.\n",
        "Chat History:\n",
        "{chat_history}\n",
        "Follow Up Input: {question}\n",
        "Standalone question:\"\"\"  # noqa: E501\n",
        "CONDENSE_QUESTION_PROMPT = PromptTemplate.from_template(_template)\n",
        "\n",
        "def _format_chat_history(chat_history: List[Tuple[str, str]]) -> List:\n",
        "    buffer = []\n",
        "    for human, ai in chat_history:\n",
        "        buffer.append(HumanMessage(content=human))\n",
        "        buffer.append(AIMessage(content=ai))\n",
        "    return buffer\n",
        "\n",
        "_search_query = RunnableBranch(\n",
        "    # If input includes chat_history, we condense it with the follow-up question\n",
        "    (\n",
        "        RunnableLambda(lambda x: bool(x.get(\"chat_history\"))).with_config(\n",
        "            run_name=\"HasChatHistoryCheck\"\n",
        "        ),  # Condense follow-up question and chat into a standalone_question\n",
        "        RunnablePassthrough.assign(\n",
        "            chat_history=lambda x: _format_chat_history(x[\"chat_history\"])\n",
        "        )\n",
        "        | CONDENSE_QUESTION_PROMPT\n",
        "        | ChatOpenAI(temperature=0)\n",
        "        | StrOutputParser(),\n",
        "    ),\n",
        "    # Else, we have no chat history, so just pass through the question\n",
        "    RunnableLambda(lambda x : x[\"question\"]),\n",
        ")"
      ],
      "metadata": {
        "id": "WV4c9QPtWL5E"
      },
      "execution_count": 68,
      "outputs": []
    },
    {
      "cell_type": "code",
      "source": [
        "template = \"\"\"Answer the question based only on the following context:\n",
        "{context}\n",
        "\n",
        "Question: {question}\n",
        "Use natural language and be concise.\n",
        "Answer:\"\"\"\n",
        "prompt = ChatPromptTemplate.from_template(template)\n",
        "\n",
        "chain = (\n",
        "    RunnableParallel(\n",
        "        {\n",
        "            \"context\": _search_query | retriever,\n",
        "            \"question\": RunnablePassthrough(),\n",
        "        }\n",
        "    )\n",
        "    | prompt\n",
        "    | llm\n",
        "    | StrOutputParser()\n",
        ")"
      ],
      "metadata": {
        "id": "5wEWAkiBWObo"
      },
      "execution_count": 69,
      "outputs": []
    },
    {
      "cell_type": "code",
      "source": [
        "chain.invoke({\"question\": \"Who was the first CISO?\"})"
      ],
      "metadata": {
        "id": "YhkswaYDWRKU",
        "colab": {
          "base_uri": "https://localhost:8080/",
          "height": 52
        },
        "outputId": "86a5092b-086b-4a80-b153-428f51cff828"
      },
      "execution_count": 70,
      "outputs": [
        {
          "output_type": "stream",
          "name": "stdout",
          "text": [
            "Search query: Who was the first CISO?\n"
          ]
        },
        {
          "output_type": "execute_result",
          "data": {
            "text/plain": [
              "'The first CISO was Gregory Touhill.'"
            ],
            "application/vnd.google.colaboratory.intrinsic+json": {
              "type": "string"
            }
          },
          "metadata": {},
          "execution_count": 70
        }
      ]
    },
    {
      "cell_type": "code",
      "source": [
        "chain.invoke(\n",
        "    {\n",
        "        \"question\": \"Where where they born?\",\n",
        "        \"chat_history\": [(\"Who was the first CISO?\", \"The first CISO was Gregory Touhill.\")],\n",
        "    }\n",
        ")"
      ],
      "metadata": {
        "id": "M5Szd7EdWWG7",
        "colab": {
          "base_uri": "https://localhost:8080/",
          "height": 52
        },
        "outputId": "11c9548c-839a-448c-e951-2bc3c66b48e2"
      },
      "execution_count": 71,
      "outputs": [
        {
          "output_type": "stream",
          "name": "stdout",
          "text": [
            "Search query: Where was Gregory Touhill born?\n"
          ]
        },
        {
          "output_type": "execute_result",
          "data": {
            "text/plain": [
              "'Gregory Touhill was born in the United States. Michael P. Burgess was born in England. Phil Venables was born in Britain.'"
            ],
            "application/vnd.google.colaboratory.intrinsic+json": {
              "type": "string"
            }
          },
          "metadata": {},
          "execution_count": 71
        }
      ]
    }
  ]
}