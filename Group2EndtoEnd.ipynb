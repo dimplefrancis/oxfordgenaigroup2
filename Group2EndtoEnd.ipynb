{
  "nbformat": 4,
  "nbformat_minor": 0,
  "metadata": {
    "colab": {
      "provenance": [],
      "authorship_tag": "ABX9TyPxbuhksbs1JfshyDjZ3HcA",
      "include_colab_link": true
    },
    "kernelspec": {
      "name": "python3",
      "display_name": "Python 3"
    },
    "language_info": {
      "name": "python"
    }
  },
  "cells": [
    {
      "cell_type": "markdown",
      "metadata": {
        "id": "view-in-github",
        "colab_type": "text"
      },
      "source": [
        "<a href=\"https://colab.research.google.com/github/kevinhoffmanglyde/oxfordgenaigroup2/blob/main/Group2EndtoEnd.ipynb\" target=\"_parent\"><img src=\"https://colab.research.google.com/assets/colab-badge.svg\" alt=\"Open In Colab\"/></a>"
      ]
    },
    {
      "cell_type": "markdown",
      "source": [
        "#Mount the Google Drive"
      ],
      "metadata": {
        "id": "Gua7ddaHHhwC"
      }
    },
    {
      "cell_type": "code",
      "execution_count": 93,
      "metadata": {
        "colab": {
          "base_uri": "https://localhost:8080/"
        },
        "id": "lYwcI4b_HN_r",
        "outputId": "4b7c2cfd-f207-46fe-b9fd-7bac99e5c6a7"
      },
      "outputs": [
        {
          "output_type": "stream",
          "name": "stdout",
          "text": [
            "Drive already mounted at /content/gdrive; to attempt to forcibly remount, call drive.mount(\"/content/gdrive\", force_remount=True).\n"
          ]
        }
      ],
      "source": [
        "import pandas as pd\n",
        "from google.colab import drive\n",
        "drive.mount('/content/gdrive')"
      ]
    },
    {
      "cell_type": "markdown",
      "source": [
        "#Authenticate"
      ],
      "metadata": {
        "id": "kJlFz5aGHbAq"
      }
    },
    {
      "cell_type": "code",
      "source": [
        "from google.colab import auth\n",
        "auth.authenticate_user()\n",
        "print('Authenticated')"
      ],
      "metadata": {
        "colab": {
          "base_uri": "https://localhost:8080/"
        },
        "id": "8TyiO8VuHVjq",
        "outputId": "6030d1d6-c080-4d10-9fd3-fd3efd160c3b"
      },
      "execution_count": 94,
      "outputs": [
        {
          "output_type": "stream",
          "name": "stdout",
          "text": [
            "Authenticated\n"
          ]
        }
      ]
    },
    {
      "cell_type": "markdown",
      "source": [
        "#Get the data"
      ],
      "metadata": {
        "id": "J3puYcvbHotj"
      }
    },
    {
      "cell_type": "code",
      "source": [
        "df = pd.read_csv('gdrive/MyDrive/synt_data.csv')\n",
        "#https://drive.google.com/file/d/19DGUr_7W6JcbWTjUEGMUA-JnMLByfH7Q/view?usp=drive_link"
      ],
      "metadata": {
        "id": "qi1RpRlOHX5g"
      },
      "execution_count": 95,
      "outputs": []
    },
    {
      "cell_type": "markdown",
      "source": [
        "#Check the data is there"
      ],
      "metadata": {
        "id": "agkgHkq0Hqkv"
      }
    },
    {
      "cell_type": "code",
      "source": [
        "df.head()"
      ],
      "metadata": {
        "colab": {
          "base_uri": "https://localhost:8080/",
          "height": 206
        },
        "id": "xjL5olQkHaBj",
        "outputId": "7ef0ca19-cc8b-4eda-f853-be59bc662b2d"
      },
      "execution_count": 96,
      "outputs": [
        {
          "output_type": "execute_result",
          "data": {
            "text/plain": [
              "   Store ID  Country  Product ID Product Category  Units Sold Date of Sale  \\\n",
              "0      5954    Spain       16174             Mens          58   2023-07-03   \n",
              "1      9190  Austria       54058             Mens          88   2023-12-04   \n",
              "2      4997    Italy       16301             Mens          69   2023-11-28   \n",
              "3      9188  Austria       83886             Mens          64   2024-03-21   \n",
              "4      3675   France       68267             Mens          12   2024-03-24   \n",
              "\n",
              "   GDP Growth Rate  Inflation Rate  Price Sold  \n",
              "0             0.01            2.87       94.37  \n",
              "1             1.55            0.75       73.63  \n",
              "2             1.32            1.12       22.10  \n",
              "3             1.24            0.86       32.87  \n",
              "4             1.28            2.62       80.72  "
            ],
            "text/html": [
              "\n",
              "  <div id=\"df-eab58e38-295e-44e2-ab17-5372dda7b4eb\" class=\"colab-df-container\">\n",
              "    <div>\n",
              "<style scoped>\n",
              "    .dataframe tbody tr th:only-of-type {\n",
              "        vertical-align: middle;\n",
              "    }\n",
              "\n",
              "    .dataframe tbody tr th {\n",
              "        vertical-align: top;\n",
              "    }\n",
              "\n",
              "    .dataframe thead th {\n",
              "        text-align: right;\n",
              "    }\n",
              "</style>\n",
              "<table border=\"1\" class=\"dataframe\">\n",
              "  <thead>\n",
              "    <tr style=\"text-align: right;\">\n",
              "      <th></th>\n",
              "      <th>Store ID</th>\n",
              "      <th>Country</th>\n",
              "      <th>Product ID</th>\n",
              "      <th>Product Category</th>\n",
              "      <th>Units Sold</th>\n",
              "      <th>Date of Sale</th>\n",
              "      <th>GDP Growth Rate</th>\n",
              "      <th>Inflation Rate</th>\n",
              "      <th>Price Sold</th>\n",
              "    </tr>\n",
              "  </thead>\n",
              "  <tbody>\n",
              "    <tr>\n",
              "      <th>0</th>\n",
              "      <td>5954</td>\n",
              "      <td>Spain</td>\n",
              "      <td>16174</td>\n",
              "      <td>Mens</td>\n",
              "      <td>58</td>\n",
              "      <td>2023-07-03</td>\n",
              "      <td>0.01</td>\n",
              "      <td>2.87</td>\n",
              "      <td>94.37</td>\n",
              "    </tr>\n",
              "    <tr>\n",
              "      <th>1</th>\n",
              "      <td>9190</td>\n",
              "      <td>Austria</td>\n",
              "      <td>54058</td>\n",
              "      <td>Mens</td>\n",
              "      <td>88</td>\n",
              "      <td>2023-12-04</td>\n",
              "      <td>1.55</td>\n",
              "      <td>0.75</td>\n",
              "      <td>73.63</td>\n",
              "    </tr>\n",
              "    <tr>\n",
              "      <th>2</th>\n",
              "      <td>4997</td>\n",
              "      <td>Italy</td>\n",
              "      <td>16301</td>\n",
              "      <td>Mens</td>\n",
              "      <td>69</td>\n",
              "      <td>2023-11-28</td>\n",
              "      <td>1.32</td>\n",
              "      <td>1.12</td>\n",
              "      <td>22.10</td>\n",
              "    </tr>\n",
              "    <tr>\n",
              "      <th>3</th>\n",
              "      <td>9188</td>\n",
              "      <td>Austria</td>\n",
              "      <td>83886</td>\n",
              "      <td>Mens</td>\n",
              "      <td>64</td>\n",
              "      <td>2024-03-21</td>\n",
              "      <td>1.24</td>\n",
              "      <td>0.86</td>\n",
              "      <td>32.87</td>\n",
              "    </tr>\n",
              "    <tr>\n",
              "      <th>4</th>\n",
              "      <td>3675</td>\n",
              "      <td>France</td>\n",
              "      <td>68267</td>\n",
              "      <td>Mens</td>\n",
              "      <td>12</td>\n",
              "      <td>2024-03-24</td>\n",
              "      <td>1.28</td>\n",
              "      <td>2.62</td>\n",
              "      <td>80.72</td>\n",
              "    </tr>\n",
              "  </tbody>\n",
              "</table>\n",
              "</div>\n",
              "    <div class=\"colab-df-buttons\">\n",
              "\n",
              "  <div class=\"colab-df-container\">\n",
              "    <button class=\"colab-df-convert\" onclick=\"convertToInteractive('df-eab58e38-295e-44e2-ab17-5372dda7b4eb')\"\n",
              "            title=\"Convert this dataframe to an interactive table.\"\n",
              "            style=\"display:none;\">\n",
              "\n",
              "  <svg xmlns=\"http://www.w3.org/2000/svg\" height=\"24px\" viewBox=\"0 -960 960 960\">\n",
              "    <path d=\"M120-120v-720h720v720H120Zm60-500h600v-160H180v160Zm220 220h160v-160H400v160Zm0 220h160v-160H400v160ZM180-400h160v-160H180v160Zm440 0h160v-160H620v160ZM180-180h160v-160H180v160Zm440 0h160v-160H620v160Z\"/>\n",
              "  </svg>\n",
              "    </button>\n",
              "\n",
              "  <style>\n",
              "    .colab-df-container {\n",
              "      display:flex;\n",
              "      gap: 12px;\n",
              "    }\n",
              "\n",
              "    .colab-df-convert {\n",
              "      background-color: #E8F0FE;\n",
              "      border: none;\n",
              "      border-radius: 50%;\n",
              "      cursor: pointer;\n",
              "      display: none;\n",
              "      fill: #1967D2;\n",
              "      height: 32px;\n",
              "      padding: 0 0 0 0;\n",
              "      width: 32px;\n",
              "    }\n",
              "\n",
              "    .colab-df-convert:hover {\n",
              "      background-color: #E2EBFA;\n",
              "      box-shadow: 0px 1px 2px rgba(60, 64, 67, 0.3), 0px 1px 3px 1px rgba(60, 64, 67, 0.15);\n",
              "      fill: #174EA6;\n",
              "    }\n",
              "\n",
              "    .colab-df-buttons div {\n",
              "      margin-bottom: 4px;\n",
              "    }\n",
              "\n",
              "    [theme=dark] .colab-df-convert {\n",
              "      background-color: #3B4455;\n",
              "      fill: #D2E3FC;\n",
              "    }\n",
              "\n",
              "    [theme=dark] .colab-df-convert:hover {\n",
              "      background-color: #434B5C;\n",
              "      box-shadow: 0px 1px 3px 1px rgba(0, 0, 0, 0.15);\n",
              "      filter: drop-shadow(0px 1px 2px rgba(0, 0, 0, 0.3));\n",
              "      fill: #FFFFFF;\n",
              "    }\n",
              "  </style>\n",
              "\n",
              "    <script>\n",
              "      const buttonEl =\n",
              "        document.querySelector('#df-eab58e38-295e-44e2-ab17-5372dda7b4eb button.colab-df-convert');\n",
              "      buttonEl.style.display =\n",
              "        google.colab.kernel.accessAllowed ? 'block' : 'none';\n",
              "\n",
              "      async function convertToInteractive(key) {\n",
              "        const element = document.querySelector('#df-eab58e38-295e-44e2-ab17-5372dda7b4eb');\n",
              "        const dataTable =\n",
              "          await google.colab.kernel.invokeFunction('convertToInteractive',\n",
              "                                                    [key], {});\n",
              "        if (!dataTable) return;\n",
              "\n",
              "        const docLinkHtml = 'Like what you see? Visit the ' +\n",
              "          '<a target=\"_blank\" href=https://colab.research.google.com/notebooks/data_table.ipynb>data table notebook</a>'\n",
              "          + ' to learn more about interactive tables.';\n",
              "        element.innerHTML = '';\n",
              "        dataTable['output_type'] = 'display_data';\n",
              "        await google.colab.output.renderOutput(dataTable, element);\n",
              "        const docLink = document.createElement('div');\n",
              "        docLink.innerHTML = docLinkHtml;\n",
              "        element.appendChild(docLink);\n",
              "      }\n",
              "    </script>\n",
              "  </div>\n",
              "\n",
              "\n",
              "<div id=\"df-0bc38c6e-5514-44ca-a9f4-bee1b2f01a46\">\n",
              "  <button class=\"colab-df-quickchart\" onclick=\"quickchart('df-0bc38c6e-5514-44ca-a9f4-bee1b2f01a46')\"\n",
              "            title=\"Suggest charts\"\n",
              "            style=\"display:none;\">\n",
              "\n",
              "<svg xmlns=\"http://www.w3.org/2000/svg\" height=\"24px\"viewBox=\"0 0 24 24\"\n",
              "     width=\"24px\">\n",
              "    <g>\n",
              "        <path d=\"M19 3H5c-1.1 0-2 .9-2 2v14c0 1.1.9 2 2 2h14c1.1 0 2-.9 2-2V5c0-1.1-.9-2-2-2zM9 17H7v-7h2v7zm4 0h-2V7h2v10zm4 0h-2v-4h2v4z\"/>\n",
              "    </g>\n",
              "</svg>\n",
              "  </button>\n",
              "\n",
              "<style>\n",
              "  .colab-df-quickchart {\n",
              "      --bg-color: #E8F0FE;\n",
              "      --fill-color: #1967D2;\n",
              "      --hover-bg-color: #E2EBFA;\n",
              "      --hover-fill-color: #174EA6;\n",
              "      --disabled-fill-color: #AAA;\n",
              "      --disabled-bg-color: #DDD;\n",
              "  }\n",
              "\n",
              "  [theme=dark] .colab-df-quickchart {\n",
              "      --bg-color: #3B4455;\n",
              "      --fill-color: #D2E3FC;\n",
              "      --hover-bg-color: #434B5C;\n",
              "      --hover-fill-color: #FFFFFF;\n",
              "      --disabled-bg-color: #3B4455;\n",
              "      --disabled-fill-color: #666;\n",
              "  }\n",
              "\n",
              "  .colab-df-quickchart {\n",
              "    background-color: var(--bg-color);\n",
              "    border: none;\n",
              "    border-radius: 50%;\n",
              "    cursor: pointer;\n",
              "    display: none;\n",
              "    fill: var(--fill-color);\n",
              "    height: 32px;\n",
              "    padding: 0;\n",
              "    width: 32px;\n",
              "  }\n",
              "\n",
              "  .colab-df-quickchart:hover {\n",
              "    background-color: var(--hover-bg-color);\n",
              "    box-shadow: 0 1px 2px rgba(60, 64, 67, 0.3), 0 1px 3px 1px rgba(60, 64, 67, 0.15);\n",
              "    fill: var(--button-hover-fill-color);\n",
              "  }\n",
              "\n",
              "  .colab-df-quickchart-complete:disabled,\n",
              "  .colab-df-quickchart-complete:disabled:hover {\n",
              "    background-color: var(--disabled-bg-color);\n",
              "    fill: var(--disabled-fill-color);\n",
              "    box-shadow: none;\n",
              "  }\n",
              "\n",
              "  .colab-df-spinner {\n",
              "    border: 2px solid var(--fill-color);\n",
              "    border-color: transparent;\n",
              "    border-bottom-color: var(--fill-color);\n",
              "    animation:\n",
              "      spin 1s steps(1) infinite;\n",
              "  }\n",
              "\n",
              "  @keyframes spin {\n",
              "    0% {\n",
              "      border-color: transparent;\n",
              "      border-bottom-color: var(--fill-color);\n",
              "      border-left-color: var(--fill-color);\n",
              "    }\n",
              "    20% {\n",
              "      border-color: transparent;\n",
              "      border-left-color: var(--fill-color);\n",
              "      border-top-color: var(--fill-color);\n",
              "    }\n",
              "    30% {\n",
              "      border-color: transparent;\n",
              "      border-left-color: var(--fill-color);\n",
              "      border-top-color: var(--fill-color);\n",
              "      border-right-color: var(--fill-color);\n",
              "    }\n",
              "    40% {\n",
              "      border-color: transparent;\n",
              "      border-right-color: var(--fill-color);\n",
              "      border-top-color: var(--fill-color);\n",
              "    }\n",
              "    60% {\n",
              "      border-color: transparent;\n",
              "      border-right-color: var(--fill-color);\n",
              "    }\n",
              "    80% {\n",
              "      border-color: transparent;\n",
              "      border-right-color: var(--fill-color);\n",
              "      border-bottom-color: var(--fill-color);\n",
              "    }\n",
              "    90% {\n",
              "      border-color: transparent;\n",
              "      border-bottom-color: var(--fill-color);\n",
              "    }\n",
              "  }\n",
              "</style>\n",
              "\n",
              "  <script>\n",
              "    async function quickchart(key) {\n",
              "      const quickchartButtonEl =\n",
              "        document.querySelector('#' + key + ' button');\n",
              "      quickchartButtonEl.disabled = true;  // To prevent multiple clicks.\n",
              "      quickchartButtonEl.classList.add('colab-df-spinner');\n",
              "      try {\n",
              "        const charts = await google.colab.kernel.invokeFunction(\n",
              "            'suggestCharts', [key], {});\n",
              "      } catch (error) {\n",
              "        console.error('Error during call to suggestCharts:', error);\n",
              "      }\n",
              "      quickchartButtonEl.classList.remove('colab-df-spinner');\n",
              "      quickchartButtonEl.classList.add('colab-df-quickchart-complete');\n",
              "    }\n",
              "    (() => {\n",
              "      let quickchartButtonEl =\n",
              "        document.querySelector('#df-0bc38c6e-5514-44ca-a9f4-bee1b2f01a46 button');\n",
              "      quickchartButtonEl.style.display =\n",
              "        google.colab.kernel.accessAllowed ? 'block' : 'none';\n",
              "    })();\n",
              "  </script>\n",
              "</div>\n",
              "    </div>\n",
              "  </div>\n"
            ],
            "application/vnd.google.colaboratory.intrinsic+json": {
              "type": "dataframe",
              "variable_name": "df"
            }
          },
          "metadata": {},
          "execution_count": 96
        }
      ]
    },
    {
      "cell_type": "markdown",
      "source": [
        "##Now examine the data\n",
        "The biggest worry is that once we get to the testing of the model, using the synthetic data, we may be trying to map the model based on the training data to data that is completely random."
      ],
      "metadata": {
        "id": "_w7QtA14KxS_"
      }
    },
    {
      "cell_type": "code",
      "source": [
        "import pandas as pd\n",
        "import numpy as np\n",
        "import seaborn as sn\n",
        "import matplotlib.pyplot as plt\n",
        "import datetime\n",
        "datetosplit = '2024-02-01'\n",
        "reference_date = datetime.date(1970, 1, 1)\n",
        "# train_test_split is used to easily divide data into training and testing sets.\n",
        "from sklearn.model_selection import train_test_split\n",
        "# LinearRegression is the model we'll be using from scikit-learn.\n",
        "from sklearn.linear_model import LinearRegression\n",
        "# mean_absolute_error and mean_squared_error are metrics to evaluate our model.\n",
        "from sklearn.metrics import mean_absolute_error, mean_squared_error, r2_score\n",
        "# matplotlib.pyplot is used for plotting graphs.\n",
        "import matplotlib.pyplot as plt\n",
        "from sklearn.ensemble import RandomForestRegressor"
      ],
      "metadata": {
        "id": "tw8W1opWMTQL"
      },
      "execution_count": 97,
      "outputs": []
    },
    {
      "cell_type": "code",
      "source": [
        "df = df.sort_values([\"Date of Sale\"], ascending = (True)) # order the data by year, month, day in ascending order.\n",
        "df.head() # check the data again by viewing the first 5 rows"
      ],
      "metadata": {
        "colab": {
          "base_uri": "https://localhost:8080/",
          "height": 206
        },
        "id": "lAksB5ogLObq",
        "outputId": "c070870b-9032-4f8c-b9ff-0073bd2ef711"
      },
      "execution_count": 98,
      "outputs": [
        {
          "output_type": "execute_result",
          "data": {
            "text/plain": [
              "        Store ID      Country  Product ID Product Category  Units Sold  \\\n",
              "199627      2118      Germany       20385           Womens          32   \n",
              "154482     10059      Denmark       16106           Womens          79   \n",
              "29229       2881      Germany       88964           Womens          84   \n",
              "154639      7176      Belgium       93521             Mens          78   \n",
              "154901      6572  Netherlands       12538           Womens          98   \n",
              "\n",
              "       Date of Sale  GDP Growth Rate  Inflation Rate  Price Sold  \n",
              "199627   2023-05-04             1.89            2.46       63.77  \n",
              "154482   2023-05-04             1.16            0.48       22.50  \n",
              "29229    2023-05-04             0.15            1.33       24.19  \n",
              "154639   2023-05-04             2.43            2.48       37.30  \n",
              "154901   2023-05-04             0.72            0.23       61.17  "
            ],
            "text/html": [
              "\n",
              "  <div id=\"df-6eb48269-326c-427b-acb1-2dc6c845a775\" class=\"colab-df-container\">\n",
              "    <div>\n",
              "<style scoped>\n",
              "    .dataframe tbody tr th:only-of-type {\n",
              "        vertical-align: middle;\n",
              "    }\n",
              "\n",
              "    .dataframe tbody tr th {\n",
              "        vertical-align: top;\n",
              "    }\n",
              "\n",
              "    .dataframe thead th {\n",
              "        text-align: right;\n",
              "    }\n",
              "</style>\n",
              "<table border=\"1\" class=\"dataframe\">\n",
              "  <thead>\n",
              "    <tr style=\"text-align: right;\">\n",
              "      <th></th>\n",
              "      <th>Store ID</th>\n",
              "      <th>Country</th>\n",
              "      <th>Product ID</th>\n",
              "      <th>Product Category</th>\n",
              "      <th>Units Sold</th>\n",
              "      <th>Date of Sale</th>\n",
              "      <th>GDP Growth Rate</th>\n",
              "      <th>Inflation Rate</th>\n",
              "      <th>Price Sold</th>\n",
              "    </tr>\n",
              "  </thead>\n",
              "  <tbody>\n",
              "    <tr>\n",
              "      <th>199627</th>\n",
              "      <td>2118</td>\n",
              "      <td>Germany</td>\n",
              "      <td>20385</td>\n",
              "      <td>Womens</td>\n",
              "      <td>32</td>\n",
              "      <td>2023-05-04</td>\n",
              "      <td>1.89</td>\n",
              "      <td>2.46</td>\n",
              "      <td>63.77</td>\n",
              "    </tr>\n",
              "    <tr>\n",
              "      <th>154482</th>\n",
              "      <td>10059</td>\n",
              "      <td>Denmark</td>\n",
              "      <td>16106</td>\n",
              "      <td>Womens</td>\n",
              "      <td>79</td>\n",
              "      <td>2023-05-04</td>\n",
              "      <td>1.16</td>\n",
              "      <td>0.48</td>\n",
              "      <td>22.50</td>\n",
              "    </tr>\n",
              "    <tr>\n",
              "      <th>29229</th>\n",
              "      <td>2881</td>\n",
              "      <td>Germany</td>\n",
              "      <td>88964</td>\n",
              "      <td>Womens</td>\n",
              "      <td>84</td>\n",
              "      <td>2023-05-04</td>\n",
              "      <td>0.15</td>\n",
              "      <td>1.33</td>\n",
              "      <td>24.19</td>\n",
              "    </tr>\n",
              "    <tr>\n",
              "      <th>154639</th>\n",
              "      <td>7176</td>\n",
              "      <td>Belgium</td>\n",
              "      <td>93521</td>\n",
              "      <td>Mens</td>\n",
              "      <td>78</td>\n",
              "      <td>2023-05-04</td>\n",
              "      <td>2.43</td>\n",
              "      <td>2.48</td>\n",
              "      <td>37.30</td>\n",
              "    </tr>\n",
              "    <tr>\n",
              "      <th>154901</th>\n",
              "      <td>6572</td>\n",
              "      <td>Netherlands</td>\n",
              "      <td>12538</td>\n",
              "      <td>Womens</td>\n",
              "      <td>98</td>\n",
              "      <td>2023-05-04</td>\n",
              "      <td>0.72</td>\n",
              "      <td>0.23</td>\n",
              "      <td>61.17</td>\n",
              "    </tr>\n",
              "  </tbody>\n",
              "</table>\n",
              "</div>\n",
              "    <div class=\"colab-df-buttons\">\n",
              "\n",
              "  <div class=\"colab-df-container\">\n",
              "    <button class=\"colab-df-convert\" onclick=\"convertToInteractive('df-6eb48269-326c-427b-acb1-2dc6c845a775')\"\n",
              "            title=\"Convert this dataframe to an interactive table.\"\n",
              "            style=\"display:none;\">\n",
              "\n",
              "  <svg xmlns=\"http://www.w3.org/2000/svg\" height=\"24px\" viewBox=\"0 -960 960 960\">\n",
              "    <path d=\"M120-120v-720h720v720H120Zm60-500h600v-160H180v160Zm220 220h160v-160H400v160Zm0 220h160v-160H400v160ZM180-400h160v-160H180v160Zm440 0h160v-160H620v160ZM180-180h160v-160H180v160Zm440 0h160v-160H620v160Z\"/>\n",
              "  </svg>\n",
              "    </button>\n",
              "\n",
              "  <style>\n",
              "    .colab-df-container {\n",
              "      display:flex;\n",
              "      gap: 12px;\n",
              "    }\n",
              "\n",
              "    .colab-df-convert {\n",
              "      background-color: #E8F0FE;\n",
              "      border: none;\n",
              "      border-radius: 50%;\n",
              "      cursor: pointer;\n",
              "      display: none;\n",
              "      fill: #1967D2;\n",
              "      height: 32px;\n",
              "      padding: 0 0 0 0;\n",
              "      width: 32px;\n",
              "    }\n",
              "\n",
              "    .colab-df-convert:hover {\n",
              "      background-color: #E2EBFA;\n",
              "      box-shadow: 0px 1px 2px rgba(60, 64, 67, 0.3), 0px 1px 3px 1px rgba(60, 64, 67, 0.15);\n",
              "      fill: #174EA6;\n",
              "    }\n",
              "\n",
              "    .colab-df-buttons div {\n",
              "      margin-bottom: 4px;\n",
              "    }\n",
              "\n",
              "    [theme=dark] .colab-df-convert {\n",
              "      background-color: #3B4455;\n",
              "      fill: #D2E3FC;\n",
              "    }\n",
              "\n",
              "    [theme=dark] .colab-df-convert:hover {\n",
              "      background-color: #434B5C;\n",
              "      box-shadow: 0px 1px 3px 1px rgba(0, 0, 0, 0.15);\n",
              "      filter: drop-shadow(0px 1px 2px rgba(0, 0, 0, 0.3));\n",
              "      fill: #FFFFFF;\n",
              "    }\n",
              "  </style>\n",
              "\n",
              "    <script>\n",
              "      const buttonEl =\n",
              "        document.querySelector('#df-6eb48269-326c-427b-acb1-2dc6c845a775 button.colab-df-convert');\n",
              "      buttonEl.style.display =\n",
              "        google.colab.kernel.accessAllowed ? 'block' : 'none';\n",
              "\n",
              "      async function convertToInteractive(key) {\n",
              "        const element = document.querySelector('#df-6eb48269-326c-427b-acb1-2dc6c845a775');\n",
              "        const dataTable =\n",
              "          await google.colab.kernel.invokeFunction('convertToInteractive',\n",
              "                                                    [key], {});\n",
              "        if (!dataTable) return;\n",
              "\n",
              "        const docLinkHtml = 'Like what you see? Visit the ' +\n",
              "          '<a target=\"_blank\" href=https://colab.research.google.com/notebooks/data_table.ipynb>data table notebook</a>'\n",
              "          + ' to learn more about interactive tables.';\n",
              "        element.innerHTML = '';\n",
              "        dataTable['output_type'] = 'display_data';\n",
              "        await google.colab.output.renderOutput(dataTable, element);\n",
              "        const docLink = document.createElement('div');\n",
              "        docLink.innerHTML = docLinkHtml;\n",
              "        element.appendChild(docLink);\n",
              "      }\n",
              "    </script>\n",
              "  </div>\n",
              "\n",
              "\n",
              "<div id=\"df-d02e58b2-26d6-42f1-8545-f15e74521809\">\n",
              "  <button class=\"colab-df-quickchart\" onclick=\"quickchart('df-d02e58b2-26d6-42f1-8545-f15e74521809')\"\n",
              "            title=\"Suggest charts\"\n",
              "            style=\"display:none;\">\n",
              "\n",
              "<svg xmlns=\"http://www.w3.org/2000/svg\" height=\"24px\"viewBox=\"0 0 24 24\"\n",
              "     width=\"24px\">\n",
              "    <g>\n",
              "        <path d=\"M19 3H5c-1.1 0-2 .9-2 2v14c0 1.1.9 2 2 2h14c1.1 0 2-.9 2-2V5c0-1.1-.9-2-2-2zM9 17H7v-7h2v7zm4 0h-2V7h2v10zm4 0h-2v-4h2v4z\"/>\n",
              "    </g>\n",
              "</svg>\n",
              "  </button>\n",
              "\n",
              "<style>\n",
              "  .colab-df-quickchart {\n",
              "      --bg-color: #E8F0FE;\n",
              "      --fill-color: #1967D2;\n",
              "      --hover-bg-color: #E2EBFA;\n",
              "      --hover-fill-color: #174EA6;\n",
              "      --disabled-fill-color: #AAA;\n",
              "      --disabled-bg-color: #DDD;\n",
              "  }\n",
              "\n",
              "  [theme=dark] .colab-df-quickchart {\n",
              "      --bg-color: #3B4455;\n",
              "      --fill-color: #D2E3FC;\n",
              "      --hover-bg-color: #434B5C;\n",
              "      --hover-fill-color: #FFFFFF;\n",
              "      --disabled-bg-color: #3B4455;\n",
              "      --disabled-fill-color: #666;\n",
              "  }\n",
              "\n",
              "  .colab-df-quickchart {\n",
              "    background-color: var(--bg-color);\n",
              "    border: none;\n",
              "    border-radius: 50%;\n",
              "    cursor: pointer;\n",
              "    display: none;\n",
              "    fill: var(--fill-color);\n",
              "    height: 32px;\n",
              "    padding: 0;\n",
              "    width: 32px;\n",
              "  }\n",
              "\n",
              "  .colab-df-quickchart:hover {\n",
              "    background-color: var(--hover-bg-color);\n",
              "    box-shadow: 0 1px 2px rgba(60, 64, 67, 0.3), 0 1px 3px 1px rgba(60, 64, 67, 0.15);\n",
              "    fill: var(--button-hover-fill-color);\n",
              "  }\n",
              "\n",
              "  .colab-df-quickchart-complete:disabled,\n",
              "  .colab-df-quickchart-complete:disabled:hover {\n",
              "    background-color: var(--disabled-bg-color);\n",
              "    fill: var(--disabled-fill-color);\n",
              "    box-shadow: none;\n",
              "  }\n",
              "\n",
              "  .colab-df-spinner {\n",
              "    border: 2px solid var(--fill-color);\n",
              "    border-color: transparent;\n",
              "    border-bottom-color: var(--fill-color);\n",
              "    animation:\n",
              "      spin 1s steps(1) infinite;\n",
              "  }\n",
              "\n",
              "  @keyframes spin {\n",
              "    0% {\n",
              "      border-color: transparent;\n",
              "      border-bottom-color: var(--fill-color);\n",
              "      border-left-color: var(--fill-color);\n",
              "    }\n",
              "    20% {\n",
              "      border-color: transparent;\n",
              "      border-left-color: var(--fill-color);\n",
              "      border-top-color: var(--fill-color);\n",
              "    }\n",
              "    30% {\n",
              "      border-color: transparent;\n",
              "      border-left-color: var(--fill-color);\n",
              "      border-top-color: var(--fill-color);\n",
              "      border-right-color: var(--fill-color);\n",
              "    }\n",
              "    40% {\n",
              "      border-color: transparent;\n",
              "      border-right-color: var(--fill-color);\n",
              "      border-top-color: var(--fill-color);\n",
              "    }\n",
              "    60% {\n",
              "      border-color: transparent;\n",
              "      border-right-color: var(--fill-color);\n",
              "    }\n",
              "    80% {\n",
              "      border-color: transparent;\n",
              "      border-right-color: var(--fill-color);\n",
              "      border-bottom-color: var(--fill-color);\n",
              "    }\n",
              "    90% {\n",
              "      border-color: transparent;\n",
              "      border-bottom-color: var(--fill-color);\n",
              "    }\n",
              "  }\n",
              "</style>\n",
              "\n",
              "  <script>\n",
              "    async function quickchart(key) {\n",
              "      const quickchartButtonEl =\n",
              "        document.querySelector('#' + key + ' button');\n",
              "      quickchartButtonEl.disabled = true;  // To prevent multiple clicks.\n",
              "      quickchartButtonEl.classList.add('colab-df-spinner');\n",
              "      try {\n",
              "        const charts = await google.colab.kernel.invokeFunction(\n",
              "            'suggestCharts', [key], {});\n",
              "      } catch (error) {\n",
              "        console.error('Error during call to suggestCharts:', error);\n",
              "      }\n",
              "      quickchartButtonEl.classList.remove('colab-df-spinner');\n",
              "      quickchartButtonEl.classList.add('colab-df-quickchart-complete');\n",
              "    }\n",
              "    (() => {\n",
              "      let quickchartButtonEl =\n",
              "        document.querySelector('#df-d02e58b2-26d6-42f1-8545-f15e74521809 button');\n",
              "      quickchartButtonEl.style.display =\n",
              "        google.colab.kernel.accessAllowed ? 'block' : 'none';\n",
              "    })();\n",
              "  </script>\n",
              "</div>\n",
              "    </div>\n",
              "  </div>\n"
            ],
            "application/vnd.google.colaboratory.intrinsic+json": {
              "type": "dataframe",
              "variable_name": "df"
            }
          },
          "metadata": {},
          "execution_count": 98
        }
      ]
    },
    {
      "cell_type": "code",
      "source": [
        "df.describe()"
      ],
      "metadata": {
        "colab": {
          "base_uri": "https://localhost:8080/",
          "height": 300
        },
        "id": "PvQcgK3HLvKN",
        "outputId": "093cc4dd-8b78-4f48-8307-7346ab843b9f"
      },
      "execution_count": 99,
      "outputs": [
        {
          "output_type": "execute_result",
          "data": {
            "text/plain": [
              "            Store ID     Product ID     Units Sold  GDP Growth Rate  \\\n",
              "count  300000.000000  300000.000000  300000.000000    300000.000000   \n",
              "mean     5987.140990   55076.436663      50.572453         1.448650   \n",
              "std      2889.554299   25986.196626      28.857025         0.855469   \n",
              "min      1000.000000   10000.000000       1.000000         0.000000   \n",
              "25%      3476.000000   32605.000000      26.000000         0.710000   \n",
              "50%      5985.000000   55124.000000      51.000000         1.430000   \n",
              "75%      8488.000000   77569.250000      76.000000         2.160000   \n",
              "max     10999.000000   99999.000000     100.000000         3.000000   \n",
              "\n",
              "       Inflation Rate     Price Sold  \n",
              "count   300000.000000  300000.000000  \n",
              "mean         1.449116      54.996854  \n",
              "std          0.855604      25.982285  \n",
              "min          0.000000      10.000000  \n",
              "25%          0.710000      32.480000  \n",
              "50%          1.430000      54.950000  \n",
              "75%          2.170000      77.450000  \n",
              "max          3.000000     100.000000  "
            ],
            "text/html": [
              "\n",
              "  <div id=\"df-bf83bad5-c05d-4a06-9eff-edb909420a01\" class=\"colab-df-container\">\n",
              "    <div>\n",
              "<style scoped>\n",
              "    .dataframe tbody tr th:only-of-type {\n",
              "        vertical-align: middle;\n",
              "    }\n",
              "\n",
              "    .dataframe tbody tr th {\n",
              "        vertical-align: top;\n",
              "    }\n",
              "\n",
              "    .dataframe thead th {\n",
              "        text-align: right;\n",
              "    }\n",
              "</style>\n",
              "<table border=\"1\" class=\"dataframe\">\n",
              "  <thead>\n",
              "    <tr style=\"text-align: right;\">\n",
              "      <th></th>\n",
              "      <th>Store ID</th>\n",
              "      <th>Product ID</th>\n",
              "      <th>Units Sold</th>\n",
              "      <th>GDP Growth Rate</th>\n",
              "      <th>Inflation Rate</th>\n",
              "      <th>Price Sold</th>\n",
              "    </tr>\n",
              "  </thead>\n",
              "  <tbody>\n",
              "    <tr>\n",
              "      <th>count</th>\n",
              "      <td>300000.000000</td>\n",
              "      <td>300000.000000</td>\n",
              "      <td>300000.000000</td>\n",
              "      <td>300000.000000</td>\n",
              "      <td>300000.000000</td>\n",
              "      <td>300000.000000</td>\n",
              "    </tr>\n",
              "    <tr>\n",
              "      <th>mean</th>\n",
              "      <td>5987.140990</td>\n",
              "      <td>55076.436663</td>\n",
              "      <td>50.572453</td>\n",
              "      <td>1.448650</td>\n",
              "      <td>1.449116</td>\n",
              "      <td>54.996854</td>\n",
              "    </tr>\n",
              "    <tr>\n",
              "      <th>std</th>\n",
              "      <td>2889.554299</td>\n",
              "      <td>25986.196626</td>\n",
              "      <td>28.857025</td>\n",
              "      <td>0.855469</td>\n",
              "      <td>0.855604</td>\n",
              "      <td>25.982285</td>\n",
              "    </tr>\n",
              "    <tr>\n",
              "      <th>min</th>\n",
              "      <td>1000.000000</td>\n",
              "      <td>10000.000000</td>\n",
              "      <td>1.000000</td>\n",
              "      <td>0.000000</td>\n",
              "      <td>0.000000</td>\n",
              "      <td>10.000000</td>\n",
              "    </tr>\n",
              "    <tr>\n",
              "      <th>25%</th>\n",
              "      <td>3476.000000</td>\n",
              "      <td>32605.000000</td>\n",
              "      <td>26.000000</td>\n",
              "      <td>0.710000</td>\n",
              "      <td>0.710000</td>\n",
              "      <td>32.480000</td>\n",
              "    </tr>\n",
              "    <tr>\n",
              "      <th>50%</th>\n",
              "      <td>5985.000000</td>\n",
              "      <td>55124.000000</td>\n",
              "      <td>51.000000</td>\n",
              "      <td>1.430000</td>\n",
              "      <td>1.430000</td>\n",
              "      <td>54.950000</td>\n",
              "    </tr>\n",
              "    <tr>\n",
              "      <th>75%</th>\n",
              "      <td>8488.000000</td>\n",
              "      <td>77569.250000</td>\n",
              "      <td>76.000000</td>\n",
              "      <td>2.160000</td>\n",
              "      <td>2.170000</td>\n",
              "      <td>77.450000</td>\n",
              "    </tr>\n",
              "    <tr>\n",
              "      <th>max</th>\n",
              "      <td>10999.000000</td>\n",
              "      <td>99999.000000</td>\n",
              "      <td>100.000000</td>\n",
              "      <td>3.000000</td>\n",
              "      <td>3.000000</td>\n",
              "      <td>100.000000</td>\n",
              "    </tr>\n",
              "  </tbody>\n",
              "</table>\n",
              "</div>\n",
              "    <div class=\"colab-df-buttons\">\n",
              "\n",
              "  <div class=\"colab-df-container\">\n",
              "    <button class=\"colab-df-convert\" onclick=\"convertToInteractive('df-bf83bad5-c05d-4a06-9eff-edb909420a01')\"\n",
              "            title=\"Convert this dataframe to an interactive table.\"\n",
              "            style=\"display:none;\">\n",
              "\n",
              "  <svg xmlns=\"http://www.w3.org/2000/svg\" height=\"24px\" viewBox=\"0 -960 960 960\">\n",
              "    <path d=\"M120-120v-720h720v720H120Zm60-500h600v-160H180v160Zm220 220h160v-160H400v160Zm0 220h160v-160H400v160ZM180-400h160v-160H180v160Zm440 0h160v-160H620v160ZM180-180h160v-160H180v160Zm440 0h160v-160H620v160Z\"/>\n",
              "  </svg>\n",
              "    </button>\n",
              "\n",
              "  <style>\n",
              "    .colab-df-container {\n",
              "      display:flex;\n",
              "      gap: 12px;\n",
              "    }\n",
              "\n",
              "    .colab-df-convert {\n",
              "      background-color: #E8F0FE;\n",
              "      border: none;\n",
              "      border-radius: 50%;\n",
              "      cursor: pointer;\n",
              "      display: none;\n",
              "      fill: #1967D2;\n",
              "      height: 32px;\n",
              "      padding: 0 0 0 0;\n",
              "      width: 32px;\n",
              "    }\n",
              "\n",
              "    .colab-df-convert:hover {\n",
              "      background-color: #E2EBFA;\n",
              "      box-shadow: 0px 1px 2px rgba(60, 64, 67, 0.3), 0px 1px 3px 1px rgba(60, 64, 67, 0.15);\n",
              "      fill: #174EA6;\n",
              "    }\n",
              "\n",
              "    .colab-df-buttons div {\n",
              "      margin-bottom: 4px;\n",
              "    }\n",
              "\n",
              "    [theme=dark] .colab-df-convert {\n",
              "      background-color: #3B4455;\n",
              "      fill: #D2E3FC;\n",
              "    }\n",
              "\n",
              "    [theme=dark] .colab-df-convert:hover {\n",
              "      background-color: #434B5C;\n",
              "      box-shadow: 0px 1px 3px 1px rgba(0, 0, 0, 0.15);\n",
              "      filter: drop-shadow(0px 1px 2px rgba(0, 0, 0, 0.3));\n",
              "      fill: #FFFFFF;\n",
              "    }\n",
              "  </style>\n",
              "\n",
              "    <script>\n",
              "      const buttonEl =\n",
              "        document.querySelector('#df-bf83bad5-c05d-4a06-9eff-edb909420a01 button.colab-df-convert');\n",
              "      buttonEl.style.display =\n",
              "        google.colab.kernel.accessAllowed ? 'block' : 'none';\n",
              "\n",
              "      async function convertToInteractive(key) {\n",
              "        const element = document.querySelector('#df-bf83bad5-c05d-4a06-9eff-edb909420a01');\n",
              "        const dataTable =\n",
              "          await google.colab.kernel.invokeFunction('convertToInteractive',\n",
              "                                                    [key], {});\n",
              "        if (!dataTable) return;\n",
              "\n",
              "        const docLinkHtml = 'Like what you see? Visit the ' +\n",
              "          '<a target=\"_blank\" href=https://colab.research.google.com/notebooks/data_table.ipynb>data table notebook</a>'\n",
              "          + ' to learn more about interactive tables.';\n",
              "        element.innerHTML = '';\n",
              "        dataTable['output_type'] = 'display_data';\n",
              "        await google.colab.output.renderOutput(dataTable, element);\n",
              "        const docLink = document.createElement('div');\n",
              "        docLink.innerHTML = docLinkHtml;\n",
              "        element.appendChild(docLink);\n",
              "      }\n",
              "    </script>\n",
              "  </div>\n",
              "\n",
              "\n",
              "<div id=\"df-e9964f76-0f94-4b76-952f-9888db65b0bc\">\n",
              "  <button class=\"colab-df-quickchart\" onclick=\"quickchart('df-e9964f76-0f94-4b76-952f-9888db65b0bc')\"\n",
              "            title=\"Suggest charts\"\n",
              "            style=\"display:none;\">\n",
              "\n",
              "<svg xmlns=\"http://www.w3.org/2000/svg\" height=\"24px\"viewBox=\"0 0 24 24\"\n",
              "     width=\"24px\">\n",
              "    <g>\n",
              "        <path d=\"M19 3H5c-1.1 0-2 .9-2 2v14c0 1.1.9 2 2 2h14c1.1 0 2-.9 2-2V5c0-1.1-.9-2-2-2zM9 17H7v-7h2v7zm4 0h-2V7h2v10zm4 0h-2v-4h2v4z\"/>\n",
              "    </g>\n",
              "</svg>\n",
              "  </button>\n",
              "\n",
              "<style>\n",
              "  .colab-df-quickchart {\n",
              "      --bg-color: #E8F0FE;\n",
              "      --fill-color: #1967D2;\n",
              "      --hover-bg-color: #E2EBFA;\n",
              "      --hover-fill-color: #174EA6;\n",
              "      --disabled-fill-color: #AAA;\n",
              "      --disabled-bg-color: #DDD;\n",
              "  }\n",
              "\n",
              "  [theme=dark] .colab-df-quickchart {\n",
              "      --bg-color: #3B4455;\n",
              "      --fill-color: #D2E3FC;\n",
              "      --hover-bg-color: #434B5C;\n",
              "      --hover-fill-color: #FFFFFF;\n",
              "      --disabled-bg-color: #3B4455;\n",
              "      --disabled-fill-color: #666;\n",
              "  }\n",
              "\n",
              "  .colab-df-quickchart {\n",
              "    background-color: var(--bg-color);\n",
              "    border: none;\n",
              "    border-radius: 50%;\n",
              "    cursor: pointer;\n",
              "    display: none;\n",
              "    fill: var(--fill-color);\n",
              "    height: 32px;\n",
              "    padding: 0;\n",
              "    width: 32px;\n",
              "  }\n",
              "\n",
              "  .colab-df-quickchart:hover {\n",
              "    background-color: var(--hover-bg-color);\n",
              "    box-shadow: 0 1px 2px rgba(60, 64, 67, 0.3), 0 1px 3px 1px rgba(60, 64, 67, 0.15);\n",
              "    fill: var(--button-hover-fill-color);\n",
              "  }\n",
              "\n",
              "  .colab-df-quickchart-complete:disabled,\n",
              "  .colab-df-quickchart-complete:disabled:hover {\n",
              "    background-color: var(--disabled-bg-color);\n",
              "    fill: var(--disabled-fill-color);\n",
              "    box-shadow: none;\n",
              "  }\n",
              "\n",
              "  .colab-df-spinner {\n",
              "    border: 2px solid var(--fill-color);\n",
              "    border-color: transparent;\n",
              "    border-bottom-color: var(--fill-color);\n",
              "    animation:\n",
              "      spin 1s steps(1) infinite;\n",
              "  }\n",
              "\n",
              "  @keyframes spin {\n",
              "    0% {\n",
              "      border-color: transparent;\n",
              "      border-bottom-color: var(--fill-color);\n",
              "      border-left-color: var(--fill-color);\n",
              "    }\n",
              "    20% {\n",
              "      border-color: transparent;\n",
              "      border-left-color: var(--fill-color);\n",
              "      border-top-color: var(--fill-color);\n",
              "    }\n",
              "    30% {\n",
              "      border-color: transparent;\n",
              "      border-left-color: var(--fill-color);\n",
              "      border-top-color: var(--fill-color);\n",
              "      border-right-color: var(--fill-color);\n",
              "    }\n",
              "    40% {\n",
              "      border-color: transparent;\n",
              "      border-right-color: var(--fill-color);\n",
              "      border-top-color: var(--fill-color);\n",
              "    }\n",
              "    60% {\n",
              "      border-color: transparent;\n",
              "      border-right-color: var(--fill-color);\n",
              "    }\n",
              "    80% {\n",
              "      border-color: transparent;\n",
              "      border-right-color: var(--fill-color);\n",
              "      border-bottom-color: var(--fill-color);\n",
              "    }\n",
              "    90% {\n",
              "      border-color: transparent;\n",
              "      border-bottom-color: var(--fill-color);\n",
              "    }\n",
              "  }\n",
              "</style>\n",
              "\n",
              "  <script>\n",
              "    async function quickchart(key) {\n",
              "      const quickchartButtonEl =\n",
              "        document.querySelector('#' + key + ' button');\n",
              "      quickchartButtonEl.disabled = true;  // To prevent multiple clicks.\n",
              "      quickchartButtonEl.classList.add('colab-df-spinner');\n",
              "      try {\n",
              "        const charts = await google.colab.kernel.invokeFunction(\n",
              "            'suggestCharts', [key], {});\n",
              "      } catch (error) {\n",
              "        console.error('Error during call to suggestCharts:', error);\n",
              "      }\n",
              "      quickchartButtonEl.classList.remove('colab-df-spinner');\n",
              "      quickchartButtonEl.classList.add('colab-df-quickchart-complete');\n",
              "    }\n",
              "    (() => {\n",
              "      let quickchartButtonEl =\n",
              "        document.querySelector('#df-e9964f76-0f94-4b76-952f-9888db65b0bc button');\n",
              "      quickchartButtonEl.style.display =\n",
              "        google.colab.kernel.accessAllowed ? 'block' : 'none';\n",
              "    })();\n",
              "  </script>\n",
              "</div>\n",
              "    </div>\n",
              "  </div>\n"
            ],
            "application/vnd.google.colaboratory.intrinsic+json": {
              "type": "dataframe",
              "summary": "{\n  \"name\": \"df\",\n  \"rows\": 8,\n  \"fields\": [\n    {\n      \"column\": \"Store ID\",\n      \"properties\": {\n        \"dtype\": \"number\",\n        \"std\": 104153.63004448423,\n        \"min\": 1000.0,\n        \"max\": 300000.0,\n        \"num_unique_values\": 8,\n        \"samples\": [\n          5987.14099,\n          5985.0,\n          300000.0\n        ],\n        \"semantic_type\": \"\",\n        \"description\": \"\"\n      }\n    },\n    {\n      \"column\": \"Product ID\",\n      \"properties\": {\n        \"dtype\": \"number\",\n        \"std\": 92640.77256436012,\n        \"min\": 10000.0,\n        \"max\": 300000.0,\n        \"num_unique_values\": 8,\n        \"samples\": [\n          55076.436663333334,\n          55124.0,\n          300000.0\n        ],\n        \"semantic_type\": \"\",\n        \"description\": \"\"\n      }\n    },\n    {\n      \"column\": \"Units Sold\",\n      \"properties\": {\n        \"dtype\": \"number\",\n        \"std\": 106049.18086606826,\n        \"min\": 1.0,\n        \"max\": 300000.0,\n        \"num_unique_values\": 8,\n        \"samples\": [\n          50.572453333333335,\n          51.0,\n          300000.0\n        ],\n        \"semantic_type\": \"\",\n        \"description\": \"\"\n      }\n    },\n    {\n      \"column\": \"GDP Growth Rate\",\n      \"properties\": {\n        \"dtype\": \"number\",\n        \"std\": 106065.53210071122,\n        \"min\": 0.0,\n        \"max\": 300000.0,\n        \"num_unique_values\": 8,\n        \"samples\": [\n          1.4486496333333334,\n          1.43,\n          300000.0\n        ],\n        \"semantic_type\": \"\",\n        \"description\": \"\"\n      }\n    },\n    {\n      \"column\": \"Inflation Rate\",\n      \"properties\": {\n        \"dtype\": \"number\",\n        \"std\": 106065.53156527772,\n        \"min\": 0.0,\n        \"max\": 300000.0,\n        \"num_unique_values\": 8,\n        \"samples\": [\n          1.4491159333333334,\n          1.43,\n          300000.0\n        ],\n        \"semantic_type\": \"\",\n        \"description\": \"\"\n      }\n    },\n    {\n      \"column\": \"Price Sold\",\n      \"properties\": {\n        \"dtype\": \"number\",\n        \"std\": 106048.04747162569,\n        \"min\": 10.0,\n        \"max\": 300000.0,\n        \"num_unique_values\": 8,\n        \"samples\": [\n          54.9968536,\n          54.95,\n          300000.0\n        ],\n        \"semantic_type\": \"\",\n        \"description\": \"\"\n      }\n    }\n  ]\n}"
            }
          },
          "metadata": {},
          "execution_count": 99
        }
      ]
    },
    {
      "cell_type": "code",
      "source": [
        "df.isnull().sum()"
      ],
      "metadata": {
        "colab": {
          "base_uri": "https://localhost:8080/"
        },
        "id": "yZy5mlWWXPxR",
        "outputId": "f380dbe7-8688-4773-a91f-df243709c201"
      },
      "execution_count": 100,
      "outputs": [
        {
          "output_type": "execute_result",
          "data": {
            "text/plain": [
              "Store ID            0\n",
              "Country             0\n",
              "Product ID          0\n",
              "Product Category    0\n",
              "Units Sold          0\n",
              "Date of Sale        0\n",
              "GDP Growth Rate     0\n",
              "Inflation Rate      0\n",
              "Price Sold          0\n",
              "dtype: int64"
            ]
          },
          "metadata": {},
          "execution_count": 100
        }
      ]
    },
    {
      "cell_type": "markdown",
      "source": [
        "Looks like no Nulls, which is expected for our synthetic data."
      ],
      "metadata": {
        "id": "bBrwXtnBL5x5"
      }
    },
    {
      "cell_type": "code",
      "source": [
        "#clean up any nulls that might come through in real data\n",
        "df = df.dropna(subset=['Store ID', 'Product ID', 'Units Sold', 'Date of Sale'])"
      ],
      "metadata": {
        "id": "ZD-0i3VuMHsu"
      },
      "execution_count": 101,
      "outputs": []
    },
    {
      "cell_type": "markdown",
      "source": [
        "##Check out the distribution of the data"
      ],
      "metadata": {
        "id": "dmdP6ecaTSWG"
      }
    },
    {
      "cell_type": "code",
      "source": [
        "unique_store = df['Store ID'].nunique()\n",
        "unique_product = df['Product ID'].nunique()\n",
        "unique_product_cat = df['Product Category'].nunique()\n",
        "unique_country = df['Country'].nunique()\n",
        "\n",
        "\n",
        "print(\"Distinct Stores:\", unique_store)\n",
        "print(\"Distinct Products:\", unique_product)\n",
        "print(\"Distinct Product Categories:\", unique_product_cat)\n",
        "print(\"Distinct Countries:\", unique_country)"
      ],
      "metadata": {
        "colab": {
          "base_uri": "https://localhost:8080/"
        },
        "id": "zn4WSC62TYhY",
        "outputId": "d96c8925-46c5-4532-f032-3eec1b2418c2"
      },
      "execution_count": 102,
      "outputs": [
        {
          "output_type": "stream",
          "name": "stdout",
          "text": [
            "Distinct Stores: 10000\n",
            "Distinct Products: 86734\n",
            "Distinct Product Categories: 2\n",
            "Distinct Countries: 10\n"
          ]
        }
      ]
    },
    {
      "cell_type": "code",
      "source": [
        "# Calculating the correlation matrix\n",
        "correlation_matrix = df.corr(numeric_only=True)\n",
        "#numeric_only is a new variable for the correlation matrix.\n",
        "#If we want to include Country, we would have to include one-hot-encoding on Country because it is a string and will not fit in a correlation matrix.\n",
        "# Initializes a new figure for plotting with a specified size to ensure the heatmap is large enough to read.\n",
        "plt.figure(figsize=(10, 8))\n",
        "\n",
        "# Creates a heatmap to visualize the correlation matrix.\n",
        "# - annot=True displays the correlation coefficient values inside the squares.\n",
        "# - cmap='coolwarm' chooses a color map that visually represents positive (warm) and negative (cool) correlations.\n",
        "# - fmt=\".2f\" formats the annotation strings to display only two decimal places.\n",
        "# - linewidths=.5 adds lines between squares to separate them visually.\n",
        "sn.heatmap(correlation_matrix, annot=True, cmap='coolwarm', fmt=\".2f\", linewidths=.5)\n",
        "\n",
        "# Sets the title of the heatmap for clarity.\n",
        "plt.title('Correlation Matrix of Variables')\n",
        "\n",
        "# Displays the plot. Without this, the figure would not be shown in a notebook.\n",
        "plt.show()"
      ],
      "metadata": {
        "colab": {
          "base_uri": "https://localhost:8080/",
          "height": 806
        },
        "id": "XD1mhBa1XakR",
        "outputId": "cf84135e-0abc-46a2-a8fe-587e3b641e61"
      },
      "execution_count": 103,
      "outputs": [
        {
          "output_type": "display_data",
          "data": {
            "text/plain": [
              "<Figure size 1000x800 with 2 Axes>"
            ],
            "image/png": "[encoded data removed]"
          },
          "metadata": {}
        }
      ]
    },
    {
      "cell_type": "code",
      "source": [
        "min_sale_date = df['Date of Sale'].min()\n",
        "max_sale_date = df['Date of Sale'].max()\n",
        "\n",
        "print(\"Minimum date:\", min_sale_date)\n",
        "print(\"Maximum date:\", max_sale_date)"
      ],
      "metadata": {
        "colab": {
          "base_uri": "https://localhost:8080/"
        },
        "id": "UNLN497NU7bH",
        "outputId": "b52ae7cd-b4c9-482a-8ed2-ce8244c13c84"
      },
      "execution_count": 104,
      "outputs": [
        {
          "output_type": "stream",
          "name": "stdout",
          "text": [
            "Minimum date: 2023-05-04\n",
            "Maximum date: 2024-05-03\n"
          ]
        }
      ]
    },
    {
      "cell_type": "markdown",
      "source": [
        "#Date issues##\n",
        "Since we are trying to predict future demand, this suggests that when we divide the Training and Test data, we need to do this on a date basis.  Including dates in the training set that should appear in the test set is not desired.  When using this on real data in production, the future dates will all be empty.\n",
        "\n",
        "So, selecting out test and train data set should probably be on dates rather than simply a percentage.  The suggestion here is that we train 9 months and test against 3 months."
      ],
      "metadata": {
        "id": "NvIP6M16VMqA"
      }
    },
    {
      "cell_type": "code",
      "source": [
        "df['Date of Sale'] = pd.to_datetime(df['Date of Sale'])\n",
        "#df['DOS'] = (df['Date of Sale'] - reference_date).days\n",
        "# Selecting the features for the model. These are the independent variables.\n",
        "#X = df[['Store ID', 'Product Category', 'Date of Sale', \t'GDP Growth Rate',\t'Inflation Rate',\t'Price Sold']]\n",
        "\n",
        "\n",
        "X = df[['Store ID', 'Date of Sale', 'GDP Growth Rate', 'Inflation Rate', 'Price Sold']]\n",
        "X = pd.get_dummies(df, columns=['Product Category'])\n",
        "X = pd.get_dummies(X, columns=['Country'])\n",
        "X['Year'] = df['Date of Sale'].dt.year\n",
        "X['Month'] = df['Date of Sale'].dt.month\n",
        "X['Day'] = df['Date of Sale'].dt.day\n",
        "X['Weekday'] = df['Date of Sale'].dt.weekday  # Monday=0, Sunday=6\n",
        "\n",
        "y = df['Units Sold']\n",
        "# Selecting the target variable. This is what we're trying to predict, the dependent variable.\n",
        "#y = df['Units Sold', 'Date of Sale']\n",
        "split_date = pd.to_datetime(datetosplit)\n",
        "# Data before the split date\n",
        "#df_before = df[df['Date of Sale'] < split_date]\n",
        "X_Train = X[X['Date of Sale'] < split_date]\n",
        "X_Test = X[X['Date of Sale'] >= split_date]\n",
        "Y_Train = y[df['Date of Sale'] < split_date]\n",
        "Y_Test = y[df['Date of Sale'] >= split_date]\n",
        "X_Train = X_Train.drop(columns=['Date of Sale'])\n",
        "#X_Train = X_Train.drop(columns=['Product Category'])\n",
        "#X_Train = X_Train.drop(columns=['Country'])\n",
        "X_Test = X_Test.drop(columns=['Date of Sale'])\n",
        "#X_Test = X_Test.drop(columns=['Product Category'])\n",
        "#X_Test = X_Test.drop(columns=['Country'])\n",
        "print(\"Data before the split date:\")\n",
        "print(X_Train)\n",
        "\n",
        "print(\"Data on or after the split date:\")\n",
        "print(X_Test)\n",
        "\n",
        "print(\"Data before the split date:\")\n",
        "print(Y_Train)\n",
        "\n",
        "print(\"Data on or after the split date:\")\n",
        "print(Y_Test)"
      ],
      "metadata": {
        "colab": {
          "base_uri": "https://localhost:8080/"
        },
        "id": "VJxbqaK6WdKL",
        "outputId": "3859017f-cc31-414f-8a7c-4fa6ef2a074f"
      },
      "execution_count": 105,
      "outputs": [
        {
          "output_type": "stream",
          "name": "stdout",
          "text": [
            "Data before the split date:\n",
            "        Store ID  Product ID  Units Sold  GDP Growth Rate  Inflation Rate  \\\n",
            "199627      2118       20385          32             1.89            2.46   \n",
            "154482     10059       16106          79             1.16            0.48   \n",
            "29229       2881       88964          84             0.15            1.33   \n",
            "154639      7176       93521          78             2.43            2.48   \n",
            "154901      6572       12538          98             0.72            0.23   \n",
            "...          ...         ...         ...              ...             ...   \n",
            "97393       7770       98383          28             1.22            0.13   \n",
            "287076      8664       36655           8             1.86            3.00   \n",
            "255067      5986       34341          16             2.68            1.38   \n",
            "35739       1224       64658          88             0.93            0.91   \n",
            "12015       7291       80938          91             1.42            1.05   \n",
            "\n",
            "        Price Sold  Product Category_Mens  Product Category_Womens  \\\n",
            "199627       63.77                  False                     True   \n",
            "154482       22.50                  False                     True   \n",
            "29229        24.19                  False                     True   \n",
            "154639       37.30                   True                    False   \n",
            "154901       61.17                  False                     True   \n",
            "...            ...                    ...                      ...   \n",
            "97393        94.53                  False                     True   \n",
            "287076       97.41                   True                    False   \n",
            "255067       82.13                   True                    False   \n",
            "35739        30.53                  False                     True   \n",
            "12015        37.79                  False                     True   \n",
            "\n",
            "        Country_Austria  Country_Belgium  ...  Country_Germany  Country_Italy  \\\n",
            "199627            False            False  ...             True          False   \n",
            "154482            False            False  ...            False          False   \n",
            "29229             False            False  ...             True          False   \n",
            "154639            False             True  ...            False          False   \n",
            "154901            False            False  ...            False          False   \n",
            "...                 ...              ...  ...              ...            ...   \n",
            "97393             False             True  ...            False          False   \n",
            "287076            False            False  ...            False          False   \n",
            "255067            False            False  ...            False          False   \n",
            "35739             False            False  ...            False          False   \n",
            "12015             False             True  ...            False          False   \n",
            "\n",
            "        Country_Netherlands  Country_Spain  Country_Sweden  Country_UK  Year  \\\n",
            "199627                False          False           False       False  2023   \n",
            "154482                False          False           False       False  2023   \n",
            "29229                 False          False           False       False  2023   \n",
            "154639                False          False           False       False  2023   \n",
            "154901                 True          False           False       False  2023   \n",
            "...                     ...            ...             ...         ...   ...   \n",
            "97393                 False          False           False       False  2024   \n",
            "287076                False          False            True       False  2024   \n",
            "255067                False           True           False       False  2024   \n",
            "35739                 False          False           False        True  2024   \n",
            "12015                 False          False           False       False  2024   \n",
            "\n",
            "        Month  Day  Weekday  \n",
            "199627      5    4        3  \n",
            "154482      5    4        3  \n",
            "29229       5    4        3  \n",
            "154639      5    4        3  \n",
            "154901      5    4        3  \n",
            "...       ...  ...      ...  \n",
            "97393       1   31        2  \n",
            "287076      1   31        2  \n",
            "255067      1   31        2  \n",
            "35739       1   31        2  \n",
            "12015       1   31        2  \n",
            "\n",
            "[223956 rows x 22 columns]\n",
            "Data on or after the split date:\n",
            "        Store ID  Product ID  Units Sold  GDP Growth Rate  Inflation Rate  \\\n",
            "210752      2504       51704           9             0.29            0.22   \n",
            "35957       2854       48759          55             0.17            2.87   \n",
            "131439      4142       34148          60             2.41            1.70   \n",
            "91245       7607       23139          64             0.99            2.75   \n",
            "285134      9422       52343          14             0.18            1.80   \n",
            "...          ...         ...         ...              ...             ...   \n",
            "113721      3430       54890          99             1.96            2.65   \n",
            "158541      9275       34763           3             1.40            0.57   \n",
            "54362      10289       56033          12             2.72            2.48   \n",
            "205538      2581       47601          31             0.56            0.05   \n",
            "239730      5137       72782          45             1.05            1.28   \n",
            "\n",
            "        Price Sold  Product Category_Mens  Product Category_Womens  \\\n",
            "210752       53.58                  False                     True   \n",
            "35957        10.09                   True                    False   \n",
            "131439       34.66                   True                    False   \n",
            "91245        92.97                  False                     True   \n",
            "285134       16.12                   True                    False   \n",
            "...            ...                    ...                      ...   \n",
            "113721       17.98                  False                     True   \n",
            "158541       89.05                  False                     True   \n",
            "54362        52.61                  False                     True   \n",
            "205538       84.43                   True                    False   \n",
            "239730       51.28                  False                     True   \n",
            "\n",
            "        Country_Austria  Country_Belgium  ...  Country_Germany  Country_Italy  \\\n",
            "210752            False            False  ...             True          False   \n",
            "35957             False            False  ...             True          False   \n",
            "131439            False            False  ...            False           True   \n",
            "91245             False             True  ...            False          False   \n",
            "285134             True            False  ...            False          False   \n",
            "...                 ...              ...  ...              ...            ...   \n",
            "113721            False            False  ...            False          False   \n",
            "158541             True            False  ...            False          False   \n",
            "54362             False            False  ...            False          False   \n",
            "205538            False            False  ...             True          False   \n",
            "239730            False            False  ...            False          False   \n",
            "\n",
            "        Country_Netherlands  Country_Spain  Country_Sweden  Country_UK  Year  \\\n",
            "210752                False          False           False       False  2024   \n",
            "35957                 False          False           False       False  2024   \n",
            "131439                False          False           False       False  2024   \n",
            "91245                 False          False           False       False  2024   \n",
            "285134                False          False           False       False  2024   \n",
            "...                     ...            ...             ...         ...   ...   \n",
            "113721                False          False           False       False  2024   \n",
            "158541                False          False           False       False  2024   \n",
            "54362                 False          False           False       False  2024   \n",
            "205538                False          False           False       False  2024   \n",
            "239730                False           True           False       False  2024   \n",
            "\n",
            "        Month  Day  Weekday  \n",
            "210752      2    1        3  \n",
            "35957       2    1        3  \n",
            "131439      2    1        3  \n",
            "91245       2    1        3  \n",
            "285134      2    1        3  \n",
            "...       ...  ...      ...  \n",
            "113721      5    3        4  \n",
            "158541      5    3        4  \n",
            "54362       5    3        4  \n",
            "205538      5    3        4  \n",
            "239730      5    3        4  \n",
            "\n",
            "[76044 rows x 22 columns]\n",
            "Data before the split date:\n",
            "199627    32\n",
            "154482    79\n",
            "29229     84\n",
            "154639    78\n",
            "154901    98\n",
            "          ..\n",
            "97393     28\n",
            "287076     8\n",
            "255067    16\n",
            "35739     88\n",
            "12015     91\n",
            "Name: Units Sold, Length: 223956, dtype: int64\n",
            "Data on or after the split date:\n",
            "210752     9\n",
            "35957     55\n",
            "131439    60\n",
            "91245     64\n",
            "285134    14\n",
            "          ..\n",
            "113721    99\n",
            "158541     3\n",
            "54362     12\n",
            "205538    31\n",
            "239730    45\n",
            "Name: Units Sold, Length: 76044, dtype: int64\n"
          ]
        }
      ]
    },
    {
      "cell_type": "code",
      "source": [
        "min_sale_date = df['Date of Sale'].min()\n",
        "max_sale_date = df['Date of Sale'].max()\n",
        "\n",
        "print(\"Minimum date:\", min_sale_date)\n",
        "print(\"Maximum date:\", max_sale_date)"
      ],
      "metadata": {
        "colab": {
          "base_uri": "https://localhost:8080/"
        },
        "outputId": "55d3fa79-44be-4d67-a765-ac6bf3b8e105",
        "id": "8QqiIrSaao5H"
      },
      "execution_count": 106,
      "outputs": [
        {
          "output_type": "stream",
          "name": "stdout",
          "text": [
            "Minimum date: 2023-05-04 00:00:00\n",
            "Maximum date: 2024-05-03 00:00:00\n"
          ]
        }
      ]
    },
    {
      "cell_type": "markdown",
      "source": [
        "#Now we look at a Linear Regression model"
      ],
      "metadata": {
        "id": "k3AY_6Zld5yx"
      }
    },
    {
      "cell_type": "code",
      "source": [
        "# Creating an instance of the LinearRegression model.\n",
        "modelLR = LinearRegression()\n",
        "\n",
        "# Fitting the model to the training data. This is where the model learns the relationship between features and target.\n",
        "modelLR.fit(X_Train, Y_Train)\n"
      ],
      "metadata": {
        "colab": {
          "base_uri": "https://localhost:8080/",
          "height": 75
        },
        "id": "PwmGE8zpd20D",
        "outputId": "269a44ee-0292-4e62-dd16-f70c62566463"
      },
      "execution_count": 107,
      "outputs": [
        {
          "output_type": "execute_result",
          "data": {
            "text/plain": [
              "LinearRegression()"
            ],
            "text/html": [
              "<style>#sk-container-id-8 {color: black;background-color: white;}#sk-container-id-8 pre{padding: 0;}#sk-container-id-8 div.sk-toggleable {background-color: white;}#sk-container-id-8 label.sk-toggleable__label {cursor: pointer;display: block;width: 100%;margin-bottom: 0;padding: 0.3em;box-sizing: border-box;text-align: center;}#sk-container-id-8 label.sk-toggleable__label-arrow:before {content: \"▸\";float: left;margin-right: 0.25em;color: #696969;}#sk-container-id-8 label.sk-toggleable__label-arrow:hover:before {color: black;}#sk-container-id-8 div.sk-estimator:hover label.sk-toggleable__label-arrow:before {color: black;}#sk-container-id-8 div.sk-toggleable__content {max-height: 0;max-width: 0;overflow: hidden;text-align: left;background-color: #f0f8ff;}#sk-container-id-8 div.sk-toggleable__content pre {margin: 0.2em;color: black;border-radius: 0.25em;background-color: #f0f8ff;}#sk-container-id-8 input.sk-toggleable__control:checked~div.sk-toggleable__content {max-height: 200px;max-width: 100%;overflow: auto;}#sk-container-id-8 input.sk-toggleable__control:checked~label.sk-toggleable__label-arrow:before {content: \"▾\";}#sk-container-id-8 div.sk-estimator input.sk-toggleable__control:checked~label.sk-toggleable__label {background-color: #d4ebff;}#sk-container-id-8 div.sk-label input.sk-toggleable__control:checked~label.sk-toggleable__label {background-color: #d4ebff;}#sk-container-id-8 input.sk-hidden--visually {border: 0;clip: rect(1px 1px 1px 1px);clip: rect(1px, 1px, 1px, 1px);height: 1px;margin: -1px;overflow: hidden;padding: 0;position: absolute;width: 1px;}#sk-container-id-8 div.sk-estimator {font-family: monospace;background-color: #f0f8ff;border: 1px dotted black;border-radius: 0.25em;box-sizing: border-box;margin-bottom: 0.5em;}#sk-container-id-8 div.sk-estimator:hover {background-color: #d4ebff;}#sk-container-id-8 div.sk-parallel-item::after {content: \"\";width: 100%;border-bottom: 1px solid gray;flex-grow: 1;}#sk-container-id-8 div.sk-label:hover label.sk-toggleable__label {background-color: #d4ebff;}#sk-container-id-8 div.sk-serial::before {content: \"\";position: absolute;border-left: 1px solid gray;box-sizing: border-box;top: 0;bottom: 0;left: 50%;z-index: 0;}#sk-container-id-8 div.sk-serial {display: flex;flex-direction: column;align-items: center;background-color: white;padding-right: 0.2em;padding-left: 0.2em;position: relative;}#sk-container-id-8 div.sk-item {position: relative;z-index: 1;}#sk-container-id-8 div.sk-parallel {display: flex;align-items: stretch;justify-content: center;background-color: white;position: relative;}#sk-container-id-8 div.sk-item::before, #sk-container-id-8 div.sk-parallel-item::before {content: \"\";position: absolute;border-left: 1px solid gray;box-sizing: border-box;top: 0;bottom: 0;left: 50%;z-index: -1;}#sk-container-id-8 div.sk-parallel-item {display: flex;flex-direction: column;z-index: 1;position: relative;background-color: white;}#sk-container-id-8 div.sk-parallel-item:first-child::after {align-self: flex-end;width: 50%;}#sk-container-id-8 div.sk-parallel-item:last-child::after {align-self: flex-start;width: 50%;}#sk-container-id-8 div.sk-parallel-item:only-child::after {width: 0;}#sk-container-id-8 div.sk-dashed-wrapped {border: 1px dashed gray;margin: 0 0.4em 0.5em 0.4em;box-sizing: border-box;padding-bottom: 0.4em;background-color: white;}#sk-container-id-8 div.sk-label label {font-family: monospace;font-weight: bold;display: inline-block;line-height: 1.2em;}#sk-container-id-8 div.sk-label-container {text-align: center;}#sk-container-id-8 div.sk-container {/* jupyter's `normalize.less` sets `[hidden] { display: none; }` but bootstrap.min.css set `[hidden] { display: none !important; }` so we also need the `!important` here to be able to override the default hidden behavior on the sphinx rendered scikit-learn.org. See: https://github.com/scikit-learn/scikit-learn/issues/21755 */display: inline-block !important;position: relative;}#sk-container-id-8 div.sk-text-repr-fallback {display: none;}</style><div id=\"sk-container-id-8\" class=\"sk-top-container\"><div class=\"sk-text-repr-fallback\"><pre>LinearRegression()</pre><b>In a Jupyter environment, please rerun this cell to show the HTML representation or trust the notebook. <br />On GitHub, the HTML representation is unable to render, please try loading this page with nbviewer.org.</b></div><div class=\"sk-container\" hidden><div class=\"sk-item\"><div class=\"sk-estimator sk-toggleable\"><input class=\"sk-toggleable__control sk-hidden--visually\" id=\"sk-estimator-id-8\" type=\"checkbox\" checked><label for=\"sk-estimator-id-8\" class=\"sk-toggleable__label sk-toggleable__label-arrow\">LinearRegression</label><div class=\"sk-toggleable__content\"><pre>LinearRegression()</pre></div></div></div></div></div>"
            ]
          },
          "metadata": {},
          "execution_count": 107
        }
      ]
    },
    {
      "cell_type": "code",
      "source": [
        "# Use the trained model to make predictions on the testing set.\n",
        "#filtered_df = X_Test[X_Test['Country_Germany'] == 1]\n",
        "predictionsLR = modelLR.predict(X_Test)\n",
        "\n",
        "# Evaluating the model's performance by comparing actual values (y_test) vs predicted values (predictions).\n",
        "# MAE is the mean absolute error, MSE is the mean squared error, and RMSE is the square root of MSE.\n",
        "print('MAE:', mean_absolute_error(Y_Test, predictionsLR))\n",
        "print('MSE:', mean_squared_error(Y_Test, predictionsLR))\n",
        "print('RMSE:', np.sqrt(mean_squared_error(Y_Test, predictionsLR)))"
      ],
      "metadata": {
        "colab": {
          "base_uri": "https://localhost:8080/"
        },
        "id": "5uNk1ANXeEPk",
        "outputId": "ab1af19b-3e14-42c4-8096-a8de3b3bb80f"
      },
      "execution_count": 108,
      "outputs": [
        {
          "output_type": "stream",
          "name": "stdout",
          "text": [
            "MAE: 2.0702565723249515e-14\n",
            "MSE: 6.8978802856461355e-28\n",
            "RMSE: 2.6263815955885268e-14\n"
          ]
        }
      ]
    },
    {
      "cell_type": "code",
      "source": [
        "X.describe()"
      ],
      "metadata": {
        "colab": {
          "base_uri": "https://localhost:8080/",
          "height": 300
        },
        "id": "TGWJrSqBJqH8",
        "outputId": "2776c94c-5a1d-4f30-dbd1-ae948d8605cd"
      },
      "execution_count": 109,
      "outputs": [
        {
          "output_type": "execute_result",
          "data": {
            "text/plain": [
              "            Store ID     Product ID     Units Sold  \\\n",
              "count  300000.000000  300000.000000  300000.000000   \n",
              "mean     5987.140990   55076.436663      50.572453   \n",
              "min      1000.000000   10000.000000       1.000000   \n",
              "25%      3476.000000   32605.000000      26.000000   \n",
              "50%      5985.000000   55124.000000      51.000000   \n",
              "75%      8488.000000   77569.250000      76.000000   \n",
              "max     10999.000000   99999.000000     100.000000   \n",
              "std      2889.554299   25986.196626      28.857025   \n",
              "\n",
              "                     Date of Sale  GDP Growth Rate  Inflation Rate  \\\n",
              "count                      300000    300000.000000   300000.000000   \n",
              "mean   2023-11-02 06:57:12.384000         1.448650        1.449116   \n",
              "min           2023-05-04 00:00:00         0.000000        0.000000   \n",
              "25%           2023-08-03 00:00:00         0.710000        0.710000   \n",
              "50%           2023-11-02 00:00:00         1.430000        1.430000   \n",
              "75%           2024-02-02 00:00:00         2.160000        2.170000   \n",
              "max           2024-05-03 00:00:00         3.000000        3.000000   \n",
              "std                           NaN         0.855469        0.855604   \n",
              "\n",
              "          Price Sold           Year          Month            Day  \\\n",
              "count  300000.000000  300000.000000  300000.000000  300000.000000   \n",
              "mean       54.996854    2023.337720       6.520263      15.741077   \n",
              "min        10.000000    2023.000000       1.000000       1.000000   \n",
              "25%        32.480000    2023.000000       4.000000       8.000000   \n",
              "50%        54.950000    2023.000000       7.000000      16.000000   \n",
              "75%        77.450000    2024.000000      10.000000      23.000000   \n",
              "max       100.000000    2024.000000      12.000000      31.000000   \n",
              "std        25.982285       0.472933       3.447385       8.809773   \n",
              "\n",
              "             Weekday  \n",
              "count  300000.000000  \n",
              "mean        2.999157  \n",
              "min         0.000000  \n",
              "25%         1.000000  \n",
              "50%         3.000000  \n",
              "75%         5.000000  \n",
              "max         6.000000  \n",
              "std         1.996394  "
            ],
            "text/html": [
              "\n",
              "  <div id=\"df-4fd7727f-fdd6-4c1a-9bd6-b1605ba161c0\" class=\"colab-df-container\">\n",
              "    <div>\n",
              "<style scoped>\n",
              "    .dataframe tbody tr th:only-of-type {\n",
              "        vertical-align: middle;\n",
              "    }\n",
              "\n",
              "    .dataframe tbody tr th {\n",
              "        vertical-align: top;\n",
              "    }\n",
              "\n",
              "    .dataframe thead th {\n",
              "        text-align: right;\n",
              "    }\n",
              "</style>\n",
              "<table border=\"1\" class=\"dataframe\">\n",
              "  <thead>\n",
              "    <tr style=\"text-align: right;\">\n",
              "      <th></th>\n",
              "      <th>Store ID</th>\n",
              "      <th>Product ID</th>\n",
              "      <th>Units Sold</th>\n",
              "      <th>Date of Sale</th>\n",
              "      <th>GDP Growth Rate</th>\n",
              "      <th>Inflation Rate</th>\n",
              "      <th>Price Sold</th>\n",
              "      <th>Year</th>\n",
              "      <th>Month</th>\n",
              "      <th>Day</th>\n",
              "      <th>Weekday</th>\n",
              "    </tr>\n",
              "  </thead>\n",
              "  <tbody>\n",
              "    <tr>\n",
              "      <th>count</th>\n",
              "      <td>300000.000000</td>\n",
              "      <td>300000.000000</td>\n",
              "      <td>300000.000000</td>\n",
              "      <td>300000</td>\n",
              "      <td>300000.000000</td>\n",
              "      <td>300000.000000</td>\n",
              "      <td>300000.000000</td>\n",
              "      <td>300000.000000</td>\n",
              "      <td>300000.000000</td>\n",
              "      <td>300000.000000</td>\n",
              "      <td>300000.000000</td>\n",
              "    </tr>\n",
              "    <tr>\n",
              "      <th>mean</th>\n",
              "      <td>5987.140990</td>\n",
              "      <td>55076.436663</td>\n",
              "      <td>50.572453</td>\n",
              "      <td>2023-11-02 06:57:12.384000</td>\n",
              "      <td>1.448650</td>\n",
              "      <td>1.449116</td>\n",
              "      <td>54.996854</td>\n",
              "      <td>2023.337720</td>\n",
              "      <td>6.520263</td>\n",
              "      <td>15.741077</td>\n",
              "      <td>2.999157</td>\n",
              "    </tr>\n",
              "    <tr>\n",
              "      <th>min</th>\n",
              "      <td>1000.000000</td>\n",
              "      <td>10000.000000</td>\n",
              "      <td>1.000000</td>\n",
              "      <td>2023-05-04 00:00:00</td>\n",
              "      <td>0.000000</td>\n",
              "      <td>0.000000</td>\n",
              "      <td>10.000000</td>\n",
              "      <td>2023.000000</td>\n",
              "      <td>1.000000</td>\n",
              "      <td>1.000000</td>\n",
              "      <td>0.000000</td>\n",
              "    </tr>\n",
              "    <tr>\n",
              "      <th>25%</th>\n",
              "      <td>3476.000000</td>\n",
              "      <td>32605.000000</td>\n",
              "      <td>26.000000</td>\n",
              "      <td>2023-08-03 00:00:00</td>\n",
              "      <td>0.710000</td>\n",
              "      <td>0.710000</td>\n",
              "      <td>32.480000</td>\n",
              "      <td>2023.000000</td>\n",
              "      <td>4.000000</td>\n",
              "      <td>8.000000</td>\n",
              "      <td>1.000000</td>\n",
              "    </tr>\n",
              "    <tr>\n",
              "      <th>50%</th>\n",
              "      <td>5985.000000</td>\n",
              "      <td>55124.000000</td>\n",
              "      <td>51.000000</td>\n",
              "      <td>2023-11-02 00:00:00</td>\n",
              "      <td>1.430000</td>\n",
              "      <td>1.430000</td>\n",
              "      <td>54.950000</td>\n",
              "      <td>2023.000000</td>\n",
              "      <td>7.000000</td>\n",
              "      <td>16.000000</td>\n",
              "      <td>3.000000</td>\n",
              "    </tr>\n",
              "    <tr>\n",
              "      <th>75%</th>\n",
              "      <td>8488.000000</td>\n",
              "      <td>77569.250000</td>\n",
              "      <td>76.000000</td>\n",
              "      <td>2024-02-02 00:00:00</td>\n",
              "      <td>2.160000</td>\n",
              "      <td>2.170000</td>\n",
              "      <td>77.450000</td>\n",
              "      <td>2024.000000</td>\n",
              "      <td>10.000000</td>\n",
              "      <td>23.000000</td>\n",
              "      <td>5.000000</td>\n",
              "    </tr>\n",
              "    <tr>\n",
              "      <th>max</th>\n",
              "      <td>10999.000000</td>\n",
              "      <td>99999.000000</td>\n",
              "      <td>100.000000</td>\n",
              "      <td>2024-05-03 00:00:00</td>\n",
              "      <td>3.000000</td>\n",
              "      <td>3.000000</td>\n",
              "      <td>100.000000</td>\n",
              "      <td>2024.000000</td>\n",
              "      <td>12.000000</td>\n",
              "      <td>31.000000</td>\n",
              "      <td>6.000000</td>\n",
              "    </tr>\n",
              "    <tr>\n",
              "      <th>std</th>\n",
              "      <td>2889.554299</td>\n",
              "      <td>25986.196626</td>\n",
              "      <td>28.857025</td>\n",
              "      <td>NaN</td>\n",
              "      <td>0.855469</td>\n",
              "      <td>0.855604</td>\n",
              "      <td>25.982285</td>\n",
              "      <td>0.472933</td>\n",
              "      <td>3.447385</td>\n",
              "      <td>8.809773</td>\n",
              "      <td>1.996394</td>\n",
              "    </tr>\n",
              "  </tbody>\n",
              "</table>\n",
              "</div>\n",
              "    <div class=\"colab-df-buttons\">\n",
              "\n",
              "  <div class=\"colab-df-container\">\n",
              "    <button class=\"colab-df-convert\" onclick=\"convertToInteractive('df-4fd7727f-fdd6-4c1a-9bd6-b1605ba161c0')\"\n",
              "            title=\"Convert this dataframe to an interactive table.\"\n",
              "            style=\"display:none;\">\n",
              "\n",
              "  <svg xmlns=\"http://www.w3.org/2000/svg\" height=\"24px\" viewBox=\"0 -960 960 960\">\n",
              "    <path d=\"M120-120v-720h720v720H120Zm60-500h600v-160H180v160Zm220 220h160v-160H400v160Zm0 220h160v-160H400v160ZM180-400h160v-160H180v160Zm440 0h160v-160H620v160ZM180-180h160v-160H180v160Zm440 0h160v-160H620v160Z\"/>\n",
              "  </svg>\n",
              "    </button>\n",
              "\n",
              "  <style>\n",
              "    .colab-df-container {\n",
              "      display:flex;\n",
              "      gap: 12px;\n",
              "    }\n",
              "\n",
              "    .colab-df-convert {\n",
              "      background-color: #E8F0FE;\n",
              "      border: none;\n",
              "      border-radius: 50%;\n",
              "      cursor: pointer;\n",
              "      display: none;\n",
              "      fill: #1967D2;\n",
              "      height: 32px;\n",
              "      padding: 0 0 0 0;\n",
              "      width: 32px;\n",
              "    }\n",
              "\n",
              "    .colab-df-convert:hover {\n",
              "      background-color: #E2EBFA;\n",
              "      box-shadow: 0px 1px 2px rgba(60, 64, 67, 0.3), 0px 1px 3px 1px rgba(60, 64, 67, 0.15);\n",
              "      fill: #174EA6;\n",
              "    }\n",
              "\n",
              "    .colab-df-buttons div {\n",
              "      margin-bottom: 4px;\n",
              "    }\n",
              "\n",
              "    [theme=dark] .colab-df-convert {\n",
              "      background-color: #3B4455;\n",
              "      fill: #D2E3FC;\n",
              "    }\n",
              "\n",
              "    [theme=dark] .colab-df-convert:hover {\n",
              "      background-color: #434B5C;\n",
              "      box-shadow: 0px 1px 3px 1px rgba(0, 0, 0, 0.15);\n",
              "      filter: drop-shadow(0px 1px 2px rgba(0, 0, 0, 0.3));\n",
              "      fill: #FFFFFF;\n",
              "    }\n",
              "  </style>\n",
              "\n",
              "    <script>\n",
              "      const buttonEl =\n",
              "        document.querySelector('#df-4fd7727f-fdd6-4c1a-9bd6-b1605ba161c0 button.colab-df-convert');\n",
              "      buttonEl.style.display =\n",
              "        google.colab.kernel.accessAllowed ? 'block' : 'none';\n",
              "\n",
              "      async function convertToInteractive(key) {\n",
              "        const element = document.querySelector('#df-4fd7727f-fdd6-4c1a-9bd6-b1605ba161c0');\n",
              "        const dataTable =\n",
              "          await google.colab.kernel.invokeFunction('convertToInteractive',\n",
              "                                                    [key], {});\n",
              "        if (!dataTable) return;\n",
              "\n",
              "        const docLinkHtml = 'Like what you see? Visit the ' +\n",
              "          '<a target=\"_blank\" href=https://colab.research.google.com/notebooks/data_table.ipynb>data table notebook</a>'\n",
              "          + ' to learn more about interactive tables.';\n",
              "        element.innerHTML = '';\n",
              "        dataTable['output_type'] = 'display_data';\n",
              "        await google.colab.output.renderOutput(dataTable, element);\n",
              "        const docLink = document.createElement('div');\n",
              "        docLink.innerHTML = docLinkHtml;\n",
              "        element.appendChild(docLink);\n",
              "      }\n",
              "    </script>\n",
              "  </div>\n",
              "\n",
              "\n",
              "<div id=\"df-42fac97c-7f8c-4d24-8aba-111ea220d636\">\n",
              "  <button class=\"colab-df-quickchart\" onclick=\"quickchart('df-42fac97c-7f8c-4d24-8aba-111ea220d636')\"\n",
              "            title=\"Suggest charts\"\n",
              "            style=\"display:none;\">\n",
              "\n",
              "<svg xmlns=\"http://www.w3.org/2000/svg\" height=\"24px\"viewBox=\"0 0 24 24\"\n",
              "     width=\"24px\">\n",
              "    <g>\n",
              "        <path d=\"M19 3H5c-1.1 0-2 .9-2 2v14c0 1.1.9 2 2 2h14c1.1 0 2-.9 2-2V5c0-1.1-.9-2-2-2zM9 17H7v-7h2v7zm4 0h-2V7h2v10zm4 0h-2v-4h2v4z\"/>\n",
              "    </g>\n",
              "</svg>\n",
              "  </button>\n",
              "\n",
              "<style>\n",
              "  .colab-df-quickchart {\n",
              "      --bg-color: #E8F0FE;\n",
              "      --fill-color: #1967D2;\n",
              "      --hover-bg-color: #E2EBFA;\n",
              "      --hover-fill-color: #174EA6;\n",
              "      --disabled-fill-color: #AAA;\n",
              "      --disabled-bg-color: #DDD;\n",
              "  }\n",
              "\n",
              "  [theme=dark] .colab-df-quickchart {\n",
              "      --bg-color: #3B4455;\n",
              "      --fill-color: #D2E3FC;\n",
              "      --hover-bg-color: #434B5C;\n",
              "      --hover-fill-color: #FFFFFF;\n",
              "      --disabled-bg-color: #3B4455;\n",
              "      --disabled-fill-color: #666;\n",
              "  }\n",
              "\n",
              "  .colab-df-quickchart {\n",
              "    background-color: var(--bg-color);\n",
              "    border: none;\n",
              "    border-radius: 50%;\n",
              "    cursor: pointer;\n",
              "    display: none;\n",
              "    fill: var(--fill-color);\n",
              "    height: 32px;\n",
              "    padding: 0;\n",
              "    width: 32px;\n",
              "  }\n",
              "\n",
              "  .colab-df-quickchart:hover {\n",
              "    background-color: var(--hover-bg-color);\n",
              "    box-shadow: 0 1px 2px rgba(60, 64, 67, 0.3), 0 1px 3px 1px rgba(60, 64, 67, 0.15);\n",
              "    fill: var(--button-hover-fill-color);\n",
              "  }\n",
              "\n",
              "  .colab-df-quickchart-complete:disabled,\n",
              "  .colab-df-quickchart-complete:disabled:hover {\n",
              "    background-color: var(--disabled-bg-color);\n",
              "    fill: var(--disabled-fill-color);\n",
              "    box-shadow: none;\n",
              "  }\n",
              "\n",
              "  .colab-df-spinner {\n",
              "    border: 2px solid var(--fill-color);\n",
              "    border-color: transparent;\n",
              "    border-bottom-color: var(--fill-color);\n",
              "    animation:\n",
              "      spin 1s steps(1) infinite;\n",
              "  }\n",
              "\n",
              "  @keyframes spin {\n",
              "    0% {\n",
              "      border-color: transparent;\n",
              "      border-bottom-color: var(--fill-color);\n",
              "      border-left-color: var(--fill-color);\n",
              "    }\n",
              "    20% {\n",
              "      border-color: transparent;\n",
              "      border-left-color: var(--fill-color);\n",
              "      border-top-color: var(--fill-color);\n",
              "    }\n",
              "    30% {\n",
              "      border-color: transparent;\n",
              "      border-left-color: var(--fill-color);\n",
              "      border-top-color: var(--fill-color);\n",
              "      border-right-color: var(--fill-color);\n",
              "    }\n",
              "    40% {\n",
              "      border-color: transparent;\n",
              "      border-right-color: var(--fill-color);\n",
              "      border-top-color: var(--fill-color);\n",
              "    }\n",
              "    60% {\n",
              "      border-color: transparent;\n",
              "      border-right-color: var(--fill-color);\n",
              "    }\n",
              "    80% {\n",
              "      border-color: transparent;\n",
              "      border-right-color: var(--fill-color);\n",
              "      border-bottom-color: var(--fill-color);\n",
              "    }\n",
              "    90% {\n",
              "      border-color: transparent;\n",
              "      border-bottom-color: var(--fill-color);\n",
              "    }\n",
              "  }\n",
              "</style>\n",
              "\n",
              "  <script>\n",
              "    async function quickchart(key) {\n",
              "      const quickchartButtonEl =\n",
              "        document.querySelector('#' + key + ' button');\n",
              "      quickchartButtonEl.disabled = true;  // To prevent multiple clicks.\n",
              "      quickchartButtonEl.classList.add('colab-df-spinner');\n",
              "      try {\n",
              "        const charts = await google.colab.kernel.invokeFunction(\n",
              "            'suggestCharts', [key], {});\n",
              "      } catch (error) {\n",
              "        console.error('Error during call to suggestCharts:', error);\n",
              "      }\n",
              "      quickchartButtonEl.classList.remove('colab-df-spinner');\n",
              "      quickchartButtonEl.classList.add('colab-df-quickchart-complete');\n",
              "    }\n",
              "    (() => {\n",
              "      let quickchartButtonEl =\n",
              "        document.querySelector('#df-42fac97c-7f8c-4d24-8aba-111ea220d636 button');\n",
              "      quickchartButtonEl.style.display =\n",
              "        google.colab.kernel.accessAllowed ? 'block' : 'none';\n",
              "    })();\n",
              "  </script>\n",
              "</div>\n",
              "    </div>\n",
              "  </div>\n"
            ],
            "application/vnd.google.colaboratory.intrinsic+json": {
              "type": "dataframe",
              "summary": "{\n  \"name\": \"X\",\n  \"rows\": 8,\n  \"fields\": [\n    {\n      \"column\": \"Store ID\",\n      \"properties\": {\n        \"dtype\": \"number\",\n        \"std\": 104153.63004448423,\n        \"min\": 1000.0,\n        \"max\": 300000.0,\n        \"num_unique_values\": 8,\n        \"samples\": [\n          5987.14099,\n          8488.0,\n          300000.0\n        ],\n        \"semantic_type\": \"\",\n        \"description\": \"\"\n      }\n    },\n    {\n      \"column\": \"Product ID\",\n      \"properties\": {\n        \"dtype\": \"number\",\n        \"std\": 92640.7725643601,\n        \"min\": 10000.0,\n        \"max\": 300000.0,\n        \"num_unique_values\": 8,\n        \"samples\": [\n          55076.436663333334,\n          77569.25,\n          300000.0\n        ],\n        \"semantic_type\": \"\",\n        \"description\": \"\"\n      }\n    },\n    {\n      \"column\": \"Units Sold\",\n      \"properties\": {\n        \"dtype\": \"number\",\n        \"std\": 106049.18086606826,\n        \"min\": 1.0,\n        \"max\": 300000.0,\n        \"num_unique_values\": 8,\n        \"samples\": [\n          50.572453333333335,\n          76.0,\n          300000.0\n        ],\n        \"semantic_type\": \"\",\n        \"description\": \"\"\n      }\n    },\n    {\n      \"column\": \"Date of Sale\",\n      \"properties\": {\n        \"dtype\": \"date\",\n        \"min\": \"1970-01-01 00:00:00.000300\",\n        \"max\": \"2024-05-03 00:00:00\",\n        \"num_unique_values\": 7,\n        \"samples\": [\n          \"300000\",\n          \"2023-11-02 06:57:12.384000\",\n          \"2024-02-02 00:00:00\"\n        ],\n        \"semantic_type\": \"\",\n        \"description\": \"\"\n      }\n    },\n    {\n      \"column\": \"GDP Growth Rate\",\n      \"properties\": {\n        \"dtype\": \"number\",\n        \"std\": 106065.53210071122,\n        \"min\": 0.0,\n        \"max\": 300000.0,\n        \"num_unique_values\": 8,\n        \"samples\": [\n          1.4486496333333334,\n          2.16,\n          300000.0\n        ],\n        \"semantic_type\": \"\",\n        \"description\": \"\"\n      }\n    },\n    {\n      \"column\": \"Inflation Rate\",\n      \"properties\": {\n        \"dtype\": \"number\",\n        \"std\": 106065.53156527772,\n        \"min\": 0.0,\n        \"max\": 300000.0,\n        \"num_unique_values\": 8,\n        \"samples\": [\n          1.4491159333333334,\n          2.17,\n          300000.0\n        ],\n        \"semantic_type\": \"\",\n        \"description\": \"\"\n      }\n    },\n    {\n      \"column\": \"Price Sold\",\n      \"properties\": {\n        \"dtype\": \"number\",\n        \"std\": 106048.0474716257,\n        \"min\": 10.0,\n        \"max\": 300000.0,\n        \"num_unique_values\": 8,\n        \"samples\": [\n          54.9968536,\n          77.45,\n          300000.0\n        ],\n        \"semantic_type\": \"\",\n        \"description\": \"\"\n      }\n    },\n    {\n      \"column\": \"Year\",\n      \"properties\": {\n        \"dtype\": \"number\",\n        \"std\": 105455.18948507875,\n        \"min\": 0.47293334324527936,\n        \"max\": 300000.0,\n        \"num_unique_values\": 5,\n        \"samples\": [\n          2023.33772,\n          0.47293334324527936,\n          2023.0\n        ],\n        \"semantic_type\": \"\",\n        \"description\": \"\"\n      }\n    },\n    {\n      \"column\": \"Month\",\n      \"properties\": {\n        \"dtype\": \"number\",\n        \"std\": 106063.79653581802,\n        \"min\": 1.0,\n        \"max\": 300000.0,\n        \"num_unique_values\": 8,\n        \"samples\": [\n          6.520263333333333,\n          10.0,\n          300000.0\n        ],\n        \"semantic_type\": \"\",\n        \"description\": \"\"\n      }\n    },\n    {\n      \"column\": \"Day\",\n      \"properties\": {\n        \"dtype\": \"number\",\n        \"std\": 106060.78747740512,\n        \"min\": 1.0,\n        \"max\": 300000.0,\n        \"num_unique_values\": 8,\n        \"samples\": [\n          15.741076666666666,\n          23.0,\n          300000.0\n        ],\n        \"semantic_type\": \"\",\n        \"description\": \"\"\n      }\n    },\n    {\n      \"column\": \"Weekday\",\n      \"properties\": {\n        \"dtype\": \"number\",\n        \"std\": 106065.00726825057,\n        \"min\": 0.0,\n        \"max\": 300000.0,\n        \"num_unique_values\": 8,\n        \"samples\": [\n          2.9991566666666665,\n          5.0,\n          300000.0\n        ],\n        \"semantic_type\": \"\",\n        \"description\": \"\"\n      }\n    }\n  ]\n}"
            }
          },
          "metadata": {},
          "execution_count": 109
        }
      ]
    },
    {
      "cell_type": "code",
      "source": [
        "# Create the plot\n",
        "from datetime import datetime\n",
        "X_Test['Date of Sale'] = pd.to_datetime(X_Test[['Year', 'Month', 'Day']])\n",
        "print(X_Test['Date of Sale'])\n",
        "print('Predictions:', predictionsLR)\n",
        "print('Actuals:', Y_Test)\n",
        "\n",
        "#X_Test['Date of Sale'] = pd.to_datetime(str(X_Test['Year']) + '-' + str(X_Test['Month']) + '-' + str(X_Test['Day']))\n",
        "plt.figure(figsize=(10, 6))  # Set the figure size= modelLR.predict(X_Test)\n",
        "plt.plot(X_Test['Date of Sale'] , predictionsLR, label='Linear', marker='o')  # Plot Sales Prediction\n",
        "plt.plot(X_Test['Date of Sale'] , Y_Test, label='Actual', marker='x')  # Plot Sales Prediction\n",
        "# Adding titles and labels\n",
        "plt.title('Sales Prediction vs Actual Sale Over Time')\n",
        "plt.xlabel('Date of Sale')\n",
        "plt.ylabel('Sales Value')\n",
        "plt.xticks(rotation=45)  # Rotate date labels for better readability\n",
        "plt.ylim(0, 150)\n",
        "\n",
        "# Adding legend\n",
        "plt.legend()\n",
        "\n",
        "# Show the plot\n",
        "plt.show()"
      ],
      "metadata": {
        "colab": {
          "base_uri": "https://localhost:8080/",
          "height": 1000
        },
        "id": "oesAZHCACpuH",
        "outputId": "8b286a3f-02b3-4fa8-b06a-4f2dcfe219f3"
      },
      "execution_count": 118,
      "outputs": [
        {
          "output_type": "stream",
          "name": "stdout",
          "text": [
            "210752   2024-02-01\n",
            "35957    2024-02-01\n",
            "131439   2024-02-01\n",
            "91245    2024-02-01\n",
            "285134   2024-02-01\n",
            "            ...    \n",
            "113721   2024-05-03\n",
            "158541   2024-05-03\n",
            "54362    2024-05-03\n",
            "205538   2024-05-03\n",
            "239730   2024-05-03\n",
            "Name: Date of Sale, Length: 76044, dtype: datetime64[ns]\n",
            "Predictions: [ 9. 55. 60. ... 12. 31. 45.]\n",
            "Actuals: 210752     9\n",
            "35957     55\n",
            "131439    60\n",
            "91245     64\n",
            "285134    14\n",
            "          ..\n",
            "113721    99\n",
            "158541     3\n",
            "54362     12\n",
            "205538    31\n",
            "239730    45\n",
            "Name: Units Sold, Length: 76044, dtype: int64\n"
          ]
        },
        {
          "output_type": "display_data",
          "data": {
            "text/plain": [
              "<Figure size 1000x600 with 1 Axes>"
            ],
            "image/png": "[encoded data removed]"
          },
          "metadata": {}
        }
      ]
    },
    {
      "cell_type": "code",
      "source": [
        "# Plotting actual vs predicted values to visualize how well our model is performing.\n",
        "plt.scatter(Y_Test, predictionsLR)\n",
        "plt.xlabel('Actual Values')  # X-axis label\n",
        "plt.ylabel('Predicted Values')  # Y-axis label\n",
        "plt.title('Actual vs. Predicted Values')  # Graph title\n",
        "plt.show()  # Display the plot"
      ],
      "metadata": {
        "colab": {
          "base_uri": "https://localhost:8080/",
          "height": 472
        },
        "id": "0JxmUo1LvC0y",
        "outputId": "f7617e09-bfc3-4519-d048-cb4331b8ff39"
      },
      "execution_count": 243,
      "outputs": [
        {
          "output_type": "display_data",
          "data": {
            "text/plain": [
              "<Figure size 640x480 with 1 Axes>"
            ],
            "image/png": "[encoded data removed]"
          },
          "metadata": {}
        }
      ]
    },
    {
      "cell_type": "markdown",
      "source": [
        "#Random Forest"
      ],
      "metadata": {
        "id": "kBRB_wBBvXAp"
      }
    },
    {
      "cell_type": "code",
      "source": [
        "# Creating an instance of the LinearRegression model.\n",
        "modelRF = RandomForestRegressor()\n",
        "\n",
        "# Fitting the model to the training data. This is where the model learns the relationship between features and target.\n",
        "modelRF.fit(X_Train, Y_Train)"
      ],
      "metadata": {
        "id": "OwG9cLrUu0bz"
      },
      "execution_count": null,
      "outputs": []
    },
    {
      "cell_type": "code",
      "source": [
        "# Use the trained model to make predictions on the testing set.\n",
        "predictionsRF = modelRF.predict(X_Test)\n",
        "\n",
        "# Evaluating the model's performance by comparing actual values (y_test) vs predicted values (predictions).\n",
        "# MAE is the mean absolute error, MSE is the mean squared error, and RMSE is the square root of MSE.\n",
        "print('MAE:', mean_absolute_error(Y_Test, predictionsRF))\n",
        "print('MSE:', mean_squared_error(Y_Test, predictionsRF))\n",
        "print('RMSE:', np.sqrt(mean_squared_error(Y_Test, predictionsRF)))"
      ],
      "metadata": {
        "colab": {
          "base_uri": "https://localhost:8080/"
        },
        "id": "oPIfquD2wizT",
        "outputId": "5db54864-49d0-4cd3-c7ec-0334fa6468e0"
      },
      "execution_count": 245,
      "outputs": [
        {
          "output_type": "stream",
          "name": "stdout",
          "text": [
            "MAE: 0.0\n",
            "MSE: 0.0\n",
            "RMSE: 0.0\n"
          ]
        }
      ]
    },
    {
      "cell_type": "code",
      "source": [
        "# Plotting actual vs predicted values to visualize how well our model is performing.\n",
        "plt.scatter(Y_Test, predictionsRF)\n",
        "plt.xlabel('Actual Values')  # X-axis label\n",
        "plt.ylabel('Predicted Values')  # Y-axis label\n",
        "plt.title('Actual vs. Predicted Values')  # Graph title\n",
        "plt.show()  # Display the plot"
      ],
      "metadata": {
        "colab": {
          "base_uri": "https://localhost:8080/",
          "height": 472
        },
        "id": "Nxj8xmMcwL3S",
        "outputId": "8db335be-97fb-4338-e1ae-d48af6544a36"
      },
      "execution_count": 246,
      "outputs": [
        {
          "output_type": "display_data",
          "data": {
            "text/plain": [
              "<Figure size 640x480 with 1 Axes>"
            ],
            "image/png": "[encoded data removed]"
          },
          "metadata": {}
        }
      ]
    },
    {
      "cell_type": "markdown",
      "source": [
        "##Prophet"
      ],
      "metadata": {
        "id": "iGa_upIzxzAX"
      }
    },
    {
      "cell_type": "code",
      "source": [
        "pip install pystan\n"
      ],
      "metadata": {
        "colab": {
          "base_uri": "https://localhost:8080/"
        },
        "id": "BZBWkuyTx1xS",
        "outputId": "7be63930-f8fb-441a-8def-26f2be738b6d"
      },
      "execution_count": 247,
      "outputs": [
        {
          "output_type": "stream",
          "name": "stdout",
          "text": [
            "Requirement already satisfied: pystan in /usr/local/lib/python3.10/dist-packages (3.9.1)\n",
            "Requirement already satisfied: aiohttp<4.0,>=3.6 in /usr/local/lib/python3.10/dist-packages (from pystan) (3.9.5)\n",
            "Requirement already satisfied: clikit<0.7,>=0.6 in /usr/local/lib/python3.10/dist-packages (from pystan) (0.6.2)\n",
            "Requirement already satisfied: httpstan<4.13,>=4.12 in /usr/local/lib/python3.10/dist-packages (from pystan) (4.12.0)\n",
            "Requirement already satisfied: numpy<2.0,>=1.19 in /usr/local/lib/python3.10/dist-packages (from pystan) (1.26.4)\n",
            "Requirement already satisfied: pysimdjson<7,>=5.0.2 in /usr/local/lib/python3.10/dist-packages (from pystan) (6.0.2)\n",
            "Requirement already satisfied: setuptools in /usr/local/lib/python3.10/dist-packages (from pystan) (67.7.2)\n",
            "Requirement already satisfied: aiosignal>=1.1.2 in /usr/local/lib/python3.10/dist-packages (from aiohttp<4.0,>=3.6->pystan) (1.3.1)\n",
            "Requirement already satisfied: attrs>=17.3.0 in /usr/local/lib/python3.10/dist-packages (from aiohttp<4.0,>=3.6->pystan) (23.2.0)\n",
            "Requirement already satisfied: frozenlist>=1.1.1 in /usr/local/lib/python3.10/dist-packages (from aiohttp<4.0,>=3.6->pystan) (1.4.1)\n",
            "Requirement already satisfied: multidict<7.0,>=4.5 in /usr/local/lib/python3.10/dist-packages (from aiohttp<4.0,>=3.6->pystan) (6.0.5)\n",
            "Requirement already satisfied: yarl<2.0,>=1.0 in /usr/local/lib/python3.10/dist-packages (from aiohttp<4.0,>=3.6->pystan) (1.9.4)\n",
            "Requirement already satisfied: async-timeout<5.0,>=4.0 in /usr/local/lib/python3.10/dist-packages (from aiohttp<4.0,>=3.6->pystan) (4.0.3)\n",
            "Requirement already satisfied: crashtest<0.4.0,>=0.3.0 in /usr/local/lib/python3.10/dist-packages (from clikit<0.7,>=0.6->pystan) (0.3.1)\n",
            "Requirement already satisfied: pastel<0.3.0,>=0.2.0 in /usr/local/lib/python3.10/dist-packages (from clikit<0.7,>=0.6->pystan) (0.2.1)\n",
            "Requirement already satisfied: pylev<2.0,>=1.3 in /usr/local/lib/python3.10/dist-packages (from clikit<0.7,>=0.6->pystan) (1.4.0)\n",
            "Requirement already satisfied: appdirs<2.0,>=1.4 in /usr/local/lib/python3.10/dist-packages (from httpstan<4.13,>=4.12->pystan) (1.4.4)\n",
            "Requirement already satisfied: marshmallow<4.0,>=3.10 in /usr/local/lib/python3.10/dist-packages (from httpstan<4.13,>=4.12->pystan) (3.21.2)\n",
            "Requirement already satisfied: webargs<9.0,>=8.0 in /usr/local/lib/python3.10/dist-packages (from httpstan<4.13,>=4.12->pystan) (8.4.0)\n",
            "Requirement already satisfied: packaging>=17.0 in /usr/local/lib/python3.10/dist-packages (from marshmallow<4.0,>=3.10->httpstan<4.13,>=4.12->pystan) (24.0)\n",
            "Requirement already satisfied: idna>=2.0 in /usr/local/lib/python3.10/dist-packages (from yarl<2.0,>=1.0->aiohttp<4.0,>=3.6->pystan) (3.7)\n"
          ]
        }
      ]
    },
    {
      "cell_type": "code",
      "source": [
        "pip install fbprophet\n"
      ],
      "metadata": {
        "colab": {
          "base_uri": "https://localhost:8080/"
        },
        "id": "sGstxDhUx6QG",
        "outputId": "692dd385-11a7-48a2-a1ee-d8e2d3ae4682"
      },
      "execution_count": 248,
      "outputs": [
        {
          "output_type": "stream",
          "name": "stdout",
          "text": [
            "Collecting fbprophet\n",
            "  Using cached fbprophet-0.7.1.tar.gz (64 kB)\n",
            "  Preparing metadata (setup.py) ... \u001b[?25l\u001b[?25hdone\n",
            "Requirement already satisfied: Cython>=0.22 in /usr/local/lib/python3.10/dist-packages (from fbprophet) (3.0.10)\n",
            "Collecting cmdstanpy==0.9.5 (from fbprophet)\n",
            "  Using cached cmdstanpy-0.9.5-py3-none-any.whl (37 kB)\n",
            "Requirement already satisfied: pystan>=2.14 in /usr/local/lib/python3.10/dist-packages (from fbprophet) (3.9.1)\n",
            "Requirement already satisfied: numpy>=1.15.4 in /usr/local/lib/python3.10/dist-packages (from fbprophet) (1.26.4)\n",
            "Requirement already satisfied: pandas>=1.0.4 in /usr/local/lib/python3.10/dist-packages (from fbprophet) (2.2.2)\n",
            "Requirement already satisfied: matplotlib>=2.0.0 in /usr/local/lib/python3.10/dist-packages (from fbprophet) (3.7.1)\n",
            "Collecting LunarCalendar>=0.0.9 (from fbprophet)\n",
            "  Using cached LunarCalendar-0.0.9-py2.py3-none-any.whl (18 kB)\n",
            "Collecting convertdate>=2.1.2 (from fbprophet)\n",
            "  Using cached convertdate-2.4.0-py3-none-any.whl (47 kB)\n",
            "Requirement already satisfied: holidays>=0.10.2 in /usr/local/lib/python3.10/dist-packages (from fbprophet) (0.47)\n",
            "Collecting setuptools-git>=1.2 (from fbprophet)\n",
            "  Using cached setuptools_git-1.2-py2.py3-none-any.whl (10 kB)\n",
            "Requirement already satisfied: python-dateutil>=2.8.0 in /usr/local/lib/python3.10/dist-packages (from fbprophet) (2.8.2)\n",
            "Requirement already satisfied: tqdm>=4.36.1 in /usr/local/lib/python3.10/dist-packages (from fbprophet) (4.66.2)\n",
            "Collecting pymeeus<=1,>=0.3.13 (from convertdate>=2.1.2->fbprophet)\n",
            "  Using cached PyMeeus-0.5.12-py3-none-any.whl\n",
            "Collecting ephem>=3.7.5.3 (from LunarCalendar>=0.0.9->fbprophet)\n",
            "  Using cached ephem-4.1.5-cp310-cp310-manylinux_2_17_x86_64.manylinux2014_x86_64.whl (1.8 MB)\n",
            "Requirement already satisfied: pytz in /usr/local/lib/python3.10/dist-packages (from LunarCalendar>=0.0.9->fbprophet) (2023.4)\n",
            "Requirement already satisfied: contourpy>=1.0.1 in /usr/local/lib/python3.10/dist-packages (from matplotlib>=2.0.0->fbprophet) (1.2.1)\n",
            "Requirement already satisfied: cycler>=0.10 in /usr/local/lib/python3.10/dist-packages (from matplotlib>=2.0.0->fbprophet) (0.12.1)\n",
            "Requirement already satisfied: fonttools>=4.22.0 in /usr/local/lib/python3.10/dist-packages (from matplotlib>=2.0.0->fbprophet) (4.51.0)\n",
            "Requirement already satisfied: kiwisolver>=1.0.1 in /usr/local/lib/python3.10/dist-packages (from matplotlib>=2.0.0->fbprophet) (1.4.5)\n",
            "Requirement already satisfied: packaging>=20.0 in /usr/local/lib/python3.10/dist-packages (from matplotlib>=2.0.0->fbprophet) (24.0)\n",
            "Requirement already satisfied: pillow>=6.2.0 in /usr/local/lib/python3.10/dist-packages (from matplotlib>=2.0.0->fbprophet) (9.4.0)\n",
            "Requirement already satisfied: pyparsing>=2.3.1 in /usr/local/lib/python3.10/dist-packages (from matplotlib>=2.0.0->fbprophet) (3.1.2)\n",
            "Requirement already satisfied: tzdata>=2022.7 in /usr/local/lib/python3.10/dist-packages (from pandas>=1.0.4->fbprophet) (2024.1)\n",
            "Requirement already satisfied: aiohttp<4.0,>=3.6 in /usr/local/lib/python3.10/dist-packages (from pystan>=2.14->fbprophet) (3.9.5)\n",
            "Requirement already satisfied: clikit<0.7,>=0.6 in /usr/local/lib/python3.10/dist-packages (from pystan>=2.14->fbprophet) (0.6.2)\n",
            "Requirement already satisfied: httpstan<4.13,>=4.12 in /usr/local/lib/python3.10/dist-packages (from pystan>=2.14->fbprophet) (4.12.0)\n",
            "Requirement already satisfied: pysimdjson<7,>=5.0.2 in /usr/local/lib/python3.10/dist-packages (from pystan>=2.14->fbprophet) (6.0.2)\n",
            "Requirement already satisfied: setuptools in /usr/local/lib/python3.10/dist-packages (from pystan>=2.14->fbprophet) (67.7.2)\n",
            "Requirement already satisfied: six>=1.5 in /usr/local/lib/python3.10/dist-packages (from python-dateutil>=2.8.0->fbprophet) (1.16.0)\n",
            "Requirement already satisfied: aiosignal>=1.1.2 in /usr/local/lib/python3.10/dist-packages (from aiohttp<4.0,>=3.6->pystan>=2.14->fbprophet) (1.3.1)\n",
            "Requirement already satisfied: attrs>=17.3.0 in /usr/local/lib/python3.10/dist-packages (from aiohttp<4.0,>=3.6->pystan>=2.14->fbprophet) (23.2.0)\n",
            "Requirement already satisfied: frozenlist>=1.1.1 in /usr/local/lib/python3.10/dist-packages (from aiohttp<4.0,>=3.6->pystan>=2.14->fbprophet) (1.4.1)\n",
            "Requirement already satisfied: multidict<7.0,>=4.5 in /usr/local/lib/python3.10/dist-packages (from aiohttp<4.0,>=3.6->pystan>=2.14->fbprophet) (6.0.5)\n",
            "Requirement already satisfied: yarl<2.0,>=1.0 in /usr/local/lib/python3.10/dist-packages (from aiohttp<4.0,>=3.6->pystan>=2.14->fbprophet) (1.9.4)\n",
            "Requirement already satisfied: async-timeout<5.0,>=4.0 in /usr/local/lib/python3.10/dist-packages (from aiohttp<4.0,>=3.6->pystan>=2.14->fbprophet) (4.0.3)\n",
            "Requirement already satisfied: crashtest<0.4.0,>=0.3.0 in /usr/local/lib/python3.10/dist-packages (from clikit<0.7,>=0.6->pystan>=2.14->fbprophet) (0.3.1)\n",
            "Requirement already satisfied: pastel<0.3.0,>=0.2.0 in /usr/local/lib/python3.10/dist-packages (from clikit<0.7,>=0.6->pystan>=2.14->fbprophet) (0.2.1)\n",
            "Requirement already satisfied: pylev<2.0,>=1.3 in /usr/local/lib/python3.10/dist-packages (from clikit<0.7,>=0.6->pystan>=2.14->fbprophet) (1.4.0)\n",
            "Requirement already satisfied: appdirs<2.0,>=1.4 in /usr/local/lib/python3.10/dist-packages (from httpstan<4.13,>=4.12->pystan>=2.14->fbprophet) (1.4.4)\n",
            "Requirement already satisfied: marshmallow<4.0,>=3.10 in /usr/local/lib/python3.10/dist-packages (from httpstan<4.13,>=4.12->pystan>=2.14->fbprophet) (3.21.2)\n",
            "Requirement already satisfied: webargs<9.0,>=8.0 in /usr/local/lib/python3.10/dist-packages (from httpstan<4.13,>=4.12->pystan>=2.14->fbprophet) (8.4.0)\n",
            "Requirement already satisfied: idna>=2.0 in /usr/local/lib/python3.10/dist-packages (from yarl<2.0,>=1.0->aiohttp<4.0,>=3.6->pystan>=2.14->fbprophet) (3.7)\n",
            "Building wheels for collected packages: fbprophet\n",
            "  \u001b[1;31merror\u001b[0m: \u001b[1msubprocess-exited-with-error\u001b[0m\n",
            "  \n",
            "  \u001b[31m×\u001b[0m \u001b[32mpython setup.py bdist_wheel\u001b[0m did not run successfully.\n",
            "  \u001b[31m│\u001b[0m exit code: \u001b[1;36m1\u001b[0m\n",
            "  \u001b[31m╰─>\u001b[0m See above for output.\n",
            "  \n",
            "  \u001b[1;35mnote\u001b[0m: This error originates from a subprocess, and is likely not a problem with pip.\n",
            "  Building wheel for fbprophet (setup.py) ... \u001b[?25lerror\n",
            "\u001b[31m  ERROR: Failed building wheel for fbprophet\u001b[0m\u001b[31m\n",
            "\u001b[0m\u001b[?25h  Running setup.py clean for fbprophet\n",
            "Failed to build fbprophet\n",
            "\u001b[31mERROR: Could not build wheels for fbprophet, which is required to install pyproject.toml-based projects\u001b[0m\u001b[31m\n",
            "\u001b[0m"
          ]
        }
      ]
    },
    {
      "cell_type": "code",
      "source": [
        "pip install --upgrade numpy pandas"
      ],
      "metadata": {
        "colab": {
          "base_uri": "https://localhost:8080/"
        },
        "id": "8Hsh_nlOy3uf",
        "outputId": "d98609b9-4db8-4757-ef33-78a31de3fc9f"
      },
      "execution_count": 249,
      "outputs": [
        {
          "output_type": "stream",
          "name": "stdout",
          "text": [
            "Requirement already satisfied: numpy in /usr/local/lib/python3.10/dist-packages (1.26.4)\n",
            "Requirement already satisfied: pandas in /usr/local/lib/python3.10/dist-packages (2.2.2)\n",
            "Requirement already satisfied: python-dateutil>=2.8.2 in /usr/local/lib/python3.10/dist-packages (from pandas) (2.8.2)\n",
            "Requirement already satisfied: pytz>=2020.1 in /usr/local/lib/python3.10/dist-packages (from pandas) (2023.4)\n",
            "Requirement already satisfied: tzdata>=2022.7 in /usr/local/lib/python3.10/dist-packages (from pandas) (2024.1)\n",
            "Requirement already satisfied: six>=1.5 in /usr/local/lib/python3.10/dist-packages (from python-dateutil>=2.8.2->pandas) (1.16.0)\n"
          ]
        }
      ]
    },
    {
      "cell_type": "code",
      "source": [
        "pip install prophet\n"
      ],
      "metadata": {
        "colab": {
          "base_uri": "https://localhost:8080/"
        },
        "id": "yEKzsFlGyjEj",
        "outputId": "dfb60a25-6dbd-4623-f1dc-a5946419fb8c"
      },
      "execution_count": 250,
      "outputs": [
        {
          "output_type": "stream",
          "name": "stdout",
          "text": [
            "Requirement already satisfied: prophet in /usr/local/lib/python3.10/dist-packages (1.1.5)\n",
            "Requirement already satisfied: cmdstanpy>=1.0.4 in /usr/local/lib/python3.10/dist-packages (from prophet) (1.2.2)\n",
            "Requirement already satisfied: numpy>=1.15.4 in /usr/local/lib/python3.10/dist-packages (from prophet) (1.26.4)\n",
            "Requirement already satisfied: matplotlib>=2.0.0 in /usr/local/lib/python3.10/dist-packages (from prophet) (3.7.1)\n",
            "Requirement already satisfied: pandas>=1.0.4 in /usr/local/lib/python3.10/dist-packages (from prophet) (2.2.2)\n",
            "Requirement already satisfied: holidays>=0.25 in /usr/local/lib/python3.10/dist-packages (from prophet) (0.47)\n",
            "Requirement already satisfied: tqdm>=4.36.1 in /usr/local/lib/python3.10/dist-packages (from prophet) (4.66.2)\n",
            "Requirement already satisfied: importlib-resources in /usr/local/lib/python3.10/dist-packages (from prophet) (6.4.0)\n",
            "Requirement already satisfied: stanio<2.0.0,>=0.4.0 in /usr/local/lib/python3.10/dist-packages (from cmdstanpy>=1.0.4->prophet) (0.5.0)\n",
            "Requirement already satisfied: python-dateutil in /usr/local/lib/python3.10/dist-packages (from holidays>=0.25->prophet) (2.8.2)\n",
            "Requirement already satisfied: contourpy>=1.0.1 in /usr/local/lib/python3.10/dist-packages (from matplotlib>=2.0.0->prophet) (1.2.1)\n",
            "Requirement already satisfied: cycler>=0.10 in /usr/local/lib/python3.10/dist-packages (from matplotlib>=2.0.0->prophet) (0.12.1)\n",
            "Requirement already satisfied: fonttools>=4.22.0 in /usr/local/lib/python3.10/dist-packages (from matplotlib>=2.0.0->prophet) (4.51.0)\n",
            "Requirement already satisfied: kiwisolver>=1.0.1 in /usr/local/lib/python3.10/dist-packages (from matplotlib>=2.0.0->prophet) (1.4.5)\n",
            "Requirement already satisfied: packaging>=20.0 in /usr/local/lib/python3.10/dist-packages (from matplotlib>=2.0.0->prophet) (24.0)\n",
            "Requirement already satisfied: pillow>=6.2.0 in /usr/local/lib/python3.10/dist-packages (from matplotlib>=2.0.0->prophet) (9.4.0)\n",
            "Requirement already satisfied: pyparsing>=2.3.1 in /usr/local/lib/python3.10/dist-packages (from matplotlib>=2.0.0->prophet) (3.1.2)\n",
            "Requirement already satisfied: pytz>=2020.1 in /usr/local/lib/python3.10/dist-packages (from pandas>=1.0.4->prophet) (2023.4)\n",
            "Requirement already satisfied: tzdata>=2022.7 in /usr/local/lib/python3.10/dist-packages (from pandas>=1.0.4->prophet) (2024.1)\n",
            "Requirement already satisfied: six>=1.5 in /usr/local/lib/python3.10/dist-packages (from python-dateutil->holidays>=0.25->prophet) (1.16.0)\n"
          ]
        }
      ]
    },
    {
      "cell_type": "code",
      "source": [
        "from prophet import Prophet\n",
        "from sklearn.model_selection import train_test_split\n",
        "from sklearn.metrics import mean_absolute_error"
      ],
      "metadata": {
        "id": "O61XgTfOzKtq"
      },
      "execution_count": 251,
      "outputs": []
    },
    {
      "cell_type": "code",
      "source": [
        "#this has all of the records without the split\n",
        "dfpt = df\n",
        "dfpt.rename(columns={'Date of Sale': 'ds', 'Units Sold': 'y'}, inplace=True)\n",
        "dftrain = dfpt[dfpt['ds'] < split_date]\n",
        "dftest = dfpt[dfpt['ds'] >= split_date]\n",
        "modelPT = Prophet(yearly_seasonality=True)\n",
        "modelPT.fit(dftrain)"
      ],
      "metadata": {
        "colab": {
          "base_uri": "https://localhost:8080/"
        },
        "id": "HU7TMJxsz6Iq",
        "outputId": "212f0351-7e64-4b93-ef27-b0100ba4c94f"
      },
      "execution_count": 252,
      "outputs": [
        {
          "output_type": "stream",
          "name": "stderr",
          "text": [
            "INFO:prophet:Disabling daily seasonality. Run prophet with daily_seasonality=True to override this.\n",
            "DEBUG:cmdstanpy:input tempfile: /tmp/tmpub21b882/mmn6mwh_.json\n",
            "DEBUG:cmdstanpy:input tempfile: /tmp/tmpub21b882/4h64nitr.json\n",
            "DEBUG:cmdstanpy:idx 0\n",
            "DEBUG:cmdstanpy:running CmdStan, num_threads: None\n",
            "DEBUG:cmdstanpy:CmdStan args: ['/usr/local/lib/python3.10/dist-packages/prophet/stan_model/prophet_model.bin', 'random', 'seed=92193', 'data', 'file=/tmp/tmpub21b882/mmn6mwh_.json', 'init=/tmp/tmpub21b882/4h64nitr.json', 'output', 'file=/tmp/tmpub21b882/prophet_modeltb3a1yfh/prophet_model-20240505150748.csv', 'method=optimize', 'algorithm=lbfgs', 'iter=10000']\n",
            "15:07:48 - cmdstanpy - INFO - Chain [1] start processing\n",
            "INFO:cmdstanpy:Chain [1] start processing\n",
            "15:08:09 - cmdstanpy - INFO - Chain [1] done processing\n",
            "INFO:cmdstanpy:Chain [1] done processing\n"
          ]
        },
        {
          "output_type": "execute_result",
          "data": {
            "text/plain": [
              "<prophet.forecaster.Prophet at 0x7b3268934220>"
            ]
          },
          "metadata": {},
          "execution_count": 252
        }
      ]
    },
    {
      "cell_type": "code",
      "source": [
        "#need to do the split on this to get the future\n",
        "future = modelPT.make_future_dataframe(periods=len(dftest), freq='D')\n",
        "forecast = modelPT.predict(future)"
      ],
      "metadata": {
        "id": "bCdXRpMl1Zft"
      },
      "execution_count": 253,
      "outputs": []
    },
    {
      "cell_type": "code",
      "source": [
        "#Not sure how valid this is for for Prophet\n",
        "#print('MAE:', mean_absolute_error(Y_Test, forecast))\n",
        "#print('MSE:', mean_squared_error(Y_Test, forecast))\n",
        "#print('RMSE:', np.sqrt(mean_squared_error(Y_Test, forecast)))"
      ],
      "metadata": {
        "id": "c8-W57SH1Acm"
      },
      "execution_count": 254,
      "outputs": []
    },
    {
      "cell_type": "code",
      "source": [
        "# Plotting actual vs predicted values to visualize how well our model is performing.\n",
        "#plt.scatter(future['ds'], forecast)\n",
        "#plt.xlabel('Actual Values')  # X-axis label\n",
        "#plt.ylabel('Predicted Values')  # Y-axis label\n",
        "#plt.title('Actual vs. Predicted Values')  # Graph title\n",
        "#plt.show()  # Display the plot"
      ],
      "metadata": {
        "id": "GlmKr7o65AFD"
      },
      "execution_count": 255,
      "outputs": []
    },
    {
      "cell_type": "code",
      "source": [],
      "metadata": {
        "id": "NfF3ARWz52up"
      },
      "execution_count": 255,
      "outputs": []
    },
    {
      "cell_type": "markdown",
      "source": [
        "##Gradient Booster"
      ],
      "metadata": {
        "id": "yRMktEz2574V"
      }
    },
    {
      "cell_type": "code",
      "source": [
        "from sklearn.preprocessing import LabelEncoder\n",
        "from sklearn.ensemble import GradientBoostingRegressor"
      ],
      "metadata": {
        "id": "5ArV-OyM5-iQ"
      },
      "execution_count": 256,
      "outputs": []
    },
    {
      "cell_type": "code",
      "source": [
        "modelGB = GradientBoostingRegressor(random_state=42)\n",
        "modelGB.fit(X_Train, Y_Train)"
      ],
      "metadata": {
        "colab": {
          "base_uri": "https://localhost:8080/",
          "height": 75
        },
        "id": "EvlBRr9j6Aw9",
        "outputId": "ead79d63-f3ba-41eb-b5a9-5a31c0ebb418"
      },
      "execution_count": 257,
      "outputs": [
        {
          "output_type": "execute_result",
          "data": {
            "text/plain": [
              "GradientBoostingRegressor(random_state=42)"
            ],
            "text/html": [
              "<style>#sk-container-id-11 {color: black;background-color: white;}#sk-container-id-11 pre{padding: 0;}#sk-container-id-11 div.sk-toggleable {background-color: white;}#sk-container-id-11 label.sk-toggleable__label {cursor: pointer;display: block;width: 100%;margin-bottom: 0;padding: 0.3em;box-sizing: border-box;text-align: center;}#sk-container-id-11 label.sk-toggleable__label-arrow:before {content: \"▸\";float: left;margin-right: 0.25em;color: #696969;}#sk-container-id-11 label.sk-toggleable__label-arrow:hover:before {color: black;}#sk-container-id-11 div.sk-estimator:hover label.sk-toggleable__label-arrow:before {color: black;}#sk-container-id-11 div.sk-toggleable__content {max-height: 0;max-width: 0;overflow: hidden;text-align: left;background-color: #f0f8ff;}#sk-container-id-11 div.sk-toggleable__content pre {margin: 0.2em;color: black;border-radius: 0.25em;background-color: #f0f8ff;}#sk-container-id-11 input.sk-toggleable__control:checked~div.sk-toggleable__content {max-height: 200px;max-width: 100%;overflow: auto;}#sk-container-id-11 input.sk-toggleable__control:checked~label.sk-toggleable__label-arrow:before {content: \"▾\";}#sk-container-id-11 div.sk-estimator input.sk-toggleable__control:checked~label.sk-toggleable__label {background-color: #d4ebff;}#sk-container-id-11 div.sk-label input.sk-toggleable__control:checked~label.sk-toggleable__label {background-color: #d4ebff;}#sk-container-id-11 input.sk-hidden--visually {border: 0;clip: rect(1px 1px 1px 1px);clip: rect(1px, 1px, 1px, 1px);height: 1px;margin: -1px;overflow: hidden;padding: 0;position: absolute;width: 1px;}#sk-container-id-11 div.sk-estimator {font-family: monospace;background-color: #f0f8ff;border: 1px dotted black;border-radius: 0.25em;box-sizing: border-box;margin-bottom: 0.5em;}#sk-container-id-11 div.sk-estimator:hover {background-color: #d4ebff;}#sk-container-id-11 div.sk-parallel-item::after {content: \"\";width: 100%;border-bottom: 1px solid gray;flex-grow: 1;}#sk-container-id-11 div.sk-label:hover label.sk-toggleable__label {background-color: #d4ebff;}#sk-container-id-11 div.sk-serial::before {content: \"\";position: absolute;border-left: 1px solid gray;box-sizing: border-box;top: 0;bottom: 0;left: 50%;z-index: 0;}#sk-container-id-11 div.sk-serial {display: flex;flex-direction: column;align-items: center;background-color: white;padding-right: 0.2em;padding-left: 0.2em;position: relative;}#sk-container-id-11 div.sk-item {position: relative;z-index: 1;}#sk-container-id-11 div.sk-parallel {display: flex;align-items: stretch;justify-content: center;background-color: white;position: relative;}#sk-container-id-11 div.sk-item::before, #sk-container-id-11 div.sk-parallel-item::before {content: \"\";position: absolute;border-left: 1px solid gray;box-sizing: border-box;top: 0;bottom: 0;left: 50%;z-index: -1;}#sk-container-id-11 div.sk-parallel-item {display: flex;flex-direction: column;z-index: 1;position: relative;background-color: white;}#sk-container-id-11 div.sk-parallel-item:first-child::after {align-self: flex-end;width: 50%;}#sk-container-id-11 div.sk-parallel-item:last-child::after {align-self: flex-start;width: 50%;}#sk-container-id-11 div.sk-parallel-item:only-child::after {width: 0;}#sk-container-id-11 div.sk-dashed-wrapped {border: 1px dashed gray;margin: 0 0.4em 0.5em 0.4em;box-sizing: border-box;padding-bottom: 0.4em;background-color: white;}#sk-container-id-11 div.sk-label label {font-family: monospace;font-weight: bold;display: inline-block;line-height: 1.2em;}#sk-container-id-11 div.sk-label-container {text-align: center;}#sk-container-id-11 div.sk-container {/* jupyter's `normalize.less` sets `[hidden] { display: none; }` but bootstrap.min.css set `[hidden] { display: none !important; }` so we also need the `!important` here to be able to override the default hidden behavior on the sphinx rendered scikit-learn.org. See: https://github.com/scikit-learn/scikit-learn/issues/21755 */display: inline-block !important;position: relative;}#sk-container-id-11 div.sk-text-repr-fallback {display: none;}</style><div id=\"sk-container-id-11\" class=\"sk-top-container\"><div class=\"sk-text-repr-fallback\"><pre>GradientBoostingRegressor(random_state=42)</pre><b>In a Jupyter environment, please rerun this cell to show the HTML representation or trust the notebook. <br />On GitHub, the HTML representation is unable to render, please try loading this page with nbviewer.org.</b></div><div class=\"sk-container\" hidden><div class=\"sk-item\"><div class=\"sk-estimator sk-toggleable\"><input class=\"sk-toggleable__control sk-hidden--visually\" id=\"sk-estimator-id-11\" type=\"checkbox\" checked><label for=\"sk-estimator-id-11\" class=\"sk-toggleable__label sk-toggleable__label-arrow\">GradientBoostingRegressor</label><div class=\"sk-toggleable__content\"><pre>GradientBoostingRegressor(random_state=42)</pre></div></div></div></div></div>"
            ]
          },
          "metadata": {},
          "execution_count": 257
        }
      ]
    },
    {
      "cell_type": "code",
      "source": [
        "# Predictions\n",
        "predGB = modelGB.predict(X_Test)"
      ],
      "metadata": {
        "id": "BXa22KBT6Zwo"
      },
      "execution_count": 258,
      "outputs": []
    },
    {
      "cell_type": "code",
      "source": [
        "# Evaluation\n",
        "mae = mean_absolute_error(Y_Test, predGB)\n",
        "mse = mean_squared_error(Y_Test, predGB)\n",
        "r2 = r2_score(Y_Test, predGB)\n",
        "\n",
        "print(f'Mean Absolute Error: {mae}')\n",
        "print(f'Mean Squared Error: {mse}')\n",
        "print(f'R² Score: {r2}')"
      ],
      "metadata": {
        "colab": {
          "base_uri": "https://localhost:8080/"
        },
        "id": "KrW-NzYl6j7M",
        "outputId": "5caf0490-4a02-44dc-affa-ff3df02bfa24"
      },
      "execution_count": 259,
      "outputs": [
        {
          "output_type": "stream",
          "name": "stdout",
          "text": [
            "Mean Absolute Error: 0.02543612498761985\n",
            "Mean Squared Error: 0.0015745380069745443\n",
            "R² Score: 0.999998101716693\n"
          ]
        }
      ]
    },
    {
      "cell_type": "code",
      "source": [
        "# Plotting actual vs predicted values to visualize how well our model is performing.\n",
        "plt.scatter(Y_Test, predGB)\n",
        "plt.xlabel('Actual Values')  # X-axis label\n",
        "plt.ylabel('Predicted Values')  # Y-axis label\n",
        "plt.title('Actual vs. Predicted Values')  # Graph title\n",
        "plt.show()  # Display the plot"
      ],
      "metadata": {
        "colab": {
          "base_uri": "https://localhost:8080/",
          "height": 472
        },
        "id": "3wrcS2697Fy-",
        "outputId": "a7c5340f-8a67-42a5-ffec-58c799be3f3b"
      },
      "execution_count": 260,
      "outputs": [
        {
          "output_type": "display_data",
          "data": {
            "text/plain": [
              "<Figure size 640x480 with 1 Axes>"
            ],
            "image/png": "[encoded data removed]"
          },
          "metadata": {}
        }
      ]
    },
    {
      "cell_type": "markdown",
      "source": [
        "#Long Term Short Memory"
      ],
      "metadata": {
        "id": "KEVvtq-E7iNI"
      }
    },
    {
      "cell_type": "code",
      "source": [
        "from sklearn.preprocessing import MinMaxScaler, LabelEncoder\n",
        "from keras.models import Sequential\n",
        "from keras.layers import LSTM, Dense"
      ],
      "metadata": {
        "id": "q8glj26W7cZx"
      },
      "execution_count": 261,
      "outputs": []
    },
    {
      "cell_type": "code",
      "source": [
        "# Normalize features\n",
        "scaler = MinMaxScaler()\n",
        "target = X_Train['Units Sold'].values.reshape(-1,1)\n",
        "features_scaled = scaler.fit_transform(X_Train)\n",
        "target_scaled = scaler.fit_transform(target)"
      ],
      "metadata": {
        "id": "kEzw13617hgZ"
      },
      "execution_count": 262,
      "outputs": []
    },
    {
      "cell_type": "code",
      "source": [
        "# Data preparation for LSTM\n",
        "def create_dataset(X, y, time_steps=1):\n",
        "    Xs, ys = [], []\n",
        "    for i in range(len(X) - time_steps):\n",
        "        v = X[i:(i + time_steps)]\n",
        "        Xs.append(v)\n",
        "        ys.append(y[i + time_steps])\n",
        "    return np.array(Xs), np.array(ys)"
      ],
      "metadata": {
        "id": "aLKbggyfKqv9"
      },
      "execution_count": 263,
      "outputs": []
    },
    {
      "cell_type": "code",
      "source": [
        "time_steps = 1\n",
        "X, y = create_dataset(features_scaled, target_scaled, time_steps)"
      ],
      "metadata": {
        "id": "inQVshEpKwA7"
      },
      "execution_count": 264,
      "outputs": []
    },
    {
      "cell_type": "code",
      "source": [
        "# Split data into training and testing\n",
        "X_train, X_test, y_train, y_test = train_test_split(X, y, test_size=0.2, random_state=42)"
      ],
      "metadata": {
        "id": "OCRYXKUmK0Or"
      },
      "execution_count": 265,
      "outputs": []
    },
    {
      "cell_type": "code",
      "source": [
        "# LSTM model\n",
        "model = Sequential()\n",
        "model.add(LSTM(50, activation='relu', input_shape=(X_train.shape[1], X_train.shape[2])))\n",
        "model.add(Dense(1))\n",
        "model.compile(optimizer='adam', loss='mse')"
      ],
      "metadata": {
        "id": "617vNIrG8f1F"
      },
      "execution_count": 266,
      "outputs": []
    },
    {
      "cell_type": "code",
      "source": [
        "# Fit model\n",
        "model.fit(X_train, y_train, epochs=30, batch_size=32, validation_data=(X_test, y_test), verbose=1)"
      ],
      "metadata": {
        "colab": {
          "base_uri": "https://localhost:8080/"
        },
        "id": "NPlWSgaL8lj-",
        "outputId": "5a96f5b6-0f13-42d2-abb1-7435e148d3fb"
      },
      "execution_count": 267,
      "outputs": [
        {
          "output_type": "stream",
          "name": "stdout",
          "text": [
            "Epoch 1/30\n",
            "5599/5599 [==============================] - 20s 3ms/step - loss: 0.0865 - val_loss: 0.0852\n",
            "Epoch 2/30\n",
            "5599/5599 [==============================] - 21s 4ms/step - loss: 0.0854 - val_loss: 0.0854\n",
            "Epoch 3/30\n",
            "5599/5599 [==============================] - 18s 3ms/step - loss: 0.0853 - val_loss: 0.0859\n",
            "Epoch 4/30\n",
            "5599/5599 [==============================] - 18s 3ms/step - loss: 0.0853 - val_loss: 0.0851\n",
            "Epoch 5/30\n",
            "5599/5599 [==============================] - 18s 3ms/step - loss: 0.0852 - val_loss: 0.0852\n",
            "Epoch 6/30\n",
            "5599/5599 [==============================] - 17s 3ms/step - loss: 0.0852 - val_loss: 0.0851\n",
            "Epoch 7/30\n",
            "5599/5599 [==============================] - 18s 3ms/step - loss: 0.0852 - val_loss: 0.0853\n",
            "Epoch 8/30\n",
            "5599/5599 [==============================] - 19s 3ms/step - loss: 0.0851 - val_loss: 0.0852\n",
            "Epoch 9/30\n",
            "5599/5599 [==============================] - 20s 4ms/step - loss: 0.0851 - val_loss: 0.0852\n",
            "Epoch 10/30\n",
            "5599/5599 [==============================] - 17s 3ms/step - loss: 0.0851 - val_loss: 0.0851\n",
            "Epoch 11/30\n",
            "5599/5599 [==============================] - 17s 3ms/step - loss: 0.0851 - val_loss: 0.0852\n",
            "Epoch 12/30\n",
            "5599/5599 [==============================] - 18s 3ms/step - loss: 0.0851 - val_loss: 0.0851\n",
            "Epoch 13/30\n",
            "5599/5599 [==============================] - 18s 3ms/step - loss: 0.0851 - val_loss: 0.0852\n",
            "Epoch 14/30\n",
            "5599/5599 [==============================] - 18s 3ms/step - loss: 0.0851 - val_loss: 0.0852\n",
            "Epoch 15/30\n",
            "5599/5599 [==============================] - 17s 3ms/step - loss: 0.0851 - val_loss: 0.0852\n",
            "Epoch 16/30\n",
            "5599/5599 [==============================] - 18s 3ms/step - loss: 0.0850 - val_loss: 0.0852\n",
            "Epoch 17/30\n",
            "5599/5599 [==============================] - 19s 3ms/step - loss: 0.0850 - val_loss: 0.0853\n",
            "Epoch 18/30\n",
            "5599/5599 [==============================] - 18s 3ms/step - loss: 0.0850 - val_loss: 0.0852\n",
            "Epoch 19/30\n",
            "5599/5599 [==============================] - 18s 3ms/step - loss: 0.0850 - val_loss: 0.0851\n",
            "Epoch 20/30\n",
            "5599/5599 [==============================] - 20s 3ms/step - loss: 0.0850 - val_loss: 0.0852\n",
            "Epoch 21/30\n",
            "5599/5599 [==============================] - 18s 3ms/step - loss: 0.0850 - val_loss: 0.0852\n",
            "Epoch 22/30\n",
            "5599/5599 [==============================] - 17s 3ms/step - loss: 0.0850 - val_loss: 0.0852\n",
            "Epoch 23/30\n",
            "5599/5599 [==============================] - 20s 4ms/step - loss: 0.0850 - val_loss: 0.0852\n",
            "Epoch 24/30\n",
            "5599/5599 [==============================] - 17s 3ms/step - loss: 0.0850 - val_loss: 0.0853\n",
            "Epoch 25/30\n",
            "5599/5599 [==============================] - 20s 4ms/step - loss: 0.0850 - val_loss: 0.0852\n",
            "Epoch 26/30\n",
            "5599/5599 [==============================] - 17s 3ms/step - loss: 0.0850 - val_loss: 0.0852\n",
            "Epoch 27/30\n",
            "5599/5599 [==============================] - 17s 3ms/step - loss: 0.0850 - val_loss: 0.0853\n",
            "Epoch 28/30\n",
            "5599/5599 [==============================] - 17s 3ms/step - loss: 0.0850 - val_loss: 0.0852\n",
            "Epoch 29/30\n",
            "5599/5599 [==============================] - 17s 3ms/step - loss: 0.0850 - val_loss: 0.0853\n",
            "Epoch 30/30\n",
            "5599/5599 [==============================] - 21s 4ms/step - loss: 0.0850 - val_loss: 0.0853\n"
          ]
        },
        {
          "output_type": "execute_result",
          "data": {
            "text/plain": [
              "<keras.src.callbacks.History at 0x7b3266937ee0>"
            ]
          },
          "metadata": {},
          "execution_count": 267
        }
      ]
    },
    {
      "cell_type": "code",
      "source": [
        "# Predict and evaluate\n",
        "y_pred = model.predict(X_test)\n",
        "mse = mean_squared_error(scaler.inverse_transform(y_test), scaler.inverse_transform(y_pred))\n",
        "print(f'Mean Squared Error: {mse}')"
      ],
      "metadata": {
        "colab": {
          "base_uri": "https://localhost:8080/"
        },
        "id": "ZyJP4TANLCOR",
        "outputId": "cbef3f5c-7ad1-409c-9f6c-31e6e76f30da"
      },
      "execution_count": 268,
      "outputs": [
        {
          "output_type": "stream",
          "name": "stdout",
          "text": [
            "1400/1400 [==============================] - 3s 2ms/step\n",
            "Mean Squared Error: 835.5482891775317\n"
          ]
        }
      ]
    },
    {
      "cell_type": "code",
      "source": [
        "print(Y_Test)"
      ],
      "metadata": {
        "colab": {
          "base_uri": "https://localhost:8080/"
        },
        "id": "e5aO1NchWaDa",
        "outputId": "aad880b6-db9f-4a08-e484-faa902011277"
      },
      "execution_count": 272,
      "outputs": [
        {
          "output_type": "stream",
          "name": "stdout",
          "text": [
            "210752     9\n",
            "35957     55\n",
            "131439    60\n",
            "91245     64\n",
            "285134    14\n",
            "          ..\n",
            "113721    99\n",
            "158541     3\n",
            "54362     12\n",
            "205538    31\n",
            "239730    45\n",
            "Name: Units Sold, Length: 76044, dtype: int64\n"
          ]
        }
      ]
    },
    {
      "cell_type": "code",
      "source": [
        "# Create the plot\n",
        "from datetime import datetime\n",
        "X_Test['Date of Sale'] = X_Test['Year']*10000+ X_Test['Month']*100+X_Test['Day']# + '-' + str(['Day'])]\n",
        "print(X_Test['Date of Sale'])\n",
        "#X_Test['Date of Sale'] = pd.to_datetime(str(X_Test['Year']) + '-' + str(X_Test['Month']) + '-' + str(X_Test['Day']))\n",
        "plt.figure(figsize=(10, 6))  # Set the figure size= modelLR.predict(X_Test)\n",
        "plt.plot(X_Test['Date of Sale'] , Y_Test, label='Actual Value', marker='o')  # Plot Sales Prediction\n",
        "plt.plot(X_Test['Date of Sale'] , predictionsLR, label='Linear', marker='o')  # Plot Sales Prediction\n",
        "plt.plot(X_Test['Date of Sale'] , predictionsRF, label='Random Forest', marker='o')  # Plot Sales Prediction\n",
        "plt.plot(X_Test['Date of Sale'] , predGB, label='Gradient Booster', marker='o')  # Plot Sales Prediction\n",
        "#plt.plot(X_Test['Month'] , y_pred, label='Long Term Short Memory', marker='o')  # Plot Sales Prediction\n",
        "#plt.plot(X_Test['Date of Sale'], predictionsRF , label='Random Forest Prediction', marker='o')  # Plot Sales Prediction\n",
        "#plt.plot(df['Date of Sale'], Y_Test['Units Sold'], label='Actual Sale', marker='o')  # Plot Actual Sale\n",
        "\n",
        "# Adding titles and labels\n",
        "plt.title('Sales Prediction vs Actual Sale Over Time')\n",
        "plt.xlabel('Date of Sale')\n",
        "plt.ylabel('Sales Value')\n",
        "plt.xticks(rotation=45)  # Rotate date labels for better readability\n",
        "\n",
        "# Adding legend\n",
        "plt.legend()\n",
        "\n",
        "# Show the plot\n",
        "plt.show()\n"
      ],
      "metadata": {
        "colab": {
          "base_uri": "https://localhost:8080/",
          "height": 787
        },
        "id": "LZBR1aP8O7Hw",
        "outputId": "7d9d962b-f9e6-4293-a81a-f7394ea62cd3"
      },
      "execution_count": 308,
      "outputs": [
        {
          "output_type": "stream",
          "name": "stdout",
          "text": [
            "210752    20240201\n",
            "35957     20240201\n",
            "131439    20240201\n",
            "91245     20240201\n",
            "285134    20240201\n",
            "            ...   \n",
            "113721    20240503\n",
            "158541    20240503\n",
            "54362     20240503\n",
            "205538    20240503\n",
            "239730    20240503\n",
            "Name: Date of Sale, Length: 76044, dtype: int32\n"
          ]
        },
        {
          "output_type": "display_data",
          "data": {
            "text/plain": [
              "<Figure size 1000x600 with 1 Axes>"
            ],
            "image/png": "[encoded data removed]"
          },
          "metadata": {}
        }
      ]
    }
  ]
}