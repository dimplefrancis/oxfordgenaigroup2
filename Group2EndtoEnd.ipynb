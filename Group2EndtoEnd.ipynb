{
  "nbformat": 4,
  "nbformat_minor": 0,
  "metadata": {
    "colab": {
      "provenance": [],
      "authorship_tag": "ABX9TyOgkobqP1ysY2nmJE0cTwJZ",
      "include_colab_link": true
    },
    "kernelspec": {
      "name": "python3",
      "display_name": "Python 3"
    },
    "language_info": {
      "name": "python"
    }
  },
  "cells": [
    {
      "cell_type": "markdown",
      "metadata": {
        "id": "view-in-github",
        "colab_type": "text"
      },
      "source": [
        "<a href=\"https://colab.research.google.com/github/kevinhoffmanglyde/oxfordgenaigroup2/blob/main/Group2EndtoEnd.ipynb\" target=\"_parent\"><img src=\"https://colab.research.google.com/assets/colab-badge.svg\" alt=\"Open In Colab\"/></a>"
      ]
    },
    {
      "cell_type": "markdown",
      "source": [
        "#Section Overview:#\n",
        "This section is a model comparision for selection of the models.\n",
        "To use the selected model in the project for the business, we need to be able to feed in a full dataset, retrain the model based on the new data, and create predictions based on the fresh data and newly trained model.\n",
        "This section separates the Training and Test data for checking accuracy and loss in order to select the better model for the job.\n",
        "###2024-05-06 - there are some issues with the presentation of charts for comparison.  Also, Prophet is working but requires different names for comparison.  The predictions across the board look like a near perfect match to the Test data.  This is unexpected.  The visualisations are currently wholey unsatisfactory.###\n"
      ],
      "metadata": {
        "id": "APqTbPRiZYXe"
      }
    },
    {
      "cell_type": "markdown",
      "source": [
        "#Mount the Google Drive"
      ],
      "metadata": {
        "id": "Gua7ddaHHhwC"
      }
    },
    {
      "cell_type": "code",
      "execution_count": 176,
      "metadata": {
        "colab": {
          "base_uri": "https://localhost:8080/"
        },
        "id": "lYwcI4b_HN_r",
        "outputId": "f3ed57ed-f7e8-4b15-e0ef-f7777a7c78ee"
      },
      "outputs": [
        {
          "output_type": "stream",
          "name": "stdout",
          "text": [
            "Drive already mounted at /content/gdrive; to attempt to forcibly remount, call drive.mount(\"/content/gdrive\", force_remount=True).\n"
          ]
        }
      ],
      "source": [
        "import pandas as pd\n",
        "from google.colab import drive\n",
        "drive.mount('/content/gdrive')"
      ]
    },
    {
      "cell_type": "markdown",
      "source": [
        "#Authenticate"
      ],
      "metadata": {
        "id": "kJlFz5aGHbAq"
      }
    },
    {
      "cell_type": "code",
      "source": [
        "from google.colab import auth\n",
        "auth.authenticate_user()\n",
        "print('Authenticated')"
      ],
      "metadata": {
        "colab": {
          "base_uri": "https://localhost:8080/"
        },
        "id": "8TyiO8VuHVjq",
        "outputId": "86de0cc5-5019-43d6-d3ab-39695be474bd"
      },
      "execution_count": 177,
      "outputs": [
        {
          "output_type": "stream",
          "name": "stdout",
          "text": [
            "Authenticated\n"
          ]
        }
      ]
    },
    {
      "cell_type": "markdown",
      "source": [
        "#Get the data"
      ],
      "metadata": {
        "id": "J3puYcvbHotj"
      }
    },
    {
      "cell_type": "code",
      "source": [
        "df = pd.read_csv('gdrive/MyDrive/synt_data.csv')"
      ],
      "metadata": {
        "id": "qi1RpRlOHX5g"
      },
      "execution_count": 209,
      "outputs": []
    },
    {
      "cell_type": "markdown",
      "source": [
        "#Check the data is there"
      ],
      "metadata": {
        "id": "agkgHkq0Hqkv"
      }
    },
    {
      "cell_type": "code",
      "source": [
        "df.head()"
      ],
      "metadata": {
        "colab": {
          "base_uri": "https://localhost:8080/",
          "height": 206
        },
        "id": "xjL5olQkHaBj",
        "outputId": "1dde0bd0-9666-4b7f-e75c-1703e33f8a95"
      },
      "execution_count": 210,
      "outputs": [
        {
          "output_type": "execute_result",
          "data": {
            "text/plain": [
              "   Store ID  Country  Product ID Product Category  Units Sold Date of Sale  \\\n",
              "0      5954    Spain       16174             Mens          58   2023-07-03   \n",
              "1      9190  Austria       54058             Mens          88   2023-12-04   \n",
              "2      4997    Italy       16301             Mens          69   2023-11-28   \n",
              "3      9188  Austria       83886             Mens          64   2024-03-21   \n",
              "4      3675   France       68267             Mens          12   2024-03-24   \n",
              "\n",
              "   GDP Growth Rate  Inflation Rate  Price Sold  \n",
              "0             0.01            2.87       94.37  \n",
              "1             1.55            0.75       73.63  \n",
              "2             1.32            1.12       22.10  \n",
              "3             1.24            0.86       32.87  \n",
              "4             1.28            2.62       80.72  "
            ],
            "text/html": [
              "\n",
              "  <div id=\"df-33a8effa-0034-4c13-be8c-2e340e969821\" class=\"colab-df-container\">\n",
              "    <div>\n",
              "<style scoped>\n",
              "    .dataframe tbody tr th:only-of-type {\n",
              "        vertical-align: middle;\n",
              "    }\n",
              "\n",
              "    .dataframe tbody tr th {\n",
              "        vertical-align: top;\n",
              "    }\n",
              "\n",
              "    .dataframe thead th {\n",
              "        text-align: right;\n",
              "    }\n",
              "</style>\n",
              "<table border=\"1\" class=\"dataframe\">\n",
              "  <thead>\n",
              "    <tr style=\"text-align: right;\">\n",
              "      <th></th>\n",
              "      <th>Store ID</th>\n",
              "      <th>Country</th>\n",
              "      <th>Product ID</th>\n",
              "      <th>Product Category</th>\n",
              "      <th>Units Sold</th>\n",
              "      <th>Date of Sale</th>\n",
              "      <th>GDP Growth Rate</th>\n",
              "      <th>Inflation Rate</th>\n",
              "      <th>Price Sold</th>\n",
              "    </tr>\n",
              "  </thead>\n",
              "  <tbody>\n",
              "    <tr>\n",
              "      <th>0</th>\n",
              "      <td>5954</td>\n",
              "      <td>Spain</td>\n",
              "      <td>16174</td>\n",
              "      <td>Mens</td>\n",
              "      <td>58</td>\n",
              "      <td>2023-07-03</td>\n",
              "      <td>0.01</td>\n",
              "      <td>2.87</td>\n",
              "      <td>94.37</td>\n",
              "    </tr>\n",
              "    <tr>\n",
              "      <th>1</th>\n",
              "      <td>9190</td>\n",
              "      <td>Austria</td>\n",
              "      <td>54058</td>\n",
              "      <td>Mens</td>\n",
              "      <td>88</td>\n",
              "      <td>2023-12-04</td>\n",
              "      <td>1.55</td>\n",
              "      <td>0.75</td>\n",
              "      <td>73.63</td>\n",
              "    </tr>\n",
              "    <tr>\n",
              "      <th>2</th>\n",
              "      <td>4997</td>\n",
              "      <td>Italy</td>\n",
              "      <td>16301</td>\n",
              "      <td>Mens</td>\n",
              "      <td>69</td>\n",
              "      <td>2023-11-28</td>\n",
              "      <td>1.32</td>\n",
              "      <td>1.12</td>\n",
              "      <td>22.10</td>\n",
              "    </tr>\n",
              "    <tr>\n",
              "      <th>3</th>\n",
              "      <td>9188</td>\n",
              "      <td>Austria</td>\n",
              "      <td>83886</td>\n",
              "      <td>Mens</td>\n",
              "      <td>64</td>\n",
              "      <td>2024-03-21</td>\n",
              "      <td>1.24</td>\n",
              "      <td>0.86</td>\n",
              "      <td>32.87</td>\n",
              "    </tr>\n",
              "    <tr>\n",
              "      <th>4</th>\n",
              "      <td>3675</td>\n",
              "      <td>France</td>\n",
              "      <td>68267</td>\n",
              "      <td>Mens</td>\n",
              "      <td>12</td>\n",
              "      <td>2024-03-24</td>\n",
              "      <td>1.28</td>\n",
              "      <td>2.62</td>\n",
              "      <td>80.72</td>\n",
              "    </tr>\n",
              "  </tbody>\n",
              "</table>\n",
              "</div>\n",
              "    <div class=\"colab-df-buttons\">\n",
              "\n",
              "  <div class=\"colab-df-container\">\n",
              "    <button class=\"colab-df-convert\" onclick=\"convertToInteractive('df-33a8effa-0034-4c13-be8c-2e340e969821')\"\n",
              "            title=\"Convert this dataframe to an interactive table.\"\n",
              "            style=\"display:none;\">\n",
              "\n",
              "  <svg xmlns=\"http://www.w3.org/2000/svg\" height=\"24px\" viewBox=\"0 -960 960 960\">\n",
              "    <path d=\"M120-120v-720h720v720H120Zm60-500h600v-160H180v160Zm220 220h160v-160H400v160Zm0 220h160v-160H400v160ZM180-400h160v-160H180v160Zm440 0h160v-160H620v160ZM180-180h160v-160H180v160Zm440 0h160v-160H620v160Z\"/>\n",
              "  </svg>\n",
              "    </button>\n",
              "\n",
              "  <style>\n",
              "    .colab-df-container {\n",
              "      display:flex;\n",
              "      gap: 12px;\n",
              "    }\n",
              "\n",
              "    .colab-df-convert {\n",
              "      background-color: #E8F0FE;\n",
              "      border: none;\n",
              "      border-radius: 50%;\n",
              "      cursor: pointer;\n",
              "      display: none;\n",
              "      fill: #1967D2;\n",
              "      height: 32px;\n",
              "      padding: 0 0 0 0;\n",
              "      width: 32px;\n",
              "    }\n",
              "\n",
              "    .colab-df-convert:hover {\n",
              "      background-color: #E2EBFA;\n",
              "      box-shadow: 0px 1px 2px rgba(60, 64, 67, 0.3), 0px 1px 3px 1px rgba(60, 64, 67, 0.15);\n",
              "      fill: #174EA6;\n",
              "    }\n",
              "\n",
              "    .colab-df-buttons div {\n",
              "      margin-bottom: 4px;\n",
              "    }\n",
              "\n",
              "    [theme=dark] .colab-df-convert {\n",
              "      background-color: #3B4455;\n",
              "      fill: #D2E3FC;\n",
              "    }\n",
              "\n",
              "    [theme=dark] .colab-df-convert:hover {\n",
              "      background-color: #434B5C;\n",
              "      box-shadow: 0px 1px 3px 1px rgba(0, 0, 0, 0.15);\n",
              "      filter: drop-shadow(0px 1px 2px rgba(0, 0, 0, 0.3));\n",
              "      fill: #FFFFFF;\n",
              "    }\n",
              "  </style>\n",
              "\n",
              "    <script>\n",
              "      const buttonEl =\n",
              "        document.querySelector('#df-33a8effa-0034-4c13-be8c-2e340e969821 button.colab-df-convert');\n",
              "      buttonEl.style.display =\n",
              "        google.colab.kernel.accessAllowed ? 'block' : 'none';\n",
              "\n",
              "      async function convertToInteractive(key) {\n",
              "        const element = document.querySelector('#df-33a8effa-0034-4c13-be8c-2e340e969821');\n",
              "        const dataTable =\n",
              "          await google.colab.kernel.invokeFunction('convertToInteractive',\n",
              "                                                    [key], {});\n",
              "        if (!dataTable) return;\n",
              "\n",
              "        const docLinkHtml = 'Like what you see? Visit the ' +\n",
              "          '<a target=\"_blank\" href=https://colab.research.google.com/notebooks/data_table.ipynb>data table notebook</a>'\n",
              "          + ' to learn more about interactive tables.';\n",
              "        element.innerHTML = '';\n",
              "        dataTable['output_type'] = 'display_data';\n",
              "        await google.colab.output.renderOutput(dataTable, element);\n",
              "        const docLink = document.createElement('div');\n",
              "        docLink.innerHTML = docLinkHtml;\n",
              "        element.appendChild(docLink);\n",
              "      }\n",
              "    </script>\n",
              "  </div>\n",
              "\n",
              "\n",
              "<div id=\"df-4761070d-bd9e-42d3-8cad-69892056abf2\">\n",
              "  <button class=\"colab-df-quickchart\" onclick=\"quickchart('df-4761070d-bd9e-42d3-8cad-69892056abf2')\"\n",
              "            title=\"Suggest charts\"\n",
              "            style=\"display:none;\">\n",
              "\n",
              "<svg xmlns=\"http://www.w3.org/2000/svg\" height=\"24px\"viewBox=\"0 0 24 24\"\n",
              "     width=\"24px\">\n",
              "    <g>\n",
              "        <path d=\"M19 3H5c-1.1 0-2 .9-2 2v14c0 1.1.9 2 2 2h14c1.1 0 2-.9 2-2V5c0-1.1-.9-2-2-2zM9 17H7v-7h2v7zm4 0h-2V7h2v10zm4 0h-2v-4h2v4z\"/>\n",
              "    </g>\n",
              "</svg>\n",
              "  </button>\n",
              "\n",
              "<style>\n",
              "  .colab-df-quickchart {\n",
              "      --bg-color: #E8F0FE;\n",
              "      --fill-color: #1967D2;\n",
              "      --hover-bg-color: #E2EBFA;\n",
              "      --hover-fill-color: #174EA6;\n",
              "      --disabled-fill-color: #AAA;\n",
              "      --disabled-bg-color: #DDD;\n",
              "  }\n",
              "\n",
              "  [theme=dark] .colab-df-quickchart {\n",
              "      --bg-color: #3B4455;\n",
              "      --fill-color: #D2E3FC;\n",
              "      --hover-bg-color: #434B5C;\n",
              "      --hover-fill-color: #FFFFFF;\n",
              "      --disabled-bg-color: #3B4455;\n",
              "      --disabled-fill-color: #666;\n",
              "  }\n",
              "\n",
              "  .colab-df-quickchart {\n",
              "    background-color: var(--bg-color);\n",
              "    border: none;\n",
              "    border-radius: 50%;\n",
              "    cursor: pointer;\n",
              "    display: none;\n",
              "    fill: var(--fill-color);\n",
              "    height: 32px;\n",
              "    padding: 0;\n",
              "    width: 32px;\n",
              "  }\n",
              "\n",
              "  .colab-df-quickchart:hover {\n",
              "    background-color: var(--hover-bg-color);\n",
              "    box-shadow: 0 1px 2px rgba(60, 64, 67, 0.3), 0 1px 3px 1px rgba(60, 64, 67, 0.15);\n",
              "    fill: var(--button-hover-fill-color);\n",
              "  }\n",
              "\n",
              "  .colab-df-quickchart-complete:disabled,\n",
              "  .colab-df-quickchart-complete:disabled:hover {\n",
              "    background-color: var(--disabled-bg-color);\n",
              "    fill: var(--disabled-fill-color);\n",
              "    box-shadow: none;\n",
              "  }\n",
              "\n",
              "  .colab-df-spinner {\n",
              "    border: 2px solid var(--fill-color);\n",
              "    border-color: transparent;\n",
              "    border-bottom-color: var(--fill-color);\n",
              "    animation:\n",
              "      spin 1s steps(1) infinite;\n",
              "  }\n",
              "\n",
              "  @keyframes spin {\n",
              "    0% {\n",
              "      border-color: transparent;\n",
              "      border-bottom-color: var(--fill-color);\n",
              "      border-left-color: var(--fill-color);\n",
              "    }\n",
              "    20% {\n",
              "      border-color: transparent;\n",
              "      border-left-color: var(--fill-color);\n",
              "      border-top-color: var(--fill-color);\n",
              "    }\n",
              "    30% {\n",
              "      border-color: transparent;\n",
              "      border-left-color: var(--fill-color);\n",
              "      border-top-color: var(--fill-color);\n",
              "      border-right-color: var(--fill-color);\n",
              "    }\n",
              "    40% {\n",
              "      border-color: transparent;\n",
              "      border-right-color: var(--fill-color);\n",
              "      border-top-color: var(--fill-color);\n",
              "    }\n",
              "    60% {\n",
              "      border-color: transparent;\n",
              "      border-right-color: var(--fill-color);\n",
              "    }\n",
              "    80% {\n",
              "      border-color: transparent;\n",
              "      border-right-color: var(--fill-color);\n",
              "      border-bottom-color: var(--fill-color);\n",
              "    }\n",
              "    90% {\n",
              "      border-color: transparent;\n",
              "      border-bottom-color: var(--fill-color);\n",
              "    }\n",
              "  }\n",
              "</style>\n",
              "\n",
              "  <script>\n",
              "    async function quickchart(key) {\n",
              "      const quickchartButtonEl =\n",
              "        document.querySelector('#' + key + ' button');\n",
              "      quickchartButtonEl.disabled = true;  // To prevent multiple clicks.\n",
              "      quickchartButtonEl.classList.add('colab-df-spinner');\n",
              "      try {\n",
              "        const charts = await google.colab.kernel.invokeFunction(\n",
              "            'suggestCharts', [key], {});\n",
              "      } catch (error) {\n",
              "        console.error('Error during call to suggestCharts:', error);\n",
              "      }\n",
              "      quickchartButtonEl.classList.remove('colab-df-spinner');\n",
              "      quickchartButtonEl.classList.add('colab-df-quickchart-complete');\n",
              "    }\n",
              "    (() => {\n",
              "      let quickchartButtonEl =\n",
              "        document.querySelector('#df-4761070d-bd9e-42d3-8cad-69892056abf2 button');\n",
              "      quickchartButtonEl.style.display =\n",
              "        google.colab.kernel.accessAllowed ? 'block' : 'none';\n",
              "    })();\n",
              "  </script>\n",
              "</div>\n",
              "    </div>\n",
              "  </div>\n"
            ],
            "application/vnd.google.colaboratory.intrinsic+json": {
              "type": "dataframe",
              "variable_name": "df"
            }
          },
          "metadata": {},
          "execution_count": 210
        }
      ]
    },
    {
      "cell_type": "markdown",
      "source": [
        "##Now examine the data\n",
        "The biggest worry is that once we get to the testing of the model, using the synthetic data, we may be trying to map the model based on the training data to data that is completely random.\n",
        "Since we have data for May 2023 to May 2024 I selected a splitting date of Feb 1st 2024 so we have nearly a 75 to 25% split and are predicting for the latter quarter of the timeframe.\n",
        "I did not split on the random 80/20 split because we would be including values for the prediction timeframe in the Training set, if I did."
      ],
      "metadata": {
        "id": "_w7QtA14KxS_"
      }
    },
    {
      "cell_type": "code",
      "source": [
        "import pandas as pd\n",
        "import numpy as np\n",
        "import seaborn as sn\n",
        "import matplotlib.pyplot as plt\n",
        "import datetime\n",
        "datetosplit = '2024-02-01'\n",
        "reference_date = datetime.date(1970, 1, 1)\n",
        "# train_test_split is used to easily divide data into training and testing sets.\n",
        "from sklearn.model_selection import train_test_split\n",
        "# LinearRegression is the model we'll be using from scikit-learn.\n",
        "from sklearn.linear_model import LinearRegression\n",
        "# mean_absolute_error and mean_squared_error are metrics to evaluate our model.\n",
        "from sklearn.metrics import mean_absolute_error, mean_squared_error, r2_score\n",
        "# matplotlib.pyplot is used for plotting graphs.\n",
        "import matplotlib.pyplot as plt\n",
        "from sklearn.ensemble import RandomForestRegressor"
      ],
      "metadata": {
        "id": "tw8W1opWMTQL"
      },
      "execution_count": 211,
      "outputs": []
    },
    {
      "cell_type": "code",
      "source": [
        "df = df.sort_values([\"Date of Sale\"], ascending = (True)) # order the data by year, month, day in ascending order.\n",
        "df.head() # check the data again by viewing the first 5 rows"
      ],
      "metadata": {
        "colab": {
          "base_uri": "https://localhost:8080/",
          "height": 206
        },
        "id": "lAksB5ogLObq",
        "outputId": "976844d3-4708-4c1c-cfd5-f5d52ab54cef"
      },
      "execution_count": 212,
      "outputs": [
        {
          "output_type": "execute_result",
          "data": {
            "text/plain": [
              "        Store ID      Country  Product ID Product Category  Units Sold  \\\n",
              "199627      2118      Germany       20385           Womens          32   \n",
              "154482     10059      Denmark       16106           Womens          79   \n",
              "29229       2881      Germany       88964           Womens          84   \n",
              "154639      7176      Belgium       93521             Mens          78   \n",
              "154901      6572  Netherlands       12538           Womens          98   \n",
              "\n",
              "       Date of Sale  GDP Growth Rate  Inflation Rate  Price Sold  \n",
              "199627   2023-05-04             1.89            2.46       63.77  \n",
              "154482   2023-05-04             1.16            0.48       22.50  \n",
              "29229    2023-05-04             0.15            1.33       24.19  \n",
              "154639   2023-05-04             2.43            2.48       37.30  \n",
              "154901   2023-05-04             0.72            0.23       61.17  "
            ],
            "text/html": [
              "\n",
              "  <div id=\"df-a26089c7-1229-4122-9fe5-cd60320a0fb8\" class=\"colab-df-container\">\n",
              "    <div>\n",
              "<style scoped>\n",
              "    .dataframe tbody tr th:only-of-type {\n",
              "        vertical-align: middle;\n",
              "    }\n",
              "\n",
              "    .dataframe tbody tr th {\n",
              "        vertical-align: top;\n",
              "    }\n",
              "\n",
              "    .dataframe thead th {\n",
              "        text-align: right;\n",
              "    }\n",
              "</style>\n",
              "<table border=\"1\" class=\"dataframe\">\n",
              "  <thead>\n",
              "    <tr style=\"text-align: right;\">\n",
              "      <th></th>\n",
              "      <th>Store ID</th>\n",
              "      <th>Country</th>\n",
              "      <th>Product ID</th>\n",
              "      <th>Product Category</th>\n",
              "      <th>Units Sold</th>\n",
              "      <th>Date of Sale</th>\n",
              "      <th>GDP Growth Rate</th>\n",
              "      <th>Inflation Rate</th>\n",
              "      <th>Price Sold</th>\n",
              "    </tr>\n",
              "  </thead>\n",
              "  <tbody>\n",
              "    <tr>\n",
              "      <th>199627</th>\n",
              "      <td>2118</td>\n",
              "      <td>Germany</td>\n",
              "      <td>20385</td>\n",
              "      <td>Womens</td>\n",
              "      <td>32</td>\n",
              "      <td>2023-05-04</td>\n",
              "      <td>1.89</td>\n",
              "      <td>2.46</td>\n",
              "      <td>63.77</td>\n",
              "    </tr>\n",
              "    <tr>\n",
              "      <th>154482</th>\n",
              "      <td>10059</td>\n",
              "      <td>Denmark</td>\n",
              "      <td>16106</td>\n",
              "      <td>Womens</td>\n",
              "      <td>79</td>\n",
              "      <td>2023-05-04</td>\n",
              "      <td>1.16</td>\n",
              "      <td>0.48</td>\n",
              "      <td>22.50</td>\n",
              "    </tr>\n",
              "    <tr>\n",
              "      <th>29229</th>\n",
              "      <td>2881</td>\n",
              "      <td>Germany</td>\n",
              "      <td>88964</td>\n",
              "      <td>Womens</td>\n",
              "      <td>84</td>\n",
              "      <td>2023-05-04</td>\n",
              "      <td>0.15</td>\n",
              "      <td>1.33</td>\n",
              "      <td>24.19</td>\n",
              "    </tr>\n",
              "    <tr>\n",
              "      <th>154639</th>\n",
              "      <td>7176</td>\n",
              "      <td>Belgium</td>\n",
              "      <td>93521</td>\n",
              "      <td>Mens</td>\n",
              "      <td>78</td>\n",
              "      <td>2023-05-04</td>\n",
              "      <td>2.43</td>\n",
              "      <td>2.48</td>\n",
              "      <td>37.30</td>\n",
              "    </tr>\n",
              "    <tr>\n",
              "      <th>154901</th>\n",
              "      <td>6572</td>\n",
              "      <td>Netherlands</td>\n",
              "      <td>12538</td>\n",
              "      <td>Womens</td>\n",
              "      <td>98</td>\n",
              "      <td>2023-05-04</td>\n",
              "      <td>0.72</td>\n",
              "      <td>0.23</td>\n",
              "      <td>61.17</td>\n",
              "    </tr>\n",
              "  </tbody>\n",
              "</table>\n",
              "</div>\n",
              "    <div class=\"colab-df-buttons\">\n",
              "\n",
              "  <div class=\"colab-df-container\">\n",
              "    <button class=\"colab-df-convert\" onclick=\"convertToInteractive('df-a26089c7-1229-4122-9fe5-cd60320a0fb8')\"\n",
              "            title=\"Convert this dataframe to an interactive table.\"\n",
              "            style=\"display:none;\">\n",
              "\n",
              "  <svg xmlns=\"http://www.w3.org/2000/svg\" height=\"24px\" viewBox=\"0 -960 960 960\">\n",
              "    <path d=\"M120-120v-720h720v720H120Zm60-500h600v-160H180v160Zm220 220h160v-160H400v160Zm0 220h160v-160H400v160ZM180-400h160v-160H180v160Zm440 0h160v-160H620v160ZM180-180h160v-160H180v160Zm440 0h160v-160H620v160Z\"/>\n",
              "  </svg>\n",
              "    </button>\n",
              "\n",
              "  <style>\n",
              "    .colab-df-container {\n",
              "      display:flex;\n",
              "      gap: 12px;\n",
              "    }\n",
              "\n",
              "    .colab-df-convert {\n",
              "      background-color: #E8F0FE;\n",
              "      border: none;\n",
              "      border-radius: 50%;\n",
              "      cursor: pointer;\n",
              "      display: none;\n",
              "      fill: #1967D2;\n",
              "      height: 32px;\n",
              "      padding: 0 0 0 0;\n",
              "      width: 32px;\n",
              "    }\n",
              "\n",
              "    .colab-df-convert:hover {\n",
              "      background-color: #E2EBFA;\n",
              "      box-shadow: 0px 1px 2px rgba(60, 64, 67, 0.3), 0px 1px 3px 1px rgba(60, 64, 67, 0.15);\n",
              "      fill: #174EA6;\n",
              "    }\n",
              "\n",
              "    .colab-df-buttons div {\n",
              "      margin-bottom: 4px;\n",
              "    }\n",
              "\n",
              "    [theme=dark] .colab-df-convert {\n",
              "      background-color: #3B4455;\n",
              "      fill: #D2E3FC;\n",
              "    }\n",
              "\n",
              "    [theme=dark] .colab-df-convert:hover {\n",
              "      background-color: #434B5C;\n",
              "      box-shadow: 0px 1px 3px 1px rgba(0, 0, 0, 0.15);\n",
              "      filter: drop-shadow(0px 1px 2px rgba(0, 0, 0, 0.3));\n",
              "      fill: #FFFFFF;\n",
              "    }\n",
              "  </style>\n",
              "\n",
              "    <script>\n",
              "      const buttonEl =\n",
              "        document.querySelector('#df-a26089c7-1229-4122-9fe5-cd60320a0fb8 button.colab-df-convert');\n",
              "      buttonEl.style.display =\n",
              "        google.colab.kernel.accessAllowed ? 'block' : 'none';\n",
              "\n",
              "      async function convertToInteractive(key) {\n",
              "        const element = document.querySelector('#df-a26089c7-1229-4122-9fe5-cd60320a0fb8');\n",
              "        const dataTable =\n",
              "          await google.colab.kernel.invokeFunction('convertToInteractive',\n",
              "                                                    [key], {});\n",
              "        if (!dataTable) return;\n",
              "\n",
              "        const docLinkHtml = 'Like what you see? Visit the ' +\n",
              "          '<a target=\"_blank\" href=https://colab.research.google.com/notebooks/data_table.ipynb>data table notebook</a>'\n",
              "          + ' to learn more about interactive tables.';\n",
              "        element.innerHTML = '';\n",
              "        dataTable['output_type'] = 'display_data';\n",
              "        await google.colab.output.renderOutput(dataTable, element);\n",
              "        const docLink = document.createElement('div');\n",
              "        docLink.innerHTML = docLinkHtml;\n",
              "        element.appendChild(docLink);\n",
              "      }\n",
              "    </script>\n",
              "  </div>\n",
              "\n",
              "\n",
              "<div id=\"df-034562ea-b0ce-4db2-9bed-4e0b1615397f\">\n",
              "  <button class=\"colab-df-quickchart\" onclick=\"quickchart('df-034562ea-b0ce-4db2-9bed-4e0b1615397f')\"\n",
              "            title=\"Suggest charts\"\n",
              "            style=\"display:none;\">\n",
              "\n",
              "<svg xmlns=\"http://www.w3.org/2000/svg\" height=\"24px\"viewBox=\"0 0 24 24\"\n",
              "     width=\"24px\">\n",
              "    <g>\n",
              "        <path d=\"M19 3H5c-1.1 0-2 .9-2 2v14c0 1.1.9 2 2 2h14c1.1 0 2-.9 2-2V5c0-1.1-.9-2-2-2zM9 17H7v-7h2v7zm4 0h-2V7h2v10zm4 0h-2v-4h2v4z\"/>\n",
              "    </g>\n",
              "</svg>\n",
              "  </button>\n",
              "\n",
              "<style>\n",
              "  .colab-df-quickchart {\n",
              "      --bg-color: #E8F0FE;\n",
              "      --fill-color: #1967D2;\n",
              "      --hover-bg-color: #E2EBFA;\n",
              "      --hover-fill-color: #174EA6;\n",
              "      --disabled-fill-color: #AAA;\n",
              "      --disabled-bg-color: #DDD;\n",
              "  }\n",
              "\n",
              "  [theme=dark] .colab-df-quickchart {\n",
              "      --bg-color: #3B4455;\n",
              "      --fill-color: #D2E3FC;\n",
              "      --hover-bg-color: #434B5C;\n",
              "      --hover-fill-color: #FFFFFF;\n",
              "      --disabled-bg-color: #3B4455;\n",
              "      --disabled-fill-color: #666;\n",
              "  }\n",
              "\n",
              "  .colab-df-quickchart {\n",
              "    background-color: var(--bg-color);\n",
              "    border: none;\n",
              "    border-radius: 50%;\n",
              "    cursor: pointer;\n",
              "    display: none;\n",
              "    fill: var(--fill-color);\n",
              "    height: 32px;\n",
              "    padding: 0;\n",
              "    width: 32px;\n",
              "  }\n",
              "\n",
              "  .colab-df-quickchart:hover {\n",
              "    background-color: var(--hover-bg-color);\n",
              "    box-shadow: 0 1px 2px rgba(60, 64, 67, 0.3), 0 1px 3px 1px rgba(60, 64, 67, 0.15);\n",
              "    fill: var(--button-hover-fill-color);\n",
              "  }\n",
              "\n",
              "  .colab-df-quickchart-complete:disabled,\n",
              "  .colab-df-quickchart-complete:disabled:hover {\n",
              "    background-color: var(--disabled-bg-color);\n",
              "    fill: var(--disabled-fill-color);\n",
              "    box-shadow: none;\n",
              "  }\n",
              "\n",
              "  .colab-df-spinner {\n",
              "    border: 2px solid var(--fill-color);\n",
              "    border-color: transparent;\n",
              "    border-bottom-color: var(--fill-color);\n",
              "    animation:\n",
              "      spin 1s steps(1) infinite;\n",
              "  }\n",
              "\n",
              "  @keyframes spin {\n",
              "    0% {\n",
              "      border-color: transparent;\n",
              "      border-bottom-color: var(--fill-color);\n",
              "      border-left-color: var(--fill-color);\n",
              "    }\n",
              "    20% {\n",
              "      border-color: transparent;\n",
              "      border-left-color: var(--fill-color);\n",
              "      border-top-color: var(--fill-color);\n",
              "    }\n",
              "    30% {\n",
              "      border-color: transparent;\n",
              "      border-left-color: var(--fill-color);\n",
              "      border-top-color: var(--fill-color);\n",
              "      border-right-color: var(--fill-color);\n",
              "    }\n",
              "    40% {\n",
              "      border-color: transparent;\n",
              "      border-right-color: var(--fill-color);\n",
              "      border-top-color: var(--fill-color);\n",
              "    }\n",
              "    60% {\n",
              "      border-color: transparent;\n",
              "      border-right-color: var(--fill-color);\n",
              "    }\n",
              "    80% {\n",
              "      border-color: transparent;\n",
              "      border-right-color: var(--fill-color);\n",
              "      border-bottom-color: var(--fill-color);\n",
              "    }\n",
              "    90% {\n",
              "      border-color: transparent;\n",
              "      border-bottom-color: var(--fill-color);\n",
              "    }\n",
              "  }\n",
              "</style>\n",
              "\n",
              "  <script>\n",
              "    async function quickchart(key) {\n",
              "      const quickchartButtonEl =\n",
              "        document.querySelector('#' + key + ' button');\n",
              "      quickchartButtonEl.disabled = true;  // To prevent multiple clicks.\n",
              "      quickchartButtonEl.classList.add('colab-df-spinner');\n",
              "      try {\n",
              "        const charts = await google.colab.kernel.invokeFunction(\n",
              "            'suggestCharts', [key], {});\n",
              "      } catch (error) {\n",
              "        console.error('Error during call to suggestCharts:', error);\n",
              "      }\n",
              "      quickchartButtonEl.classList.remove('colab-df-spinner');\n",
              "      quickchartButtonEl.classList.add('colab-df-quickchart-complete');\n",
              "    }\n",
              "    (() => {\n",
              "      let quickchartButtonEl =\n",
              "        document.querySelector('#df-034562ea-b0ce-4db2-9bed-4e0b1615397f button');\n",
              "      quickchartButtonEl.style.display =\n",
              "        google.colab.kernel.accessAllowed ? 'block' : 'none';\n",
              "    })();\n",
              "  </script>\n",
              "</div>\n",
              "    </div>\n",
              "  </div>\n"
            ],
            "application/vnd.google.colaboratory.intrinsic+json": {
              "type": "dataframe",
              "variable_name": "df"
            }
          },
          "metadata": {},
          "execution_count": 212
        }
      ]
    },
    {
      "cell_type": "code",
      "source": [
        "df.describe()"
      ],
      "metadata": {
        "colab": {
          "base_uri": "https://localhost:8080/",
          "height": 300
        },
        "id": "PvQcgK3HLvKN",
        "outputId": "c4e94e1c-2e2f-4dab-e32c-dfe25b00a3a9"
      },
      "execution_count": 213,
      "outputs": [
        {
          "output_type": "execute_result",
          "data": {
            "text/plain": [
              "            Store ID     Product ID     Units Sold  GDP Growth Rate  \\\n",
              "count  300000.000000  300000.000000  300000.000000    300000.000000   \n",
              "mean     5987.140990   55076.436663      50.572453         1.448650   \n",
              "std      2889.554299   25986.196626      28.857025         0.855469   \n",
              "min      1000.000000   10000.000000       1.000000         0.000000   \n",
              "25%      3476.000000   32605.000000      26.000000         0.710000   \n",
              "50%      5985.000000   55124.000000      51.000000         1.430000   \n",
              "75%      8488.000000   77569.250000      76.000000         2.160000   \n",
              "max     10999.000000   99999.000000     100.000000         3.000000   \n",
              "\n",
              "       Inflation Rate     Price Sold  \n",
              "count   300000.000000  300000.000000  \n",
              "mean         1.449116      54.996854  \n",
              "std          0.855604      25.982285  \n",
              "min          0.000000      10.000000  \n",
              "25%          0.710000      32.480000  \n",
              "50%          1.430000      54.950000  \n",
              "75%          2.170000      77.450000  \n",
              "max          3.000000     100.000000  "
            ],
            "text/html": [
              "\n",
              "  <div id=\"df-71a298d7-97e0-4f24-acc9-4ca4da043c57\" class=\"colab-df-container\">\n",
              "    <div>\n",
              "<style scoped>\n",
              "    .dataframe tbody tr th:only-of-type {\n",
              "        vertical-align: middle;\n",
              "    }\n",
              "\n",
              "    .dataframe tbody tr th {\n",
              "        vertical-align: top;\n",
              "    }\n",
              "\n",
              "    .dataframe thead th {\n",
              "        text-align: right;\n",
              "    }\n",
              "</style>\n",
              "<table border=\"1\" class=\"dataframe\">\n",
              "  <thead>\n",
              "    <tr style=\"text-align: right;\">\n",
              "      <th></th>\n",
              "      <th>Store ID</th>\n",
              "      <th>Product ID</th>\n",
              "      <th>Units Sold</th>\n",
              "      <th>GDP Growth Rate</th>\n",
              "      <th>Inflation Rate</th>\n",
              "      <th>Price Sold</th>\n",
              "    </tr>\n",
              "  </thead>\n",
              "  <tbody>\n",
              "    <tr>\n",
              "      <th>count</th>\n",
              "      <td>300000.000000</td>\n",
              "      <td>300000.000000</td>\n",
              "      <td>300000.000000</td>\n",
              "      <td>300000.000000</td>\n",
              "      <td>300000.000000</td>\n",
              "      <td>300000.000000</td>\n",
              "    </tr>\n",
              "    <tr>\n",
              "      <th>mean</th>\n",
              "      <td>5987.140990</td>\n",
              "      <td>55076.436663</td>\n",
              "      <td>50.572453</td>\n",
              "      <td>1.448650</td>\n",
              "      <td>1.449116</td>\n",
              "      <td>54.996854</td>\n",
              "    </tr>\n",
              "    <tr>\n",
              "      <th>std</th>\n",
              "      <td>2889.554299</td>\n",
              "      <td>25986.196626</td>\n",
              "      <td>28.857025</td>\n",
              "      <td>0.855469</td>\n",
              "      <td>0.855604</td>\n",
              "      <td>25.982285</td>\n",
              "    </tr>\n",
              "    <tr>\n",
              "      <th>min</th>\n",
              "      <td>1000.000000</td>\n",
              "      <td>10000.000000</td>\n",
              "      <td>1.000000</td>\n",
              "      <td>0.000000</td>\n",
              "      <td>0.000000</td>\n",
              "      <td>10.000000</td>\n",
              "    </tr>\n",
              "    <tr>\n",
              "      <th>25%</th>\n",
              "      <td>3476.000000</td>\n",
              "      <td>32605.000000</td>\n",
              "      <td>26.000000</td>\n",
              "      <td>0.710000</td>\n",
              "      <td>0.710000</td>\n",
              "      <td>32.480000</td>\n",
              "    </tr>\n",
              "    <tr>\n",
              "      <th>50%</th>\n",
              "      <td>5985.000000</td>\n",
              "      <td>55124.000000</td>\n",
              "      <td>51.000000</td>\n",
              "      <td>1.430000</td>\n",
              "      <td>1.430000</td>\n",
              "      <td>54.950000</td>\n",
              "    </tr>\n",
              "    <tr>\n",
              "      <th>75%</th>\n",
              "      <td>8488.000000</td>\n",
              "      <td>77569.250000</td>\n",
              "      <td>76.000000</td>\n",
              "      <td>2.160000</td>\n",
              "      <td>2.170000</td>\n",
              "      <td>77.450000</td>\n",
              "    </tr>\n",
              "    <tr>\n",
              "      <th>max</th>\n",
              "      <td>10999.000000</td>\n",
              "      <td>99999.000000</td>\n",
              "      <td>100.000000</td>\n",
              "      <td>3.000000</td>\n",
              "      <td>3.000000</td>\n",
              "      <td>100.000000</td>\n",
              "    </tr>\n",
              "  </tbody>\n",
              "</table>\n",
              "</div>\n",
              "    <div class=\"colab-df-buttons\">\n",
              "\n",
              "  <div class=\"colab-df-container\">\n",
              "    <button class=\"colab-df-convert\" onclick=\"convertToInteractive('df-71a298d7-97e0-4f24-acc9-4ca4da043c57')\"\n",
              "            title=\"Convert this dataframe to an interactive table.\"\n",
              "            style=\"display:none;\">\n",
              "\n",
              "  <svg xmlns=\"http://www.w3.org/2000/svg\" height=\"24px\" viewBox=\"0 -960 960 960\">\n",
              "    <path d=\"M120-120v-720h720v720H120Zm60-500h600v-160H180v160Zm220 220h160v-160H400v160Zm0 220h160v-160H400v160ZM180-400h160v-160H180v160Zm440 0h160v-160H620v160ZM180-180h160v-160H180v160Zm440 0h160v-160H620v160Z\"/>\n",
              "  </svg>\n",
              "    </button>\n",
              "\n",
              "  <style>\n",
              "    .colab-df-container {\n",
              "      display:flex;\n",
              "      gap: 12px;\n",
              "    }\n",
              "\n",
              "    .colab-df-convert {\n",
              "      background-color: #E8F0FE;\n",
              "      border: none;\n",
              "      border-radius: 50%;\n",
              "      cursor: pointer;\n",
              "      display: none;\n",
              "      fill: #1967D2;\n",
              "      height: 32px;\n",
              "      padding: 0 0 0 0;\n",
              "      width: 32px;\n",
              "    }\n",
              "\n",
              "    .colab-df-convert:hover {\n",
              "      background-color: #E2EBFA;\n",
              "      box-shadow: 0px 1px 2px rgba(60, 64, 67, 0.3), 0px 1px 3px 1px rgba(60, 64, 67, 0.15);\n",
              "      fill: #174EA6;\n",
              "    }\n",
              "\n",
              "    .colab-df-buttons div {\n",
              "      margin-bottom: 4px;\n",
              "    }\n",
              "\n",
              "    [theme=dark] .colab-df-convert {\n",
              "      background-color: #3B4455;\n",
              "      fill: #D2E3FC;\n",
              "    }\n",
              "\n",
              "    [theme=dark] .colab-df-convert:hover {\n",
              "      background-color: #434B5C;\n",
              "      box-shadow: 0px 1px 3px 1px rgba(0, 0, 0, 0.15);\n",
              "      filter: drop-shadow(0px 1px 2px rgba(0, 0, 0, 0.3));\n",
              "      fill: #FFFFFF;\n",
              "    }\n",
              "  </style>\n",
              "\n",
              "    <script>\n",
              "      const buttonEl =\n",
              "        document.querySelector('#df-71a298d7-97e0-4f24-acc9-4ca4da043c57 button.colab-df-convert');\n",
              "      buttonEl.style.display =\n",
              "        google.colab.kernel.accessAllowed ? 'block' : 'none';\n",
              "\n",
              "      async function convertToInteractive(key) {\n",
              "        const element = document.querySelector('#df-71a298d7-97e0-4f24-acc9-4ca4da043c57');\n",
              "        const dataTable =\n",
              "          await google.colab.kernel.invokeFunction('convertToInteractive',\n",
              "                                                    [key], {});\n",
              "        if (!dataTable) return;\n",
              "\n",
              "        const docLinkHtml = 'Like what you see? Visit the ' +\n",
              "          '<a target=\"_blank\" href=https://colab.research.google.com/notebooks/data_table.ipynb>data table notebook</a>'\n",
              "          + ' to learn more about interactive tables.';\n",
              "        element.innerHTML = '';\n",
              "        dataTable['output_type'] = 'display_data';\n",
              "        await google.colab.output.renderOutput(dataTable, element);\n",
              "        const docLink = document.createElement('div');\n",
              "        docLink.innerHTML = docLinkHtml;\n",
              "        element.appendChild(docLink);\n",
              "      }\n",
              "    </script>\n",
              "  </div>\n",
              "\n",
              "\n",
              "<div id=\"df-a75f1b79-3149-431d-8a5e-c31efc1c66a1\">\n",
              "  <button class=\"colab-df-quickchart\" onclick=\"quickchart('df-a75f1b79-3149-431d-8a5e-c31efc1c66a1')\"\n",
              "            title=\"Suggest charts\"\n",
              "            style=\"display:none;\">\n",
              "\n",
              "<svg xmlns=\"http://www.w3.org/2000/svg\" height=\"24px\"viewBox=\"0 0 24 24\"\n",
              "     width=\"24px\">\n",
              "    <g>\n",
              "        <path d=\"M19 3H5c-1.1 0-2 .9-2 2v14c0 1.1.9 2 2 2h14c1.1 0 2-.9 2-2V5c0-1.1-.9-2-2-2zM9 17H7v-7h2v7zm4 0h-2V7h2v10zm4 0h-2v-4h2v4z\"/>\n",
              "    </g>\n",
              "</svg>\n",
              "  </button>\n",
              "\n",
              "<style>\n",
              "  .colab-df-quickchart {\n",
              "      --bg-color: #E8F0FE;\n",
              "      --fill-color: #1967D2;\n",
              "      --hover-bg-color: #E2EBFA;\n",
              "      --hover-fill-color: #174EA6;\n",
              "      --disabled-fill-color: #AAA;\n",
              "      --disabled-bg-color: #DDD;\n",
              "  }\n",
              "\n",
              "  [theme=dark] .colab-df-quickchart {\n",
              "      --bg-color: #3B4455;\n",
              "      --fill-color: #D2E3FC;\n",
              "      --hover-bg-color: #434B5C;\n",
              "      --hover-fill-color: #FFFFFF;\n",
              "      --disabled-bg-color: #3B4455;\n",
              "      --disabled-fill-color: #666;\n",
              "  }\n",
              "\n",
              "  .colab-df-quickchart {\n",
              "    background-color: var(--bg-color);\n",
              "    border: none;\n",
              "    border-radius: 50%;\n",
              "    cursor: pointer;\n",
              "    display: none;\n",
              "    fill: var(--fill-color);\n",
              "    height: 32px;\n",
              "    padding: 0;\n",
              "    width: 32px;\n",
              "  }\n",
              "\n",
              "  .colab-df-quickchart:hover {\n",
              "    background-color: var(--hover-bg-color);\n",
              "    box-shadow: 0 1px 2px rgba(60, 64, 67, 0.3), 0 1px 3px 1px rgba(60, 64, 67, 0.15);\n",
              "    fill: var(--button-hover-fill-color);\n",
              "  }\n",
              "\n",
              "  .colab-df-quickchart-complete:disabled,\n",
              "  .colab-df-quickchart-complete:disabled:hover {\n",
              "    background-color: var(--disabled-bg-color);\n",
              "    fill: var(--disabled-fill-color);\n",
              "    box-shadow: none;\n",
              "  }\n",
              "\n",
              "  .colab-df-spinner {\n",
              "    border: 2px solid var(--fill-color);\n",
              "    border-color: transparent;\n",
              "    border-bottom-color: var(--fill-color);\n",
              "    animation:\n",
              "      spin 1s steps(1) infinite;\n",
              "  }\n",
              "\n",
              "  @keyframes spin {\n",
              "    0% {\n",
              "      border-color: transparent;\n",
              "      border-bottom-color: var(--fill-color);\n",
              "      border-left-color: var(--fill-color);\n",
              "    }\n",
              "    20% {\n",
              "      border-color: transparent;\n",
              "      border-left-color: var(--fill-color);\n",
              "      border-top-color: var(--fill-color);\n",
              "    }\n",
              "    30% {\n",
              "      border-color: transparent;\n",
              "      border-left-color: var(--fill-color);\n",
              "      border-top-color: var(--fill-color);\n",
              "      border-right-color: var(--fill-color);\n",
              "    }\n",
              "    40% {\n",
              "      border-color: transparent;\n",
              "      border-right-color: var(--fill-color);\n",
              "      border-top-color: var(--fill-color);\n",
              "    }\n",
              "    60% {\n",
              "      border-color: transparent;\n",
              "      border-right-color: var(--fill-color);\n",
              "    }\n",
              "    80% {\n",
              "      border-color: transparent;\n",
              "      border-right-color: var(--fill-color);\n",
              "      border-bottom-color: var(--fill-color);\n",
              "    }\n",
              "    90% {\n",
              "      border-color: transparent;\n",
              "      border-bottom-color: var(--fill-color);\n",
              "    }\n",
              "  }\n",
              "</style>\n",
              "\n",
              "  <script>\n",
              "    async function quickchart(key) {\n",
              "      const quickchartButtonEl =\n",
              "        document.querySelector('#' + key + ' button');\n",
              "      quickchartButtonEl.disabled = true;  // To prevent multiple clicks.\n",
              "      quickchartButtonEl.classList.add('colab-df-spinner');\n",
              "      try {\n",
              "        const charts = await google.colab.kernel.invokeFunction(\n",
              "            'suggestCharts', [key], {});\n",
              "      } catch (error) {\n",
              "        console.error('Error during call to suggestCharts:', error);\n",
              "      }\n",
              "      quickchartButtonEl.classList.remove('colab-df-spinner');\n",
              "      quickchartButtonEl.classList.add('colab-df-quickchart-complete');\n",
              "    }\n",
              "    (() => {\n",
              "      let quickchartButtonEl =\n",
              "        document.querySelector('#df-a75f1b79-3149-431d-8a5e-c31efc1c66a1 button');\n",
              "      quickchartButtonEl.style.display =\n",
              "        google.colab.kernel.accessAllowed ? 'block' : 'none';\n",
              "    })();\n",
              "  </script>\n",
              "</div>\n",
              "    </div>\n",
              "  </div>\n"
            ],
            "application/vnd.google.colaboratory.intrinsic+json": {
              "type": "dataframe",
              "summary": "{\n  \"name\": \"df\",\n  \"rows\": 8,\n  \"fields\": [\n    {\n      \"column\": \"Store ID\",\n      \"properties\": {\n        \"dtype\": \"number\",\n        \"std\": 104153.63004448423,\n        \"min\": 1000.0,\n        \"max\": 300000.0,\n        \"num_unique_values\": 8,\n        \"samples\": [\n          5987.14099,\n          5985.0,\n          300000.0\n        ],\n        \"semantic_type\": \"\",\n        \"description\": \"\"\n      }\n    },\n    {\n      \"column\": \"Product ID\",\n      \"properties\": {\n        \"dtype\": \"number\",\n        \"std\": 92640.77256436012,\n        \"min\": 10000.0,\n        \"max\": 300000.0,\n        \"num_unique_values\": 8,\n        \"samples\": [\n          55076.436663333334,\n          55124.0,\n          300000.0\n        ],\n        \"semantic_type\": \"\",\n        \"description\": \"\"\n      }\n    },\n    {\n      \"column\": \"Units Sold\",\n      \"properties\": {\n        \"dtype\": \"number\",\n        \"std\": 106049.18086606826,\n        \"min\": 1.0,\n        \"max\": 300000.0,\n        \"num_unique_values\": 8,\n        \"samples\": [\n          50.572453333333335,\n          51.0,\n          300000.0\n        ],\n        \"semantic_type\": \"\",\n        \"description\": \"\"\n      }\n    },\n    {\n      \"column\": \"GDP Growth Rate\",\n      \"properties\": {\n        \"dtype\": \"number\",\n        \"std\": 106065.53210071122,\n        \"min\": 0.0,\n        \"max\": 300000.0,\n        \"num_unique_values\": 8,\n        \"samples\": [\n          1.4486496333333334,\n          1.43,\n          300000.0\n        ],\n        \"semantic_type\": \"\",\n        \"description\": \"\"\n      }\n    },\n    {\n      \"column\": \"Inflation Rate\",\n      \"properties\": {\n        \"dtype\": \"number\",\n        \"std\": 106065.53156527772,\n        \"min\": 0.0,\n        \"max\": 300000.0,\n        \"num_unique_values\": 8,\n        \"samples\": [\n          1.4491159333333334,\n          1.43,\n          300000.0\n        ],\n        \"semantic_type\": \"\",\n        \"description\": \"\"\n      }\n    },\n    {\n      \"column\": \"Price Sold\",\n      \"properties\": {\n        \"dtype\": \"number\",\n        \"std\": 106048.04747162569,\n        \"min\": 10.0,\n        \"max\": 300000.0,\n        \"num_unique_values\": 8,\n        \"samples\": [\n          54.9968536,\n          54.95,\n          300000.0\n        ],\n        \"semantic_type\": \"\",\n        \"description\": \"\"\n      }\n    }\n  ]\n}"
            }
          },
          "metadata": {},
          "execution_count": 213
        }
      ]
    },
    {
      "cell_type": "code",
      "source": [
        "df.isnull().sum()"
      ],
      "metadata": {
        "colab": {
          "base_uri": "https://localhost:8080/"
        },
        "id": "yZy5mlWWXPxR",
        "outputId": "63bd227e-73cd-418d-e848-f2a25ce6bf87"
      },
      "execution_count": 183,
      "outputs": [
        {
          "output_type": "execute_result",
          "data": {
            "text/plain": [
              "Store ID            0\n",
              "Country             0\n",
              "Product ID          0\n",
              "Product Category    0\n",
              "Units Sold          0\n",
              "Date of Sale        0\n",
              "GDP Growth Rate     0\n",
              "Inflation Rate      0\n",
              "Price Sold          0\n",
              "dtype: int64"
            ]
          },
          "metadata": {},
          "execution_count": 183
        }
      ]
    },
    {
      "cell_type": "markdown",
      "source": [
        "Looks like no Nulls, which is expected for our synthetic data."
      ],
      "metadata": {
        "id": "bBrwXtnBL5x5"
      }
    },
    {
      "cell_type": "code",
      "source": [
        "df['Units Sold'].isna().sum()"
      ],
      "metadata": {
        "colab": {
          "base_uri": "https://localhost:8080/"
        },
        "id": "K5A1y610uEQ2",
        "outputId": "e0d28c06-ef25-4e17-f159-4c50c6af30e4"
      },
      "execution_count": 214,
      "outputs": [
        {
          "output_type": "execute_result",
          "data": {
            "text/plain": [
              "0"
            ]
          },
          "metadata": {},
          "execution_count": 214
        }
      ]
    },
    {
      "cell_type": "code",
      "source": [
        "#clean up any nulls that might come through in real data\n",
        "df = df.dropna(subset=['Store ID', 'Product ID', 'Units Sold', 'Date of Sale'])"
      ],
      "metadata": {
        "id": "ZD-0i3VuMHsu"
      },
      "execution_count": 216,
      "outputs": []
    },
    {
      "cell_type": "markdown",
      "source": [
        "##Check out the distribution of the data"
      ],
      "metadata": {
        "id": "dmdP6ecaTSWG"
      }
    },
    {
      "cell_type": "code",
      "source": [
        "unique_store = df['Store ID'].nunique()\n",
        "unique_product = df['Product ID'].nunique()\n",
        "unique_product_cat = df['Product Category'].nunique()\n",
        "unique_country = df['Country'].nunique()\n",
        "\n",
        "\n",
        "print(\"Distinct Stores:\", unique_store)\n",
        "print(\"Distinct Products:\", unique_product)\n",
        "print(\"Distinct Product Categories:\", unique_product_cat)\n",
        "print(\"Distinct Countries:\", unique_country)"
      ],
      "metadata": {
        "colab": {
          "base_uri": "https://localhost:8080/"
        },
        "id": "zn4WSC62TYhY",
        "outputId": "e6b62b49-ee99-4284-bef7-c3f3dbec5da8"
      },
      "execution_count": 217,
      "outputs": [
        {
          "output_type": "stream",
          "name": "stdout",
          "text": [
            "Distinct Stores: 10000\n",
            "Distinct Products: 86734\n",
            "Distinct Product Categories: 2\n",
            "Distinct Countries: 10\n"
          ]
        }
      ]
    },
    {
      "cell_type": "code",
      "source": [
        "# Calculating the correlation matrix\n",
        "correlation_matrix = df.corr(numeric_only=True)\n",
        "#numeric_only is a new variable for the correlation matrix.\n",
        "#If we want to include Country, we would have to include one-hot-encoding on Country because it is a string and will not fit in a correlation matrix.\n",
        "# Initializes a new figure for plotting with a specified size to ensure the heatmap is large enough to read.\n",
        "plt.figure(figsize=(10, 8))\n",
        "\n",
        "# Creates a heatmap to visualize the correlation matrix.\n",
        "# - annot=True displays the correlation coefficient values inside the squares.\n",
        "# - cmap='coolwarm' chooses a color map that visually represents positive (warm) and negative (cool) correlations.\n",
        "# - fmt=\".2f\" formats the annotation strings to display only two decimal places.\n",
        "# - linewidths=.5 adds lines between squares to separate them visually.\n",
        "sn.heatmap(correlation_matrix, annot=True, cmap='coolwarm', fmt=\".2f\", linewidths=.5)\n",
        "\n",
        "# Sets the title of the heatmap for clarity.\n",
        "plt.title('Correlation Matrix of Variables')\n",
        "\n",
        "# Displays the plot. Without this, the figure would not be shown in a notebook.\n",
        "plt.show()"
      ],
      "metadata": {
        "colab": {
          "base_uri": "https://localhost:8080/",
          "height": 806
        },
        "id": "XD1mhBa1XakR",
        "outputId": "a30f9d76-fbe5-49c9-ffb1-833ccf052603"
      },
      "execution_count": 218,
      "outputs": [
        {
          "output_type": "display_data",
          "data": {
            "text/plain": [
              "<Figure size 1000x800 with 2 Axes>"
            ],
            "image/png": "[encoded data removed]"
          },
          "metadata": {}
        }
      ]
    },
    {
      "cell_type": "code",
      "source": [
        "min_sale_date = df['Date of Sale'].min()\n",
        "max_sale_date = df['Date of Sale'].max()\n",
        "\n",
        "print(\"Minimum date:\", min_sale_date)\n",
        "print(\"Maximum date:\", max_sale_date)"
      ],
      "metadata": {
        "colab": {
          "base_uri": "https://localhost:8080/"
        },
        "id": "UNLN497NU7bH",
        "outputId": "6ca3ba54-2489-44fd-8ae2-152bfc91df9f"
      },
      "execution_count": 219,
      "outputs": [
        {
          "output_type": "stream",
          "name": "stdout",
          "text": [
            "Minimum date: 2023-05-04\n",
            "Maximum date: 2024-05-03\n"
          ]
        }
      ]
    },
    {
      "cell_type": "markdown",
      "source": [
        "#Date issues##\n",
        "Since we are trying to predict future demand, this suggests that when we divide the Training and Test data, we need to do this on a date basis.  Including dates in the training set that should appear in the test set is not desired.  When using this on real data in production, the future dates will all be empty.\n",
        "\n",
        "So, selecting out test and train data set should probably be on dates rather than simply a percentage.  The suggestion here is that we train 9 months and test against 3 months.\n",
        "\n",
        "Once the data split is completed, I had to drop the Date of Sale feature because it would not process as a number.  The componensts of the date can be reconstituted for charts at a later point.\n",
        "The below includes one-hot encoding for the Product Category and Country."
      ],
      "metadata": {
        "id": "NvIP6M16VMqA"
      }
    },
    {
      "cell_type": "code",
      "source": [
        "df['Date of Sale'] = pd.to_datetime(df['Date of Sale'])\n",
        "print(df['Date of Sale'].head(10))\n",
        "#df['Units Sold'] = df['Units Sold'].astype(int)\n",
        "print('Actuals:', df['Units Sold'].head(10))\n",
        "\n",
        "# find the rows that contain non-integer values\n",
        "print(df['Units Sold'].head(10))"
      ],
      "metadata": {
        "colab": {
          "base_uri": "https://localhost:8080/"
        },
        "outputId": "7a4a9454-ed69-4d8e-f847-e72a86d7fb59",
        "id": "8QqiIrSaao5H"
      },
      "execution_count": 243,
      "outputs": [
        {
          "output_type": "stream",
          "name": "stdout",
          "text": [
            "199627   2023-05-04\n",
            "154482   2023-05-04\n",
            "29229    2023-05-04\n",
            "154639   2023-05-04\n",
            "154901   2023-05-04\n",
            "29143    2023-05-04\n",
            "14138    2023-05-04\n",
            "155240   2023-05-04\n",
            "155247   2023-05-04\n",
            "155836   2023-05-04\n",
            "Name: Date of Sale, dtype: datetime64[ns]\n",
            "Actuals: 199627    32\n",
            "154482    79\n",
            "29229     84\n",
            "154639    78\n",
            "154901    98\n",
            "29143     76\n",
            "14138     71\n",
            "155240    53\n",
            "155247     8\n",
            "155836    99\n",
            "Name: Units Sold, dtype: int64\n",
            "199627    32\n",
            "154482    79\n",
            "29229     84\n",
            "154639    78\n",
            "154901    98\n",
            "29143     76\n",
            "14138     71\n",
            "155240    53\n",
            "155247     8\n",
            "155836    99\n",
            "Name: Units Sold, dtype: int64\n"
          ]
        }
      ]
    },
    {
      "cell_type": "code",
      "source": [
        "df['Date of Sale'] = pd.to_datetime(df['Date of Sale'])\n",
        "#df['DOS'] = (df['Date of Sale'] - reference_date).days\n",
        "# Selecting the features for the model. These are the independent variables.\n",
        "#X = df[['Store ID', 'Product Category', 'Date of Sale', \t'GDP Growth Rate',\t'Inflation Rate',\t'Price Sold']]\n",
        "\n",
        "\n",
        "X = df[['Store ID', 'Date of Sale', 'GDP Growth Rate', 'Inflation Rate', 'Price Sold']]\n",
        "X = pd.get_dummies(df, columns=['Product Category'])\n",
        "X = pd.get_dummies(X, columns=['Country'])\n",
        "X['Year'] = df['Date of Sale'].dt.year\n",
        "X['Month'] = df['Date of Sale'].dt.month\n",
        "X['Day'] = df['Date of Sale'].dt.day\n",
        "X['Weekday'] = df['Date of Sale'].dt.weekday  # Monday=0, Sunday=6\n",
        "\n",
        "y = df['Units Sold']\n",
        "split_date = pd.to_datetime(datetosplit)\n",
        "# Data before the split date\n",
        "X_Train = X[X['Date of Sale'] < split_date]\n",
        "X_Test = X[X['Date of Sale'] >= split_date]\n",
        "Y_Train = y[df['Date of Sale'] < split_date]\n",
        "Y_Test = y[df['Date of Sale'] >= split_date]\n",
        "X_Train = X_Train.drop(columns=['Date of Sale'])\n",
        "\n",
        "X_Test = X_Test.drop(columns=['Date of Sale'])\n",
        "\n",
        "print(\"Data before the split date:\")\n",
        "print(X_Train)\n",
        "\n",
        "print(\"Data on or after the split date:\")\n",
        "print(X_Test)\n",
        "\n",
        "print(\"Data before the split date:\")\n",
        "print(Y_Train)\n",
        "\n",
        "print(\"Data on or after the split date:\")\n",
        "print(Y_Test)"
      ],
      "metadata": {
        "colab": {
          "base_uri": "https://localhost:8080/"
        },
        "id": "VJxbqaK6WdKL",
        "outputId": "fdf63790-9667-4df2-86b8-5c086317e2cd"
      },
      "execution_count": 135,
      "outputs": [
        {
          "output_type": "stream",
          "name": "stdout",
          "text": [
            "Data before the split date:\n",
            "        Store ID  Product ID  Units Sold  GDP Growth Rate  Inflation Rate  \\\n",
            "199627      2118       20385          32             1.89            2.46   \n",
            "154482     10059       16106          79             1.16            0.48   \n",
            "29229       2881       88964          84             0.15            1.33   \n",
            "154639      7176       93521          78             2.43            2.48   \n",
            "154901      6572       12538          98             0.72            0.23   \n",
            "...          ...         ...         ...              ...             ...   \n",
            "97393       7770       98383          28             1.22            0.13   \n",
            "287076      8664       36655           8             1.86            3.00   \n",
            "255067      5986       34341          16             2.68            1.38   \n",
            "35739       1224       64658          88             0.93            0.91   \n",
            "12015       7291       80938          91             1.42            1.05   \n",
            "\n",
            "        Price Sold  Product Category_Mens  Product Category_Womens  \\\n",
            "199627       63.77                  False                     True   \n",
            "154482       22.50                  False                     True   \n",
            "29229        24.19                  False                     True   \n",
            "154639       37.30                   True                    False   \n",
            "154901       61.17                  False                     True   \n",
            "...            ...                    ...                      ...   \n",
            "97393        94.53                  False                     True   \n",
            "287076       97.41                   True                    False   \n",
            "255067       82.13                   True                    False   \n",
            "35739        30.53                  False                     True   \n",
            "12015        37.79                  False                     True   \n",
            "\n",
            "        Country_Austria  Country_Belgium  ...  Country_Germany  Country_Italy  \\\n",
            "199627            False            False  ...             True          False   \n",
            "154482            False            False  ...            False          False   \n",
            "29229             False            False  ...             True          False   \n",
            "154639            False             True  ...            False          False   \n",
            "154901            False            False  ...            False          False   \n",
            "...                 ...              ...  ...              ...            ...   \n",
            "97393             False             True  ...            False          False   \n",
            "287076            False            False  ...            False          False   \n",
            "255067            False            False  ...            False          False   \n",
            "35739             False            False  ...            False          False   \n",
            "12015             False             True  ...            False          False   \n",
            "\n",
            "        Country_Netherlands  Country_Spain  Country_Sweden  Country_UK  Year  \\\n",
            "199627                False          False           False       False  2023   \n",
            "154482                False          False           False       False  2023   \n",
            "29229                 False          False           False       False  2023   \n",
            "154639                False          False           False       False  2023   \n",
            "154901                 True          False           False       False  2023   \n",
            "...                     ...            ...             ...         ...   ...   \n",
            "97393                 False          False           False       False  2024   \n",
            "287076                False          False            True       False  2024   \n",
            "255067                False           True           False       False  2024   \n",
            "35739                 False          False           False        True  2024   \n",
            "12015                 False          False           False       False  2024   \n",
            "\n",
            "        Month  Day  Weekday  \n",
            "199627      5    4        3  \n",
            "154482      5    4        3  \n",
            "29229       5    4        3  \n",
            "154639      5    4        3  \n",
            "154901      5    4        3  \n",
            "...       ...  ...      ...  \n",
            "97393       1   31        2  \n",
            "287076      1   31        2  \n",
            "255067      1   31        2  \n",
            "35739       1   31        2  \n",
            "12015       1   31        2  \n",
            "\n",
            "[223956 rows x 22 columns]\n",
            "Data on or after the split date:\n",
            "        Store ID  Product ID  Units Sold  GDP Growth Rate  Inflation Rate  \\\n",
            "210752      2504       51704           9             0.29            0.22   \n",
            "35957       2854       48759          55             0.17            2.87   \n",
            "131439      4142       34148          60             2.41            1.70   \n",
            "91245       7607       23139          64             0.99            2.75   \n",
            "285134      9422       52343          14             0.18            1.80   \n",
            "...          ...         ...         ...              ...             ...   \n",
            "113721      3430       54890          99             1.96            2.65   \n",
            "158541      9275       34763           3             1.40            0.57   \n",
            "54362      10289       56033          12             2.72            2.48   \n",
            "205538      2581       47601          31             0.56            0.05   \n",
            "239730      5137       72782          45             1.05            1.28   \n",
            "\n",
            "        Price Sold  Product Category_Mens  Product Category_Womens  \\\n",
            "210752       53.58                  False                     True   \n",
            "35957        10.09                   True                    False   \n",
            "131439       34.66                   True                    False   \n",
            "91245        92.97                  False                     True   \n",
            "285134       16.12                   True                    False   \n",
            "...            ...                    ...                      ...   \n",
            "113721       17.98                  False                     True   \n",
            "158541       89.05                  False                     True   \n",
            "54362        52.61                  False                     True   \n",
            "205538       84.43                   True                    False   \n",
            "239730       51.28                  False                     True   \n",
            "\n",
            "        Country_Austria  Country_Belgium  ...  Country_Germany  Country_Italy  \\\n",
            "210752            False            False  ...             True          False   \n",
            "35957             False            False  ...             True          False   \n",
            "131439            False            False  ...            False           True   \n",
            "91245             False             True  ...            False          False   \n",
            "285134             True            False  ...            False          False   \n",
            "...                 ...              ...  ...              ...            ...   \n",
            "113721            False            False  ...            False          False   \n",
            "158541             True            False  ...            False          False   \n",
            "54362             False            False  ...            False          False   \n",
            "205538            False            False  ...             True          False   \n",
            "239730            False            False  ...            False          False   \n",
            "\n",
            "        Country_Netherlands  Country_Spain  Country_Sweden  Country_UK  Year  \\\n",
            "210752                False          False           False       False  2024   \n",
            "35957                 False          False           False       False  2024   \n",
            "131439                False          False           False       False  2024   \n",
            "91245                 False          False           False       False  2024   \n",
            "285134                False          False           False       False  2024   \n",
            "...                     ...            ...             ...         ...   ...   \n",
            "113721                False          False           False       False  2024   \n",
            "158541                False          False           False       False  2024   \n",
            "54362                 False          False           False       False  2024   \n",
            "205538                False          False           False       False  2024   \n",
            "239730                False           True           False       False  2024   \n",
            "\n",
            "        Month  Day  Weekday  \n",
            "210752      2    1        3  \n",
            "35957       2    1        3  \n",
            "131439      2    1        3  \n",
            "91245       2    1        3  \n",
            "285134      2    1        3  \n",
            "...       ...  ...      ...  \n",
            "113721      5    3        4  \n",
            "158541      5    3        4  \n",
            "54362       5    3        4  \n",
            "205538      5    3        4  \n",
            "239730      5    3        4  \n",
            "\n",
            "[76044 rows x 22 columns]\n",
            "Data before the split date:\n",
            "199627    32\n",
            "154482    79\n",
            "29229     84\n",
            "154639    78\n",
            "154901    98\n",
            "          ..\n",
            "97393     28\n",
            "287076     8\n",
            "255067    16\n",
            "35739     88\n",
            "12015     91\n",
            "Name: Units Sold, Length: 223956, dtype: int64\n",
            "Data on or after the split date:\n",
            "210752     9\n",
            "35957     55\n",
            "131439    60\n",
            "91245     64\n",
            "285134    14\n",
            "          ..\n",
            "113721    99\n",
            "158541     3\n",
            "54362     12\n",
            "205538    31\n",
            "239730    45\n",
            "Name: Units Sold, Length: 76044, dtype: int64\n"
          ]
        }
      ]
    },
    {
      "cell_type": "markdown",
      "source": [
        "#Now we look at a Linear Regression model"
      ],
      "metadata": {
        "id": "k3AY_6Zld5yx"
      }
    },
    {
      "cell_type": "code",
      "source": [
        "# Creating an instance of the LinearRegression model.\n",
        "modelLR = LinearRegression()\n",
        "\n",
        "# Fitting the model to the training data. This is where the model learns the relationship between features and target.\n",
        "modelLR.fit(X_Train, Y_Train)\n"
      ],
      "metadata": {
        "colab": {
          "base_uri": "https://localhost:8080/",
          "height": 75
        },
        "id": "PwmGE8zpd20D",
        "outputId": "b08567f0-6e60-42eb-a405-42bbc37456dc"
      },
      "execution_count": 137,
      "outputs": [
        {
          "output_type": "execute_result",
          "data": {
            "text/plain": [
              "LinearRegression()"
            ],
            "text/html": [
              "<style>#sk-container-id-10 {color: black;background-color: white;}#sk-container-id-10 pre{padding: 0;}#sk-container-id-10 div.sk-toggleable {background-color: white;}#sk-container-id-10 label.sk-toggleable__label {cursor: pointer;display: block;width: 100%;margin-bottom: 0;padding: 0.3em;box-sizing: border-box;text-align: center;}#sk-container-id-10 label.sk-toggleable__label-arrow:before {content: \"▸\";float: left;margin-right: 0.25em;color: #696969;}#sk-container-id-10 label.sk-toggleable__label-arrow:hover:before {color: black;}#sk-container-id-10 div.sk-estimator:hover label.sk-toggleable__label-arrow:before {color: black;}#sk-container-id-10 div.sk-toggleable__content {max-height: 0;max-width: 0;overflow: hidden;text-align: left;background-color: #f0f8ff;}#sk-container-id-10 div.sk-toggleable__content pre {margin: 0.2em;color: black;border-radius: 0.25em;background-color: #f0f8ff;}#sk-container-id-10 input.sk-toggleable__control:checked~div.sk-toggleable__content {max-height: 200px;max-width: 100%;overflow: auto;}#sk-container-id-10 input.sk-toggleable__control:checked~label.sk-toggleable__label-arrow:before {content: \"▾\";}#sk-container-id-10 div.sk-estimator input.sk-toggleable__control:checked~label.sk-toggleable__label {background-color: #d4ebff;}#sk-container-id-10 div.sk-label input.sk-toggleable__control:checked~label.sk-toggleable__label {background-color: #d4ebff;}#sk-container-id-10 input.sk-hidden--visually {border: 0;clip: rect(1px 1px 1px 1px);clip: rect(1px, 1px, 1px, 1px);height: 1px;margin: -1px;overflow: hidden;padding: 0;position: absolute;width: 1px;}#sk-container-id-10 div.sk-estimator {font-family: monospace;background-color: #f0f8ff;border: 1px dotted black;border-radius: 0.25em;box-sizing: border-box;margin-bottom: 0.5em;}#sk-container-id-10 div.sk-estimator:hover {background-color: #d4ebff;}#sk-container-id-10 div.sk-parallel-item::after {content: \"\";width: 100%;border-bottom: 1px solid gray;flex-grow: 1;}#sk-container-id-10 div.sk-label:hover label.sk-toggleable__label {background-color: #d4ebff;}#sk-container-id-10 div.sk-serial::before {content: \"\";position: absolute;border-left: 1px solid gray;box-sizing: border-box;top: 0;bottom: 0;left: 50%;z-index: 0;}#sk-container-id-10 div.sk-serial {display: flex;flex-direction: column;align-items: center;background-color: white;padding-right: 0.2em;padding-left: 0.2em;position: relative;}#sk-container-id-10 div.sk-item {position: relative;z-index: 1;}#sk-container-id-10 div.sk-parallel {display: flex;align-items: stretch;justify-content: center;background-color: white;position: relative;}#sk-container-id-10 div.sk-item::before, #sk-container-id-10 div.sk-parallel-item::before {content: \"\";position: absolute;border-left: 1px solid gray;box-sizing: border-box;top: 0;bottom: 0;left: 50%;z-index: -1;}#sk-container-id-10 div.sk-parallel-item {display: flex;flex-direction: column;z-index: 1;position: relative;background-color: white;}#sk-container-id-10 div.sk-parallel-item:first-child::after {align-self: flex-end;width: 50%;}#sk-container-id-10 div.sk-parallel-item:last-child::after {align-self: flex-start;width: 50%;}#sk-container-id-10 div.sk-parallel-item:only-child::after {width: 0;}#sk-container-id-10 div.sk-dashed-wrapped {border: 1px dashed gray;margin: 0 0.4em 0.5em 0.4em;box-sizing: border-box;padding-bottom: 0.4em;background-color: white;}#sk-container-id-10 div.sk-label label {font-family: monospace;font-weight: bold;display: inline-block;line-height: 1.2em;}#sk-container-id-10 div.sk-label-container {text-align: center;}#sk-container-id-10 div.sk-container {/* jupyter's `normalize.less` sets `[hidden] { display: none; }` but bootstrap.min.css set `[hidden] { display: none !important; }` so we also need the `!important` here to be able to override the default hidden behavior on the sphinx rendered scikit-learn.org. See: https://github.com/scikit-learn/scikit-learn/issues/21755 */display: inline-block !important;position: relative;}#sk-container-id-10 div.sk-text-repr-fallback {display: none;}</style><div id=\"sk-container-id-10\" class=\"sk-top-container\"><div class=\"sk-text-repr-fallback\"><pre>LinearRegression()</pre><b>In a Jupyter environment, please rerun this cell to show the HTML representation or trust the notebook. <br />On GitHub, the HTML representation is unable to render, please try loading this page with nbviewer.org.</b></div><div class=\"sk-container\" hidden><div class=\"sk-item\"><div class=\"sk-estimator sk-toggleable\"><input class=\"sk-toggleable__control sk-hidden--visually\" id=\"sk-estimator-id-10\" type=\"checkbox\" checked><label for=\"sk-estimator-id-10\" class=\"sk-toggleable__label sk-toggleable__label-arrow\">LinearRegression</label><div class=\"sk-toggleable__content\"><pre>LinearRegression()</pre></div></div></div></div></div>"
            ]
          },
          "metadata": {},
          "execution_count": 137
        }
      ]
    },
    {
      "cell_type": "code",
      "source": [
        "# Use the trained model to make predictions on the testing set.\n",
        "predictionsLR = modelLR.predict(X_Test)\n",
        "\n",
        "# Evaluating the model's performance by comparing actual values (y_test) vs predicted values (predictions).\n",
        "# MAE is the mean absolute error, MSE is the mean squared error, and RMSE is the square root of MSE.\n",
        "print('MAE:', mean_absolute_error(Y_Test, predictionsLR))\n",
        "print('MSE:', mean_squared_error(Y_Test, predictionsLR))\n",
        "print('RMSE:', np.sqrt(mean_squared_error(Y_Test, predictionsLR)))"
      ],
      "metadata": {
        "colab": {
          "base_uri": "https://localhost:8080/"
        },
        "id": "5uNk1ANXeEPk",
        "outputId": "70e56337-6e4b-403b-b58c-2563283907d9"
      },
      "execution_count": 138,
      "outputs": [
        {
          "output_type": "stream",
          "name": "stdout",
          "text": [
            "MAE: 2.0702565723249515e-14\n",
            "MSE: 6.8978802856461355e-28\n",
            "RMSE: 2.6263815955885268e-14\n"
          ]
        }
      ]
    },
    {
      "cell_type": "code",
      "source": [
        "X.describe()"
      ],
      "metadata": {
        "colab": {
          "base_uri": "https://localhost:8080/",
          "height": 300
        },
        "id": "TGWJrSqBJqH8",
        "outputId": "505b6000-114c-44b6-df3d-ee81e3b0248c"
      },
      "execution_count": 139,
      "outputs": [
        {
          "output_type": "execute_result",
          "data": {
            "text/plain": [
              "            Store ID     Product ID     Units Sold  \\\n",
              "count  300000.000000  300000.000000  300000.000000   \n",
              "mean     5987.140990   55076.436663      50.572453   \n",
              "min      1000.000000   10000.000000       1.000000   \n",
              "25%      3476.000000   32605.000000      26.000000   \n",
              "50%      5985.000000   55124.000000      51.000000   \n",
              "75%      8488.000000   77569.250000      76.000000   \n",
              "max     10999.000000   99999.000000     100.000000   \n",
              "std      2889.554299   25986.196626      28.857025   \n",
              "\n",
              "                     Date of Sale  GDP Growth Rate  Inflation Rate  \\\n",
              "count                      300000    300000.000000   300000.000000   \n",
              "mean   2023-11-02 06:57:12.384000         1.448650        1.449116   \n",
              "min           2023-05-04 00:00:00         0.000000        0.000000   \n",
              "25%           2023-08-03 00:00:00         0.710000        0.710000   \n",
              "50%           2023-11-02 00:00:00         1.430000        1.430000   \n",
              "75%           2024-02-02 00:00:00         2.160000        2.170000   \n",
              "max           2024-05-03 00:00:00         3.000000        3.000000   \n",
              "std                           NaN         0.855469        0.855604   \n",
              "\n",
              "          Price Sold           Year          Month            Day  \\\n",
              "count  300000.000000  300000.000000  300000.000000  300000.000000   \n",
              "mean       54.996854    2023.337720       6.520263      15.741077   \n",
              "min        10.000000    2023.000000       1.000000       1.000000   \n",
              "25%        32.480000    2023.000000       4.000000       8.000000   \n",
              "50%        54.950000    2023.000000       7.000000      16.000000   \n",
              "75%        77.450000    2024.000000      10.000000      23.000000   \n",
              "max       100.000000    2024.000000      12.000000      31.000000   \n",
              "std        25.982285       0.472933       3.447385       8.809773   \n",
              "\n",
              "             Weekday  \n",
              "count  300000.000000  \n",
              "mean        2.999157  \n",
              "min         0.000000  \n",
              "25%         1.000000  \n",
              "50%         3.000000  \n",
              "75%         5.000000  \n",
              "max         6.000000  \n",
              "std         1.996394  "
            ],
            "text/html": [
              "\n",
              "  <div id=\"df-4feed15f-911d-4cc2-b568-9af7c69bebf5\" class=\"colab-df-container\">\n",
              "    <div>\n",
              "<style scoped>\n",
              "    .dataframe tbody tr th:only-of-type {\n",
              "        vertical-align: middle;\n",
              "    }\n",
              "\n",
              "    .dataframe tbody tr th {\n",
              "        vertical-align: top;\n",
              "    }\n",
              "\n",
              "    .dataframe thead th {\n",
              "        text-align: right;\n",
              "    }\n",
              "</style>\n",
              "<table border=\"1\" class=\"dataframe\">\n",
              "  <thead>\n",
              "    <tr style=\"text-align: right;\">\n",
              "      <th></th>\n",
              "      <th>Store ID</th>\n",
              "      <th>Product ID</th>\n",
              "      <th>Units Sold</th>\n",
              "      <th>Date of Sale</th>\n",
              "      <th>GDP Growth Rate</th>\n",
              "      <th>Inflation Rate</th>\n",
              "      <th>Price Sold</th>\n",
              "      <th>Year</th>\n",
              "      <th>Month</th>\n",
              "      <th>Day</th>\n",
              "      <th>Weekday</th>\n",
              "    </tr>\n",
              "  </thead>\n",
              "  <tbody>\n",
              "    <tr>\n",
              "      <th>count</th>\n",
              "      <td>300000.000000</td>\n",
              "      <td>300000.000000</td>\n",
              "      <td>300000.000000</td>\n",
              "      <td>300000</td>\n",
              "      <td>300000.000000</td>\n",
              "      <td>300000.000000</td>\n",
              "      <td>300000.000000</td>\n",
              "      <td>300000.000000</td>\n",
              "      <td>300000.000000</td>\n",
              "      <td>300000.000000</td>\n",
              "      <td>300000.000000</td>\n",
              "    </tr>\n",
              "    <tr>\n",
              "      <th>mean</th>\n",
              "      <td>5987.140990</td>\n",
              "      <td>55076.436663</td>\n",
              "      <td>50.572453</td>\n",
              "      <td>2023-11-02 06:57:12.384000</td>\n",
              "      <td>1.448650</td>\n",
              "      <td>1.449116</td>\n",
              "      <td>54.996854</td>\n",
              "      <td>2023.337720</td>\n",
              "      <td>6.520263</td>\n",
              "      <td>15.741077</td>\n",
              "      <td>2.999157</td>\n",
              "    </tr>\n",
              "    <tr>\n",
              "      <th>min</th>\n",
              "      <td>1000.000000</td>\n",
              "      <td>10000.000000</td>\n",
              "      <td>1.000000</td>\n",
              "      <td>2023-05-04 00:00:00</td>\n",
              "      <td>0.000000</td>\n",
              "      <td>0.000000</td>\n",
              "      <td>10.000000</td>\n",
              "      <td>2023.000000</td>\n",
              "      <td>1.000000</td>\n",
              "      <td>1.000000</td>\n",
              "      <td>0.000000</td>\n",
              "    </tr>\n",
              "    <tr>\n",
              "      <th>25%</th>\n",
              "      <td>3476.000000</td>\n",
              "      <td>32605.000000</td>\n",
              "      <td>26.000000</td>\n",
              "      <td>2023-08-03 00:00:00</td>\n",
              "      <td>0.710000</td>\n",
              "      <td>0.710000</td>\n",
              "      <td>32.480000</td>\n",
              "      <td>2023.000000</td>\n",
              "      <td>4.000000</td>\n",
              "      <td>8.000000</td>\n",
              "      <td>1.000000</td>\n",
              "    </tr>\n",
              "    <tr>\n",
              "      <th>50%</th>\n",
              "      <td>5985.000000</td>\n",
              "      <td>55124.000000</td>\n",
              "      <td>51.000000</td>\n",
              "      <td>2023-11-02 00:00:00</td>\n",
              "      <td>1.430000</td>\n",
              "      <td>1.430000</td>\n",
              "      <td>54.950000</td>\n",
              "      <td>2023.000000</td>\n",
              "      <td>7.000000</td>\n",
              "      <td>16.000000</td>\n",
              "      <td>3.000000</td>\n",
              "    </tr>\n",
              "    <tr>\n",
              "      <th>75%</th>\n",
              "      <td>8488.000000</td>\n",
              "      <td>77569.250000</td>\n",
              "      <td>76.000000</td>\n",
              "      <td>2024-02-02 00:00:00</td>\n",
              "      <td>2.160000</td>\n",
              "      <td>2.170000</td>\n",
              "      <td>77.450000</td>\n",
              "      <td>2024.000000</td>\n",
              "      <td>10.000000</td>\n",
              "      <td>23.000000</td>\n",
              "      <td>5.000000</td>\n",
              "    </tr>\n",
              "    <tr>\n",
              "      <th>max</th>\n",
              "      <td>10999.000000</td>\n",
              "      <td>99999.000000</td>\n",
              "      <td>100.000000</td>\n",
              "      <td>2024-05-03 00:00:00</td>\n",
              "      <td>3.000000</td>\n",
              "      <td>3.000000</td>\n",
              "      <td>100.000000</td>\n",
              "      <td>2024.000000</td>\n",
              "      <td>12.000000</td>\n",
              "      <td>31.000000</td>\n",
              "      <td>6.000000</td>\n",
              "    </tr>\n",
              "    <tr>\n",
              "      <th>std</th>\n",
              "      <td>2889.554299</td>\n",
              "      <td>25986.196626</td>\n",
              "      <td>28.857025</td>\n",
              "      <td>NaN</td>\n",
              "      <td>0.855469</td>\n",
              "      <td>0.855604</td>\n",
              "      <td>25.982285</td>\n",
              "      <td>0.472933</td>\n",
              "      <td>3.447385</td>\n",
              "      <td>8.809773</td>\n",
              "      <td>1.996394</td>\n",
              "    </tr>\n",
              "  </tbody>\n",
              "</table>\n",
              "</div>\n",
              "    <div class=\"colab-df-buttons\">\n",
              "\n",
              "  <div class=\"colab-df-container\">\n",
              "    <button class=\"colab-df-convert\" onclick=\"convertToInteractive('df-4feed15f-911d-4cc2-b568-9af7c69bebf5')\"\n",
              "            title=\"Convert this dataframe to an interactive table.\"\n",
              "            style=\"display:none;\">\n",
              "\n",
              "  <svg xmlns=\"http://www.w3.org/2000/svg\" height=\"24px\" viewBox=\"0 -960 960 960\">\n",
              "    <path d=\"M120-120v-720h720v720H120Zm60-500h600v-160H180v160Zm220 220h160v-160H400v160Zm0 220h160v-160H400v160ZM180-400h160v-160H180v160Zm440 0h160v-160H620v160ZM180-180h160v-160H180v160Zm440 0h160v-160H620v160Z\"/>\n",
              "  </svg>\n",
              "    </button>\n",
              "\n",
              "  <style>\n",
              "    .colab-df-container {\n",
              "      display:flex;\n",
              "      gap: 12px;\n",
              "    }\n",
              "\n",
              "    .colab-df-convert {\n",
              "      background-color: #E8F0FE;\n",
              "      border: none;\n",
              "      border-radius: 50%;\n",
              "      cursor: pointer;\n",
              "      display: none;\n",
              "      fill: #1967D2;\n",
              "      height: 32px;\n",
              "      padding: 0 0 0 0;\n",
              "      width: 32px;\n",
              "    }\n",
              "\n",
              "    .colab-df-convert:hover {\n",
              "      background-color: #E2EBFA;\n",
              "      box-shadow: 0px 1px 2px rgba(60, 64, 67, 0.3), 0px 1px 3px 1px rgba(60, 64, 67, 0.15);\n",
              "      fill: #174EA6;\n",
              "    }\n",
              "\n",
              "    .colab-df-buttons div {\n",
              "      margin-bottom: 4px;\n",
              "    }\n",
              "\n",
              "    [theme=dark] .colab-df-convert {\n",
              "      background-color: #3B4455;\n",
              "      fill: #D2E3FC;\n",
              "    }\n",
              "\n",
              "    [theme=dark] .colab-df-convert:hover {\n",
              "      background-color: #434B5C;\n",
              "      box-shadow: 0px 1px 3px 1px rgba(0, 0, 0, 0.15);\n",
              "      filter: drop-shadow(0px 1px 2px rgba(0, 0, 0, 0.3));\n",
              "      fill: #FFFFFF;\n",
              "    }\n",
              "  </style>\n",
              "\n",
              "    <script>\n",
              "      const buttonEl =\n",
              "        document.querySelector('#df-4feed15f-911d-4cc2-b568-9af7c69bebf5 button.colab-df-convert');\n",
              "      buttonEl.style.display =\n",
              "        google.colab.kernel.accessAllowed ? 'block' : 'none';\n",
              "\n",
              "      async function convertToInteractive(key) {\n",
              "        const element = document.querySelector('#df-4feed15f-911d-4cc2-b568-9af7c69bebf5');\n",
              "        const dataTable =\n",
              "          await google.colab.kernel.invokeFunction('convertToInteractive',\n",
              "                                                    [key], {});\n",
              "        if (!dataTable) return;\n",
              "\n",
              "        const docLinkHtml = 'Like what you see? Visit the ' +\n",
              "          '<a target=\"_blank\" href=https://colab.research.google.com/notebooks/data_table.ipynb>data table notebook</a>'\n",
              "          + ' to learn more about interactive tables.';\n",
              "        element.innerHTML = '';\n",
              "        dataTable['output_type'] = 'display_data';\n",
              "        await google.colab.output.renderOutput(dataTable, element);\n",
              "        const docLink = document.createElement('div');\n",
              "        docLink.innerHTML = docLinkHtml;\n",
              "        element.appendChild(docLink);\n",
              "      }\n",
              "    </script>\n",
              "  </div>\n",
              "\n",
              "\n",
              "<div id=\"df-0315d93b-dc2e-4949-b58b-ece2576511ec\">\n",
              "  <button class=\"colab-df-quickchart\" onclick=\"quickchart('df-0315d93b-dc2e-4949-b58b-ece2576511ec')\"\n",
              "            title=\"Suggest charts\"\n",
              "            style=\"display:none;\">\n",
              "\n",
              "<svg xmlns=\"http://www.w3.org/2000/svg\" height=\"24px\"viewBox=\"0 0 24 24\"\n",
              "     width=\"24px\">\n",
              "    <g>\n",
              "        <path d=\"M19 3H5c-1.1 0-2 .9-2 2v14c0 1.1.9 2 2 2h14c1.1 0 2-.9 2-2V5c0-1.1-.9-2-2-2zM9 17H7v-7h2v7zm4 0h-2V7h2v10zm4 0h-2v-4h2v4z\"/>\n",
              "    </g>\n",
              "</svg>\n",
              "  </button>\n",
              "\n",
              "<style>\n",
              "  .colab-df-quickchart {\n",
              "      --bg-color: #E8F0FE;\n",
              "      --fill-color: #1967D2;\n",
              "      --hover-bg-color: #E2EBFA;\n",
              "      --hover-fill-color: #174EA6;\n",
              "      --disabled-fill-color: #AAA;\n",
              "      --disabled-bg-color: #DDD;\n",
              "  }\n",
              "\n",
              "  [theme=dark] .colab-df-quickchart {\n",
              "      --bg-color: #3B4455;\n",
              "      --fill-color: #D2E3FC;\n",
              "      --hover-bg-color: #434B5C;\n",
              "      --hover-fill-color: #FFFFFF;\n",
              "      --disabled-bg-color: #3B4455;\n",
              "      --disabled-fill-color: #666;\n",
              "  }\n",
              "\n",
              "  .colab-df-quickchart {\n",
              "    background-color: var(--bg-color);\n",
              "    border: none;\n",
              "    border-radius: 50%;\n",
              "    cursor: pointer;\n",
              "    display: none;\n",
              "    fill: var(--fill-color);\n",
              "    height: 32px;\n",
              "    padding: 0;\n",
              "    width: 32px;\n",
              "  }\n",
              "\n",
              "  .colab-df-quickchart:hover {\n",
              "    background-color: var(--hover-bg-color);\n",
              "    box-shadow: 0 1px 2px rgba(60, 64, 67, 0.3), 0 1px 3px 1px rgba(60, 64, 67, 0.15);\n",
              "    fill: var(--button-hover-fill-color);\n",
              "  }\n",
              "\n",
              "  .colab-df-quickchart-complete:disabled,\n",
              "  .colab-df-quickchart-complete:disabled:hover {\n",
              "    background-color: var(--disabled-bg-color);\n",
              "    fill: var(--disabled-fill-color);\n",
              "    box-shadow: none;\n",
              "  }\n",
              "\n",
              "  .colab-df-spinner {\n",
              "    border: 2px solid var(--fill-color);\n",
              "    border-color: transparent;\n",
              "    border-bottom-color: var(--fill-color);\n",
              "    animation:\n",
              "      spin 1s steps(1) infinite;\n",
              "  }\n",
              "\n",
              "  @keyframes spin {\n",
              "    0% {\n",
              "      border-color: transparent;\n",
              "      border-bottom-color: var(--fill-color);\n",
              "      border-left-color: var(--fill-color);\n",
              "    }\n",
              "    20% {\n",
              "      border-color: transparent;\n",
              "      border-left-color: var(--fill-color);\n",
              "      border-top-color: var(--fill-color);\n",
              "    }\n",
              "    30% {\n",
              "      border-color: transparent;\n",
              "      border-left-color: var(--fill-color);\n",
              "      border-top-color: var(--fill-color);\n",
              "      border-right-color: var(--fill-color);\n",
              "    }\n",
              "    40% {\n",
              "      border-color: transparent;\n",
              "      border-right-color: var(--fill-color);\n",
              "      border-top-color: var(--fill-color);\n",
              "    }\n",
              "    60% {\n",
              "      border-color: transparent;\n",
              "      border-right-color: var(--fill-color);\n",
              "    }\n",
              "    80% {\n",
              "      border-color: transparent;\n",
              "      border-right-color: var(--fill-color);\n",
              "      border-bottom-color: var(--fill-color);\n",
              "    }\n",
              "    90% {\n",
              "      border-color: transparent;\n",
              "      border-bottom-color: var(--fill-color);\n",
              "    }\n",
              "  }\n",
              "</style>\n",
              "\n",
              "  <script>\n",
              "    async function quickchart(key) {\n",
              "      const quickchartButtonEl =\n",
              "        document.querySelector('#' + key + ' button');\n",
              "      quickchartButtonEl.disabled = true;  // To prevent multiple clicks.\n",
              "      quickchartButtonEl.classList.add('colab-df-spinner');\n",
              "      try {\n",
              "        const charts = await google.colab.kernel.invokeFunction(\n",
              "            'suggestCharts', [key], {});\n",
              "      } catch (error) {\n",
              "        console.error('Error during call to suggestCharts:', error);\n",
              "      }\n",
              "      quickchartButtonEl.classList.remove('colab-df-spinner');\n",
              "      quickchartButtonEl.classList.add('colab-df-quickchart-complete');\n",
              "    }\n",
              "    (() => {\n",
              "      let quickchartButtonEl =\n",
              "        document.querySelector('#df-0315d93b-dc2e-4949-b58b-ece2576511ec button');\n",
              "      quickchartButtonEl.style.display =\n",
              "        google.colab.kernel.accessAllowed ? 'block' : 'none';\n",
              "    })();\n",
              "  </script>\n",
              "</div>\n",
              "    </div>\n",
              "  </div>\n"
            ],
            "application/vnd.google.colaboratory.intrinsic+json": {
              "type": "dataframe",
              "summary": "{\n  \"name\": \"X\",\n  \"rows\": 8,\n  \"fields\": [\n    {\n      \"column\": \"Store ID\",\n      \"properties\": {\n        \"dtype\": \"number\",\n        \"std\": 104153.63004448423,\n        \"min\": 1000.0,\n        \"max\": 300000.0,\n        \"num_unique_values\": 8,\n        \"samples\": [\n          5987.14099,\n          8488.0,\n          300000.0\n        ],\n        \"semantic_type\": \"\",\n        \"description\": \"\"\n      }\n    },\n    {\n      \"column\": \"Product ID\",\n      \"properties\": {\n        \"dtype\": \"number\",\n        \"std\": 92640.7725643601,\n        \"min\": 10000.0,\n        \"max\": 300000.0,\n        \"num_unique_values\": 8,\n        \"samples\": [\n          55076.436663333334,\n          77569.25,\n          300000.0\n        ],\n        \"semantic_type\": \"\",\n        \"description\": \"\"\n      }\n    },\n    {\n      \"column\": \"Units Sold\",\n      \"properties\": {\n        \"dtype\": \"number\",\n        \"std\": 106049.18086606826,\n        \"min\": 1.0,\n        \"max\": 300000.0,\n        \"num_unique_values\": 8,\n        \"samples\": [\n          50.572453333333335,\n          76.0,\n          300000.0\n        ],\n        \"semantic_type\": \"\",\n        \"description\": \"\"\n      }\n    },\n    {\n      \"column\": \"Date of Sale\",\n      \"properties\": {\n        \"dtype\": \"date\",\n        \"min\": \"1970-01-01 00:00:00.000300\",\n        \"max\": \"2024-05-03 00:00:00\",\n        \"num_unique_values\": 7,\n        \"samples\": [\n          \"300000\",\n          \"2023-11-02 06:57:12.384000\",\n          \"2024-02-02 00:00:00\"\n        ],\n        \"semantic_type\": \"\",\n        \"description\": \"\"\n      }\n    },\n    {\n      \"column\": \"GDP Growth Rate\",\n      \"properties\": {\n        \"dtype\": \"number\",\n        \"std\": 106065.53210071122,\n        \"min\": 0.0,\n        \"max\": 300000.0,\n        \"num_unique_values\": 8,\n        \"samples\": [\n          1.4486496333333334,\n          2.16,\n          300000.0\n        ],\n        \"semantic_type\": \"\",\n        \"description\": \"\"\n      }\n    },\n    {\n      \"column\": \"Inflation Rate\",\n      \"properties\": {\n        \"dtype\": \"number\",\n        \"std\": 106065.53156527772,\n        \"min\": 0.0,\n        \"max\": 300000.0,\n        \"num_unique_values\": 8,\n        \"samples\": [\n          1.4491159333333334,\n          2.17,\n          300000.0\n        ],\n        \"semantic_type\": \"\",\n        \"description\": \"\"\n      }\n    },\n    {\n      \"column\": \"Price Sold\",\n      \"properties\": {\n        \"dtype\": \"number\",\n        \"std\": 106048.0474716257,\n        \"min\": 10.0,\n        \"max\": 300000.0,\n        \"num_unique_values\": 8,\n        \"samples\": [\n          54.9968536,\n          77.45,\n          300000.0\n        ],\n        \"semantic_type\": \"\",\n        \"description\": \"\"\n      }\n    },\n    {\n      \"column\": \"Year\",\n      \"properties\": {\n        \"dtype\": \"number\",\n        \"std\": 105455.18948507875,\n        \"min\": 0.47293334324527936,\n        \"max\": 300000.0,\n        \"num_unique_values\": 5,\n        \"samples\": [\n          2023.33772,\n          0.47293334324527936,\n          2023.0\n        ],\n        \"semantic_type\": \"\",\n        \"description\": \"\"\n      }\n    },\n    {\n      \"column\": \"Month\",\n      \"properties\": {\n        \"dtype\": \"number\",\n        \"std\": 106063.79653581802,\n        \"min\": 1.0,\n        \"max\": 300000.0,\n        \"num_unique_values\": 8,\n        \"samples\": [\n          6.520263333333333,\n          10.0,\n          300000.0\n        ],\n        \"semantic_type\": \"\",\n        \"description\": \"\"\n      }\n    },\n    {\n      \"column\": \"Day\",\n      \"properties\": {\n        \"dtype\": \"number\",\n        \"std\": 106060.78747740512,\n        \"min\": 1.0,\n        \"max\": 300000.0,\n        \"num_unique_values\": 8,\n        \"samples\": [\n          15.741076666666666,\n          23.0,\n          300000.0\n        ],\n        \"semantic_type\": \"\",\n        \"description\": \"\"\n      }\n    },\n    {\n      \"column\": \"Weekday\",\n      \"properties\": {\n        \"dtype\": \"number\",\n        \"std\": 106065.00726825057,\n        \"min\": 0.0,\n        \"max\": 300000.0,\n        \"num_unique_values\": 8,\n        \"samples\": [\n          2.9991566666666665,\n          5.0,\n          300000.0\n        ],\n        \"semantic_type\": \"\",\n        \"description\": \"\"\n      }\n    }\n  ]\n}"
            }
          },
          "metadata": {},
          "execution_count": 139
        }
      ]
    },
    {
      "cell_type": "markdown",
      "source": [
        "#Charts#\n",
        "I'm fairly sure I made an error somewhwere in here because it seems that the predicted values and actual values are the same according to the chart.  According the the MAE this is not the case.\n",
        "I printed out the values for prediction and test, and the results were a match for what values I could see."
      ],
      "metadata": {
        "id": "T3blgLPKcIGS"
      }
    },
    {
      "cell_type": "code",
      "source": [
        "# Create the plot\n",
        "from datetime import datetime\n",
        "X_Test['Date of Sale'] = pd.to_datetime(X_Test[['Year', 'Month', 'Day']])\n",
        "print(X_Test['Date of Sale'].head(10))\n",
        "print('Predictions:', predictionsLR)\n",
        "print('Actuals:', Y_Test.head(10))\n",
        "\n",
        "#X_Test['Date of Sale'] = pd.to_datetime(str(X_Test['Year']) + '-' + str(X_Test['Month']) + '-' + str(X_Test['Day']))\n",
        "plt.figure(figsize=(10, 6))  # Set the figure size= modelLR.predict(X_Test)\n",
        "plt.plot(X_Test['Date of Sale'] , predictionsLR, label='Linear', marker='o')  # Plot Sales Prediction\n",
        "plt.plot(X_Test['Date of Sale'] , Y_Test, label='Actual', marker='x')  # Plot Sales Prediction\n",
        "# Adding titles and labels\n",
        "plt.title('Sales Prediction vs Actual Sale Over Time')\n",
        "plt.xlabel('Date of Sale')\n",
        "plt.ylabel('Sales Value')\n",
        "plt.xticks(rotation=45)  # Rotate date labels for better readability\n",
        "plt.ylim(0, 150)\n",
        "\n",
        "# Adding legend\n",
        "plt.legend()\n",
        "\n",
        "# Show the plot\n",
        "plt.show()\n",
        "X_Test = X_Test.drop(columns=['Date of Sale'])"
      ],
      "metadata": {
        "colab": {
          "base_uri": "https://localhost:8080/",
          "height": 1000
        },
        "id": "oesAZHCACpuH",
        "outputId": "71ed96f2-8590-4dfe-c356-51cc7dcd1ab5"
      },
      "execution_count": 144,
      "outputs": [
        {
          "output_type": "stream",
          "name": "stdout",
          "text": [
            "210752   2024-02-01\n",
            "35957    2024-02-01\n",
            "131439   2024-02-01\n",
            "91245    2024-02-01\n",
            "285134   2024-02-01\n",
            "192537   2024-02-01\n",
            "219451   2024-02-01\n",
            "217150   2024-02-01\n",
            "292747   2024-02-01\n",
            "274888   2024-02-01\n",
            "Name: Date of Sale, dtype: datetime64[ns]\n",
            "Predictions: [ 9. 55. 60. ... 12. 31. 45.]\n",
            "Actuals: 210752     9\n",
            "35957     55\n",
            "131439    60\n",
            "91245     64\n",
            "285134    14\n",
            "192537    12\n",
            "219451    16\n",
            "217150    14\n",
            "292747    25\n",
            "274888    27\n",
            "Name: Units Sold, dtype: int64\n"
          ]
        },
        {
          "output_type": "display_data",
          "data": {
            "text/plain": [
              "<Figure size 1000x600 with 1 Axes>"
            ],
            "image/png": "[encoded data removed]"
          },
          "metadata": {}
        }
      ]
    },
    {
      "cell_type": "code",
      "source": [
        "# Plotting actual vs predicted values to visualize how well our model is performing.\n",
        "plt.scatter(Y_Test, predictionsLR)\n",
        "plt.xlabel('Actual Values')  # X-axis label\n",
        "plt.ylabel('Predicted Values')  # Y-axis label\n",
        "plt.title('Actual vs. Predicted Values')  # Graph title\n",
        "plt.show()  # Display the plot"
      ],
      "metadata": {
        "colab": {
          "base_uri": "https://localhost:8080/",
          "height": 472
        },
        "id": "0JxmUo1LvC0y",
        "outputId": "74ce22e7-e558-480f-8ec1-e96d2733ade2"
      },
      "execution_count": 145,
      "outputs": [
        {
          "output_type": "display_data",
          "data": {
            "text/plain": [
              "<Figure size 640x480 with 1 Axes>"
            ],
            "image/png": "[encoded data removed]"
          },
          "metadata": {}
        }
      ]
    },
    {
      "cell_type": "markdown",
      "source": [
        "#Random Forest"
      ],
      "metadata": {
        "id": "kBRB_wBBvXAp"
      }
    },
    {
      "cell_type": "code",
      "source": [
        "# Creating an instance of the LinearRegression model.\n",
        "modelRF = RandomForestRegressor()\n",
        "\n",
        "# Fitting the model to the training data. This is where the model learns the relationship between features and target.\n",
        "modelRF.fit(X_Train, Y_Train)"
      ],
      "metadata": {
        "colab": {
          "base_uri": "https://localhost:8080/",
          "height": 75
        },
        "id": "OwG9cLrUu0bz",
        "outputId": "0bb5a802-b60c-43a3-c8a9-6c99c379c05b"
      },
      "execution_count": 146,
      "outputs": [
        {
          "output_type": "execute_result",
          "data": {
            "text/plain": [
              "RandomForestRegressor()"
            ],
            "text/html": [
              "<style>#sk-container-id-12 {color: black;background-color: white;}#sk-container-id-12 pre{padding: 0;}#sk-container-id-12 div.sk-toggleable {background-color: white;}#sk-container-id-12 label.sk-toggleable__label {cursor: pointer;display: block;width: 100%;margin-bottom: 0;padding: 0.3em;box-sizing: border-box;text-align: center;}#sk-container-id-12 label.sk-toggleable__label-arrow:before {content: \"▸\";float: left;margin-right: 0.25em;color: #696969;}#sk-container-id-12 label.sk-toggleable__label-arrow:hover:before {color: black;}#sk-container-id-12 div.sk-estimator:hover label.sk-toggleable__label-arrow:before {color: black;}#sk-container-id-12 div.sk-toggleable__content {max-height: 0;max-width: 0;overflow: hidden;text-align: left;background-color: #f0f8ff;}#sk-container-id-12 div.sk-toggleable__content pre {margin: 0.2em;color: black;border-radius: 0.25em;background-color: #f0f8ff;}#sk-container-id-12 input.sk-toggleable__control:checked~div.sk-toggleable__content {max-height: 200px;max-width: 100%;overflow: auto;}#sk-container-id-12 input.sk-toggleable__control:checked~label.sk-toggleable__label-arrow:before {content: \"▾\";}#sk-container-id-12 div.sk-estimator input.sk-toggleable__control:checked~label.sk-toggleable__label {background-color: #d4ebff;}#sk-container-id-12 div.sk-label input.sk-toggleable__control:checked~label.sk-toggleable__label {background-color: #d4ebff;}#sk-container-id-12 input.sk-hidden--visually {border: 0;clip: rect(1px 1px 1px 1px);clip: rect(1px, 1px, 1px, 1px);height: 1px;margin: -1px;overflow: hidden;padding: 0;position: absolute;width: 1px;}#sk-container-id-12 div.sk-estimator {font-family: monospace;background-color: #f0f8ff;border: 1px dotted black;border-radius: 0.25em;box-sizing: border-box;margin-bottom: 0.5em;}#sk-container-id-12 div.sk-estimator:hover {background-color: #d4ebff;}#sk-container-id-12 div.sk-parallel-item::after {content: \"\";width: 100%;border-bottom: 1px solid gray;flex-grow: 1;}#sk-container-id-12 div.sk-label:hover label.sk-toggleable__label {background-color: #d4ebff;}#sk-container-id-12 div.sk-serial::before {content: \"\";position: absolute;border-left: 1px solid gray;box-sizing: border-box;top: 0;bottom: 0;left: 50%;z-index: 0;}#sk-container-id-12 div.sk-serial {display: flex;flex-direction: column;align-items: center;background-color: white;padding-right: 0.2em;padding-left: 0.2em;position: relative;}#sk-container-id-12 div.sk-item {position: relative;z-index: 1;}#sk-container-id-12 div.sk-parallel {display: flex;align-items: stretch;justify-content: center;background-color: white;position: relative;}#sk-container-id-12 div.sk-item::before, #sk-container-id-12 div.sk-parallel-item::before {content: \"\";position: absolute;border-left: 1px solid gray;box-sizing: border-box;top: 0;bottom: 0;left: 50%;z-index: -1;}#sk-container-id-12 div.sk-parallel-item {display: flex;flex-direction: column;z-index: 1;position: relative;background-color: white;}#sk-container-id-12 div.sk-parallel-item:first-child::after {align-self: flex-end;width: 50%;}#sk-container-id-12 div.sk-parallel-item:last-child::after {align-self: flex-start;width: 50%;}#sk-container-id-12 div.sk-parallel-item:only-child::after {width: 0;}#sk-container-id-12 div.sk-dashed-wrapped {border: 1px dashed gray;margin: 0 0.4em 0.5em 0.4em;box-sizing: border-box;padding-bottom: 0.4em;background-color: white;}#sk-container-id-12 div.sk-label label {font-family: monospace;font-weight: bold;display: inline-block;line-height: 1.2em;}#sk-container-id-12 div.sk-label-container {text-align: center;}#sk-container-id-12 div.sk-container {/* jupyter's `normalize.less` sets `[hidden] { display: none; }` but bootstrap.min.css set `[hidden] { display: none !important; }` so we also need the `!important` here to be able to override the default hidden behavior on the sphinx rendered scikit-learn.org. See: https://github.com/scikit-learn/scikit-learn/issues/21755 */display: inline-block !important;position: relative;}#sk-container-id-12 div.sk-text-repr-fallback {display: none;}</style><div id=\"sk-container-id-12\" class=\"sk-top-container\"><div class=\"sk-text-repr-fallback\"><pre>RandomForestRegressor()</pre><b>In a Jupyter environment, please rerun this cell to show the HTML representation or trust the notebook. <br />On GitHub, the HTML representation is unable to render, please try loading this page with nbviewer.org.</b></div><div class=\"sk-container\" hidden><div class=\"sk-item\"><div class=\"sk-estimator sk-toggleable\"><input class=\"sk-toggleable__control sk-hidden--visually\" id=\"sk-estimator-id-12\" type=\"checkbox\" checked><label for=\"sk-estimator-id-12\" class=\"sk-toggleable__label sk-toggleable__label-arrow\">RandomForestRegressor</label><div class=\"sk-toggleable__content\"><pre>RandomForestRegressor()</pre></div></div></div></div></div>"
            ]
          },
          "metadata": {},
          "execution_count": 146
        }
      ]
    },
    {
      "cell_type": "code",
      "source": [
        "# Use the trained model to make predictions on the testing set.\n",
        "predictionsRF = modelRF.predict(X_Test)\n",
        "\n",
        "# Evaluating the model's performance by comparing actual values (y_test) vs predicted values (predictions).\n",
        "# MAE is the mean absolute error, MSE is the mean squared error, and RMSE is the square root of MSE.\n",
        "print('MAE:', mean_absolute_error(Y_Test, predictionsRF))\n",
        "print('MSE:', mean_squared_error(Y_Test, predictionsRF))\n",
        "print('RMSE:', np.sqrt(mean_squared_error(Y_Test, predictionsRF)))"
      ],
      "metadata": {
        "colab": {
          "base_uri": "https://localhost:8080/"
        },
        "id": "oPIfquD2wizT",
        "outputId": "f7a6650f-97c6-4ebf-fcb2-3f07513feaff"
      },
      "execution_count": 147,
      "outputs": [
        {
          "output_type": "stream",
          "name": "stdout",
          "text": [
            "MAE: 0.0\n",
            "MSE: 0.0\n",
            "RMSE: 0.0\n"
          ]
        }
      ]
    },
    {
      "cell_type": "code",
      "source": [
        "# Plotting actual vs predicted values to visualize how well our model is performing.\n",
        "plt.scatter(Y_Test, predictionsRF)\n",
        "plt.xlabel('Actual Values')  # X-axis label\n",
        "plt.ylabel('Predicted Values')  # Y-axis label\n",
        "plt.title('Actual vs. Predicted Values')  # Graph title\n",
        "plt.show()  # Display the plot"
      ],
      "metadata": {
        "colab": {
          "base_uri": "https://localhost:8080/",
          "height": 472
        },
        "id": "Nxj8xmMcwL3S",
        "outputId": "0b312481-a673-4932-a34b-d937238f4cfd"
      },
      "execution_count": 149,
      "outputs": [
        {
          "output_type": "display_data",
          "data": {
            "text/plain": [
              "<Figure size 640x480 with 1 Axes>"
            ],
            "image/png": "[encoded data removed]"
          },
          "metadata": {}
        }
      ]
    },
    {
      "cell_type": "markdown",
      "source": [
        "##Prophet"
      ],
      "metadata": {
        "id": "iGa_upIzxzAX"
      }
    },
    {
      "cell_type": "code",
      "source": [
        "pip install pystan\n"
      ],
      "metadata": {
        "colab": {
          "base_uri": "https://localhost:8080/"
        },
        "id": "BZBWkuyTx1xS",
        "outputId": "ed8d1c75-2d37-4d8b-de14-061e1d3023c1"
      },
      "execution_count": 150,
      "outputs": [
        {
          "output_type": "stream",
          "name": "stdout",
          "text": [
            "Collecting pystan\n",
            "  Downloading pystan-3.9.1-py3-none-any.whl (13 kB)\n",
            "Requirement already satisfied: aiohttp<4.0,>=3.6 in /usr/local/lib/python3.10/dist-packages (from pystan) (3.9.5)\n",
            "Collecting clikit<0.7,>=0.6 (from pystan)\n",
            "  Downloading clikit-0.6.2-py2.py3-none-any.whl (91 kB)\n",
            "\u001b[2K     \u001b[90m━━━━━━━━━━━━━━━━━━━━━━━━━━━━━━━━━━━━━━━━\u001b[0m \u001b[32m91.8/91.8 kB\u001b[0m \u001b[31m2.5 MB/s\u001b[0m eta \u001b[36m0:00:00\u001b[0m\n",
            "\u001b[?25hCollecting httpstan<4.13,>=4.12 (from pystan)\n",
            "  Downloading httpstan-4.12.0-cp310-cp310-manylinux_2_17_x86_64.manylinux2014_x86_64.whl (45.3 MB)\n",
            "\u001b[2K     \u001b[90m━━━━━━━━━━━━━━━━━━━━━━━━━━━━━━━━━━━━━━━━\u001b[0m \u001b[32m45.3/45.3 MB\u001b[0m \u001b[31m16.7 MB/s\u001b[0m eta \u001b[36m0:00:00\u001b[0m\n",
            "\u001b[?25hRequirement already satisfied: numpy<2.0,>=1.19 in /usr/local/lib/python3.10/dist-packages (from pystan) (1.25.2)\n",
            "Collecting pysimdjson<7,>=5.0.2 (from pystan)\n",
            "  Downloading pysimdjson-6.0.2-cp310-cp310-manylinux_2_17_x86_64.manylinux2014_x86_64.whl (1.8 MB)\n",
            "\u001b[2K     \u001b[90m━━━━━━━━━━━━━━━━━━━━━━━━━━━━━━━━━━━━━━━━\u001b[0m \u001b[32m1.8/1.8 MB\u001b[0m \u001b[31m83.0 MB/s\u001b[0m eta \u001b[36m0:00:00\u001b[0m\n",
            "\u001b[?25hRequirement already satisfied: setuptools in /usr/local/lib/python3.10/dist-packages (from pystan) (67.7.2)\n",
            "Requirement already satisfied: aiosignal>=1.1.2 in /usr/local/lib/python3.10/dist-packages (from aiohttp<4.0,>=3.6->pystan) (1.3.1)\n",
            "Requirement already satisfied: attrs>=17.3.0 in /usr/local/lib/python3.10/dist-packages (from aiohttp<4.0,>=3.6->pystan) (23.2.0)\n",
            "Requirement already satisfied: frozenlist>=1.1.1 in /usr/local/lib/python3.10/dist-packages (from aiohttp<4.0,>=3.6->pystan) (1.4.1)\n",
            "Requirement already satisfied: multidict<7.0,>=4.5 in /usr/local/lib/python3.10/dist-packages (from aiohttp<4.0,>=3.6->pystan) (6.0.5)\n",
            "Requirement already satisfied: yarl<2.0,>=1.0 in /usr/local/lib/python3.10/dist-packages (from aiohttp<4.0,>=3.6->pystan) (1.9.4)\n",
            "Requirement already satisfied: async-timeout<5.0,>=4.0 in /usr/local/lib/python3.10/dist-packages (from aiohttp<4.0,>=3.6->pystan) (4.0.3)\n",
            "Collecting crashtest<0.4.0,>=0.3.0 (from clikit<0.7,>=0.6->pystan)\n",
            "  Downloading crashtest-0.3.1-py3-none-any.whl (7.0 kB)\n",
            "Collecting pastel<0.3.0,>=0.2.0 (from clikit<0.7,>=0.6->pystan)\n",
            "  Downloading pastel-0.2.1-py2.py3-none-any.whl (6.0 kB)\n",
            "Collecting pylev<2.0,>=1.3 (from clikit<0.7,>=0.6->pystan)\n",
            "  Downloading pylev-1.4.0-py2.py3-none-any.whl (6.1 kB)\n",
            "Requirement already satisfied: appdirs<2.0,>=1.4 in /usr/local/lib/python3.10/dist-packages (from httpstan<4.13,>=4.12->pystan) (1.4.4)\n",
            "Collecting marshmallow<4.0,>=3.10 (from httpstan<4.13,>=4.12->pystan)\n",
            "  Downloading marshmallow-3.21.2-py3-none-any.whl (49 kB)\n",
            "\u001b[2K     \u001b[90m━━━━━━━━━━━━━━━━━━━━━━━━━━━━━━━━━━━━━━━━\u001b[0m \u001b[32m49.3/49.3 kB\u001b[0m \u001b[31m6.8 MB/s\u001b[0m eta \u001b[36m0:00:00\u001b[0m\n",
            "\u001b[?25hCollecting webargs<9.0,>=8.0 (from httpstan<4.13,>=4.12->pystan)\n",
            "  Downloading webargs-8.4.0-py3-none-any.whl (31 kB)\n",
            "Requirement already satisfied: packaging>=17.0 in /usr/local/lib/python3.10/dist-packages (from marshmallow<4.0,>=3.10->httpstan<4.13,>=4.12->pystan) (24.0)\n",
            "Requirement already satisfied: idna>=2.0 in /usr/local/lib/python3.10/dist-packages (from yarl<2.0,>=1.0->aiohttp<4.0,>=3.6->pystan) (3.7)\n",
            "Installing collected packages: pylev, pysimdjson, pastel, marshmallow, crashtest, webargs, clikit, httpstan, pystan\n",
            "Successfully installed clikit-0.6.2 crashtest-0.3.1 httpstan-4.12.0 marshmallow-3.21.2 pastel-0.2.1 pylev-1.4.0 pysimdjson-6.0.2 pystan-3.9.1 webargs-8.4.0\n"
          ]
        }
      ]
    },
    {
      "cell_type": "code",
      "source": [
        "pip install fbprophet\n"
      ],
      "metadata": {
        "colab": {
          "base_uri": "https://localhost:8080/"
        },
        "id": "sGstxDhUx6QG",
        "outputId": "bd911caf-2d30-4359-f2b2-f8084f76ee89"
      },
      "execution_count": 151,
      "outputs": [
        {
          "output_type": "stream",
          "name": "stdout",
          "text": [
            "Collecting fbprophet\n",
            "  Downloading fbprophet-0.7.1.tar.gz (64 kB)\n",
            "\u001b[?25l     \u001b[90m━━━━━━━━━━━━━━━━━━━━━━━━━━━━━━━━━━━━━━━━\u001b[0m \u001b[32m0.0/64.0 kB\u001b[0m \u001b[31m?\u001b[0m eta \u001b[36m-:--:--\u001b[0m\r\u001b[2K     \u001b[90m━━━━━━━━━━━━━━━━━━━━━━━━━━━━━━━━━━━━━━━━\u001b[0m \u001b[32m64.0/64.0 kB\u001b[0m \u001b[31m1.9 MB/s\u001b[0m eta \u001b[36m0:00:00\u001b[0m\n",
            "\u001b[?25h  Preparing metadata (setup.py) ... \u001b[?25l\u001b[?25hdone\n",
            "Requirement already satisfied: Cython>=0.22 in /usr/local/lib/python3.10/dist-packages (from fbprophet) (3.0.10)\n",
            "Collecting cmdstanpy==0.9.5 (from fbprophet)\n",
            "  Downloading cmdstanpy-0.9.5-py3-none-any.whl (37 kB)\n",
            "Requirement already satisfied: pystan>=2.14 in /usr/local/lib/python3.10/dist-packages (from fbprophet) (3.9.1)\n",
            "Requirement already satisfied: numpy>=1.15.4 in /usr/local/lib/python3.10/dist-packages (from fbprophet) (1.25.2)\n",
            "Requirement already satisfied: pandas>=1.0.4 in /usr/local/lib/python3.10/dist-packages (from fbprophet) (2.0.3)\n",
            "Requirement already satisfied: matplotlib>=2.0.0 in /usr/local/lib/python3.10/dist-packages (from fbprophet) (3.7.1)\n",
            "Collecting LunarCalendar>=0.0.9 (from fbprophet)\n",
            "  Downloading LunarCalendar-0.0.9-py2.py3-none-any.whl (18 kB)\n",
            "Collecting convertdate>=2.1.2 (from fbprophet)\n",
            "  Downloading convertdate-2.4.0-py3-none-any.whl (47 kB)\n",
            "\u001b[2K     \u001b[90m━━━━━━━━━━━━━━━━━━━━━━━━━━━━━━━━━━━━━━━━\u001b[0m \u001b[32m47.9/47.9 kB\u001b[0m \u001b[31m6.7 MB/s\u001b[0m eta \u001b[36m0:00:00\u001b[0m\n",
            "\u001b[?25hRequirement already satisfied: holidays>=0.10.2 in /usr/local/lib/python3.10/dist-packages (from fbprophet) (0.47)\n",
            "Collecting setuptools-git>=1.2 (from fbprophet)\n",
            "  Downloading setuptools_git-1.2-py2.py3-none-any.whl (10 kB)\n",
            "Requirement already satisfied: python-dateutil>=2.8.0 in /usr/local/lib/python3.10/dist-packages (from fbprophet) (2.8.2)\n",
            "Requirement already satisfied: tqdm>=4.36.1 in /usr/local/lib/python3.10/dist-packages (from fbprophet) (4.66.2)\n",
            "Collecting pymeeus<=1,>=0.3.13 (from convertdate>=2.1.2->fbprophet)\n",
            "  Downloading PyMeeus-0.5.12.tar.gz (5.8 MB)\n",
            "\u001b[2K     \u001b[90m━━━━━━━━━━━━━━━━━━━━━━━━━━━━━━━━━━━━━━━━\u001b[0m \u001b[32m5.8/5.8 MB\u001b[0m \u001b[31m44.6 MB/s\u001b[0m eta \u001b[36m0:00:00\u001b[0m\n",
            "\u001b[?25h  Preparing metadata (setup.py) ... \u001b[?25l\u001b[?25hdone\n",
            "Collecting ephem>=3.7.5.3 (from LunarCalendar>=0.0.9->fbprophet)\n",
            "  Downloading ephem-4.1.5-cp310-cp310-manylinux_2_17_x86_64.manylinux2014_x86_64.whl (1.8 MB)\n",
            "\u001b[2K     \u001b[90m━━━━━━━━━━━━━━━━━━━━━━━━━━━━━━━━━━━━━━━━\u001b[0m \u001b[32m1.8/1.8 MB\u001b[0m \u001b[31m22.7 MB/s\u001b[0m eta \u001b[36m0:00:00\u001b[0m\n",
            "\u001b[?25hRequirement already satisfied: pytz in /usr/local/lib/python3.10/dist-packages (from LunarCalendar>=0.0.9->fbprophet) (2023.4)\n",
            "Requirement already satisfied: contourpy>=1.0.1 in /usr/local/lib/python3.10/dist-packages (from matplotlib>=2.0.0->fbprophet) (1.2.1)\n",
            "Requirement already satisfied: cycler>=0.10 in /usr/local/lib/python3.10/dist-packages (from matplotlib>=2.0.0->fbprophet) (0.12.1)\n",
            "Requirement already satisfied: fonttools>=4.22.0 in /usr/local/lib/python3.10/dist-packages (from matplotlib>=2.0.0->fbprophet) (4.51.0)\n",
            "Requirement already satisfied: kiwisolver>=1.0.1 in /usr/local/lib/python3.10/dist-packages (from matplotlib>=2.0.0->fbprophet) (1.4.5)\n",
            "Requirement already satisfied: packaging>=20.0 in /usr/local/lib/python3.10/dist-packages (from matplotlib>=2.0.0->fbprophet) (24.0)\n",
            "Requirement already satisfied: pillow>=6.2.0 in /usr/local/lib/python3.10/dist-packages (from matplotlib>=2.0.0->fbprophet) (9.4.0)\n",
            "Requirement already satisfied: pyparsing>=2.3.1 in /usr/local/lib/python3.10/dist-packages (from matplotlib>=2.0.0->fbprophet) (3.1.2)\n",
            "Requirement already satisfied: tzdata>=2022.1 in /usr/local/lib/python3.10/dist-packages (from pandas>=1.0.4->fbprophet) (2024.1)\n",
            "Requirement already satisfied: aiohttp<4.0,>=3.6 in /usr/local/lib/python3.10/dist-packages (from pystan>=2.14->fbprophet) (3.9.5)\n",
            "Requirement already satisfied: clikit<0.7,>=0.6 in /usr/local/lib/python3.10/dist-packages (from pystan>=2.14->fbprophet) (0.6.2)\n",
            "Requirement already satisfied: httpstan<4.13,>=4.12 in /usr/local/lib/python3.10/dist-packages (from pystan>=2.14->fbprophet) (4.12.0)\n",
            "Requirement already satisfied: pysimdjson<7,>=5.0.2 in /usr/local/lib/python3.10/dist-packages (from pystan>=2.14->fbprophet) (6.0.2)\n",
            "Requirement already satisfied: setuptools in /usr/local/lib/python3.10/dist-packages (from pystan>=2.14->fbprophet) (67.7.2)\n",
            "Requirement already satisfied: six>=1.5 in /usr/local/lib/python3.10/dist-packages (from python-dateutil>=2.8.0->fbprophet) (1.16.0)\n",
            "Requirement already satisfied: aiosignal>=1.1.2 in /usr/local/lib/python3.10/dist-packages (from aiohttp<4.0,>=3.6->pystan>=2.14->fbprophet) (1.3.1)\n",
            "Requirement already satisfied: attrs>=17.3.0 in /usr/local/lib/python3.10/dist-packages (from aiohttp<4.0,>=3.6->pystan>=2.14->fbprophet) (23.2.0)\n",
            "Requirement already satisfied: frozenlist>=1.1.1 in /usr/local/lib/python3.10/dist-packages (from aiohttp<4.0,>=3.6->pystan>=2.14->fbprophet) (1.4.1)\n",
            "Requirement already satisfied: multidict<7.0,>=4.5 in /usr/local/lib/python3.10/dist-packages (from aiohttp<4.0,>=3.6->pystan>=2.14->fbprophet) (6.0.5)\n",
            "Requirement already satisfied: yarl<2.0,>=1.0 in /usr/local/lib/python3.10/dist-packages (from aiohttp<4.0,>=3.6->pystan>=2.14->fbprophet) (1.9.4)\n",
            "Requirement already satisfied: async-timeout<5.0,>=4.0 in /usr/local/lib/python3.10/dist-packages (from aiohttp<4.0,>=3.6->pystan>=2.14->fbprophet) (4.0.3)\n",
            "Requirement already satisfied: crashtest<0.4.0,>=0.3.0 in /usr/local/lib/python3.10/dist-packages (from clikit<0.7,>=0.6->pystan>=2.14->fbprophet) (0.3.1)\n",
            "Requirement already satisfied: pastel<0.3.0,>=0.2.0 in /usr/local/lib/python3.10/dist-packages (from clikit<0.7,>=0.6->pystan>=2.14->fbprophet) (0.2.1)\n",
            "Requirement already satisfied: pylev<2.0,>=1.3 in /usr/local/lib/python3.10/dist-packages (from clikit<0.7,>=0.6->pystan>=2.14->fbprophet) (1.4.0)\n",
            "Requirement already satisfied: appdirs<2.0,>=1.4 in /usr/local/lib/python3.10/dist-packages (from httpstan<4.13,>=4.12->pystan>=2.14->fbprophet) (1.4.4)\n",
            "Requirement already satisfied: marshmallow<4.0,>=3.10 in /usr/local/lib/python3.10/dist-packages (from httpstan<4.13,>=4.12->pystan>=2.14->fbprophet) (3.21.2)\n",
            "Requirement already satisfied: webargs<9.0,>=8.0 in /usr/local/lib/python3.10/dist-packages (from httpstan<4.13,>=4.12->pystan>=2.14->fbprophet) (8.4.0)\n",
            "Requirement already satisfied: idna>=2.0 in /usr/local/lib/python3.10/dist-packages (from yarl<2.0,>=1.0->aiohttp<4.0,>=3.6->pystan>=2.14->fbprophet) (3.7)\n",
            "Building wheels for collected packages: fbprophet, pymeeus\n",
            "  \u001b[1;31merror\u001b[0m: \u001b[1msubprocess-exited-with-error\u001b[0m\n",
            "  \n",
            "  \u001b[31m×\u001b[0m \u001b[32mpython setup.py bdist_wheel\u001b[0m did not run successfully.\n",
            "  \u001b[31m│\u001b[0m exit code: \u001b[1;36m1\u001b[0m\n",
            "  \u001b[31m╰─>\u001b[0m See above for output.\n",
            "  \n",
            "  \u001b[1;35mnote\u001b[0m: This error originates from a subprocess, and is likely not a problem with pip.\n",
            "  Building wheel for fbprophet (setup.py) ... \u001b[?25lerror\n",
            "\u001b[31m  ERROR: Failed building wheel for fbprophet\u001b[0m\u001b[31m\n",
            "\u001b[0m\u001b[?25h  Running setup.py clean for fbprophet\n",
            "  Building wheel for pymeeus (setup.py) ... \u001b[?25l\u001b[?25hdone\n",
            "  Created wheel for pymeeus: filename=PyMeeus-0.5.12-py3-none-any.whl size=732001 sha256=17e9de8e7ac212bcb62a0a7c57233aa6fa34a0412355bdf8726dd02a41813d76\n",
            "  Stored in directory: /root/.cache/pip/wheels/d6/67/78/aa2e8d108639dd23a5e9e72a4fc88bb44f5541894382712f48\n",
            "Successfully built pymeeus\n",
            "Failed to build fbprophet\n",
            "\u001b[31mERROR: Could not build wheels for fbprophet, which is required to install pyproject.toml-based projects\u001b[0m\u001b[31m\n",
            "\u001b[0m"
          ]
        }
      ]
    },
    {
      "cell_type": "code",
      "source": [
        "pip install --upgrade numpy pandas"
      ],
      "metadata": {
        "colab": {
          "base_uri": "https://localhost:8080/"
        },
        "id": "8Hsh_nlOy3uf",
        "outputId": "4cc8fd3f-4194-466f-a073-32dd97df889c"
      },
      "execution_count": 152,
      "outputs": [
        {
          "output_type": "stream",
          "name": "stdout",
          "text": [
            "Requirement already satisfied: numpy in /usr/local/lib/python3.10/dist-packages (1.25.2)\n",
            "Collecting numpy\n",
            "  Downloading numpy-1.26.4-cp310-cp310-manylinux_2_17_x86_64.manylinux2014_x86_64.whl (18.2 MB)\n",
            "\u001b[2K     \u001b[90m━━━━━━━━━━━━━━━━━━━━━━━━━━━━━━━━━━━━━━━━\u001b[0m \u001b[32m18.2/18.2 MB\u001b[0m \u001b[31m59.2 MB/s\u001b[0m eta \u001b[36m0:00:00\u001b[0m\n",
            "\u001b[?25hRequirement already satisfied: pandas in /usr/local/lib/python3.10/dist-packages (2.0.3)\n",
            "Collecting pandas\n",
            "  Downloading pandas-2.2.2-cp310-cp310-manylinux_2_17_x86_64.manylinux2014_x86_64.whl (13.0 MB)\n",
            "\u001b[2K     \u001b[90m━━━━━━━━━━━━━━━━━━━━━━━━━━━━━━━━━━━━━━━━\u001b[0m \u001b[32m13.0/13.0 MB\u001b[0m \u001b[31m39.1 MB/s\u001b[0m eta \u001b[36m0:00:00\u001b[0m\n",
            "\u001b[?25hRequirement already satisfied: python-dateutil>=2.8.2 in /usr/local/lib/python3.10/dist-packages (from pandas) (2.8.2)\n",
            "Requirement already satisfied: pytz>=2020.1 in /usr/local/lib/python3.10/dist-packages (from pandas) (2023.4)\n",
            "Requirement already satisfied: tzdata>=2022.7 in /usr/local/lib/python3.10/dist-packages (from pandas) (2024.1)\n",
            "Requirement already satisfied: six>=1.5 in /usr/local/lib/python3.10/dist-packages (from python-dateutil>=2.8.2->pandas) (1.16.0)\n",
            "Installing collected packages: numpy, pandas\n",
            "  Attempting uninstall: numpy\n",
            "    Found existing installation: numpy 1.25.2\n",
            "    Uninstalling numpy-1.25.2:\n",
            "      Successfully uninstalled numpy-1.25.2\n",
            "  Attempting uninstall: pandas\n",
            "    Found existing installation: pandas 2.0.3\n",
            "    Uninstalling pandas-2.0.3:\n",
            "      Successfully uninstalled pandas-2.0.3\n",
            "\u001b[31mERROR: pip's dependency resolver does not currently take into account all the packages that are installed. This behaviour is the source of the following dependency conflicts.\n",
            "google-colab 1.0.0 requires pandas==2.0.3, but you have pandas 2.2.2 which is incompatible.\u001b[0m\u001b[31m\n",
            "\u001b[0mSuccessfully installed numpy-1.26.4 pandas-2.2.2\n"
          ]
        }
      ]
    },
    {
      "cell_type": "code",
      "source": [
        "pip install prophet\n"
      ],
      "metadata": {
        "colab": {
          "base_uri": "https://localhost:8080/"
        },
        "id": "yEKzsFlGyjEj",
        "outputId": "17151d1c-f950-4acd-adcb-e4b9e6c77996"
      },
      "execution_count": 153,
      "outputs": [
        {
          "output_type": "stream",
          "name": "stdout",
          "text": [
            "Requirement already satisfied: prophet in /usr/local/lib/python3.10/dist-packages (1.1.5)\n",
            "Requirement already satisfied: cmdstanpy>=1.0.4 in /usr/local/lib/python3.10/dist-packages (from prophet) (1.2.2)\n",
            "Requirement already satisfied: numpy>=1.15.4 in /usr/local/lib/python3.10/dist-packages (from prophet) (1.26.4)\n",
            "Requirement already satisfied: matplotlib>=2.0.0 in /usr/local/lib/python3.10/dist-packages (from prophet) (3.7.1)\n",
            "Requirement already satisfied: pandas>=1.0.4 in /usr/local/lib/python3.10/dist-packages (from prophet) (2.2.2)\n",
            "Requirement already satisfied: holidays>=0.25 in /usr/local/lib/python3.10/dist-packages (from prophet) (0.47)\n",
            "Requirement already satisfied: tqdm>=4.36.1 in /usr/local/lib/python3.10/dist-packages (from prophet) (4.66.2)\n",
            "Requirement already satisfied: importlib-resources in /usr/local/lib/python3.10/dist-packages (from prophet) (6.4.0)\n",
            "Requirement already satisfied: stanio<2.0.0,>=0.4.0 in /usr/local/lib/python3.10/dist-packages (from cmdstanpy>=1.0.4->prophet) (0.5.0)\n",
            "Requirement already satisfied: python-dateutil in /usr/local/lib/python3.10/dist-packages (from holidays>=0.25->prophet) (2.8.2)\n",
            "Requirement already satisfied: contourpy>=1.0.1 in /usr/local/lib/python3.10/dist-packages (from matplotlib>=2.0.0->prophet) (1.2.1)\n",
            "Requirement already satisfied: cycler>=0.10 in /usr/local/lib/python3.10/dist-packages (from matplotlib>=2.0.0->prophet) (0.12.1)\n",
            "Requirement already satisfied: fonttools>=4.22.0 in /usr/local/lib/python3.10/dist-packages (from matplotlib>=2.0.0->prophet) (4.51.0)\n",
            "Requirement already satisfied: kiwisolver>=1.0.1 in /usr/local/lib/python3.10/dist-packages (from matplotlib>=2.0.0->prophet) (1.4.5)\n",
            "Requirement already satisfied: packaging>=20.0 in /usr/local/lib/python3.10/dist-packages (from matplotlib>=2.0.0->prophet) (24.0)\n",
            "Requirement already satisfied: pillow>=6.2.0 in /usr/local/lib/python3.10/dist-packages (from matplotlib>=2.0.0->prophet) (9.4.0)\n",
            "Requirement already satisfied: pyparsing>=2.3.1 in /usr/local/lib/python3.10/dist-packages (from matplotlib>=2.0.0->prophet) (3.1.2)\n",
            "Requirement already satisfied: pytz>=2020.1 in /usr/local/lib/python3.10/dist-packages (from pandas>=1.0.4->prophet) (2023.4)\n",
            "Requirement already satisfied: tzdata>=2022.7 in /usr/local/lib/python3.10/dist-packages (from pandas>=1.0.4->prophet) (2024.1)\n",
            "Requirement already satisfied: six>=1.5 in /usr/local/lib/python3.10/dist-packages (from python-dateutil->holidays>=0.25->prophet) (1.16.0)\n"
          ]
        }
      ]
    },
    {
      "cell_type": "code",
      "source": [
        "from prophet import Prophet\n",
        "from sklearn.model_selection import train_test_split\n",
        "from sklearn.metrics import mean_absolute_error"
      ],
      "metadata": {
        "id": "O61XgTfOzKtq"
      },
      "execution_count": 154,
      "outputs": []
    },
    {
      "cell_type": "code",
      "source": [
        "#this has all of the records without the split\n",
        "dfpt = df\n",
        "dfpt.rename(columns={'Date of Sale': 'ds', 'Units Sold': 'y'}, inplace=True)\n",
        "dftrain = dfpt[dfpt['ds'] < split_date]\n",
        "dftest = dfpt[dfpt['ds'] >= split_date]\n",
        "modelPT = Prophet(yearly_seasonality=True)\n",
        "modelPT.fit(dftrain)"
      ],
      "metadata": {
        "colab": {
          "base_uri": "https://localhost:8080/"
        },
        "id": "HU7TMJxsz6Iq",
        "outputId": "1965693c-160b-4a59-e558-de1b4301d074"
      },
      "execution_count": 155,
      "outputs": [
        {
          "output_type": "stream",
          "name": "stderr",
          "text": [
            "INFO:prophet:Disabling daily seasonality. Run prophet with daily_seasonality=True to override this.\n",
            "DEBUG:cmdstanpy:input tempfile: /tmp/tmp_of8eqeo/jek8pxx2.json\n",
            "DEBUG:cmdstanpy:input tempfile: /tmp/tmp_of8eqeo/1yosrw_z.json\n",
            "DEBUG:cmdstanpy:idx 0\n",
            "DEBUG:cmdstanpy:running CmdStan, num_threads: None\n",
            "DEBUG:cmdstanpy:CmdStan args: ['/usr/local/lib/python3.10/dist-packages/prophet/stan_model/prophet_model.bin', 'random', 'seed=4226', 'data', 'file=/tmp/tmp_of8eqeo/jek8pxx2.json', 'init=/tmp/tmp_of8eqeo/1yosrw_z.json', 'output', 'file=/tmp/tmp_of8eqeo/prophet_modelbskf8j8_/prophet_model-20240506105120.csv', 'method=optimize', 'algorithm=lbfgs', 'iter=10000']\n",
            "10:51:20 - cmdstanpy - INFO - Chain [1] start processing\n",
            "INFO:cmdstanpy:Chain [1] start processing\n",
            "10:51:43 - cmdstanpy - INFO - Chain [1] done processing\n",
            "INFO:cmdstanpy:Chain [1] done processing\n"
          ]
        },
        {
          "output_type": "execute_result",
          "data": {
            "text/plain": [
              "<prophet.forecaster.Prophet at 0x79ac9eaf1210>"
            ]
          },
          "metadata": {},
          "execution_count": 155
        }
      ]
    },
    {
      "cell_type": "code",
      "source": [
        "#need to do the split on this to get the future\n",
        "future = modelPT.make_future_dataframe(periods=len(dftest), freq='D')\n",
        "forecast = modelPT.predict(future)"
      ],
      "metadata": {
        "id": "bCdXRpMl1Zft"
      },
      "execution_count": 156,
      "outputs": []
    },
    {
      "cell_type": "code",
      "source": [
        "#Not sure how valid this is for for Prophet\n",
        "#print('MAE:', mean_absolute_error(Y_Test, forecast))\n",
        "#print('MSE:', mean_squared_error(Y_Test, forecast))\n",
        "#print('RMSE:', np.sqrt(mean_squared_error(Y_Test, forecast)))"
      ],
      "metadata": {
        "id": "c8-W57SH1Acm"
      },
      "execution_count": 157,
      "outputs": []
    },
    {
      "cell_type": "code",
      "source": [
        "# Plotting actual vs predicted values to visualize how well our model is performing.\n",
        "#plt.scatter(future['ds'], forecast)\n",
        "#plt.xlabel('Actual Values')  # X-axis label\n",
        "#plt.ylabel('Predicted Values')  # Y-axis label\n",
        "#plt.title('Actual vs. Predicted Values')  # Graph title\n",
        "#plt.show()  # Display the plot"
      ],
      "metadata": {
        "id": "GlmKr7o65AFD"
      },
      "execution_count": 158,
      "outputs": []
    },
    {
      "cell_type": "markdown",
      "source": [
        "##Gradient Booster"
      ],
      "metadata": {
        "id": "yRMktEz2574V"
      }
    },
    {
      "cell_type": "code",
      "source": [
        "from sklearn.preprocessing import LabelEncoder\n",
        "from sklearn.ensemble import GradientBoostingRegressor"
      ],
      "metadata": {
        "id": "5ArV-OyM5-iQ"
      },
      "execution_count": 159,
      "outputs": []
    },
    {
      "cell_type": "code",
      "source": [
        "modelGB = GradientBoostingRegressor(random_state=42)\n",
        "modelGB.fit(X_Train, Y_Train)"
      ],
      "metadata": {
        "colab": {
          "base_uri": "https://localhost:8080/",
          "height": 75
        },
        "id": "EvlBRr9j6Aw9",
        "outputId": "05184338-966d-480d-8bb9-6756088e0cec"
      },
      "execution_count": 160,
      "outputs": [
        {
          "output_type": "execute_result",
          "data": {
            "text/plain": [
              "GradientBoostingRegressor(random_state=42)"
            ],
            "text/html": [
              "<style>#sk-container-id-13 {color: black;background-color: white;}#sk-container-id-13 pre{padding: 0;}#sk-container-id-13 div.sk-toggleable {background-color: white;}#sk-container-id-13 label.sk-toggleable__label {cursor: pointer;display: block;width: 100%;margin-bottom: 0;padding: 0.3em;box-sizing: border-box;text-align: center;}#sk-container-id-13 label.sk-toggleable__label-arrow:before {content: \"▸\";float: left;margin-right: 0.25em;color: #696969;}#sk-container-id-13 label.sk-toggleable__label-arrow:hover:before {color: black;}#sk-container-id-13 div.sk-estimator:hover label.sk-toggleable__label-arrow:before {color: black;}#sk-container-id-13 div.sk-toggleable__content {max-height: 0;max-width: 0;overflow: hidden;text-align: left;background-color: #f0f8ff;}#sk-container-id-13 div.sk-toggleable__content pre {margin: 0.2em;color: black;border-radius: 0.25em;background-color: #f0f8ff;}#sk-container-id-13 input.sk-toggleable__control:checked~div.sk-toggleable__content {max-height: 200px;max-width: 100%;overflow: auto;}#sk-container-id-13 input.sk-toggleable__control:checked~label.sk-toggleable__label-arrow:before {content: \"▾\";}#sk-container-id-13 div.sk-estimator input.sk-toggleable__control:checked~label.sk-toggleable__label {background-color: #d4ebff;}#sk-container-id-13 div.sk-label input.sk-toggleable__control:checked~label.sk-toggleable__label {background-color: #d4ebff;}#sk-container-id-13 input.sk-hidden--visually {border: 0;clip: rect(1px 1px 1px 1px);clip: rect(1px, 1px, 1px, 1px);height: 1px;margin: -1px;overflow: hidden;padding: 0;position: absolute;width: 1px;}#sk-container-id-13 div.sk-estimator {font-family: monospace;background-color: #f0f8ff;border: 1px dotted black;border-radius: 0.25em;box-sizing: border-box;margin-bottom: 0.5em;}#sk-container-id-13 div.sk-estimator:hover {background-color: #d4ebff;}#sk-container-id-13 div.sk-parallel-item::after {content: \"\";width: 100%;border-bottom: 1px solid gray;flex-grow: 1;}#sk-container-id-13 div.sk-label:hover label.sk-toggleable__label {background-color: #d4ebff;}#sk-container-id-13 div.sk-serial::before {content: \"\";position: absolute;border-left: 1px solid gray;box-sizing: border-box;top: 0;bottom: 0;left: 50%;z-index: 0;}#sk-container-id-13 div.sk-serial {display: flex;flex-direction: column;align-items: center;background-color: white;padding-right: 0.2em;padding-left: 0.2em;position: relative;}#sk-container-id-13 div.sk-item {position: relative;z-index: 1;}#sk-container-id-13 div.sk-parallel {display: flex;align-items: stretch;justify-content: center;background-color: white;position: relative;}#sk-container-id-13 div.sk-item::before, #sk-container-id-13 div.sk-parallel-item::before {content: \"\";position: absolute;border-left: 1px solid gray;box-sizing: border-box;top: 0;bottom: 0;left: 50%;z-index: -1;}#sk-container-id-13 div.sk-parallel-item {display: flex;flex-direction: column;z-index: 1;position: relative;background-color: white;}#sk-container-id-13 div.sk-parallel-item:first-child::after {align-self: flex-end;width: 50%;}#sk-container-id-13 div.sk-parallel-item:last-child::after {align-self: flex-start;width: 50%;}#sk-container-id-13 div.sk-parallel-item:only-child::after {width: 0;}#sk-container-id-13 div.sk-dashed-wrapped {border: 1px dashed gray;margin: 0 0.4em 0.5em 0.4em;box-sizing: border-box;padding-bottom: 0.4em;background-color: white;}#sk-container-id-13 div.sk-label label {font-family: monospace;font-weight: bold;display: inline-block;line-height: 1.2em;}#sk-container-id-13 div.sk-label-container {text-align: center;}#sk-container-id-13 div.sk-container {/* jupyter's `normalize.less` sets `[hidden] { display: none; }` but bootstrap.min.css set `[hidden] { display: none !important; }` so we also need the `!important` here to be able to override the default hidden behavior on the sphinx rendered scikit-learn.org. See: https://github.com/scikit-learn/scikit-learn/issues/21755 */display: inline-block !important;position: relative;}#sk-container-id-13 div.sk-text-repr-fallback {display: none;}</style><div id=\"sk-container-id-13\" class=\"sk-top-container\"><div class=\"sk-text-repr-fallback\"><pre>GradientBoostingRegressor(random_state=42)</pre><b>In a Jupyter environment, please rerun this cell to show the HTML representation or trust the notebook. <br />On GitHub, the HTML representation is unable to render, please try loading this page with nbviewer.org.</b></div><div class=\"sk-container\" hidden><div class=\"sk-item\"><div class=\"sk-estimator sk-toggleable\"><input class=\"sk-toggleable__control sk-hidden--visually\" id=\"sk-estimator-id-13\" type=\"checkbox\" checked><label for=\"sk-estimator-id-13\" class=\"sk-toggleable__label sk-toggleable__label-arrow\">GradientBoostingRegressor</label><div class=\"sk-toggleable__content\"><pre>GradientBoostingRegressor(random_state=42)</pre></div></div></div></div></div>"
            ]
          },
          "metadata": {},
          "execution_count": 160
        }
      ]
    },
    {
      "cell_type": "code",
      "source": [
        "# Predictions\n",
        "predGB = modelGB.predict(X_Test)"
      ],
      "metadata": {
        "id": "BXa22KBT6Zwo"
      },
      "execution_count": 161,
      "outputs": []
    },
    {
      "cell_type": "code",
      "source": [
        "# Evaluation\n",
        "mae = mean_absolute_error(Y_Test, predGB)\n",
        "mse = mean_squared_error(Y_Test, predGB)\n",
        "r2 = r2_score(Y_Test, predGB)\n",
        "\n",
        "print(f'Mean Absolute Error: {mae}')\n",
        "print(f'Mean Squared Error: {mse}')\n",
        "print(f'R² Score: {r2}')"
      ],
      "metadata": {
        "colab": {
          "base_uri": "https://localhost:8080/"
        },
        "id": "KrW-NzYl6j7M",
        "outputId": "156d5194-058a-4d1c-d383-1139476a22db"
      },
      "execution_count": 162,
      "outputs": [
        {
          "output_type": "stream",
          "name": "stdout",
          "text": [
            "Mean Absolute Error: 0.02543612498761985\n",
            "Mean Squared Error: 0.0015745380069745443\n",
            "R² Score: 0.999998101716693\n"
          ]
        }
      ]
    },
    {
      "cell_type": "code",
      "source": [
        "# Plotting actual vs predicted values to visualize how well our model is performing.\n",
        "plt.scatter(Y_Test, predGB)\n",
        "plt.xlabel('Actual Values')  # X-axis label\n",
        "plt.ylabel('Predicted Values')  # Y-axis label\n",
        "plt.title('Actual vs. Predicted Values')  # Graph title\n",
        "plt.show()  # Display the plot"
      ],
      "metadata": {
        "colab": {
          "base_uri": "https://localhost:8080/",
          "height": 472
        },
        "id": "3wrcS2697Fy-",
        "outputId": "d8489b86-dd41-40b5-bedc-4cb838128de1"
      },
      "execution_count": 163,
      "outputs": [
        {
          "output_type": "display_data",
          "data": {
            "text/plain": [
              "<Figure size 640x480 with 1 Axes>"
            ],
            "image/png": "[encoded data removed]"
          },
          "metadata": {}
        }
      ]
    },
    {
      "cell_type": "markdown",
      "source": [
        "#Long Term Short Memory"
      ],
      "metadata": {
        "id": "KEVvtq-E7iNI"
      }
    },
    {
      "cell_type": "code",
      "source": [
        "from sklearn.preprocessing import MinMaxScaler, LabelEncoder\n",
        "from keras.models import Sequential\n",
        "from keras.layers import LSTM, Dense"
      ],
      "metadata": {
        "id": "q8glj26W7cZx"
      },
      "execution_count": 164,
      "outputs": []
    },
    {
      "cell_type": "code",
      "source": [
        "# Normalize features\n",
        "scaler = MinMaxScaler()\n",
        "target = X_Train['Units Sold'].values.reshape(-1,1)\n",
        "features_scaled = scaler.fit_transform(X_Train)\n",
        "target_scaled = scaler.fit_transform(target)"
      ],
      "metadata": {
        "id": "kEzw13617hgZ"
      },
      "execution_count": 165,
      "outputs": []
    },
    {
      "cell_type": "code",
      "source": [
        "# Data preparation for LSTM\n",
        "def create_dataset(X, y, time_steps=1):\n",
        "    Xs, ys = [], []\n",
        "    for i in range(len(X) - time_steps):\n",
        "        v = X[i:(i + time_steps)]\n",
        "        Xs.append(v)\n",
        "        ys.append(y[i + time_steps])\n",
        "    return np.array(Xs), np.array(ys)"
      ],
      "metadata": {
        "id": "aLKbggyfKqv9"
      },
      "execution_count": 166,
      "outputs": []
    },
    {
      "cell_type": "code",
      "source": [
        "time_steps = 1\n",
        "X, y = create_dataset(features_scaled, target_scaled, time_steps)"
      ],
      "metadata": {
        "id": "inQVshEpKwA7"
      },
      "execution_count": 167,
      "outputs": []
    },
    {
      "cell_type": "code",
      "source": [
        "# Split data into training and testing\n",
        "X_train, X_test, y_train, y_test = train_test_split(X, y, test_size=0.2, random_state=42)\n",
        "# Problem here is the fact that dates from the forecast period are likely to be in the Training data\n",
        "#may be able to use the X_Train and X_Test values instead"
      ],
      "metadata": {
        "id": "OCRYXKUmK0Or"
      },
      "execution_count": 168,
      "outputs": []
    },
    {
      "cell_type": "code",
      "source": [
        "# LSTM model\n",
        "model = Sequential()\n",
        "model.add(LSTM(50, activation='relu', input_shape=(X_train.shape[1], X_train.shape[2])))\n",
        "model.add(Dense(1))\n",
        "model.compile(optimizer='adam', loss='mse')"
      ],
      "metadata": {
        "id": "617vNIrG8f1F"
      },
      "execution_count": 169,
      "outputs": []
    },
    {
      "cell_type": "code",
      "source": [
        "# Fit model\n",
        "model.fit(X_train, y_train, epochs=30, batch_size=32, validation_data=(X_test, y_test), verbose=1)"
      ],
      "metadata": {
        "colab": {
          "base_uri": "https://localhost:8080/"
        },
        "id": "NPlWSgaL8lj-",
        "outputId": "f1b48219-5d9f-4fe5-d81e-a443d004c431"
      },
      "execution_count": 170,
      "outputs": [
        {
          "output_type": "stream",
          "name": "stdout",
          "text": [
            "Epoch 1/30\n",
            "5599/5599 [==============================] - 30s 5ms/step - loss: 0.0867 - val_loss: 0.0861\n",
            "Epoch 2/30\n",
            "5599/5599 [==============================] - 21s 4ms/step - loss: 0.0854 - val_loss: 0.0853\n",
            "Epoch 3/30\n",
            "5599/5599 [==============================] - 23s 4ms/step - loss: 0.0854 - val_loss: 0.0852\n",
            "Epoch 4/30\n",
            "5599/5599 [==============================] - 20s 4ms/step - loss: 0.0853 - val_loss: 0.0852\n",
            "Epoch 5/30\n",
            "5599/5599 [==============================] - 17s 3ms/step - loss: 0.0853 - val_loss: 0.0852\n",
            "Epoch 6/30\n",
            "5599/5599 [==============================] - 20s 4ms/step - loss: 0.0852 - val_loss: 0.0851\n",
            "Epoch 7/30\n",
            "5599/5599 [==============================] - 16s 3ms/step - loss: 0.0852 - val_loss: 0.0851\n",
            "Epoch 8/30\n",
            "5599/5599 [==============================] - 16s 3ms/step - loss: 0.0851 - val_loss: 0.0853\n",
            "Epoch 9/30\n",
            "5599/5599 [==============================] - 16s 3ms/step - loss: 0.0851 - val_loss: 0.0851\n",
            "Epoch 10/30\n",
            "5599/5599 [==============================] - 17s 3ms/step - loss: 0.0851 - val_loss: 0.0851\n",
            "Epoch 11/30\n",
            "5599/5599 [==============================] - 17s 3ms/step - loss: 0.0851 - val_loss: 0.0851\n",
            "Epoch 12/30\n",
            "5599/5599 [==============================] - 19s 3ms/step - loss: 0.0851 - val_loss: 0.0851\n",
            "Epoch 13/30\n",
            "5599/5599 [==============================] - 18s 3ms/step - loss: 0.0851 - val_loss: 0.0851\n",
            "Epoch 14/30\n",
            "5599/5599 [==============================] - 18s 3ms/step - loss: 0.0851 - val_loss: 0.0851\n",
            "Epoch 15/30\n",
            "5599/5599 [==============================] - 17s 3ms/step - loss: 0.0851 - val_loss: 0.0852\n",
            "Epoch 16/30\n",
            "5599/5599 [==============================] - 18s 3ms/step - loss: 0.0850 - val_loss: 0.0853\n",
            "Epoch 17/30\n",
            "5599/5599 [==============================] - 17s 3ms/step - loss: 0.0850 - val_loss: 0.0852\n",
            "Epoch 18/30\n",
            "5599/5599 [==============================] - 17s 3ms/step - loss: 0.0850 - val_loss: 0.0852\n",
            "Epoch 19/30\n",
            "5599/5599 [==============================] - 17s 3ms/step - loss: 0.0850 - val_loss: 0.0852\n",
            "Epoch 20/30\n",
            "5599/5599 [==============================] - 18s 3ms/step - loss: 0.0850 - val_loss: 0.0852\n",
            "Epoch 21/30\n",
            "5599/5599 [==============================] - 16s 3ms/step - loss: 0.0850 - val_loss: 0.0852\n",
            "Epoch 22/30\n",
            "5599/5599 [==============================] - 24s 4ms/step - loss: 0.0850 - val_loss: 0.0852\n",
            "Epoch 23/30\n",
            "5599/5599 [==============================] - 18s 3ms/step - loss: 0.0850 - val_loss: 0.0853\n",
            "Epoch 24/30\n",
            "5599/5599 [==============================] - 20s 4ms/step - loss: 0.0850 - val_loss: 0.0852\n",
            "Epoch 25/30\n",
            "5599/5599 [==============================] - 17s 3ms/step - loss: 0.0850 - val_loss: 0.0852\n",
            "Epoch 26/30\n",
            "5599/5599 [==============================] - 18s 3ms/step - loss: 0.0850 - val_loss: 0.0852\n",
            "Epoch 27/30\n",
            "5599/5599 [==============================] - 21s 4ms/step - loss: 0.0850 - val_loss: 0.0853\n",
            "Epoch 28/30\n",
            "5599/5599 [==============================] - 17s 3ms/step - loss: 0.0850 - val_loss: 0.0852\n",
            "Epoch 29/30\n",
            "5599/5599 [==============================] - 17s 3ms/step - loss: 0.0850 - val_loss: 0.0852\n",
            "Epoch 30/30\n",
            "5599/5599 [==============================] - 18s 3ms/step - loss: 0.0850 - val_loss: 0.0852\n"
          ]
        },
        {
          "output_type": "execute_result",
          "data": {
            "text/plain": [
              "<keras.src.callbacks.History at 0x79ac852976a0>"
            ]
          },
          "metadata": {},
          "execution_count": 170
        }
      ]
    },
    {
      "cell_type": "code",
      "source": [
        "# Predict and evaluate\n",
        "predictionLSTM = model.predict(X_test)\n",
        "mse = mean_squared_error(scaler.inverse_transform(y_test), scaler.inverse_transform(predictionLSTM))\n",
        "print(f'Mean Squared Error: {mse}')"
      ],
      "metadata": {
        "colab": {
          "base_uri": "https://localhost:8080/"
        },
        "id": "ZyJP4TANLCOR",
        "outputId": "6094325f-2bee-4c06-a099-029533212afe"
      },
      "execution_count": 171,
      "outputs": [
        {
          "output_type": "stream",
          "name": "stdout",
          "text": [
            "1400/1400 [==============================] - 2s 2ms/step\n",
            "Mean Squared Error: 835.018647602245\n"
          ]
        }
      ]
    },
    {
      "cell_type": "code",
      "source": [
        "print(Y_Test)\n",
        "print()\n",
        "print(predictionLSTM)"
      ],
      "metadata": {
        "colab": {
          "base_uri": "https://localhost:8080/"
        },
        "id": "e5aO1NchWaDa",
        "outputId": "a13326cf-4ec2-4bf9-8b54-c348955f08a0"
      },
      "execution_count": 172,
      "outputs": [
        {
          "output_type": "stream",
          "name": "stdout",
          "text": [
            "210752     9\n",
            "35957     55\n",
            "131439    60\n",
            "91245     64\n",
            "285134    14\n",
            "          ..\n",
            "113721    99\n",
            "158541     3\n",
            "54362     12\n",
            "205538    31\n",
            "239730    45\n",
            "Name: Units Sold, Length: 76044, dtype: int64\n",
            "\n"
          ]
        }
      ]
    },
    {
      "cell_type": "code",
      "source": [
        "# Create the plot\n",
        "from datetime import datetime\n",
        "X_Test['Date of Sale'] = pd.to_datetime(X_Test[['Year', 'Month', 'Day']])\n",
        "print(X_Test['Date of Sale'].head(10))\n",
        "#X_Test['Date of Sale'] = pd.to_datetime(str(X_Test['Year']) + '-' + str(X_Test['Month']) + '-' + str(X_Test['Day']))\n",
        "plt.figure(figsize=(10, 6))  # Set the figure size= modelLR.predict(X_Test)\n",
        "plt.plot(X_Test['Date of Sale'] , Y_Test, label='Actual Value', marker='o')  # Plot Sales Prediction\n",
        "plt.plot(X_Test['Date of Sale'] , predictionsLR, label='Linear', marker='o')  # Plot Sales Prediction\n",
        "plt.plot(X_Test['Date of Sale'] , predictionsRF, label='Random Forest', marker='o')  # Plot Sales Prediction\n",
        "plt.plot(X_Test['Date of Sale'] , predGB, label='Gradient Booster', marker='o')  # Plot Sales Prediction\n",
        "#plt.plot(X_Test['Month'] , predictionLSTM, label='Long Term Short Memory', marker='x')  # Plot Sales Prediction\n",
        "\n",
        "# Adding titles and labels\n",
        "plt.title('Sales Prediction vs Actual Sale Over Time')\n",
        "plt.xlabel('Date of Sale')\n",
        "plt.ylabel('Sales Value')\n",
        "plt.xticks(rotation=45)  # Rotate date labels for better readability\n",
        "\n",
        "# Adding legend\n",
        "plt.legend()\n",
        "\n",
        "# Show the plot\n",
        "plt.show()\n"
      ],
      "metadata": {
        "colab": {
          "base_uri": "https://localhost:8080/",
          "height": 807
        },
        "id": "LZBR1aP8O7Hw",
        "outputId": "fe35ba36-9ac4-4982-806d-d3f8ef9c4ea9"
      },
      "execution_count": 174,
      "outputs": [
        {
          "output_type": "stream",
          "name": "stdout",
          "text": [
            "210752   2024-02-01\n",
            "35957    2024-02-01\n",
            "131439   2024-02-01\n",
            "91245    2024-02-01\n",
            "285134   2024-02-01\n",
            "192537   2024-02-01\n",
            "219451   2024-02-01\n",
            "217150   2024-02-01\n",
            "292747   2024-02-01\n",
            "274888   2024-02-01\n",
            "Name: Date of Sale, dtype: datetime64[ns]\n"
          ]
        },
        {
          "output_type": "display_data",
          "data": {
            "text/plain": [
              "<Figure size 1000x600 with 1 Axes>"
            ],
            "image/png": "[encoded data removed]"
          },
          "metadata": {}
        }
      ]
    },
    {
      "cell_type": "markdown",
      "source": [
        "#Future Steps\n",
        "For this to be used in the business:\n",
        "We need to be able to feed in new data and train on that data.  That would be the new Training set.\n",
        "We then calculate a forecast for the next time period based on the new Training set."
      ],
      "metadata": {
        "id": "GcsKPclcY0yP"
      }
    }
  ]
}